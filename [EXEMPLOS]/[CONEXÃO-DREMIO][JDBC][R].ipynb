{
 "cells": [
  {
   "cell_type": "code",
   "execution_count": 4,
   "metadata": {},
   "outputs": [
    {
     "name": "stderr",
     "output_type": "stream",
     "text": [
      "Loading required package: rjson\n",
      "\n"
     ]
    }
   ],
   "source": [
    "if (!require(RJDBC)) { install.packages(RJDBC); require('RJDBC') }\n",
    "if (!require(rjson)) { install.packages(rjson); require('rjson') }"
   ]
  },
  {
   "cell_type": "markdown",
   "metadata": {},
   "source": [
    "# Get the connector to dremio with the class DremioQueryMakerJDBC"
   ]
  },
  {
   "cell_type": "code",
   "execution_count": 5,
   "metadata": {},
   "outputs": [
    {
     "data": {
      "text/html": [
       "<table>\n",
       "<caption>A data.frame: 7 × 4</caption>\n",
       "<thead>\n",
       "\t<tr><th></th><th scope=col>TABLE_CATALOG</th><th scope=col>TABLE_SCHEMA</th><th scope=col>TABLE_NAME</th><th scope=col>VIEW_DEFINITION</th></tr>\n",
       "\t<tr><th></th><th scope=col>&lt;chr&gt;</th><th scope=col>&lt;chr&gt;</th><th scope=col>&lt;chr&gt;</th><th scope=col>&lt;chr&gt;</th></tr>\n",
       "</thead>\n",
       "<tbody>\n",
       "\t<tr><th scope=row>1</th><td>DREMIO</td><td>covidlake-raw     </td><td>brasil_io          </td><td>SELECT * FROM \"brasil.io\"                                                                                                                                                                     </td></tr>\n",
       "\t<tr><th scope=row>2</th><td>DREMIO</td><td>covidlake-raw     </td><td>google_trends      </td><td>SELECT * FROM \"google_trends.parquet\"                                                                                                                                                         </td></tr>\n",
       "\t<tr><th scope=row>3</th><td>DREMIO</td><td>covidlake-raw     </td><td>health_ministry    </td><td>SELECT * FROM health_ministry                                                                                                                                                                 </td></tr>\n",
       "\t<tr><th scope=row>4</th><td>DREMIO</td><td>covidlake-raw     </td><td>hospitals_dimension</td><td>SELECT * FROM \"hospitals.csv\"                                                                                                                                                                 </td></tr>\n",
       "\t<tr><th scope=row>5</th><td>DREMIO</td><td>covidlake-raw     </td><td>wcota              </td><td>SELECT * FROM wcota                                                                                                                                                                           </td></tr>\n",
       "\t<tr><th scope=row>6</th><td>DREMIO</td><td>PowerBI           </td><td>VDS-cases-state    </td><td>  select a.state,a.city, sum(a.confirmed) as cases, \"a\".\"date\"\r\n",
       "  from \"covidlake-raw\".\"brasil_io\" as a\r\n",
       "where a.is_last = true\r\n",
       "group by a.state,a.city,\"a\".\"date\"\r\n",
       "order by 4,3 desc</td></tr>\n",
       "\t<tr><th scope=row>7</th><td>DREMIO</td><td>covidlake-raw.ipea</td><td>dolar_ratio        </td><td>SELECT * FROM \"dolar_ratio.parquet\"                                                                                                                                                           </td></tr>\n",
       "</tbody>\n",
       "</table>\n"
      ],
      "text/latex": [
       "A data.frame: 7 × 4\n",
       "\\begin{tabular}{r|llll}\n",
       "  & TABLE\\_CATALOG & TABLE\\_SCHEMA & TABLE\\_NAME & VIEW\\_DEFINITION\\\\\n",
       "  & <chr> & <chr> & <chr> & <chr>\\\\\n",
       "\\hline\n",
       "\t1 & DREMIO & covidlake-raw      & brasil\\_io           & SELECT * FROM \"brasil.io\"                                                                                                                                                                     \\\\\n",
       "\t2 & DREMIO & covidlake-raw      & google\\_trends       & SELECT * FROM \"google\\_trends.parquet\"                                                                                                                                                         \\\\\n",
       "\t3 & DREMIO & covidlake-raw      & health\\_ministry     & SELECT * FROM health\\_ministry                                                                                                                                                                 \\\\\n",
       "\t4 & DREMIO & covidlake-raw      & hospitals\\_dimension & SELECT * FROM \"hospitals.csv\"                                                                                                                                                                 \\\\\n",
       "\t5 & DREMIO & covidlake-raw      & wcota               & SELECT * FROM wcota                                                                                                                                                                           \\\\\n",
       "\t6 & DREMIO & PowerBI            & VDS-cases-state     &   select a.state,a.city, sum(a.confirmed) as cases, \"a\".\"date\"\r\n",
       "  from \"covidlake-raw\".\"brasil\\_io\" as a\r\n",
       "where a.is\\_last = true\r\n",
       "group by a.state,a.city,\"a\".\"date\"\r\n",
       "order by 4,3 desc\\\\\n",
       "\t7 & DREMIO & covidlake-raw.ipea & dolar\\_ratio         & SELECT * FROM \"dolar\\_ratio.parquet\"                                                                                                                                                           \\\\\n",
       "\\end{tabular}\n"
      ],
      "text/markdown": [
       "\n",
       "A data.frame: 7 × 4\n",
       "\n",
       "| <!--/--> | TABLE_CATALOG &lt;chr&gt; | TABLE_SCHEMA &lt;chr&gt; | TABLE_NAME &lt;chr&gt; | VIEW_DEFINITION &lt;chr&gt; |\n",
       "|---|---|---|---|---|\n",
       "| 1 | DREMIO | covidlake-raw      | brasil_io           | SELECT * FROM \"brasil.io\"                                                                                                                                                                      |\n",
       "| 2 | DREMIO | covidlake-raw      | google_trends       | SELECT * FROM \"google_trends.parquet\"                                                                                                                                                          |\n",
       "| 3 | DREMIO | covidlake-raw      | health_ministry     | SELECT * FROM health_ministry                                                                                                                                                                  |\n",
       "| 4 | DREMIO | covidlake-raw      | hospitals_dimension | SELECT * FROM \"hospitals.csv\"                                                                                                                                                                  |\n",
       "| 5 | DREMIO | covidlake-raw      | wcota               | SELECT * FROM wcota                                                                                                                                                                            |\n",
       "| 6 | DREMIO | PowerBI            | VDS-cases-state     |   select a.state,a.city, sum(a.confirmed) as cases, \"a\".\"date\"\r\n",
       "  from \"covidlake-raw\".\"brasil_io\" as a\r\n",
       "where a.is_last = true\r\n",
       "group by a.state,a.city,\"a\".\"date\"\r\n",
       "order by 4,3 desc |\n",
       "| 7 | DREMIO | covidlake-raw.ipea | dolar_ratio         | SELECT * FROM \"dolar_ratio.parquet\"                                                                                                                                                            |\n",
       "\n"
      ],
      "text/plain": [
       "  TABLE_CATALOG TABLE_SCHEMA       TABLE_NAME         \n",
       "1 DREMIO        covidlake-raw      brasil_io          \n",
       "2 DREMIO        covidlake-raw      google_trends      \n",
       "3 DREMIO        covidlake-raw      health_ministry    \n",
       "4 DREMIO        covidlake-raw      hospitals_dimension\n",
       "5 DREMIO        covidlake-raw      wcota              \n",
       "6 DREMIO        PowerBI            VDS-cases-state    \n",
       "7 DREMIO        covidlake-raw.ipea dolar_ratio        \n",
       "  VIEW_DEFINITION                                                                                                                                                                               \n",
       "1 SELECT * FROM \"brasil.io\"                                                                                                                                                                     \n",
       "2 SELECT * FROM \"google_trends.parquet\"                                                                                                                                                         \n",
       "3 SELECT * FROM health_ministry                                                                                                                                                                 \n",
       "4 SELECT * FROM \"hospitals.csv\"                                                                                                                                                                 \n",
       "5 SELECT * FROM wcota                                                                                                                                                                           \n",
       "6   select a.state,a.city, sum(a.confirmed) as cases, \"a\".\"date\"\\r\\n  from \"covidlake-raw\".\"brasil_io\" as a\\r\\nwhere a.is_last = true\\r\\ngroup by a.state,a.city,\"a\".\"date\"\\r\\norder by 4,3 desc\n",
       "7 SELECT * FROM \"dolar_ratio.parquet\"                                                                                                                                                           "
      ]
     },
     "metadata": {},
     "output_type": "display_data"
    }
   ],
   "source": [
    "# Credencials para a conexão no Dremio\n",
    "credentials <- fromJSON(file=\"/home/ubuntu/notebooks/files/.credentials.json\")\n",
    "\n",
    "cnct_str = paste(\"jdbc:dremio:direct=\", credentials['host'], \":\", credentials['port'], sep = \"\")\n",
    "drv = JDBC(\"com.dremio.jdbc.Driver\",\n",
    "           \"/home/ubuntu/notebooks/files/dremio-jdbc-driver-4.1.3-202001022113020736-53142377.jar\")\n",
    "conn = dbConnect(drv, cnct_str, credentials['uid'], credentials[\"pwd\"])\n",
    "\n",
    "index_query = \"SELECT * FROM INFORMATION_SCHEMA.VIEWS\"\n",
    "index = dbGetQuery(conn, index_query)\n",
    "index"
   ]
  },
  {
   "cell_type": "markdown",
   "metadata": {},
   "source": [
    "# Get tables by index number"
   ]
  },
  {
   "cell_type": "code",
   "execution_count": 6,
   "metadata": {},
   "outputs": [
    {
     "data": {
      "text/html": [
       "<table>\n",
       "<caption>A data.frame: 6 × 6</caption>\n",
       "<thead>\n",
       "\t<tr><th></th><th scope=col>index</th><th scope=col>TIME</th><th scope=col>Medicamento_VALUE</th><th scope=col>Vacina_VALUE</th><th scope=col>Sintoma_VALUE</th><th scope=col>Respirador_VALUE</th></tr>\n",
       "\t<tr><th></th><th scope=col>&lt;dbl&gt;</th><th scope=col>&lt;chr&gt;</th><th scope=col>&lt;chr&gt;</th><th scope=col>&lt;chr&gt;</th><th scope=col>&lt;chr&gt;</th><th scope=col>&lt;chr&gt;</th></tr>\n",
       "</thead>\n",
       "<tbody>\n",
       "\t<tr><th scope=row>1</th><td>0</td><td>2004-01-01</td><td>72</td><td>35</td><td>10</td><td>13</td></tr>\n",
       "\t<tr><th scope=row>2</th><td>1</td><td>2004-02-01</td><td>87</td><td>NA</td><td>12</td><td>11</td></tr>\n",
       "\t<tr><th scope=row>3</th><td>2</td><td>2004-03-01</td><td>84</td><td>NA</td><td>11</td><td>19</td></tr>\n",
       "\t<tr><th scope=row>4</th><td>3</td><td>2004-04-01</td><td>80</td><td>NA</td><td>13</td><td>8 </td></tr>\n",
       "\t<tr><th scope=row>5</th><td>4</td><td>2004-05-01</td><td>93</td><td>NA</td><td>13</td><td>7 </td></tr>\n",
       "\t<tr><th scope=row>6</th><td>5</td><td>2004-06-01</td><td>77</td><td>NA</td><td>13</td><td>8 </td></tr>\n",
       "</tbody>\n",
       "</table>\n"
      ],
      "text/latex": [
       "A data.frame: 6 × 6\n",
       "\\begin{tabular}{r|llllll}\n",
       "  & index & TIME & Medicamento\\_VALUE & Vacina\\_VALUE & Sintoma\\_VALUE & Respirador\\_VALUE\\\\\n",
       "  & <dbl> & <chr> & <chr> & <chr> & <chr> & <chr>\\\\\n",
       "\\hline\n",
       "\t1 & 0 & 2004-01-01 & 72 & 35 & 10 & 13\\\\\n",
       "\t2 & 1 & 2004-02-01 & 87 & NA & 12 & 11\\\\\n",
       "\t3 & 2 & 2004-03-01 & 84 & NA & 11 & 19\\\\\n",
       "\t4 & 3 & 2004-04-01 & 80 & NA & 13 & 8 \\\\\n",
       "\t5 & 4 & 2004-05-01 & 93 & NA & 13 & 7 \\\\\n",
       "\t6 & 5 & 2004-06-01 & 77 & NA & 13 & 8 \\\\\n",
       "\\end{tabular}\n"
      ],
      "text/markdown": [
       "\n",
       "A data.frame: 6 × 6\n",
       "\n",
       "| <!--/--> | index &lt;dbl&gt; | TIME &lt;chr&gt; | Medicamento_VALUE &lt;chr&gt; | Vacina_VALUE &lt;chr&gt; | Sintoma_VALUE &lt;chr&gt; | Respirador_VALUE &lt;chr&gt; |\n",
       "|---|---|---|---|---|---|---|\n",
       "| 1 | 0 | 2004-01-01 | 72 | 35 | 10 | 13 |\n",
       "| 2 | 1 | 2004-02-01 | 87 | NA | 12 | 11 |\n",
       "| 3 | 2 | 2004-03-01 | 84 | NA | 11 | 19 |\n",
       "| 4 | 3 | 2004-04-01 | 80 | NA | 13 | 8  |\n",
       "| 5 | 4 | 2004-05-01 | 93 | NA | 13 | 7  |\n",
       "| 6 | 5 | 2004-06-01 | 77 | NA | 13 | 8  |\n",
       "\n"
      ],
      "text/plain": [
       "  index TIME       Medicamento_VALUE Vacina_VALUE Sintoma_VALUE\n",
       "1 0     2004-01-01 72                35           10           \n",
       "2 1     2004-02-01 87                NA           12           \n",
       "3 2     2004-03-01 84                NA           11           \n",
       "4 3     2004-04-01 80                NA           13           \n",
       "5 4     2004-05-01 93                NA           13           \n",
       "6 5     2004-06-01 77                NA           13           \n",
       "  Respirador_VALUE\n",
       "1 13              \n",
       "2 11              \n",
       "3 19              \n",
       "4 8               \n",
       "5 7               \n",
       "6 8               "
      ]
     },
     "metadata": {},
     "output_type": "display_data"
    }
   ],
   "source": [
    "index_number = 2\n",
    "table_name = index$TABLE_NAME[index_number]\n",
    "source = index$TABLE_SCHEMA[index_number]\n",
    "query = paste(\"SELECT * FROM \\\"\", source, \"\\\".\\\"\", table_name, \"\\\"\", sep = \"\")\n",
    "table = dbGetQuery(conn, query)\n",
    "head(table)"
   ]
  },
  {
   "cell_type": "markdown",
   "metadata": {},
   "source": [
    "# Make Free Queries"
   ]
  },
  {
   "cell_type": "code",
   "execution_count": null,
   "metadata": {},
   "outputs": [],
   "source": [
    "query = '\n",
    "SELECT estado, count(*) AS \"count\"\n",
    "FROM \"covidlake-raw\".\"health_ministry\"\n",
    "GROUP BY estado\n",
    ";'\n",
    "table = dbGetQuery(conn, query)\n",
    "head(table)"
   ]
  }
 ],
 "metadata": {
  "kernelspec": {
   "display_name": "R",
   "language": "R",
   "name": "ir"
  },
  "language_info": {
   "codemirror_mode": "r",
   "file_extension": ".r",
   "mimetype": "text/x-r-source",
   "name": "R",
   "pygments_lexer": "r",
   "version": "3.5.1"
  }
 },
 "nbformat": 4,
 "nbformat_minor": 4
}
