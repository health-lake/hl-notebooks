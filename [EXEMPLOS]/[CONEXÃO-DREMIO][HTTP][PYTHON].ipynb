{
 "cells": [
  {
   "cell_type": "markdown",
   "metadata": {},
   "source": [
    "# Activating Reticulate"
   ]
  },
  {
   "cell_type": "code",
   "execution_count": 1,
   "metadata": {},
   "outputs": [],
   "source": [
    "%load_ext rpy2.ipython\n",
    "%reload_ext rpy2.ipython"
   ]
  },
  {
   "cell_type": "code",
   "execution_count": 2,
   "metadata": {},
   "outputs": [
    {
     "data": {
      "text/plain": [
       "python:         /home/ubuntu/anaconda/bin/python3\n",
       "libpython:      /home/ubuntu/anaconda/lib/libpython3.7m.so\n",
       "pythonhome:     /home/ubuntu/anaconda:/home/ubuntu/anaconda\n",
       "version:        3.7.3 (default, Mar 27 2019, 22:11:17)  [GCC 7.3.0]\n",
       "numpy:          /home/ubuntu/anaconda/lib/python3.7/site-packages/numpy\n",
       "numpy_version:  1.16.4\n",
       "\n",
       "python versions found: \n",
       " /usr/bin/python3\n",
       " /home/ubuntu/anaconda/bin/python3\n",
       " /home/ubuntu/anaconda/bin/python\n",
       " /home/ubuntu/anaconda/envs/R/bin/python\n"
      ]
     },
     "metadata": {},
     "output_type": "display_data"
    }
   ],
   "source": [
    "%%R\n",
    "library(reticulate)\n",
    "#reticulate::use_condaenv()\n",
    "reticulate::use_python(python=\"/usr/bin/python3\")\n",
    "reticulate::use_python(python=\"/home/ubuntu/anaconda/bin/python3\")\n",
    "print(reticulate::py_config())\n",
    "#sessionInfo()"
   ]
  },
  {
   "cell_type": "markdown",
   "metadata": {},
   "source": [
    "# Get the connector to dremio with the class DremioQueryMakerHTTP"
   ]
  },
  {
   "cell_type": "code",
   "execution_count": 3,
   "metadata": {},
   "outputs": [
    {
     "name": "stdout",
     "output_type": "stream",
     "text": [
      "QUERY STATUS: PLANNING\n",
      "QUERY STATUS: COMPLETED\n"
     ]
    },
    {
     "data": {
      "text/html": [
       "<div>\n",
       "<style scoped>\n",
       "    .dataframe tbody tr th:only-of-type {\n",
       "        vertical-align: middle;\n",
       "    }\n",
       "\n",
       "    .dataframe tbody tr th {\n",
       "        vertical-align: top;\n",
       "    }\n",
       "\n",
       "    .dataframe thead th {\n",
       "        text-align: right;\n",
       "    }\n",
       "</style>\n",
       "<table border=\"1\" class=\"dataframe\">\n",
       "  <thead>\n",
       "    <tr style=\"text-align: right;\">\n",
       "      <th></th>\n",
       "      <th>TABLE_CATALOG</th>\n",
       "      <th>TABLE_NAME</th>\n",
       "      <th>TABLE_SCHEMA</th>\n",
       "      <th>VIEW_DEFINITION</th>\n",
       "    </tr>\n",
       "  </thead>\n",
       "  <tbody>\n",
       "    <tr>\n",
       "      <th>0</th>\n",
       "      <td>DREMIO</td>\n",
       "      <td>brasil_io</td>\n",
       "      <td>covidlake-raw</td>\n",
       "      <td>SELECT * FROM \"brasil.io\"</td>\n",
       "    </tr>\n",
       "    <tr>\n",
       "      <th>1</th>\n",
       "      <td>DREMIO</td>\n",
       "      <td>google_trends</td>\n",
       "      <td>covidlake-raw</td>\n",
       "      <td>SELECT * FROM \"google_trends.parquet\"</td>\n",
       "    </tr>\n",
       "    <tr>\n",
       "      <th>2</th>\n",
       "      <td>DREMIO</td>\n",
       "      <td>health_ministry</td>\n",
       "      <td>covidlake-raw</td>\n",
       "      <td>SELECT * FROM health_ministry</td>\n",
       "    </tr>\n",
       "    <tr>\n",
       "      <th>3</th>\n",
       "      <td>DREMIO</td>\n",
       "      <td>hospitals_dimension</td>\n",
       "      <td>covidlake-raw</td>\n",
       "      <td>SELECT * FROM \"hospitals.csv\"</td>\n",
       "    </tr>\n",
       "    <tr>\n",
       "      <th>4</th>\n",
       "      <td>DREMIO</td>\n",
       "      <td>wcota</td>\n",
       "      <td>covidlake-raw</td>\n",
       "      <td>SELECT * FROM wcota</td>\n",
       "    </tr>\n",
       "    <tr>\n",
       "      <th>5</th>\n",
       "      <td>DREMIO</td>\n",
       "      <td>VDS-cases-state</td>\n",
       "      <td>PowerBI</td>\n",
       "      <td>select a.state,a.city, sum(a.confirmed) as cases, \"a\"....</td>\n",
       "    </tr>\n",
       "    <tr>\n",
       "      <th>6</th>\n",
       "      <td>DREMIO</td>\n",
       "      <td>dolar_ratio</td>\n",
       "      <td>covidlake-raw.ipea</td>\n",
       "      <td>SELECT * FROM \"dolar_ratio.parquet\"</td>\n",
       "    </tr>\n",
       "  </tbody>\n",
       "</table>\n",
       "</div>"
      ],
      "text/plain": [
       "  TABLE_CATALOG           TABLE_NAME        TABLE_SCHEMA  \\\n",
       "0        DREMIO            brasil_io       covidlake-raw   \n",
       "1        DREMIO        google_trends       covidlake-raw   \n",
       "2        DREMIO      health_ministry       covidlake-raw   \n",
       "3        DREMIO  hospitals_dimension       covidlake-raw   \n",
       "4        DREMIO                wcota       covidlake-raw   \n",
       "5        DREMIO      VDS-cases-state             PowerBI   \n",
       "6        DREMIO          dolar_ratio  covidlake-raw.ipea   \n",
       "\n",
       "                                               VIEW_DEFINITION  \n",
       "0                                    SELECT * FROM \"brasil.io\"  \n",
       "1                        SELECT * FROM \"google_trends.parquet\"  \n",
       "2                                SELECT * FROM health_ministry  \n",
       "3                                SELECT * FROM \"hospitals.csv\"  \n",
       "4                                          SELECT * FROM wcota  \n",
       "5    select a.state,a.city, sum(a.confirmed) as cases, \"a\"....  \n",
       "6                          SELECT * FROM \"dolar_ratio.parquet\"  "
      ]
     },
     "metadata": {},
     "output_type": "display_data"
    }
   ],
   "source": [
    "%run /home/ubuntu/notebooks/covid-prj01-data-analysis/[UTILS]/dremio-access-new.py\n",
    "pd.set_option('display.max_colwidth', 60)\n",
    "pd.set_option('display.max_columns', None) \n",
    "\n",
    "dremio = DremioQueryMakerHTTP()\n",
    "index = dremio.getIndex()\n",
    "display(index)"
   ]
  },
  {
   "cell_type": "markdown",
   "metadata": {},
   "source": [
    "# The HTTP connector is fairly slower than the ODBC and JDBC ones because of 500 registries per request hard limit on dremio API"
   ]
  },
  {
   "cell_type": "code",
   "execution_count": 4,
   "metadata": {},
   "outputs": [
    {
     "name": "stdout",
     "output_type": "stream",
     "text": [
      "QUERY STATUS: PLANNING\n",
      "QUERY STATUS: PLANNING\n",
      "QUERY STATUS: COMPLETED\n"
     ]
    },
    {
     "data": {
      "text/html": [
       "<div>\n",
       "<style scoped>\n",
       "    .dataframe tbody tr th:only-of-type {\n",
       "        vertical-align: middle;\n",
       "    }\n",
       "\n",
       "    .dataframe tbody tr th {\n",
       "        vertical-align: top;\n",
       "    }\n",
       "\n",
       "    .dataframe thead th {\n",
       "        text-align: right;\n",
       "    }\n",
       "</style>\n",
       "<table border=\"1\" class=\"dataframe\">\n",
       "  <thead>\n",
       "    <tr style=\"text-align: right;\">\n",
       "      <th></th>\n",
       "      <th>city</th>\n",
       "      <th>city_ibge_code</th>\n",
       "      <th>confirmed</th>\n",
       "      <th>confirmed_per_100k_inhabitants</th>\n",
       "      <th>date</th>\n",
       "      <th>death_rate</th>\n",
       "      <th>deaths</th>\n",
       "      <th>estimated_population_2019</th>\n",
       "      <th>index</th>\n",
       "      <th>is_last</th>\n",
       "      <th>order_for_place</th>\n",
       "      <th>place_type</th>\n",
       "      <th>state</th>\n",
       "    </tr>\n",
       "  </thead>\n",
       "  <tbody>\n",
       "    <tr>\n",
       "      <th>0</th>\n",
       "      <td>None</td>\n",
       "      <td>35.0</td>\n",
       "      <td>1</td>\n",
       "      <td>0.00218</td>\n",
       "      <td>2020-02-25</td>\n",
       "      <td>NaN</td>\n",
       "      <td>0</td>\n",
       "      <td>45919049.0</td>\n",
       "      <td>9813</td>\n",
       "      <td>False</td>\n",
       "      <td>1</td>\n",
       "      <td>state</td>\n",
       "      <td>SP</td>\n",
       "    </tr>\n",
       "    <tr>\n",
       "      <th>1</th>\n",
       "      <td>São Paulo</td>\n",
       "      <td>3550308.0</td>\n",
       "      <td>1</td>\n",
       "      <td>0.00816</td>\n",
       "      <td>2020-02-25</td>\n",
       "      <td>NaN</td>\n",
       "      <td>0</td>\n",
       "      <td>12252023.0</td>\n",
       "      <td>12683</td>\n",
       "      <td>False</td>\n",
       "      <td>1</td>\n",
       "      <td>city</td>\n",
       "      <td>SP</td>\n",
       "    </tr>\n",
       "    <tr>\n",
       "      <th>2</th>\n",
       "      <td>None</td>\n",
       "      <td>35.0</td>\n",
       "      <td>1</td>\n",
       "      <td>0.00218</td>\n",
       "      <td>2020-02-26</td>\n",
       "      <td>NaN</td>\n",
       "      <td>0</td>\n",
       "      <td>45919049.0</td>\n",
       "      <td>9812</td>\n",
       "      <td>False</td>\n",
       "      <td>2</td>\n",
       "      <td>state</td>\n",
       "      <td>SP</td>\n",
       "    </tr>\n",
       "    <tr>\n",
       "      <th>3</th>\n",
       "      <td>São Paulo</td>\n",
       "      <td>3550308.0</td>\n",
       "      <td>1</td>\n",
       "      <td>0.00816</td>\n",
       "      <td>2020-02-26</td>\n",
       "      <td>NaN</td>\n",
       "      <td>0</td>\n",
       "      <td>12252023.0</td>\n",
       "      <td>12682</td>\n",
       "      <td>False</td>\n",
       "      <td>2</td>\n",
       "      <td>city</td>\n",
       "      <td>SP</td>\n",
       "    </tr>\n",
       "    <tr>\n",
       "      <th>4</th>\n",
       "      <td>None</td>\n",
       "      <td>35.0</td>\n",
       "      <td>1</td>\n",
       "      <td>0.00218</td>\n",
       "      <td>2020-02-27</td>\n",
       "      <td>NaN</td>\n",
       "      <td>0</td>\n",
       "      <td>45919049.0</td>\n",
       "      <td>9811</td>\n",
       "      <td>False</td>\n",
       "      <td>3</td>\n",
       "      <td>state</td>\n",
       "      <td>SP</td>\n",
       "    </tr>\n",
       "  </tbody>\n",
       "</table>\n",
       "</div>"
      ],
      "text/plain": [
       "        city  city_ibge_code  confirmed  confirmed_per_100k_inhabitants  \\\n",
       "0       None            35.0          1                         0.00218   \n",
       "1  São Paulo       3550308.0          1                         0.00816   \n",
       "2       None            35.0          1                         0.00218   \n",
       "3  São Paulo       3550308.0          1                         0.00816   \n",
       "4       None            35.0          1                         0.00218   \n",
       "\n",
       "         date  death_rate  deaths  estimated_population_2019  index  is_last  \\\n",
       "0  2020-02-25         NaN       0                 45919049.0   9813    False   \n",
       "1  2020-02-25         NaN       0                 12252023.0  12683    False   \n",
       "2  2020-02-26         NaN       0                 45919049.0   9812    False   \n",
       "3  2020-02-26         NaN       0                 12252023.0  12682    False   \n",
       "4  2020-02-27         NaN       0                 45919049.0   9811    False   \n",
       "\n",
       "   order_for_place place_type state  \n",
       "0                1      state    SP  \n",
       "1                1       city    SP  \n",
       "2                2      state    SP  \n",
       "3                2       city    SP  \n",
       "4                3      state    SP  "
      ]
     },
     "metadata": {},
     "output_type": "display_data"
    }
   ],
   "source": [
    "brasil_io = dremio.getTable(0)\n",
    "display(brasil_io.head())"
   ]
  },
  {
   "cell_type": "markdown",
   "metadata": {},
   "source": [
    "# Converting Python DataFrame to R DataFrame\n",
    "\n",
    "### Use %%R above the cell to use R code on a Python Kernel"
   ]
  },
  {
   "cell_type": "code",
   "execution_count": 5,
   "metadata": {},
   "outputs": [
    {
     "data": {
      "text/plain": [
       "  TABLE_CATALOG          TABLE_NAME  TABLE_SCHEMA\n",
       "1        DREMIO           brasil_io covidlake-raw\n",
       "2        DREMIO       google_trends covidlake-raw\n",
       "3        DREMIO     health_ministry covidlake-raw\n",
       "4        DREMIO hospitals_dimension covidlake-raw\n",
       "5        DREMIO               wcota covidlake-raw\n",
       "6        DREMIO     VDS-cases-state       PowerBI\n",
       "                                                                                                                                                                                 VIEW_DEFINITION\n",
       "1                                                                                                                                                                      SELECT * FROM \"brasil.io\"\n",
       "2                                                                                                                                                          SELECT * FROM \"google_trends.parquet\"\n",
       "3                                                                                                                                                                  SELECT * FROM health_ministry\n",
       "4                                                                                                                                                                  SELECT * FROM \"hospitals.csv\"\n",
       "5                                                                                                                                                                            SELECT * FROM wcota\n",
       "6   select a.state,a.city, sum(a.confirmed) as cases, \"a\".\"date\"\\r\\n  from \"covidlake-raw\".\"brasil_io\" as a\\r\\nwhere a.is_last = true\\r\\ngroup by a.state,a.city,\"a\".\"date\"\\r\\norder by 4,3 desc\n"
      ]
     },
     "metadata": {},
     "output_type": "display_data"
    }
   ],
   "source": [
    "%%R\n",
    "\n",
    "r_brasil_io <- py$index\n",
    "head(r_brasil_io)"
   ]
  },
  {
   "cell_type": "code",
   "execution_count": 7,
   "metadata": {},
   "outputs": [
    {
     "data": {
      "text/plain": [
       "[1] \"data.frame\"\n"
      ]
     },
     "metadata": {},
     "output_type": "display_data"
    }
   ],
   "source": [
    "%%R\n",
    "class(r_brasil_io)"
   ]
  },
  {
   "cell_type": "code",
   "execution_count": 11,
   "metadata": {},
   "outputs": [
    {
     "data": {
      "text/plain": [
       "[1] 7 4\n"
      ]
     },
     "metadata": {},
     "output_type": "display_data"
    }
   ],
   "source": [
    "%%R\n",
    "dim(r_brasil_io)"
   ]
  },
  {
   "cell_type": "code",
   "execution_count": null,
   "metadata": {},
   "outputs": [],
   "source": []
  }
 ],
 "metadata": {
  "kernelspec": {
   "display_name": "Python 3",
   "language": "python",
   "name": "python3"
  },
  "language_info": {
   "codemirror_mode": {
    "name": "ipython",
    "version": 3
   },
   "file_extension": ".py",
   "mimetype": "text/x-python",
   "name": "python",
   "nbconvert_exporter": "python",
   "pygments_lexer": "ipython3",
   "version": "3.7.3"
  }
 },
 "nbformat": 4,
 "nbformat_minor": 4
}
