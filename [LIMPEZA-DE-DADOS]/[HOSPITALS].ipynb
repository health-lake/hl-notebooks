{
 "cells": [
  {
   "cell_type": "markdown",
   "metadata": {},
   "source": [
    "# Get the connector to dremio with the class DremioQueryMakerJDBC"
   ]
  },
  {
   "cell_type": "code",
   "execution_count": 1,
   "metadata": {},
   "outputs": [
    {
     "data": {
      "text/html": [
       "<div>\n",
       "<style scoped>\n",
       "    .dataframe tbody tr th:only-of-type {\n",
       "        vertical-align: middle;\n",
       "    }\n",
       "\n",
       "    .dataframe tbody tr th {\n",
       "        vertical-align: top;\n",
       "    }\n",
       "\n",
       "    .dataframe thead th {\n",
       "        text-align: right;\n",
       "    }\n",
       "</style>\n",
       "<table border=\"1\" class=\"dataframe\">\n",
       "  <thead>\n",
       "    <tr style=\"text-align: right;\">\n",
       "      <th></th>\n",
       "      <th>TABLE_CATALOG</th>\n",
       "      <th>TABLE_SCHEMA</th>\n",
       "      <th>TABLE_NAME</th>\n",
       "      <th>VIEW_DEFINITION</th>\n",
       "    </tr>\n",
       "  </thead>\n",
       "  <tbody>\n",
       "    <tr>\n",
       "      <th>0</th>\n",
       "      <td>DREMIO</td>\n",
       "      <td>covidlake-raw</td>\n",
       "      <td>brasil_io</td>\n",
       "      <td>SELECT * FROM \"brasil.io\"</td>\n",
       "    </tr>\n",
       "    <tr>\n",
       "      <th>1</th>\n",
       "      <td>DREMIO</td>\n",
       "      <td>covidlake-raw</td>\n",
       "      <td>google_trends</td>\n",
       "      <td>SELECT * FROM \"google_trends.parquet\"</td>\n",
       "    </tr>\n",
       "    <tr>\n",
       "      <th>2</th>\n",
       "      <td>DREMIO</td>\n",
       "      <td>covidlake-raw</td>\n",
       "      <td>health_ministry</td>\n",
       "      <td>SELECT * FROM health_ministry</td>\n",
       "    </tr>\n",
       "    <tr>\n",
       "      <th>3</th>\n",
       "      <td>DREMIO</td>\n",
       "      <td>covidlake-raw</td>\n",
       "      <td>hospitals_dimension</td>\n",
       "      <td>SELECT * FROM \"hospitals.csv\"</td>\n",
       "    </tr>\n",
       "    <tr>\n",
       "      <th>4</th>\n",
       "      <td>DREMIO</td>\n",
       "      <td>covidlake-raw</td>\n",
       "      <td>wcota</td>\n",
       "      <td>SELECT * FROM wcota</td>\n",
       "    </tr>\n",
       "    <tr>\n",
       "      <th>5</th>\n",
       "      <td>DREMIO</td>\n",
       "      <td>PowerBI</td>\n",
       "      <td>VDS-cases-state</td>\n",
       "      <td>select a.state,a.city, sum(a.confirmed) as c...</td>\n",
       "    </tr>\n",
       "    <tr>\n",
       "      <th>6</th>\n",
       "      <td>DREMIO</td>\n",
       "      <td>covidlake-raw.ipea</td>\n",
       "      <td>dolar_ratio</td>\n",
       "      <td>SELECT * FROM \"dolar_ratio.parquet\"</td>\n",
       "    </tr>\n",
       "  </tbody>\n",
       "</table>\n",
       "</div>"
      ],
      "text/plain": [
       "  TABLE_CATALOG        TABLE_SCHEMA           TABLE_NAME  \\\n",
       "0        DREMIO       covidlake-raw            brasil_io   \n",
       "1        DREMIO       covidlake-raw        google_trends   \n",
       "2        DREMIO       covidlake-raw      health_ministry   \n",
       "3        DREMIO       covidlake-raw  hospitals_dimension   \n",
       "4        DREMIO       covidlake-raw                wcota   \n",
       "5        DREMIO             PowerBI      VDS-cases-state   \n",
       "6        DREMIO  covidlake-raw.ipea          dolar_ratio   \n",
       "\n",
       "                                     VIEW_DEFINITION  \n",
       "0                          SELECT * FROM \"brasil.io\"  \n",
       "1              SELECT * FROM \"google_trends.parquet\"  \n",
       "2                      SELECT * FROM health_ministry  \n",
       "3                      SELECT * FROM \"hospitals.csv\"  \n",
       "4                                SELECT * FROM wcota  \n",
       "5    select a.state,a.city, sum(a.confirmed) as c...  \n",
       "6                SELECT * FROM \"dolar_ratio.parquet\"  "
      ]
     },
     "metadata": {},
     "output_type": "display_data"
    }
   ],
   "source": [
    "%run /home/ubuntu/notebooks/covid-prj01-data-analysis/[UTILS]/dremio-access-new.py\n",
    "dremio = DremioQueryMakerJDBC()\n",
    "index = dremio.getIndex()\n",
    "display(index)"
   ]
  },
  {
   "cell_type": "markdown",
   "metadata": {},
   "source": [
    "# Get tables from S3"
   ]
  },
  {
   "cell_type": "code",
   "execution_count": 44,
   "metadata": {},
   "outputs": [
    {
     "data": {
      "text/html": [
       "<div>\n",
       "<style scoped>\n",
       "    .dataframe tbody tr th:only-of-type {\n",
       "        vertical-align: middle;\n",
       "    }\n",
       "\n",
       "    .dataframe tbody tr th {\n",
       "        vertical-align: top;\n",
       "    }\n",
       "\n",
       "    .dataframe thead th {\n",
       "        text-align: right;\n",
       "    }\n",
       "</style>\n",
       "<table border=\"1\" class=\"dataframe\">\n",
       "  <thead>\n",
       "    <tr style=\"text-align: right;\">\n",
       "      <th></th>\n",
       "      <th>UF</th>\n",
       "      <th>NOME</th>\n",
       "    </tr>\n",
       "  </thead>\n",
       "  <tbody>\n",
       "    <tr>\n",
       "      <th>0</th>\n",
       "      <td>AC</td>\n",
       "      <td>Hospital Geral de Clínicas de Rio Branco</td>\n",
       "    </tr>\n",
       "    <tr>\n",
       "      <th>1</th>\n",
       "      <td>AL</td>\n",
       "      <td>HOSPITAL ESCOLA DR. HÉLVIO AUTO</td>\n",
       "    </tr>\n",
       "    <tr>\n",
       "      <th>2</th>\n",
       "      <td>AM</td>\n",
       "      <td>Instituto da Criança do Amazonas</td>\n",
       "    </tr>\n",
       "    <tr>\n",
       "      <th>3</th>\n",
       "      <td>AM</td>\n",
       "      <td>Instituto da Mulher Dona Lindu</td>\n",
       "    </tr>\n",
       "    <tr>\n",
       "      <th>4</th>\n",
       "      <td>AM</td>\n",
       "      <td>Hospital Infantil Dr. Fajardo</td>\n",
       "    </tr>\n",
       "  </tbody>\n",
       "</table>\n",
       "</div>"
      ],
      "text/plain": [
       "   UF                                      NOME\n",
       "0  AC  Hospital Geral de Clínicas de Rio Branco\n",
       "1  AL           HOSPITAL ESCOLA DR. HÉLVIO AUTO\n",
       "2  AM         Instituto da Criança do Amazonas \n",
       "3  AM            Instituto da Mulher Dona Lindu\n",
       "4  AM             Hospital Infantil Dr. Fajardo"
      ]
     },
     "execution_count": 44,
     "metadata": {},
     "output_type": "execute_result"
    }
   ],
   "source": [
    "df = pd.read_csv(\"s3://covid-19-prj/raw/hospitals/hospitals.csv\", sep = \";\")\n",
    "df[\"UF\"] = df[\"UF,HOSPITAL\"].apply(lambda x: x.split(\",\")[0])\n",
    "df[\"NOME\"] = df[\"UF,HOSPITAL\"].apply(lambda x: \",\".join(x.split(\",\")[1:]))\n",
    "df.drop(columns = [\"UF,HOSPITAL\"], inplace = True)\n",
    "df.head()"
   ]
  },
  {
   "cell_type": "code",
   "execution_count": 46,
   "metadata": {},
   "outputs": [],
   "source": [
    "from geopy.geocoders import Nominatim"
   ]
  },
  {
   "cell_type": "code",
   "execution_count": 47,
   "metadata": {},
   "outputs": [
    {
     "data": {
      "text/plain": [
       "[None,\n",
       " None,\n",
       " Location(Instituto da Criança do Amazonas, Avenida Codajás, Cachoeirinha, Manaus, Microrregião de Manaus, Mesorregião Centro Amazonense, Amazonas, Região Norte, 69000-000, Brasil, (-3.1195401, -60.0040424, 0.0)),\n",
       " None,\n",
       " None]"
      ]
     },
     "execution_count": 47,
     "metadata": {},
     "output_type": "execute_result"
    }
   ],
   "source": [
    "geolocator = Nominatim(user_agent=\"covid-lake\")\n",
    "locations = [geolocator.geocode(loc + \", \" + state + \", \" + \"BRASIL\") \n",
    "             for loc, state in zip(df[\"NOME\"],df[\"UF\"])]\n",
    "locations[:5]"
   ]
  },
  {
   "cell_type": "code",
   "execution_count": 48,
   "metadata": {},
   "outputs": [],
   "source": [
    "df[\"RUA\"] = [loc[0].split(\",\")[1][1:] if loc is not None else \"\" for loc in locations]\n",
    "df[\"BAIRRO\"] = [loc[0].split(\",\")[2][1:] if loc is not None else \"\" for loc in locations]\n",
    "df[\"CIDADE\"] = [loc[0].split(\",\")[3][1:] if loc is not None else \"\" for loc in locations]\n",
    "df[\"MICROREGIAO\"] = [loc[0].split(\",\")[4][1:] if loc is not None else \"\" for loc in locations]\n",
    "df[\"MESOREGIAO\"] = [loc[0].split(\",\")[5][1:] if loc is not None else \"\" for loc in locations]\n",
    "df[\"ESTADO\"] = [loc[0].split(\",\")[6][1:] if loc is not None else \"\" for loc in locations]\n",
    "df[\"CEP\"] = [loc[0].split(\",\")[7][1:] if loc is not None else \"\" for loc in locations]\n",
    "df[\"LAT\"] = [loc[1][0] if loc is not None else \"\" for loc in locations]\n",
    "df[\"LON\"] = [loc[1][1] if loc is not None else \"\" for loc in locations]"
   ]
  },
  {
   "cell_type": "code",
   "execution_count": 50,
   "metadata": {},
   "outputs": [],
   "source": [
    "df.to_csv(\"s3://covid-19-prj/raw/hospitals/hospitals_loc.csv\", sep = \";\")"
   ]
  }
 ],
 "metadata": {
  "kernelspec": {
   "display_name": "Python 3",
   "language": "python",
   "name": "python3"
  },
  "language_info": {
   "codemirror_mode": {
    "name": "ipython",
    "version": 3
   },
   "file_extension": ".py",
   "mimetype": "text/x-python",
   "name": "python",
   "nbconvert_exporter": "python",
   "pygments_lexer": "ipython3",
   "version": "3.7.3"
  }
 },
 "nbformat": 4,
 "nbformat_minor": 4
}
