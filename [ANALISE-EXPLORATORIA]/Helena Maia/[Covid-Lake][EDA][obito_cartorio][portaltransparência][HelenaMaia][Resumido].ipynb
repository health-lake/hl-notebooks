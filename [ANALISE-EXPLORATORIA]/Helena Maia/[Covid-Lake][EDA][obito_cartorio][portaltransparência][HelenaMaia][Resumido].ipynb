{
 "cells": [
  {
   "cell_type": "markdown",
   "metadata": {},
   "source": [
    "**This notebook provide the best practices to consume covid-lake API.**"
   ]
  },
  {
   "cell_type": "code",
   "execution_count": 2,
   "metadata": {},
   "outputs": [],
   "source": [
    "# General Import\n",
    "\n",
    "import pandas as pd\n",
    "import numpy as np\n",
    "import re\n",
    "import seaborn as sns\n",
    "\n",
    "#!pip install scipy\n",
    "import scipy\n",
    "pearsonr = scipy.stats.pearsonr\n",
    "\n",
    "import matplotlib.pyplot as plt \n",
    "import matplotlib.dates as mdates\n",
    "%matplotlib inline"
   ]
  },
  {
   "cell_type": "code",
   "execution_count": 3,
   "metadata": {},
   "outputs": [],
   "source": [
    "#obitos = pd.read_csv (r'https://raw.githubusercontent.com/helenam42/COVID_Lake/main/obito_cartorio.csv')"
   ]
  },
  {
   "cell_type": "code",
   "execution_count": 4,
   "metadata": {},
   "outputs": [],
   "source": [
    "%run /home/ubuntu/notebooks/covid-prj01-data-analysis/[UTILS]/dremio-access-new.py\n",
    "\n",
    "dremio = DremioQueryMakerJDBC()\n",
    "index = dremio.getIndex()\n",
    "#list(index['TABLE_NAME'].unique())"
   ]
  },
  {
   "cell_type": "code",
   "execution_count": 5,
   "metadata": {},
   "outputs": [
    {
     "data": {
      "text/plain": [
       "46"
      ]
     },
     "execution_count": 5,
     "metadata": {},
     "output_type": "execute_result"
    }
   ],
   "source": [
    "index_table = index['TABLE_NAME'].loc[index['TABLE_NAME'] == 'obitos_cartorio_2019_2020'].index[0]\n",
    "index_table"
   ]
  },
  {
   "cell_type": "code",
   "execution_count": 6,
   "metadata": {
    "scrolled": true
   },
   "outputs": [
    {
     "data": {
      "text/html": [
       "<div>\n",
       "<style scoped>\n",
       "    .dataframe tbody tr th:only-of-type {\n",
       "        vertical-align: middle;\n",
       "    }\n",
       "\n",
       "    .dataframe tbody tr th {\n",
       "        vertical-align: top;\n",
       "    }\n",
       "\n",
       "    .dataframe thead th {\n",
       "        text-align: right;\n",
       "    }\n",
       "</style>\n",
       "<table border=\"1\" class=\"dataframe\">\n",
       "  <thead>\n",
       "    <tr style=\"text-align: right;\">\n",
       "      <th></th>\n",
       "      <th>ano</th>\n",
       "      <th>uf</th>\n",
       "      <th>tipo_doenca</th>\n",
       "      <th>local_obito</th>\n",
       "      <th>faixa_etaria(anos)</th>\n",
       "      <th>sexo</th>\n",
       "      <th>total</th>\n",
       "    </tr>\n",
       "  </thead>\n",
       "  <tbody>\n",
       "    <tr>\n",
       "      <th>0</th>\n",
       "      <td>2019</td>\n",
       "      <td>AC</td>\n",
       "      <td>outras</td>\n",
       "      <td>domicilio</td>\n",
       "      <td>0 - 9</td>\n",
       "      <td>F</td>\n",
       "      <td>8</td>\n",
       "    </tr>\n",
       "    <tr>\n",
       "      <th>1</th>\n",
       "      <td>2019</td>\n",
       "      <td>AC</td>\n",
       "      <td>outras</td>\n",
       "      <td>domicilio</td>\n",
       "      <td>0 - 9</td>\n",
       "      <td>M</td>\n",
       "      <td>15</td>\n",
       "    </tr>\n",
       "    <tr>\n",
       "      <th>2</th>\n",
       "      <td>2019</td>\n",
       "      <td>AC</td>\n",
       "      <td>outras</td>\n",
       "      <td>hospital</td>\n",
       "      <td>0 - 9</td>\n",
       "      <td>F</td>\n",
       "      <td>29</td>\n",
       "    </tr>\n",
       "    <tr>\n",
       "      <th>3</th>\n",
       "      <td>2019</td>\n",
       "      <td>AC</td>\n",
       "      <td>outras</td>\n",
       "      <td>hospital</td>\n",
       "      <td>0 - 9</td>\n",
       "      <td>M</td>\n",
       "      <td>56</td>\n",
       "    </tr>\n",
       "    <tr>\n",
       "      <th>4</th>\n",
       "      <td>2019</td>\n",
       "      <td>AC</td>\n",
       "      <td>outras</td>\n",
       "      <td>ignorado</td>\n",
       "      <td>0 - 9</td>\n",
       "      <td>M</td>\n",
       "      <td>1</td>\n",
       "    </tr>\n",
       "  </tbody>\n",
       "</table>\n",
       "</div>"
      ],
      "text/plain": [
       "    ano  uf tipo_doenca local_obito faixa_etaria(anos) sexo  total\n",
       "0  2019  AC      outras   domicilio              0 - 9    F      8\n",
       "1  2019  AC      outras   domicilio              0 - 9    M     15\n",
       "2  2019  AC      outras    hospital              0 - 9    F     29\n",
       "3  2019  AC      outras    hospital              0 - 9    M     56\n",
       "4  2019  AC      outras    ignorado              0 - 9    M      1"
      ]
     },
     "execution_count": 6,
     "metadata": {},
     "output_type": "execute_result"
    }
   ],
   "source": [
    "obitos = dremio.getTable(index_table)\n",
    "obitos.head()"
   ]
  },
  {
   "cell_type": "code",
   "execution_count": 7,
   "metadata": {},
   "outputs": [
    {
     "data": {
      "text/plain": [
       "(26298, 7)"
      ]
     },
     "execution_count": 7,
     "metadata": {},
     "output_type": "execute_result"
    }
   ],
   "source": [
    "obitos.shape"
   ]
  },
  {
   "cell_type": "code",
   "execution_count": 8,
   "metadata": {},
   "outputs": [
    {
     "data": {
      "text/plain": [
       "['outras',\n",
       " 'indeterminada',\n",
       " 'insuficiencia_respiratoria',\n",
       " 'pneumonia',\n",
       " 'septicemia',\n",
       " 'srag',\n",
       " 'covid']"
      ]
     },
     "execution_count": 8,
     "metadata": {},
     "output_type": "execute_result"
    }
   ],
   "source": [
    "# Tipos de doenças\n",
    "list(obitos['tipo_doenca'].unique())"
   ]
  },
  {
   "cell_type": "code",
   "execution_count": 41,
   "metadata": {},
   "outputs": [
    {
     "data": {
      "text/plain": [
       "['0 - 9',\n",
       " 0,\n",
       " '20 - 29',\n",
       " '30 - 39',\n",
       " '40 - 49',\n",
       " '50 - 59',\n",
       " '60 - 69',\n",
       " '70 - 79',\n",
       " '80 - 89',\n",
       " '90 - 99',\n",
       " '> 100',\n",
       " 'N/I']"
      ]
     },
     "execution_count": 41,
     "metadata": {},
     "output_type": "execute_result"
    }
   ],
   "source": [
    "# Faixa etária\n",
    "list(obitos['faixa_etaria(anos)'].unique())"
   ]
  },
  {
   "cell_type": "markdown",
   "metadata": {},
   "source": [
    "## exploreEntity\n",
    "\n",
    "Presents an overview of the tables existing in the covid-lake.\n",
    "\n",
    "URL: http://23.20.157.201/api/exploreEntity"
   ]
  },
  {
   "cell_type": "markdown",
   "metadata": {},
   "source": [
    "*Each Table represents a CDM (Common Data Model) because it encompesses a set of dataset collected from different sources and mapped following a standard enitity.*"
   ]
  },
  {
   "cell_type": "markdown",
   "metadata": {},
   "source": [
    "### Let's play with Data :)"
   ]
  },
  {
   "cell_type": "markdown",
   "metadata": {},
   "source": [
    "- **Analyzing obitos dataset**"
   ]
  },
  {
   "cell_type": "markdown",
   "metadata": {},
   "source": [
    "Checking all columns"
   ]
  },
  {
   "cell_type": "code",
   "execution_count": 9,
   "metadata": {},
   "outputs": [
    {
     "name": "stdout",
     "output_type": "stream",
     "text": [
      "Total columns: 7\n"
     ]
    }
   ],
   "source": [
    "all_columns = obitos.columns.values.tolist()\n",
    "print('Total columns:', len(all_columns))"
   ]
  },
  {
   "cell_type": "code",
   "execution_count": 10,
   "metadata": {},
   "outputs": [
    {
     "data": {
      "text/plain": [
       "['ano',\n",
       " 'uf',\n",
       " 'tipo_doenca',\n",
       " 'local_obito',\n",
       " 'faixa_etaria(anos)',\n",
       " 'sexo',\n",
       " 'total']"
      ]
     },
     "execution_count": 10,
     "metadata": {},
     "output_type": "execute_result"
    }
   ],
   "source": [
    "all_columns"
   ]
  },
  {
   "cell_type": "markdown",
   "metadata": {},
   "source": [
    "Verifying all NAs"
   ]
  },
  {
   "cell_type": "code",
   "execution_count": 11,
   "metadata": {},
   "outputs": [
    {
     "data": {
      "text/plain": [
       "ano                      0\n",
       "uf                       0\n",
       "tipo_doenca              0\n",
       "local_obito              0\n",
       "faixa_etaria(anos)    1393\n",
       "sexo                     0\n",
       "total                    0\n",
       "dtype: int64"
      ]
     },
     "execution_count": 11,
     "metadata": {},
     "output_type": "execute_result"
    }
   ],
   "source": [
    "# count NAs per column\n",
    "obitos.isna().sum()"
   ]
  },
  {
   "cell_type": "markdown",
   "metadata": {},
   "source": [
    "Replacing all NAs"
   ]
  },
  {
   "cell_type": "code",
   "execution_count": 12,
   "metadata": {},
   "outputs": [],
   "source": [
    "# remove columns full of NAs\n",
    "#casos_full.dropna(inplace=True)\n",
    "#casos_full.head()"
   ]
  },
  {
   "cell_type": "code",
   "execution_count": 13,
   "metadata": {},
   "outputs": [],
   "source": [
    "obitos = obitos.fillna(0)"
   ]
  },
  {
   "cell_type": "markdown",
   "metadata": {},
   "source": [
    "Verifying the duplicated columns"
   ]
  },
  {
   "cell_type": "code",
   "execution_count": 14,
   "metadata": {},
   "outputs": [
    {
     "data": {
      "text/html": [
       "<div>\n",
       "<style scoped>\n",
       "    .dataframe tbody tr th:only-of-type {\n",
       "        vertical-align: middle;\n",
       "    }\n",
       "\n",
       "    .dataframe tbody tr th {\n",
       "        vertical-align: top;\n",
       "    }\n",
       "\n",
       "    .dataframe thead th {\n",
       "        text-align: right;\n",
       "    }\n",
       "</style>\n",
       "<table border=\"1\" class=\"dataframe\">\n",
       "  <thead>\n",
       "    <tr style=\"text-align: right;\">\n",
       "      <th></th>\n",
       "      <th>ano</th>\n",
       "      <th>uf</th>\n",
       "      <th>tipo_doenca</th>\n",
       "      <th>local_obito</th>\n",
       "      <th>faixa_etaria(anos)</th>\n",
       "      <th>sexo</th>\n",
       "      <th>total</th>\n",
       "    </tr>\n",
       "  </thead>\n",
       "  <tbody>\n",
       "    <tr>\n",
       "      <th>0</th>\n",
       "      <td>2019</td>\n",
       "      <td>AC</td>\n",
       "      <td>outras</td>\n",
       "      <td>domicilio</td>\n",
       "      <td>0 - 9</td>\n",
       "      <td>F</td>\n",
       "      <td>8</td>\n",
       "    </tr>\n",
       "    <tr>\n",
       "      <th>1</th>\n",
       "      <td>2019</td>\n",
       "      <td>AC</td>\n",
       "      <td>outras</td>\n",
       "      <td>domicilio</td>\n",
       "      <td>0 - 9</td>\n",
       "      <td>M</td>\n",
       "      <td>15</td>\n",
       "    </tr>\n",
       "    <tr>\n",
       "      <th>2</th>\n",
       "      <td>2019</td>\n",
       "      <td>AC</td>\n",
       "      <td>outras</td>\n",
       "      <td>hospital</td>\n",
       "      <td>0 - 9</td>\n",
       "      <td>F</td>\n",
       "      <td>29</td>\n",
       "    </tr>\n",
       "    <tr>\n",
       "      <th>3</th>\n",
       "      <td>2019</td>\n",
       "      <td>AC</td>\n",
       "      <td>outras</td>\n",
       "      <td>hospital</td>\n",
       "      <td>0 - 9</td>\n",
       "      <td>M</td>\n",
       "      <td>56</td>\n",
       "    </tr>\n",
       "    <tr>\n",
       "      <th>4</th>\n",
       "      <td>2019</td>\n",
       "      <td>AC</td>\n",
       "      <td>outras</td>\n",
       "      <td>ignorado</td>\n",
       "      <td>0 - 9</td>\n",
       "      <td>M</td>\n",
       "      <td>1</td>\n",
       "    </tr>\n",
       "    <tr>\n",
       "      <th>...</th>\n",
       "      <td>...</td>\n",
       "      <td>...</td>\n",
       "      <td>...</td>\n",
       "      <td>...</td>\n",
       "      <td>...</td>\n",
       "      <td>...</td>\n",
       "      <td>...</td>\n",
       "    </tr>\n",
       "    <tr>\n",
       "      <th>26293</th>\n",
       "      <td>2020</td>\n",
       "      <td>TO</td>\n",
       "      <td>indeterminada</td>\n",
       "      <td>hospital</td>\n",
       "      <td>N/I</td>\n",
       "      <td>F</td>\n",
       "      <td>3</td>\n",
       "    </tr>\n",
       "    <tr>\n",
       "      <th>26294</th>\n",
       "      <td>2020</td>\n",
       "      <td>TO</td>\n",
       "      <td>indeterminada</td>\n",
       "      <td>hospital</td>\n",
       "      <td>N/I</td>\n",
       "      <td>M</td>\n",
       "      <td>2</td>\n",
       "    </tr>\n",
       "    <tr>\n",
       "      <th>26295</th>\n",
       "      <td>2020</td>\n",
       "      <td>TO</td>\n",
       "      <td>insuficiencia_respiratoria</td>\n",
       "      <td>hospital</td>\n",
       "      <td>N/I</td>\n",
       "      <td>F</td>\n",
       "      <td>1</td>\n",
       "    </tr>\n",
       "    <tr>\n",
       "      <th>26296</th>\n",
       "      <td>2020</td>\n",
       "      <td>TO</td>\n",
       "      <td>pneumonia</td>\n",
       "      <td>hospital</td>\n",
       "      <td>N/I</td>\n",
       "      <td>F</td>\n",
       "      <td>1</td>\n",
       "    </tr>\n",
       "    <tr>\n",
       "      <th>26297</th>\n",
       "      <td>2020</td>\n",
       "      <td>TO</td>\n",
       "      <td>pneumonia</td>\n",
       "      <td>hospital</td>\n",
       "      <td>N/I</td>\n",
       "      <td>M</td>\n",
       "      <td>1</td>\n",
       "    </tr>\n",
       "  </tbody>\n",
       "</table>\n",
       "<p>26298 rows × 7 columns</p>\n",
       "</div>"
      ],
      "text/plain": [
       "        ano  uf                 tipo_doenca local_obito faixa_etaria(anos)  \\\n",
       "0      2019  AC                      outras   domicilio              0 - 9   \n",
       "1      2019  AC                      outras   domicilio              0 - 9   \n",
       "2      2019  AC                      outras    hospital              0 - 9   \n",
       "3      2019  AC                      outras    hospital              0 - 9   \n",
       "4      2019  AC                      outras    ignorado              0 - 9   \n",
       "...     ...  ..                         ...         ...                ...   \n",
       "26293  2020  TO               indeterminada    hospital                N/I   \n",
       "26294  2020  TO               indeterminada    hospital                N/I   \n",
       "26295  2020  TO  insuficiencia_respiratoria    hospital                N/I   \n",
       "26296  2020  TO                   pneumonia    hospital                N/I   \n",
       "26297  2020  TO                   pneumonia    hospital                N/I   \n",
       "\n",
       "      sexo  total  \n",
       "0        F      8  \n",
       "1        M     15  \n",
       "2        F     29  \n",
       "3        M     56  \n",
       "4        M      1  \n",
       "...    ...    ...  \n",
       "26293    F      3  \n",
       "26294    M      2  \n",
       "26295    F      1  \n",
       "26296    F      1  \n",
       "26297    M      1  \n",
       "\n",
       "[26298 rows x 7 columns]"
      ]
     },
     "execution_count": 14,
     "metadata": {},
     "output_type": "execute_result"
    }
   ],
   "source": [
    "# drop duplicates\n",
    "obitos.drop_duplicates() \n",
    "# no duplicates"
   ]
  },
  {
   "cell_type": "code",
   "execution_count": 15,
   "metadata": {},
   "outputs": [
    {
     "data": {
      "text/plain": [
       "(26298, 7)"
      ]
     },
     "execution_count": 15,
     "metadata": {},
     "output_type": "execute_result"
    }
   ],
   "source": [
    "obitos.shape"
   ]
  },
  {
   "cell_type": "markdown",
   "metadata": {},
   "source": [
    "Describe the dataset"
   ]
  },
  {
   "cell_type": "code",
   "execution_count": 16,
   "metadata": {},
   "outputs": [
    {
     "data": {
      "text/html": [
       "<div>\n",
       "<style scoped>\n",
       "    .dataframe tbody tr th:only-of-type {\n",
       "        vertical-align: middle;\n",
       "    }\n",
       "\n",
       "    .dataframe tbody tr th {\n",
       "        vertical-align: top;\n",
       "    }\n",
       "\n",
       "    .dataframe thead th {\n",
       "        text-align: right;\n",
       "    }\n",
       "</style>\n",
       "<table border=\"1\" class=\"dataframe\">\n",
       "  <thead>\n",
       "    <tr style=\"text-align: right;\">\n",
       "      <th></th>\n",
       "      <th>total</th>\n",
       "    </tr>\n",
       "  </thead>\n",
       "  <tbody>\n",
       "    <tr>\n",
       "      <th>count</th>\n",
       "      <td>26298.000000</td>\n",
       "    </tr>\n",
       "    <tr>\n",
       "      <th>mean</th>\n",
       "      <td>84.663434</td>\n",
       "    </tr>\n",
       "    <tr>\n",
       "      <th>std</th>\n",
       "      <td>390.039069</td>\n",
       "    </tr>\n",
       "    <tr>\n",
       "      <th>min</th>\n",
       "      <td>1.000000</td>\n",
       "    </tr>\n",
       "    <tr>\n",
       "      <th>25%</th>\n",
       "      <td>2.000000</td>\n",
       "    </tr>\n",
       "    <tr>\n",
       "      <th>50%</th>\n",
       "      <td>6.000000</td>\n",
       "    </tr>\n",
       "    <tr>\n",
       "      <th>75%</th>\n",
       "      <td>32.000000</td>\n",
       "    </tr>\n",
       "    <tr>\n",
       "      <th>max</th>\n",
       "      <td>12263.000000</td>\n",
       "    </tr>\n",
       "  </tbody>\n",
       "</table>\n",
       "</div>"
      ],
      "text/plain": [
       "              total\n",
       "count  26298.000000\n",
       "mean      84.663434\n",
       "std      390.039069\n",
       "min        1.000000\n",
       "25%        2.000000\n",
       "50%        6.000000\n",
       "75%       32.000000\n",
       "max    12263.000000"
      ]
     },
     "execution_count": 16,
     "metadata": {},
     "output_type": "execute_result"
    }
   ],
   "source": [
    "obitos.describe()"
   ]
  },
  {
   "cell_type": "markdown",
   "metadata": {},
   "source": [
    "Frequency of each state"
   ]
  },
  {
   "cell_type": "code",
   "execution_count": 17,
   "metadata": {},
   "outputs": [
    {
     "data": {
      "text/html": [
       "<div>\n",
       "<style scoped>\n",
       "    .dataframe tbody tr th:only-of-type {\n",
       "        vertical-align: middle;\n",
       "    }\n",
       "\n",
       "    .dataframe tbody tr th {\n",
       "        vertical-align: top;\n",
       "    }\n",
       "\n",
       "    .dataframe thead th {\n",
       "        text-align: right;\n",
       "    }\n",
       "</style>\n",
       "<table border=\"1\" class=\"dataframe\">\n",
       "  <thead>\n",
       "    <tr style=\"text-align: right;\">\n",
       "      <th></th>\n",
       "      <th>uf</th>\n",
       "      <th>freq</th>\n",
       "    </tr>\n",
       "  </thead>\n",
       "  <tbody>\n",
       "    <tr>\n",
       "      <th>25</th>\n",
       "      <td>SP</td>\n",
       "      <td>1718</td>\n",
       "    </tr>\n",
       "    <tr>\n",
       "      <th>10</th>\n",
       "      <td>MG</td>\n",
       "      <td>1463</td>\n",
       "    </tr>\n",
       "    <tr>\n",
       "      <th>5</th>\n",
       "      <td>CE</td>\n",
       "      <td>1291</td>\n",
       "    </tr>\n",
       "    <tr>\n",
       "      <th>4</th>\n",
       "      <td>BA</td>\n",
       "      <td>1288</td>\n",
       "    </tr>\n",
       "    <tr>\n",
       "      <th>15</th>\n",
       "      <td>PE</td>\n",
       "      <td>1271</td>\n",
       "    </tr>\n",
       "  </tbody>\n",
       "</table>\n",
       "</div>"
      ],
      "text/plain": [
       "    uf  freq\n",
       "25  SP  1718\n",
       "10  MG  1463\n",
       "5   CE  1291\n",
       "4   BA  1288\n",
       "15  PE  1271"
      ]
     },
     "execution_count": 17,
     "metadata": {},
     "output_type": "execute_result"
    }
   ],
   "source": [
    "# array with each count    \n",
    "counts = np.unique(obitos['uf'], return_counts=True)\n",
    "\n",
    "# dataframe\n",
    "state_count = pd.DataFrame({'uf': counts[0], 'freq': counts[1]})\n",
    "state_count.sort_values(by=['freq'], inplace=True,ascending=False)\n",
    "state_count.head()"
   ]
  },
  {
   "cell_type": "code",
   "execution_count": 23,
   "metadata": {},
   "outputs": [
    {
     "data": {
      "text/html": [
       "<div>\n",
       "<style scoped>\n",
       "    .dataframe tbody tr th:only-of-type {\n",
       "        vertical-align: middle;\n",
       "    }\n",
       "\n",
       "    .dataframe tbody tr th {\n",
       "        vertical-align: top;\n",
       "    }\n",
       "\n",
       "    .dataframe thead th {\n",
       "        text-align: right;\n",
       "    }\n",
       "</style>\n",
       "<table border=\"1\" class=\"dataframe\">\n",
       "  <thead>\n",
       "    <tr style=\"text-align: right;\">\n",
       "      <th></th>\n",
       "      <th>sexo</th>\n",
       "      <th>freq</th>\n",
       "    </tr>\n",
       "  </thead>\n",
       "  <tbody>\n",
       "    <tr>\n",
       "      <th>3</th>\n",
       "      <td>M</td>\n",
       "      <td>13406</td>\n",
       "    </tr>\n",
       "    <tr>\n",
       "      <th>1</th>\n",
       "      <td>F</td>\n",
       "      <td>12182</td>\n",
       "    </tr>\n",
       "    <tr>\n",
       "      <th>2</th>\n",
       "      <td>I</td>\n",
       "      <td>707</td>\n",
       "    </tr>\n",
       "    <tr>\n",
       "      <th>0</th>\n",
       "      <td></td>\n",
       "      <td>3</td>\n",
       "    </tr>\n",
       "  </tbody>\n",
       "</table>\n",
       "</div>"
      ],
      "text/plain": [
       "  sexo   freq\n",
       "3    M  13406\n",
       "1    F  12182\n",
       "2    I    707\n",
       "0           3"
      ]
     },
     "execution_count": 23,
     "metadata": {},
     "output_type": "execute_result"
    }
   ],
   "source": [
    "# array with each count    \n",
    "counts = np.unique(obitos['sexo'], return_counts=True)\n",
    "\n",
    "# dataframe\n",
    "state_count = pd.DataFrame({'sexo': counts[0], 'freq': counts[1]})\n",
    "state_count.sort_values(by=['freq'], inplace=True,ascending=False)\n",
    "state_count.head()"
   ]
  },
  {
   "cell_type": "markdown",
   "metadata": {},
   "source": [
    "Descriptive analysis"
   ]
  },
  {
   "cell_type": "markdown",
   "metadata": {},
   "source": [
    "## Graphs"
   ]
  },
  {
   "cell_type": "code",
   "execution_count": 24,
   "metadata": {},
   "outputs": [],
   "source": [
    "df = obitos"
   ]
  },
  {
   "cell_type": "code",
   "execution_count": 25,
   "metadata": {},
   "outputs": [
    {
     "data": {
      "text/plain": [
       "<matplotlib.axes._subplots.AxesSubplot at 0x7f5fa80ab3c8>"
      ]
     },
     "execution_count": 25,
     "metadata": {},
     "output_type": "execute_result"
    },
    {
     "data": {
      "image/png": "[encoded data removed]",
      "text/plain": [
       "<Figure size 432x288 with 1 Axes>"
      ]
     },
     "metadata": {
      "needs_background": "light"
     },
     "output_type": "display_data"
    }
   ],
   "source": [
    "# Missing values\n",
    "sns.heatmap(df.isnull(), yticklabels=False, cbar=False, cmap='viridis')"
   ]
  },
  {
   "cell_type": "markdown",
   "metadata": {},
   "source": [
    "### Total cases distribution\n"
   ]
  },
  {
   "cell_type": "code",
   "execution_count": 30,
   "metadata": {},
   "outputs": [
    {
     "data": {
      "text/plain": [
       "[Text(0.5, 0, '')]"
      ]
     },
     "execution_count": 30,
     "metadata": {},
     "output_type": "execute_result"
    },
    {
     "data": {
      "image/png": "[encoded data removed]",
      "text/plain": [
       "<Figure size 432x288 with 2 Axes>"
      ]
     },
     "metadata": {
      "needs_background": "light"
     },
     "output_type": "display_data"
    }
   ],
   "source": [
    "confirmed_cases = obitos['total'].values\n",
    "\n",
    "f, (ax_box, ax_hist) = plt.subplots(2, sharex=True, gridspec_kw={\"height_ratios\": (.15, .85)})\n",
    " \n",
    "# Add a graph in each part\n",
    "sns.set_style(\"darkgrid\")\n",
    "sns.boxplot(confirmed_cases, ax=ax_box)\n",
    "sns.distplot(confirmed_cases, bins=10, ax=ax_hist)\n",
    " \n",
    "# Remove x axis name for the boxplot\n",
    "ax_box.set(xlabel='')"
   ]
  },
  {
   "cell_type": "markdown",
   "metadata": {},
   "source": [
    "# Analyzing state by state"
   ]
  },
  {
   "cell_type": "code",
   "execution_count": 32,
   "metadata": {},
   "outputs": [],
   "source": [
    "df = obitos"
   ]
  },
  {
   "cell_type": "code",
   "execution_count": 33,
   "metadata": {},
   "outputs": [
    {
     "data": {
      "text/plain": [
       "Index(['ano', 'uf', 'tipo_doenca', 'local_obito', 'faixa_etaria(anos)', 'sexo',\n",
       "       'total'],\n",
       "      dtype='object')"
      ]
     },
     "execution_count": 33,
     "metadata": {},
     "output_type": "execute_result"
    }
   ],
   "source": [
    "df.columns"
   ]
  },
  {
   "cell_type": "code",
   "execution_count": 36,
   "metadata": {},
   "outputs": [
    {
     "data": {
      "text/plain": [
       "(1718, 7)"
      ]
     },
     "execution_count": 36,
     "metadata": {},
     "output_type": "execute_result"
    }
   ],
   "source": [
    "# Filtering SP value\n",
    "SP_boolean = df.uf == 'SP'\n",
    "SP_boolean\n",
    "\n",
    "df_sp = df[SP_boolean]\n",
    "df_sp = df_sp.sort_values('ano')\n",
    "df_sp = df_sp.dropna(subset=['uf'])\n",
    "\n",
    "df_sp.shape"
   ]
  },
  {
   "cell_type": "code",
   "execution_count": 56,
   "metadata": {},
   "outputs": [
    {
     "data": {
      "text/html": [
       "<div>\n",
       "<style scoped>\n",
       "    .dataframe tbody tr th:only-of-type {\n",
       "        vertical-align: middle;\n",
       "    }\n",
       "\n",
       "    .dataframe tbody tr th {\n",
       "        vertical-align: top;\n",
       "    }\n",
       "\n",
       "    .dataframe thead th {\n",
       "        text-align: right;\n",
       "    }\n",
       "</style>\n",
       "<table border=\"1\" class=\"dataframe\">\n",
       "  <thead>\n",
       "    <tr style=\"text-align: right;\">\n",
       "      <th></th>\n",
       "      <th>ano</th>\n",
       "      <th>uf</th>\n",
       "      <th>tipo_doenca</th>\n",
       "      <th>local_obito</th>\n",
       "      <th>faixa_etaria(anos)</th>\n",
       "      <th>sexo</th>\n",
       "      <th>total</th>\n",
       "    </tr>\n",
       "  </thead>\n",
       "  <tbody>\n",
       "    <tr>\n",
       "      <th>22404</th>\n",
       "      <td>2020</td>\n",
       "      <td>MG</td>\n",
       "      <td>covid</td>\n",
       "      <td>domicilio</td>\n",
       "      <td>80 - 89</td>\n",
       "      <td>F</td>\n",
       "      <td>36</td>\n",
       "    </tr>\n",
       "    <tr>\n",
       "      <th>17764</th>\n",
       "      <td>2020</td>\n",
       "      <td>MG</td>\n",
       "      <td>covid</td>\n",
       "      <td>domicilio</td>\n",
       "      <td>50 - 59</td>\n",
       "      <td>F</td>\n",
       "      <td>8</td>\n",
       "    </tr>\n",
       "    <tr>\n",
       "      <th>19269</th>\n",
       "      <td>2020</td>\n",
       "      <td>MG</td>\n",
       "      <td>covid</td>\n",
       "      <td>outros_servicos_saude</td>\n",
       "      <td>60 - 69</td>\n",
       "      <td>F</td>\n",
       "      <td>32</td>\n",
       "    </tr>\n",
       "    <tr>\n",
       "      <th>13435</th>\n",
       "      <td>2020</td>\n",
       "      <td>MG</td>\n",
       "      <td>covid</td>\n",
       "      <td>outro</td>\n",
       "      <td>0</td>\n",
       "      <td>M</td>\n",
       "      <td>1</td>\n",
       "    </tr>\n",
       "    <tr>\n",
       "      <th>13434</th>\n",
       "      <td>2020</td>\n",
       "      <td>MG</td>\n",
       "      <td>covid</td>\n",
       "      <td>hospital</td>\n",
       "      <td>0</td>\n",
       "      <td>M</td>\n",
       "      <td>15</td>\n",
       "    </tr>\n",
       "  </tbody>\n",
       "</table>\n",
       "</div>"
      ],
      "text/plain": [
       "        ano  uf tipo_doenca            local_obito faixa_etaria(anos) sexo  \\\n",
       "22404  2020  MG       covid              domicilio            80 - 89    F   \n",
       "17764  2020  MG       covid              domicilio            50 - 59    F   \n",
       "19269  2020  MG       covid  outros_servicos_saude            60 - 69    F   \n",
       "13435  2020  MG       covid                  outro                  0    M   \n",
       "13434  2020  MG       covid               hospital                  0    M   \n",
       "\n",
       "       total  \n",
       "22404     36  \n",
       "17764      8  \n",
       "19269     32  \n",
       "13435      1  \n",
       "13434     15  "
      ]
     },
     "execution_count": 56,
     "metadata": {},
     "output_type": "execute_result"
    }
   ],
   "source": [
    "# Filtering MG value\n",
    "MG_boolean = df.uf == 'MG'\n",
    "\n",
    "df_mg = df[MG_boolean]\n",
    "df_mg = df_mg.sort_values('ano')\n",
    "df_mg = df_mg.dropna(subset=['uf'])\n",
    "\n",
    "mg_shape = df_mg.shape\n",
    "\n",
    "# srag MG\n",
    "srag = df_mg.tipo_doenca == 'srag'\n",
    "\n",
    "df_mg_srag = df_mg[srag]\n",
    "df_mg_srag = df_mg_srag.sort_values('ano')\n",
    "df_mg_srag = df_mg_srag.dropna(subset=['tipo_doenca'])\n",
    "\n",
    "srag_shape = df_mg_srag.shape\n",
    "\n",
    "# pneumonia MG\n",
    "pneumonia = df_mg.tipo_doenca == 'pneumonia'\n",
    "\n",
    "df_mg_pneumonia = df_mg[pneumonia]\n",
    "df_mg_pneumonia = df_mg_pneumonia.sort_values('ano')\n",
    "df_mg_pneumonia = df_mg_pneumonia.dropna(subset=['tipo_doenca'])\n",
    "\n",
    "pneumonia_shape = df_mg_pneumonia.shape\n",
    "\n",
    "# covid MG\n",
    "covid = df_mg.tipo_doenca == 'covid'\n",
    "\n",
    "df_mg_covid = df_mg[covid]\n",
    "df_mg_covid = df_mg_covid.sort_values('ano')\n",
    "df_mg_covid = df_mg_covid.dropna(subset=['tipo_doenca'])\n",
    "\n",
    "covid_shape = df_mg_covid.shape\n",
    "df_mg_covid.head()"
   ]
  },
  {
   "cell_type": "code",
   "execution_count": 57,
   "metadata": {},
   "outputs": [
    {
     "name": "stdout",
     "output_type": "stream",
     "text": [
      "9907\n"
     ]
    }
   ],
   "source": [
    "s = sum(df_mg_covid.total)\n",
    "print (s)"
   ]
  },
  {
   "cell_type": "code",
   "execution_count": 55,
   "metadata": {},
   "outputs": [
    {
     "name": "stdout",
     "output_type": "stream",
     "text": [
      "(1463, 7)\n",
      "(110, 7)\n",
      "(235, 7)\n",
      "(97, 7)\n"
     ]
    }
   ],
   "source": [
    "print(mg_shape)\n",
    "print(srag_shape)\n",
    "print(pneumonia_shape)\n",
    "print(covid_shape)"
   ]
  },
  {
   "cell_type": "code",
   "execution_count": null,
   "metadata": {},
   "outputs": [],
   "source": [
    "srag = \n",
    "pneumonia = \n",
    "covid = "
   ]
  }
 ],
 "metadata": {
  "kernelspec": {
   "display_name": "Python 3",
   "language": "python",
   "name": "python3"
  },
  "language_info": {
   "codemirror_mode": {
    "name": "ipython",
    "version": 3
   },
   "file_extension": ".py",
   "mimetype": "text/x-python",
   "name": "python",
   "nbconvert_exporter": "python",
   "pygments_lexer": "ipython3",
   "version": "3.7.3"
  }
 },
 "nbformat": 4,
 "nbformat_minor": 4
}
