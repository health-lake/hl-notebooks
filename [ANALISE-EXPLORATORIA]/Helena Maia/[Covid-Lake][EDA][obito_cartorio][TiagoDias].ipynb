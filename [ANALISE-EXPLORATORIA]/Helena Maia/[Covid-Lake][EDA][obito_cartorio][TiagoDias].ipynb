{
 "cells": [
  {
   "cell_type": "markdown",
   "metadata": {},
   "source": [
    "**This notebook provide the best practices to consume covid-lake API.**"
   ]
  },
  {
   "cell_type": "code",
   "execution_count": 1,
   "metadata": {},
   "outputs": [],
   "source": [
    "# General Import\n",
    "\n",
    "import pandas as pd\n",
    "import numpy as np\n",
    "import re\n",
    "import seaborn as sns\n",
    "from datetime import datetime\n",
    "\n",
    "\n",
    "#!pip install scipy\n",
    "import scipy\n",
    "pearsonr = scipy.stats.pearsonr\n",
    "\n",
    "import matplotlib.pyplot as plt \n",
    "import matplotlib.dates as mdates\n",
    "%matplotlib inline"
   ]
  },
  {
   "cell_type": "code",
   "execution_count": 2,
   "metadata": {
    "scrolled": true
   },
   "outputs": [
    {
     "data": {
      "text/html": [
       "<div>\n",
       "<style scoped>\n",
       "    .dataframe tbody tr th:only-of-type {\n",
       "        vertical-align: middle;\n",
       "    }\n",
       "\n",
       "    .dataframe tbody tr th {\n",
       "        vertical-align: top;\n",
       "    }\n",
       "\n",
       "    .dataframe thead th {\n",
       "        text-align: right;\n",
       "    }\n",
       "</style>\n",
       "<table border=\"1\" class=\"dataframe\">\n",
       "  <thead>\n",
       "    <tr style=\"text-align: right;\">\n",
       "      <th></th>\n",
       "      <th>TABLE_CATALOG</th>\n",
       "      <th>TABLE_SCHEMA</th>\n",
       "      <th>TABLE_NAME</th>\n",
       "      <th>VIEW_DEFINITION</th>\n",
       "    </tr>\n",
       "  </thead>\n",
       "  <tbody>\n",
       "    <tr>\n",
       "      <th>0</th>\n",
       "      <td>DREMIO</td>\n",
       "      <td>Covid-Lake</td>\n",
       "      <td>Disease_Indicator</td>\n",
       "      <td>SELECT createdOn, identifier, valueString, val...</td>\n",
       "    </tr>\n",
       "    <tr>\n",
       "      <th>1</th>\n",
       "      <td>DREMIO</td>\n",
       "      <td>Covid-Lake</td>\n",
       "      <td>hospitalizações</td>\n",
       "      <td>SELECT * FROM \"hospitalizacoes.csv\"</td>\n",
       "    </tr>\n",
       "    <tr>\n",
       "      <th>2</th>\n",
       "      <td>DREMIO</td>\n",
       "      <td>Covid-Lake</td>\n",
       "      <td>Institution</td>\n",
       "      <td>SELECT * FROM logical_entity</td>\n",
       "    </tr>\n",
       "    <tr>\n",
       "      <th>3</th>\n",
       "      <td>DREMIO</td>\n",
       "      <td>Covid-Lake</td>\n",
       "      <td>News&amp;Trends</td>\n",
       "      <td>SELECT * FROM logical_entity</td>\n",
       "    </tr>\n",
       "    <tr>\n",
       "      <th>4</th>\n",
       "      <td>DREMIO</td>\n",
       "      <td>Covid-Lake</td>\n",
       "      <td>Socioeconomic_Factors</td>\n",
       "      <td>SELECT createdOn, clean_data_to_FLOAT(valueStr...</td>\n",
       "    </tr>\n",
       "    <tr>\n",
       "      <th>...</th>\n",
       "      <td>...</td>\n",
       "      <td>...</td>\n",
       "      <td>...</td>\n",
       "      <td>...</td>\n",
       "    </tr>\n",
       "    <tr>\n",
       "      <th>93</th>\n",
       "      <td>DREMIO</td>\n",
       "      <td>Common Data Model.disease_indicator.wcota.stan...</td>\n",
       "      <td>Observation</td>\n",
       "      <td>SELECT \"date\" as createdOn, 'wcota' as identif...</td>\n",
       "    </tr>\n",
       "    <tr>\n",
       "      <th>94</th>\n",
       "      <td>DREMIO</td>\n",
       "      <td>Common Data Model.Institutions.hospitals_regis...</td>\n",
       "      <td>Location</td>\n",
       "      <td>SELECT CO_UNIDADE AS organizationId, \\n       ...</td>\n",
       "    </tr>\n",
       "    <tr>\n",
       "      <th>95</th>\n",
       "      <td>DREMIO</td>\n",
       "      <td>Common Data Model.Institutions.hospitals_regis...</td>\n",
       "      <td>Organization</td>\n",
       "      <td>SELECT CO_UNIDADE AS organizationId, CO_CNES A...</td>\n",
       "    </tr>\n",
       "    <tr>\n",
       "      <th>96</th>\n",
       "      <td>DREMIO</td>\n",
       "      <td>Common Data Model.news_trends.google_trends.st...</td>\n",
       "      <td>Observation</td>\n",
       "      <td>SELECT \"Date\" as createdOn, CAST(Medicamento a...</td>\n",
       "    </tr>\n",
       "    <tr>\n",
       "      <th>97</th>\n",
       "      <td>DREMIO</td>\n",
       "      <td>Common Data Model.socioeconomic_factors.ipeada...</td>\n",
       "      <td>Observation</td>\n",
       "      <td>SELECT \"DATE\" as createdOn, \"VALUE\" as valueSt...</td>\n",
       "    </tr>\n",
       "  </tbody>\n",
       "</table>\n",
       "<p>98 rows × 4 columns</p>\n",
       "</div>"
      ],
      "text/plain": [
       "   TABLE_CATALOG                                       TABLE_SCHEMA  \\\n",
       "0         DREMIO                                         Covid-Lake   \n",
       "1         DREMIO                                         Covid-Lake   \n",
       "2         DREMIO                                         Covid-Lake   \n",
       "3         DREMIO                                         Covid-Lake   \n",
       "4         DREMIO                                         Covid-Lake   \n",
       "..           ...                                                ...   \n",
       "93        DREMIO  Common Data Model.disease_indicator.wcota.stan...   \n",
       "94        DREMIO  Common Data Model.Institutions.hospitals_regis...   \n",
       "95        DREMIO  Common Data Model.Institutions.hospitals_regis...   \n",
       "96        DREMIO  Common Data Model.news_trends.google_trends.st...   \n",
       "97        DREMIO  Common Data Model.socioeconomic_factors.ipeada...   \n",
       "\n",
       "               TABLE_NAME                                    VIEW_DEFINITION  \n",
       "0       Disease_Indicator  SELECT createdOn, identifier, valueString, val...  \n",
       "1         hospitalizações                SELECT * FROM \"hospitalizacoes.csv\"  \n",
       "2             Institution                       SELECT * FROM logical_entity  \n",
       "3             News&Trends                       SELECT * FROM logical_entity  \n",
       "4   Socioeconomic_Factors  SELECT createdOn, clean_data_to_FLOAT(valueStr...  \n",
       "..                    ...                                                ...  \n",
       "93            Observation  SELECT \"date\" as createdOn, 'wcota' as identif...  \n",
       "94               Location  SELECT CO_UNIDADE AS organizationId, \\n       ...  \n",
       "95           Organization  SELECT CO_UNIDADE AS organizationId, CO_CNES A...  \n",
       "96            Observation  SELECT \"Date\" as createdOn, CAST(Medicamento a...  \n",
       "97            Observation  SELECT \"DATE\" as createdOn, \"VALUE\" as valueSt...  \n",
       "\n",
       "[98 rows x 4 columns]"
      ]
     },
     "metadata": {},
     "output_type": "display_data"
    }
   ],
   "source": [
    "%run /home/ubuntu/notebooks/covid-prj01-data-analysis/[UTILS]/dremio-access-new.py\n",
    "\n",
    "dremio = DremioQueryMakerJDBC()\n",
    "index = dremio.getIndex()\n",
    "display(index)"
   ]
  },
  {
   "cell_type": "code",
   "execution_count": 3,
   "metadata": {},
   "outputs": [
    {
     "data": {
      "text/plain": [
       "['Disease_Indicator',\n",
       " 'hospitalizações',\n",
       " 'Institution',\n",
       " 'News&Trends',\n",
       " 'Socioeconomic_Factors',\n",
       " 'brasil_io',\n",
       " 'cities',\n",
       " 'fiocruz_infogripe',\n",
       " 'google_trends',\n",
       " 'health_ministry',\n",
       " 'hospitals_dimension',\n",
       " 'mobility_apple',\n",
       " 'mobility_google',\n",
       " 'pebmed',\n",
       " 'wcota',\n",
       " 'observations',\n",
       " 'global_dataset',\n",
       " 'demandas_dos_consumidores_nip',\n",
       " 'BDCnewsCOVID',\n",
       " 'treatedBDCcompanies',\n",
       " 'treatedBDCpeople',\n",
       " 'EDUCACAO_BASICA_DOCENTES_CO',\n",
       " 'EDUCACAO_BASICA_DOCENTES_NORDESTE',\n",
       " 'EDUCACAO_BASICA_DOCENTES_NORTE',\n",
       " 'EDUCACAO_BASICA_DOCENTES_SUDESTE',\n",
       " 'EDUCACAO_BASICA_DOCENTES_SUL',\n",
       " 'EDUCACAO_BASICA_ESCOLAS',\n",
       " 'EDUCACAO_BASICA_GESTOR',\n",
       " 'EDUCACAO_BASICA_MATRICULA_CO',\n",
       " 'EDUCACAO_BASICA_MATRICULA_NORDESTE',\n",
       " 'EDUCACAO_BASICA_MATRICULA_NORTE',\n",
       " 'EDUCACAO_BASICA_MATRICULA_SUDESTE',\n",
       " 'EDUCACAO_BASICA_MATRICULA_SUL',\n",
       " 'EDUCACAO_BASICA_TURMAS',\n",
       " 'ENSINO_SUPERIOR_DM_ALUNOS',\n",
       " 'cadasto_nacional_de_estabelecimentos_de_saude_cnes',\n",
       " 'cadasto_nacional_de_estabelecimentos_de_saude_cnes_ativos',\n",
       " 'cobertura_estimada_da_populacao_residente_pelas_equipes_de_saude_bucal_da_atencao_basica',\n",
       " 'distribuicao_das_equipes_de_saude_da_familia_esf',\n",
       " 'distribuicao_de_agentes_comunitarios_de_saude_acs',\n",
       " 'distribuicao_dos_nucles_de_apoio_a_saude_da_familia_nasf',\n",
       " 'distribuicao_unidades_basicas_de_saude_em_funcionamento_ubs',\n",
       " 'distribuicao_unidaes_basicas_de_saude_existentes_ubs',\n",
       " 'numero_de_equipes_da_saude_da_familia_esf',\n",
       " 'numero_de_equipes_de_agentes_comunitarios_de_saude_acs',\n",
       " 'numero_de_unidades_basicas_de_saude_em_construcao_ubs',\n",
       " 'big-mac-source-data',\n",
       " 'casofull',\n",
       " 'cestabasica',\n",
       " 'ICCindex',\n",
       " 'IECindex',\n",
       " 'IndicadorHistoricoIPEAConsumo_Industria',\n",
       " 'IndicadorHistoricoIPEAConsumo_SetoresCNAE',\n",
       " 'IndicadorHistoricoIPEAConsumo_SetoresCNAE_Ajuste_Sazonal',\n",
       " 'IndicadorHistoricoIPEAConsumo_SetoresEconomia',\n",
       " 'IndiceAtividadeEconomicaBrasil',\n",
       " 'IpeaDadosTrabalho',\n",
       " 'capitais_serie_estimativas_tendencia_sem_filtro_febre',\n",
       " 'dados_semanais_faixa_etaria_sexo_virus',\n",
       " 'dados_semanais_faixa_etaria_sexo_virus_sem_filtro_febre',\n",
       " 'dados_semanais_faixa_etaria_sexo_virus_sem_filtro_sintomas',\n",
       " 'macsaud_serie_estimativas_tendencia_sem_filtro_febre',\n",
       " 'serie_temporal_com_estimativas_recentes',\n",
       " 'serie_temporal_com_estimativas_recentes_sem_filtro_febre',\n",
       " 'serie_temporal_com_estimativas_recentes_sem_filtro_sintomas',\n",
       " 'tabela_de_alerta_sem43e44',\n",
       " 'tabela_de_alerta_sem43e44_filtro_febre',\n",
       " 'tabela_de_alerta_sem43e44_filtro_sintomas',\n",
       " 'tabela_municipio_macsaud',\n",
       " 'valores_esperados_por_localidade',\n",
       " 'valores_esperados_por_localidade_sem_filtro_febre',\n",
       " 'ICC_historico_serie',\n",
       " 'bolsafamiliapagamentos',\n",
       " 'bolsafamiliasaques',\n",
       " 'obitos_cartorio_2019_2020',\n",
       " 'respiratory_diseases',\n",
       " 'logical_entity',\n",
       " 'physical_entity',\n",
       " 'logical_entity',\n",
       " 'physical_entity',\n",
       " 'logical_entity',\n",
       " 'physical_entity',\n",
       " 'logical_entity',\n",
       " 'physical_entity',\n",
       " 'logical_entity',\n",
       " 'physical_entity',\n",
       " 'logical_entity',\n",
       " 'physical_entity',\n",
       " 'Location',\n",
       " 'Observation',\n",
       " 'Location',\n",
       " 'Observation',\n",
       " 'Location',\n",
       " 'Observation',\n",
       " 'Location',\n",
       " 'Organization',\n",
       " 'Observation',\n",
       " 'Observation']"
      ]
     },
     "execution_count": 3,
     "metadata": {},
     "output_type": "execute_result"
    }
   ],
   "source": [
    "list(index['TABLE_NAME'])"
   ]
  },
  {
   "cell_type": "code",
   "execution_count": 4,
   "metadata": {},
   "outputs": [
    {
     "data": {
      "text/plain": [
       "74"
      ]
     },
     "execution_count": 4,
     "metadata": {},
     "output_type": "execute_result"
    }
   ],
   "source": [
    "index_table = index['TABLE_NAME'].loc[index['TABLE_NAME'] == 'obitos_cartorio_2019_2020'].index[0]\n",
    "index_table"
   ]
  },
  {
   "cell_type": "code",
   "execution_count": 67,
   "metadata": {},
   "outputs": [
    {
     "data": {
      "text/html": [
       "<div>\n",
       "<style scoped>\n",
       "    .dataframe tbody tr th:only-of-type {\n",
       "        vertical-align: middle;\n",
       "    }\n",
       "\n",
       "    .dataframe tbody tr th {\n",
       "        vertical-align: top;\n",
       "    }\n",
       "\n",
       "    .dataframe thead th {\n",
       "        text-align: right;\n",
       "    }\n",
       "</style>\n",
       "<table border=\"1\" class=\"dataframe\">\n",
       "  <thead>\n",
       "    <tr style=\"text-align: right;\">\n",
       "      <th></th>\n",
       "      <th>ano</th>\n",
       "      <th>uf</th>\n",
       "      <th>tipo_doenca</th>\n",
       "      <th>local_obito</th>\n",
       "      <th>faixa_etaria(anos)</th>\n",
       "      <th>sexo</th>\n",
       "      <th>total</th>\n",
       "    </tr>\n",
       "  </thead>\n",
       "  <tbody>\n",
       "    <tr>\n",
       "      <th>0</th>\n",
       "      <td>2019</td>\n",
       "      <td>AC</td>\n",
       "      <td>outras</td>\n",
       "      <td>domicilio</td>\n",
       "      <td>0 - 9</td>\n",
       "      <td>F</td>\n",
       "      <td>8</td>\n",
       "    </tr>\n",
       "    <tr>\n",
       "      <th>1</th>\n",
       "      <td>2019</td>\n",
       "      <td>AC</td>\n",
       "      <td>outras</td>\n",
       "      <td>domicilio</td>\n",
       "      <td>0 - 9</td>\n",
       "      <td>M</td>\n",
       "      <td>15</td>\n",
       "    </tr>\n",
       "    <tr>\n",
       "      <th>2</th>\n",
       "      <td>2019</td>\n",
       "      <td>AC</td>\n",
       "      <td>outras</td>\n",
       "      <td>hospital</td>\n",
       "      <td>0 - 9</td>\n",
       "      <td>F</td>\n",
       "      <td>29</td>\n",
       "    </tr>\n",
       "    <tr>\n",
       "      <th>3</th>\n",
       "      <td>2019</td>\n",
       "      <td>AC</td>\n",
       "      <td>outras</td>\n",
       "      <td>hospital</td>\n",
       "      <td>0 - 9</td>\n",
       "      <td>M</td>\n",
       "      <td>56</td>\n",
       "    </tr>\n",
       "    <tr>\n",
       "      <th>4</th>\n",
       "      <td>2019</td>\n",
       "      <td>AC</td>\n",
       "      <td>outras</td>\n",
       "      <td>ignorado</td>\n",
       "      <td>0 - 9</td>\n",
       "      <td>M</td>\n",
       "      <td>1</td>\n",
       "    </tr>\n",
       "  </tbody>\n",
       "</table>\n",
       "</div>"
      ],
      "text/plain": [
       "    ano  uf tipo_doenca local_obito faixa_etaria(anos) sexo  total\n",
       "0  2019  AC      outras   domicilio              0 - 9    F      8\n",
       "1  2019  AC      outras   domicilio              0 - 9    M     15\n",
       "2  2019  AC      outras    hospital              0 - 9    F     29\n",
       "3  2019  AC      outras    hospital              0 - 9    M     56\n",
       "4  2019  AC      outras    ignorado              0 - 9    M      1"
      ]
     },
     "execution_count": 67,
     "metadata": {},
     "output_type": "execute_result"
    }
   ],
   "source": [
    "obitos_cartorio = dremio.getTable(index_table)\n",
    "obitos_cartorio.head()"
   ]
  },
  {
   "cell_type": "code",
   "execution_count": 6,
   "metadata": {},
   "outputs": [
    {
     "data": {
      "text/plain": [
       "(26298, 7)"
      ]
     },
     "execution_count": 6,
     "metadata": {},
     "output_type": "execute_result"
    }
   ],
   "source": [
    "obitos_cartorio.shape"
   ]
  },
  {
   "cell_type": "code",
   "execution_count": 7,
   "metadata": {},
   "outputs": [],
   "source": [
    "# Rename date column\n",
    "#casos_full.columns = []"
   ]
  },
  {
   "cell_type": "markdown",
   "metadata": {},
   "source": [
    "## exploreEntity\n",
    "\n",
    "Presents an overview of the tables existing in the covid-lake.\n",
    "\n",
    "URL: http://23.20.157.201/api/exploreEntity"
   ]
  },
  {
   "cell_type": "markdown",
   "metadata": {},
   "source": [
    "*Each Table represents a CDM (Common Data Model) because it encompesses a set of dataset collected from different sources and mapped following a standard enitity.*"
   ]
  },
  {
   "cell_type": "markdown",
   "metadata": {},
   "source": [
    "### Let's play with Data :)"
   ]
  },
  {
   "cell_type": "markdown",
   "metadata": {},
   "source": [
    "- **Analyzing casos_full dataset**"
   ]
  },
  {
   "cell_type": "markdown",
   "metadata": {},
   "source": [
    "Checking all columns"
   ]
  },
  {
   "cell_type": "code",
   "execution_count": 8,
   "metadata": {},
   "outputs": [
    {
     "name": "stdout",
     "output_type": "stream",
     "text": [
      "Total columns: 7\n"
     ]
    }
   ],
   "source": [
    "all_columns = obitos_cartorio.columns.values.tolist()\n",
    "print('Total columns:', len(all_columns))"
   ]
  },
  {
   "cell_type": "code",
   "execution_count": 9,
   "metadata": {},
   "outputs": [
    {
     "data": {
      "text/plain": [
       "['ano',\n",
       " 'uf',\n",
       " 'tipo_doenca',\n",
       " 'local_obito',\n",
       " 'faixa_etaria(anos)',\n",
       " 'sexo',\n",
       " 'total']"
      ]
     },
     "execution_count": 9,
     "metadata": {},
     "output_type": "execute_result"
    }
   ],
   "source": [
    "all_columns"
   ]
  },
  {
   "cell_type": "markdown",
   "metadata": {},
   "source": [
    "Verifying all NAs"
   ]
  },
  {
   "cell_type": "code",
   "execution_count": 10,
   "metadata": {},
   "outputs": [
    {
     "data": {
      "text/plain": [
       "ano                      0\n",
       "uf                       0\n",
       "tipo_doenca              0\n",
       "local_obito              0\n",
       "faixa_etaria(anos)    1393\n",
       "sexo                     0\n",
       "total                    0\n",
       "dtype: int64"
      ]
     },
     "execution_count": 10,
     "metadata": {},
     "output_type": "execute_result"
    }
   ],
   "source": [
    "# count NAs per column\n",
    "obitos_cartorio.isna().sum()"
   ]
  },
  {
   "cell_type": "markdown",
   "metadata": {},
   "source": [
    "Dropping all NAs"
   ]
  },
  {
   "cell_type": "code",
   "execution_count": 15,
   "metadata": {},
   "outputs": [],
   "source": [
    "# remove columns full of NAs\n",
    "#casos_full.dropna(inplace=True)\n",
    "#casos_full.head()"
   ]
  },
  {
   "cell_type": "code",
   "execution_count": 11,
   "metadata": {},
   "outputs": [
    {
     "data": {
      "text/plain": [
       "(26298, 7)"
      ]
     },
     "execution_count": 11,
     "metadata": {},
     "output_type": "execute_result"
    }
   ],
   "source": [
    "#obitos_cartorio.shape"
   ]
  },
  {
   "cell_type": "markdown",
   "metadata": {},
   "source": [
    "Verifying the duplicated columns"
   ]
  },
  {
   "cell_type": "code",
   "execution_count": 17,
   "metadata": {},
   "outputs": [],
   "source": [
    "# drop duplicates\n",
    "#casos_full.drop_duplicates() \n",
    "# no duplicates"
   ]
  },
  {
   "cell_type": "code",
   "execution_count": 18,
   "metadata": {},
   "outputs": [
    {
     "data": {
      "text/plain": [
       "(751472, 17)"
      ]
     },
     "execution_count": 18,
     "metadata": {},
     "output_type": "execute_result"
    }
   ],
   "source": [
    "#obitos_cartorio.shape"
   ]
  },
  {
   "cell_type": "markdown",
   "metadata": {},
   "source": [
    "Shows all the data, though it runs quite slow for big datasets"
   ]
  },
  {
   "cell_type": "code",
   "execution_count": 19,
   "metadata": {},
   "outputs": [],
   "source": [
    "#force_show_all_columns(base_unif)"
   ]
  },
  {
   "cell_type": "markdown",
   "metadata": {},
   "source": [
    "Describe the dataset"
   ]
  },
  {
   "cell_type": "code",
   "execution_count": 12,
   "metadata": {},
   "outputs": [
    {
     "data": {
      "text/html": [
       "<div>\n",
       "<style scoped>\n",
       "    .dataframe tbody tr th:only-of-type {\n",
       "        vertical-align: middle;\n",
       "    }\n",
       "\n",
       "    .dataframe tbody tr th {\n",
       "        vertical-align: top;\n",
       "    }\n",
       "\n",
       "    .dataframe thead th {\n",
       "        text-align: right;\n",
       "    }\n",
       "</style>\n",
       "<table border=\"1\" class=\"dataframe\">\n",
       "  <thead>\n",
       "    <tr style=\"text-align: right;\">\n",
       "      <th></th>\n",
       "      <th>total</th>\n",
       "    </tr>\n",
       "  </thead>\n",
       "  <tbody>\n",
       "    <tr>\n",
       "      <th>count</th>\n",
       "      <td>26298.000000</td>\n",
       "    </tr>\n",
       "    <tr>\n",
       "      <th>mean</th>\n",
       "      <td>84.663434</td>\n",
       "    </tr>\n",
       "    <tr>\n",
       "      <th>std</th>\n",
       "      <td>390.039069</td>\n",
       "    </tr>\n",
       "    <tr>\n",
       "      <th>min</th>\n",
       "      <td>1.000000</td>\n",
       "    </tr>\n",
       "    <tr>\n",
       "      <th>25%</th>\n",
       "      <td>2.000000</td>\n",
       "    </tr>\n",
       "    <tr>\n",
       "      <th>50%</th>\n",
       "      <td>6.000000</td>\n",
       "    </tr>\n",
       "    <tr>\n",
       "      <th>75%</th>\n",
       "      <td>32.000000</td>\n",
       "    </tr>\n",
       "    <tr>\n",
       "      <th>max</th>\n",
       "      <td>12263.000000</td>\n",
       "    </tr>\n",
       "  </tbody>\n",
       "</table>\n",
       "</div>"
      ],
      "text/plain": [
       "              total\n",
       "count  26298.000000\n",
       "mean      84.663434\n",
       "std      390.039069\n",
       "min        1.000000\n",
       "25%        2.000000\n",
       "50%        6.000000\n",
       "75%       32.000000\n",
       "max    12263.000000"
      ]
     },
     "execution_count": 12,
     "metadata": {},
     "output_type": "execute_result"
    }
   ],
   "source": [
    "obitos_cartorio.describe()"
   ]
  },
  {
   "cell_type": "markdown",
   "metadata": {},
   "source": [
    "Describe the fields"
   ]
  },
  {
   "cell_type": "code",
   "execution_count": 13,
   "metadata": {},
   "outputs": [
    {
     "data": {
      "text/plain": [
       "['AC',\n",
       " 'AL',\n",
       " 'AM',\n",
       " 'AP',\n",
       " 'BA',\n",
       " 'CE',\n",
       " 'DF',\n",
       " 'ES',\n",
       " 'GO',\n",
       " 'MA',\n",
       " 'MG',\n",
       " 'MS',\n",
       " 'MT',\n",
       " 'PA',\n",
       " 'PB',\n",
       " 'PE',\n",
       " 'PI',\n",
       " 'PR',\n",
       " 'RJ',\n",
       " 'RN',\n",
       " 'RO',\n",
       " 'RR',\n",
       " 'RS',\n",
       " 'SC',\n",
       " 'SE',\n",
       " 'SP',\n",
       " 'TO']"
      ]
     },
     "execution_count": 13,
     "metadata": {},
     "output_type": "execute_result"
    }
   ],
   "source": [
    "list(obitos_cartorio['uf'].unique())"
   ]
  },
  {
   "cell_type": "markdown",
   "metadata": {},
   "source": [
    "Frequency of each state"
   ]
  },
  {
   "cell_type": "code",
   "execution_count": 14,
   "metadata": {},
   "outputs": [
    {
     "data": {
      "text/html": [
       "<div>\n",
       "<style scoped>\n",
       "    .dataframe tbody tr th:only-of-type {\n",
       "        vertical-align: middle;\n",
       "    }\n",
       "\n",
       "    .dataframe tbody tr th {\n",
       "        vertical-align: top;\n",
       "    }\n",
       "\n",
       "    .dataframe thead th {\n",
       "        text-align: right;\n",
       "    }\n",
       "</style>\n",
       "<table border=\"1\" class=\"dataframe\">\n",
       "  <thead>\n",
       "    <tr style=\"text-align: right;\">\n",
       "      <th></th>\n",
       "      <th>uf</th>\n",
       "      <th>freq</th>\n",
       "    </tr>\n",
       "  </thead>\n",
       "  <tbody>\n",
       "    <tr>\n",
       "      <th>25</th>\n",
       "      <td>SP</td>\n",
       "      <td>1718</td>\n",
       "    </tr>\n",
       "    <tr>\n",
       "      <th>10</th>\n",
       "      <td>MG</td>\n",
       "      <td>1463</td>\n",
       "    </tr>\n",
       "    <tr>\n",
       "      <th>5</th>\n",
       "      <td>CE</td>\n",
       "      <td>1291</td>\n",
       "    </tr>\n",
       "    <tr>\n",
       "      <th>4</th>\n",
       "      <td>BA</td>\n",
       "      <td>1288</td>\n",
       "    </tr>\n",
       "    <tr>\n",
       "      <th>15</th>\n",
       "      <td>PE</td>\n",
       "      <td>1271</td>\n",
       "    </tr>\n",
       "  </tbody>\n",
       "</table>\n",
       "</div>"
      ],
      "text/plain": [
       "    uf  freq\n",
       "25  SP  1718\n",
       "10  MG  1463\n",
       "5   CE  1291\n",
       "4   BA  1288\n",
       "15  PE  1271"
      ]
     },
     "execution_count": 14,
     "metadata": {},
     "output_type": "execute_result"
    }
   ],
   "source": [
    "# array with each count    \n",
    "counts = np.unique(obitos_cartorio['uf'], return_counts=True)\n",
    "\n",
    "# dataframe\n",
    "state_count = pd.DataFrame({'uf': counts[0], 'freq': counts[1]})\n",
    "state_count.sort_values(by=['freq'], inplace=True,ascending=False)\n",
    "state_count.head()"
   ]
  },
  {
   "cell_type": "markdown",
   "metadata": {},
   "source": [
    "Descriptive analysis"
   ]
  },
  {
   "cell_type": "code",
   "execution_count": 19,
   "metadata": {},
   "outputs": [
    {
     "name": "stdout",
     "output_type": "stream",
     "text": [
      "<class 'pandas.core.frame.DataFrame'>\n",
      "RangeIndex: 26298 entries, 0 to 26297\n",
      "Data columns (total 7 columns):\n",
      " #   Column              Non-Null Count  Dtype \n",
      "---  ------              --------------  ----- \n",
      " 0   ano                 26298 non-null  object\n",
      " 1   uf                  26298 non-null  object\n",
      " 2   tipo_doenca         26298 non-null  object\n",
      " 3   local_obito         26298 non-null  object\n",
      " 4   faixa_etaria(anos)  24905 non-null  object\n",
      " 5   sexo                26298 non-null  object\n",
      " 6   total               26298 non-null  int64 \n",
      "dtypes: int64(1), object(6)\n",
      "memory usage: 1.4+ MB\n"
     ]
    }
   ],
   "source": [
    "obitos_cartorio.info()"
   ]
  },
  {
   "cell_type": "code",
   "execution_count": 22,
   "metadata": {},
   "outputs": [
    {
     "data": {
      "text/plain": [
       "2020    14055\n",
       "2019    12239\n",
       "020         3\n",
       "019         1\n",
       "Name: ano, dtype: int64"
      ]
     },
     "execution_count": 22,
     "metadata": {},
     "output_type": "execute_result"
    }
   ],
   "source": [
    "obitos_cartorio['ano'].value_counts()"
   ]
  },
  {
   "cell_type": "code",
   "execution_count": 23,
   "metadata": {},
   "outputs": [
    {
     "data": {
      "text/plain": [
       "outras                        7462\n",
       "insuficiencia_respiratoria    4491\n",
       "pneumonia                     4434\n",
       "septicemia                    3929\n",
       "indeterminada                 2503\n",
       "covid                         1977\n",
       "srag                          1502\n",
       "Name: tipo_doenca, dtype: int64"
      ]
     },
     "execution_count": 23,
     "metadata": {},
     "output_type": "execute_result"
    }
   ],
   "source": [
    "obitos_cartorio['tipo_doenca'].value_counts()"
   ]
  },
  {
   "cell_type": "code",
   "execution_count": 24,
   "metadata": {},
   "outputs": [
    {
     "data": {
      "text/plain": [
       "hospital                 7628\n",
       "domicilio                5668\n",
       "outros_servicos_saude    4165\n",
       "outro                    3574\n",
       "ignorado                 2344\n",
       "via_publica              2262\n",
       "posto_saude               457\n",
       "ambulancia                153\n",
       "samu                       47\n",
       "Name: local_obito, dtype: int64"
      ]
     },
     "execution_count": 24,
     "metadata": {},
     "output_type": "execute_result"
    }
   ],
   "source": [
    "obitos_cartorio['local_obito'].value_counts()"
   ]
  },
  {
   "cell_type": "code",
   "execution_count": 25,
   "metadata": {},
   "outputs": [
    {
     "data": {
      "text/plain": [
       "M    13406\n",
       "F    12182\n",
       "I      707\n",
       "         3\n",
       "Name: sexo, dtype: int64"
      ]
     },
     "execution_count": 25,
     "metadata": {},
     "output_type": "execute_result"
    }
   ],
   "source": [
    "obitos_cartorio['sexo'].value_counts()"
   ]
  },
  {
   "cell_type": "code",
   "execution_count": 68,
   "metadata": {},
   "outputs": [
    {
     "data": {
      "text/plain": [
       "70 - 79    2931\n",
       "80 - 89    2877\n",
       "60 - 69    2835\n",
       "50 - 59    2623\n",
       "90 - 99    2459\n",
       "40 - 49    2358\n",
       "30 - 39    2075\n",
       "0 - 9      1924\n",
       "20 - 29    1792\n",
       "> 100      1516\n",
       "N/I        1515\n",
       "Name: faixa_etaria(anos), dtype: int64"
      ]
     },
     "execution_count": 68,
     "metadata": {},
     "output_type": "execute_result"
    }
   ],
   "source": [
    "obitos_cartorio['faixa_etaria(anos)'].value_counts()"
   ]
  },
  {
   "cell_type": "markdown",
   "metadata": {},
   "source": [
    "## Graphs"
   ]
  },
  {
   "cell_type": "code",
   "execution_count": 90,
   "metadata": {},
   "outputs": [],
   "source": [
    "df = obitos_cartorio.copy()"
   ]
  },
  {
   "cell_type": "code",
   "execution_count": 91,
   "metadata": {},
   "outputs": [
    {
     "data": {
      "image/png": "[encoded data removed]",
      "text/plain": [
       "<Figure size 1080x504 with 1 Axes>"
      ]
     },
     "metadata": {},
     "output_type": "display_data"
    }
   ],
   "source": [
    "# Missing values\n",
    "sns.heatmap(df.isnull(), yticklabels=False, cbar=False, cmap='viridis');"
   ]
  },
  {
   "cell_type": "code",
   "execution_count": 92,
   "metadata": {},
   "outputs": [
    {
     "data": {
      "text/plain": [
       "faixa_etaria(anos)    1393\n",
       "total                    0\n",
       "sexo                     0\n",
       "local_obito              0\n",
       "tipo_doenca              0\n",
       "uf                       0\n",
       "ano                      0\n",
       "dtype: int64"
      ]
     },
     "metadata": {},
     "output_type": "display_data"
    }
   ],
   "source": [
    "# For more details\n",
    "display(df.isnull().sum().sort_values(ascending=False))"
   ]
  },
  {
   "cell_type": "code",
   "execution_count": 93,
   "metadata": {},
   "outputs": [
    {
     "data": {
      "text/plain": [
       "70 - 79    2931\n",
       "N/I        2908\n",
       "80 - 89    2877\n",
       "60 - 69    2835\n",
       "50 - 59    2623\n",
       "90 - 99    2459\n",
       "40 - 49    2358\n",
       "30 - 39    2075\n",
       "0 - 9      1924\n",
       "20 - 29    1792\n",
       "> 100      1516\n",
       "Name: faixa_etaria(anos), dtype: int64"
      ]
     },
     "execution_count": 93,
     "metadata": {},
     "output_type": "execute_result"
    }
   ],
   "source": [
    "df['faixa_etaria(anos)'].fillna('N/I', inplace=True)\n",
    "df['faixa_etaria(anos)'].value_counts()"
   ]
  },
  {
   "cell_type": "code",
   "execution_count": 94,
   "metadata": {},
   "outputs": [
    {
     "data": {
      "text/plain": [
       "2020    14055\n",
       "2019    12239\n",
       "020         3\n",
       "019         1\n",
       "Name: ano, dtype: int64"
      ]
     },
     "execution_count": 94,
     "metadata": {},
     "output_type": "execute_result"
    }
   ],
   "source": [
    "df['ano'].value_counts()"
   ]
  },
  {
   "cell_type": "code",
   "execution_count": 95,
   "metadata": {},
   "outputs": [],
   "source": [
    "df['ano'].replace('020', '2020', inplace=True)\n",
    "df['ano'].replace('019', '2019', inplace=True)"
   ]
  },
  {
   "cell_type": "code",
   "execution_count": 96,
   "metadata": {},
   "outputs": [
    {
     "data": {
      "text/plain": [
       "2020    14058\n",
       "2019    12240\n",
       "Name: ano, dtype: int64"
      ]
     },
     "execution_count": 96,
     "metadata": {},
     "output_type": "execute_result"
    }
   ],
   "source": [
    "df['ano'].value_counts()"
   ]
  },
  {
   "cell_type": "code",
   "execution_count": 29,
   "metadata": {},
   "outputs": [
    {
     "data": {
      "image/png": "[encoded data removed]",
      "text/plain": [
       "<Figure size 360x360 with 6 Axes>"
      ]
     },
     "metadata": {},
     "output_type": "display_data"
    }
   ],
   "source": [
    "sns.set_style(\"ticks\")\n",
    "sns.pairplot(df);"
   ]
  },
  {
   "cell_type": "code",
   "execution_count": 56,
   "metadata": {},
   "outputs": [],
   "source": [
    "# Ajuste tamanho do gráfico\n",
    "plt.rcParams['figure.figsize'] = (15,7)"
   ]
  },
  {
   "cell_type": "code",
   "execution_count": 57,
   "metadata": {},
   "outputs": [
    {
     "data": {
      "image/png": "[encoded data removed]",
      "text/plain": [
       "<Figure size 1080x504 with 1 Axes>"
      ]
     },
     "metadata": {},
     "output_type": "display_data"
    }
   ],
   "source": [
    "plt.plot(df['uf'], df['total'], color='limegreen', linewidth=8, alpha=0.5, marker='o');"
   ]
  },
  {
   "cell_type": "markdown",
   "metadata": {},
   "source": [
    "### Cumulated distribution"
   ]
  },
  {
   "cell_type": "code",
   "execution_count": 82,
   "metadata": {},
   "outputs": [
    {
     "data": {
      "text/html": [
       "<div>\n",
       "<style scoped>\n",
       "    .dataframe tbody tr th:only-of-type {\n",
       "        vertical-align: middle;\n",
       "    }\n",
       "\n",
       "    .dataframe tbody tr th {\n",
       "        vertical-align: top;\n",
       "    }\n",
       "\n",
       "    .dataframe thead th {\n",
       "        text-align: right;\n",
       "    }\n",
       "</style>\n",
       "<table border=\"1\" class=\"dataframe\">\n",
       "  <thead>\n",
       "    <tr style=\"text-align: right;\">\n",
       "      <th></th>\n",
       "      <th>tipo_doenca</th>\n",
       "      <th>total</th>\n",
       "    </tr>\n",
       "  </thead>\n",
       "  <tbody>\n",
       "    <tr>\n",
       "      <th>0</th>\n",
       "      <td>covid</td>\n",
       "      <td>148245</td>\n",
       "    </tr>\n",
       "    <tr>\n",
       "      <th>1</th>\n",
       "      <td>indeterminada</td>\n",
       "      <td>14489</td>\n",
       "    </tr>\n",
       "    <tr>\n",
       "      <th>2</th>\n",
       "      <td>insuficiencia_respiratoria</td>\n",
       "      <td>178625</td>\n",
       "    </tr>\n",
       "    <tr>\n",
       "      <th>3</th>\n",
       "      <td>outras</td>\n",
       "      <td>1197202</td>\n",
       "    </tr>\n",
       "    <tr>\n",
       "      <th>4</th>\n",
       "      <td>pneumonia</td>\n",
       "      <td>370742</td>\n",
       "    </tr>\n",
       "    <tr>\n",
       "      <th>5</th>\n",
       "      <td>septicemia</td>\n",
       "      <td>301587</td>\n",
       "    </tr>\n",
       "    <tr>\n",
       "      <th>6</th>\n",
       "      <td>srag</td>\n",
       "      <td>15589</td>\n",
       "    </tr>\n",
       "  </tbody>\n",
       "</table>\n",
       "</div>"
      ],
      "text/plain": [
       "                  tipo_doenca    total\n",
       "0                       covid   148245\n",
       "1               indeterminada    14489\n",
       "2  insuficiencia_respiratoria   178625\n",
       "3                      outras  1197202\n",
       "4                   pneumonia   370742\n",
       "5                  septicemia   301587\n",
       "6                        srag    15589"
      ]
     },
     "execution_count": 82,
     "metadata": {},
     "output_type": "execute_result"
    }
   ],
   "source": [
    "cumulated_type = df.groupby('tipo_doenca').agg({'total': 'sum'}).reset_index()\n",
    "cumulated_type"
   ]
  },
  {
   "cell_type": "code",
   "execution_count": 83,
   "metadata": {},
   "outputs": [
    {
     "data": {
      "image/png": "[encoded data removed]",
      "text/plain": [
       "<Figure size 1080x504 with 1 Axes>"
      ]
     },
     "metadata": {},
     "output_type": "display_data"
    }
   ],
   "source": [
    "sns.barplot(x=\"tipo_doenca\", y=\"total\", data=cumulated_type);"
   ]
  },
  {
   "cell_type": "code",
   "execution_count": 84,
   "metadata": {},
   "outputs": [
    {
     "data": {
      "text/html": [
       "<div>\n",
       "<style scoped>\n",
       "    .dataframe tbody tr th:only-of-type {\n",
       "        vertical-align: middle;\n",
       "    }\n",
       "\n",
       "    .dataframe tbody tr th {\n",
       "        vertical-align: top;\n",
       "    }\n",
       "\n",
       "    .dataframe thead th {\n",
       "        text-align: right;\n",
       "    }\n",
       "</style>\n",
       "<table border=\"1\" class=\"dataframe\">\n",
       "  <thead>\n",
       "    <tr style=\"text-align: right;\">\n",
       "      <th></th>\n",
       "      <th>faixa_etaria(anos)</th>\n",
       "      <th>total</th>\n",
       "    </tr>\n",
       "  </thead>\n",
       "  <tbody>\n",
       "    <tr>\n",
       "      <th>0</th>\n",
       "      <td>0 - 9</td>\n",
       "      <td>74679</td>\n",
       "    </tr>\n",
       "    <tr>\n",
       "      <th>1</th>\n",
       "      <td>20 - 29</td>\n",
       "      <td>41302</td>\n",
       "    </tr>\n",
       "    <tr>\n",
       "      <th>2</th>\n",
       "      <td>30 - 39</td>\n",
       "      <td>68312</td>\n",
       "    </tr>\n",
       "    <tr>\n",
       "      <th>3</th>\n",
       "      <td>40 - 49</td>\n",
       "      <td>127225</td>\n",
       "    </tr>\n",
       "    <tr>\n",
       "      <th>4</th>\n",
       "      <td>50 - 59</td>\n",
       "      <td>242717</td>\n",
       "    </tr>\n",
       "    <tr>\n",
       "      <th>5</th>\n",
       "      <td>60 - 69</td>\n",
       "      <td>397083</td>\n",
       "    </tr>\n",
       "    <tr>\n",
       "      <th>6</th>\n",
       "      <td>70 - 79</td>\n",
       "      <td>480845</td>\n",
       "    </tr>\n",
       "    <tr>\n",
       "      <th>7</th>\n",
       "      <td>80 - 89</td>\n",
       "      <td>484615</td>\n",
       "    </tr>\n",
       "    <tr>\n",
       "      <th>8</th>\n",
       "      <td>90 - 99</td>\n",
       "      <td>237737</td>\n",
       "    </tr>\n",
       "    <tr>\n",
       "      <th>9</th>\n",
       "      <td>&gt; 100</td>\n",
       "      <td>23805</td>\n",
       "    </tr>\n",
       "    <tr>\n",
       "      <th>10</th>\n",
       "      <td>N/I</td>\n",
       "      <td>48159</td>\n",
       "    </tr>\n",
       "  </tbody>\n",
       "</table>\n",
       "</div>"
      ],
      "text/plain": [
       "   faixa_etaria(anos)   total\n",
       "0               0 - 9   74679\n",
       "1             20 - 29   41302\n",
       "2             30 - 39   68312\n",
       "3             40 - 49  127225\n",
       "4             50 - 59  242717\n",
       "5             60 - 69  397083\n",
       "6             70 - 79  480845\n",
       "7             80 - 89  484615\n",
       "8             90 - 99  237737\n",
       "9               > 100   23805\n",
       "10                N/I   48159"
      ]
     },
     "execution_count": 84,
     "metadata": {},
     "output_type": "execute_result"
    }
   ],
   "source": [
    "cumulated_age = df.groupby('faixa_etaria(anos)').agg({'total': 'sum'}).reset_index()\n",
    "cumulated_age"
   ]
  },
  {
   "cell_type": "code",
   "execution_count": 85,
   "metadata": {},
   "outputs": [
    {
     "data": {
      "image/png": "[encoded data removed]",
      "text/plain": [
       "<Figure size 1080x504 with 1 Axes>"
      ]
     },
     "metadata": {},
     "output_type": "display_data"
    }
   ],
   "source": [
    "sns.barplot(x=\"faixa_etaria(anos)\", y=\"total\", data=cumulated_age);"
   ]
  },
  {
   "cell_type": "code",
   "execution_count": 88,
   "metadata": {},
   "outputs": [
    {
     "data": {
      "text/html": [
       "<div>\n",
       "<style scoped>\n",
       "    .dataframe tbody tr th:only-of-type {\n",
       "        vertical-align: middle;\n",
       "    }\n",
       "\n",
       "    .dataframe tbody tr th {\n",
       "        vertical-align: top;\n",
       "    }\n",
       "\n",
       "    .dataframe thead th {\n",
       "        text-align: right;\n",
       "    }\n",
       "</style>\n",
       "<table border=\"1\" class=\"dataframe\">\n",
       "  <thead>\n",
       "    <tr style=\"text-align: right;\">\n",
       "      <th></th>\n",
       "      <th>tipo_doenca</th>\n",
       "      <th>ano</th>\n",
       "      <th>total</th>\n",
       "    </tr>\n",
       "  </thead>\n",
       "  <tbody>\n",
       "    <tr>\n",
       "      <th>0</th>\n",
       "      <td>covid</td>\n",
       "      <td>2020</td>\n",
       "      <td>148245</td>\n",
       "    </tr>\n",
       "    <tr>\n",
       "      <th>1</th>\n",
       "      <td>indeterminada</td>\n",
       "      <td>2019</td>\n",
       "      <td>6892</td>\n",
       "    </tr>\n",
       "    <tr>\n",
       "      <th>2</th>\n",
       "      <td>indeterminada</td>\n",
       "      <td>2020</td>\n",
       "      <td>7597</td>\n",
       "    </tr>\n",
       "    <tr>\n",
       "      <th>3</th>\n",
       "      <td>insuficiencia_respiratoria</td>\n",
       "      <td>2019</td>\n",
       "      <td>99272</td>\n",
       "    </tr>\n",
       "    <tr>\n",
       "      <th>4</th>\n",
       "      <td>insuficiencia_respiratoria</td>\n",
       "      <td>2020</td>\n",
       "      <td>79353</td>\n",
       "    </tr>\n",
       "    <tr>\n",
       "      <th>5</th>\n",
       "      <td>outras</td>\n",
       "      <td>2019</td>\n",
       "      <td>651725</td>\n",
       "    </tr>\n",
       "    <tr>\n",
       "      <th>6</th>\n",
       "      <td>outras</td>\n",
       "      <td>2020</td>\n",
       "      <td>545477</td>\n",
       "    </tr>\n",
       "    <tr>\n",
       "      <th>7</th>\n",
       "      <td>pneumonia</td>\n",
       "      <td>2019</td>\n",
       "      <td>224187</td>\n",
       "    </tr>\n",
       "    <tr>\n",
       "      <th>8</th>\n",
       "      <td>pneumonia</td>\n",
       "      <td>2020</td>\n",
       "      <td>146555</td>\n",
       "    </tr>\n",
       "    <tr>\n",
       "      <th>9</th>\n",
       "      <td>septicemia</td>\n",
       "      <td>2019</td>\n",
       "      <td>173468</td>\n",
       "    </tr>\n",
       "    <tr>\n",
       "      <th>10</th>\n",
       "      <td>septicemia</td>\n",
       "      <td>2020</td>\n",
       "      <td>128119</td>\n",
       "    </tr>\n",
       "    <tr>\n",
       "      <th>11</th>\n",
       "      <td>srag</td>\n",
       "      <td>2019</td>\n",
       "      <td>1481</td>\n",
       "    </tr>\n",
       "    <tr>\n",
       "      <th>12</th>\n",
       "      <td>srag</td>\n",
       "      <td>2020</td>\n",
       "      <td>14108</td>\n",
       "    </tr>\n",
       "  </tbody>\n",
       "</table>\n",
       "</div>"
      ],
      "text/plain": [
       "                   tipo_doenca   ano   total\n",
       "0                        covid  2020  148245\n",
       "1                indeterminada  2019    6892\n",
       "2                indeterminada  2020    7597\n",
       "3   insuficiencia_respiratoria  2019   99272\n",
       "4   insuficiencia_respiratoria  2020   79353\n",
       "5                       outras  2019  651725\n",
       "6                       outras  2020  545477\n",
       "7                    pneumonia  2019  224187\n",
       "8                    pneumonia  2020  146555\n",
       "9                   septicemia  2019  173468\n",
       "10                  septicemia  2020  128119\n",
       "11                        srag  2019    1481\n",
       "12                        srag  2020   14108"
      ]
     },
     "execution_count": 88,
     "metadata": {},
     "output_type": "execute_result"
    }
   ],
   "source": [
    "cumulated_year = df.groupby(['tipo_doenca', 'ano']).agg({'total': 'sum'}).reset_index()\n",
    "cumulated_year"
   ]
  },
  {
   "cell_type": "code",
   "execution_count": 89,
   "metadata": {},
   "outputs": [
    {
     "data": {
      "image/png": "[encoded data removed]",
      "text/plain": [
       "<Figure size 1080x504 with 1 Axes>"
      ]
     },
     "metadata": {},
     "output_type": "display_data"
    }
   ],
   "source": [
    "sns.barplot(x=\"tipo_doenca\", y=\"total\", hue=\"ano\", data=cumulated_year);"
   ]
  },
  {
   "cell_type": "markdown",
   "metadata": {},
   "source": [
    "### Cumulated distribution by state"
   ]
  },
  {
   "cell_type": "code",
   "execution_count": 38,
   "metadata": {},
   "outputs": [
    {
     "data": {
      "text/plain": [
       "array(['AC', 'AL', 'AM', 'AP', 'BA', 'CE', 'DF', 'ES', 'GO', 'MA', 'MG',\n",
       "       'MS', 'MT', 'PA', 'PB', 'PE', 'PI', 'PR', 'RJ', 'RN', 'RO', 'RR',\n",
       "       'RS', 'SC', 'SE', 'SP', 'TO'], dtype=object)"
      ]
     },
     "execution_count": 38,
     "metadata": {},
     "output_type": "execute_result"
    }
   ],
   "source": [
    "df.uf.unique()"
   ]
  },
  {
   "cell_type": "code",
   "execution_count": 44,
   "metadata": {},
   "outputs": [
    {
     "data": {
      "text/html": [
       "<div>\n",
       "<style scoped>\n",
       "    .dataframe tbody tr th:only-of-type {\n",
       "        vertical-align: middle;\n",
       "    }\n",
       "\n",
       "    .dataframe tbody tr th {\n",
       "        vertical-align: top;\n",
       "    }\n",
       "\n",
       "    .dataframe thead th {\n",
       "        text-align: right;\n",
       "    }\n",
       "</style>\n",
       "<table border=\"1\" class=\"dataframe\">\n",
       "  <thead>\n",
       "    <tr style=\"text-align: right;\">\n",
       "      <th></th>\n",
       "      <th>city</th>\n",
       "      <th>city_ibge_code</th>\n",
       "      <th>date</th>\n",
       "      <th>epidemiological_week</th>\n",
       "      <th>estimated_population_2019</th>\n",
       "      <th>is_last</th>\n",
       "      <th>is_repeated</th>\n",
       "      <th>last_available_confirmed</th>\n",
       "      <th>last_available_confirmed_per_100k_inhabitants</th>\n",
       "      <th>last_available_date</th>\n",
       "      <th>last_available_death_rate</th>\n",
       "      <th>last_available_deaths</th>\n",
       "      <th>order_for_place</th>\n",
       "      <th>place_type</th>\n",
       "      <th>state</th>\n",
       "      <th>new_confirmed</th>\n",
       "      <th>new_deaths</th>\n",
       "    </tr>\n",
       "  </thead>\n",
       "  <tbody>\n",
       "    <tr>\n",
       "      <th>1</th>\n",
       "      <td></td>\n",
       "      <td>35</td>\n",
       "      <td>2020-02-25</td>\n",
       "      <td>9</td>\n",
       "      <td>45919049.0</td>\n",
       "      <td>False</td>\n",
       "      <td>False</td>\n",
       "      <td>1</td>\n",
       "      <td>0.00218</td>\n",
       "      <td>2020-02-25</td>\n",
       "      <td>0.0</td>\n",
       "      <td>0</td>\n",
       "      <td>1</td>\n",
       "      <td>state</td>\n",
       "      <td>SP</td>\n",
       "      <td>1</td>\n",
       "      <td>0</td>\n",
       "    </tr>\n",
       "    <tr>\n",
       "      <th>3</th>\n",
       "      <td></td>\n",
       "      <td>35</td>\n",
       "      <td>2020-02-26</td>\n",
       "      <td>9</td>\n",
       "      <td>45919049.0</td>\n",
       "      <td>False</td>\n",
       "      <td>False</td>\n",
       "      <td>1</td>\n",
       "      <td>0.00218</td>\n",
       "      <td>2020-02-26</td>\n",
       "      <td>0.0</td>\n",
       "      <td>0</td>\n",
       "      <td>2</td>\n",
       "      <td>state</td>\n",
       "      <td>SP</td>\n",
       "      <td>0</td>\n",
       "      <td>0</td>\n",
       "    </tr>\n",
       "    <tr>\n",
       "      <th>5</th>\n",
       "      <td></td>\n",
       "      <td>35</td>\n",
       "      <td>2020-02-27</td>\n",
       "      <td>9</td>\n",
       "      <td>45919049.0</td>\n",
       "      <td>False</td>\n",
       "      <td>False</td>\n",
       "      <td>1</td>\n",
       "      <td>0.00218</td>\n",
       "      <td>2020-02-27</td>\n",
       "      <td>0.0</td>\n",
       "      <td>0</td>\n",
       "      <td>3</td>\n",
       "      <td>state</td>\n",
       "      <td>SP</td>\n",
       "      <td>0</td>\n",
       "      <td>0</td>\n",
       "    </tr>\n",
       "    <tr>\n",
       "      <th>7</th>\n",
       "      <td></td>\n",
       "      <td>35</td>\n",
       "      <td>2020-02-28</td>\n",
       "      <td>9</td>\n",
       "      <td>45919049.0</td>\n",
       "      <td>False</td>\n",
       "      <td>False</td>\n",
       "      <td>2</td>\n",
       "      <td>0.00436</td>\n",
       "      <td>2020-02-28</td>\n",
       "      <td>0.0</td>\n",
       "      <td>0</td>\n",
       "      <td>4</td>\n",
       "      <td>state</td>\n",
       "      <td>SP</td>\n",
       "      <td>1</td>\n",
       "      <td>0</td>\n",
       "    </tr>\n",
       "    <tr>\n",
       "      <th>9</th>\n",
       "      <td></td>\n",
       "      <td>35</td>\n",
       "      <td>2020-02-29</td>\n",
       "      <td>9</td>\n",
       "      <td>45919049.0</td>\n",
       "      <td>False</td>\n",
       "      <td>False</td>\n",
       "      <td>2</td>\n",
       "      <td>0.00436</td>\n",
       "      <td>2020-02-29</td>\n",
       "      <td>0.0</td>\n",
       "      <td>0</td>\n",
       "      <td>5</td>\n",
       "      <td>state</td>\n",
       "      <td>SP</td>\n",
       "      <td>0</td>\n",
       "      <td>0</td>\n",
       "    </tr>\n",
       "  </tbody>\n",
       "</table>\n",
       "</div>"
      ],
      "text/plain": [
       "  city city_ibge_code        date epidemiological_week  \\\n",
       "1                  35  2020-02-25                    9   \n",
       "3                  35  2020-02-26                    9   \n",
       "5                  35  2020-02-27                    9   \n",
       "7                  35  2020-02-28                    9   \n",
       "9                  35  2020-02-29                    9   \n",
       "\n",
       "   estimated_population_2019 is_last is_repeated last_available_confirmed  \\\n",
       "1                 45919049.0   False       False                        1   \n",
       "3                 45919049.0   False       False                        1   \n",
       "5                 45919049.0   False       False                        1   \n",
       "7                 45919049.0   False       False                        2   \n",
       "9                 45919049.0   False       False                        2   \n",
       "\n",
       "   last_available_confirmed_per_100k_inhabitants last_available_date  \\\n",
       "1                                        0.00218          2020-02-25   \n",
       "3                                        0.00218          2020-02-26   \n",
       "5                                        0.00218          2020-02-27   \n",
       "7                                        0.00436          2020-02-28   \n",
       "9                                        0.00436          2020-02-29   \n",
       "\n",
       "   last_available_death_rate  last_available_deaths order_for_place  \\\n",
       "1                        0.0                      0               1   \n",
       "3                        0.0                      0               2   \n",
       "5                        0.0                      0               3   \n",
       "7                        0.0                      0               4   \n",
       "9                        0.0                      0               5   \n",
       "\n",
       "  place_type state  new_confirmed  new_deaths  \n",
       "1      state    SP              1           0  \n",
       "3      state    SP              0           0  \n",
       "5      state    SP              0           0  \n",
       "7      state    SP              1           0  \n",
       "9      state    SP              0           0  "
      ]
     },
     "execution_count": 44,
     "metadata": {},
     "output_type": "execute_result"
    }
   ],
   "source": [
    "df.head()"
   ]
  },
  {
   "cell_type": "code",
   "execution_count": 105,
   "metadata": {},
   "outputs": [],
   "source": [
    "cumulated_year_uf = df.groupby(['tipo_doenca', 'uf', 'ano']).agg({'total': 'sum'}).reset_index()"
   ]
  },
  {
   "cell_type": "code",
   "execution_count": 108,
   "metadata": {},
   "outputs": [],
   "source": [
    "def plot_year_uf(uf):\n",
    "    uf = uf\n",
    "    data = cumulated_year_uf.query('uf == @uf')\n",
    "    sns.barplot(x=\"tipo_doenca\", y=\"total\", hue=\"ano\", data=data);\n",
    "    return "
   ]
  },
  {
   "cell_type": "code",
   "execution_count": 110,
   "metadata": {},
   "outputs": [
    {
     "data": {
      "image/png": "[encoded data removed]",
      "text/plain": [
       "<Figure size 1080x504 with 1 Axes>"
      ]
     },
     "metadata": {},
     "output_type": "display_data"
    }
   ],
   "source": [
    "plot_year_uf('BA')"
   ]
  },
  {
   "cell_type": "markdown",
   "metadata": {},
   "source": [
    "### Cumulated distribution by Helena"
   ]
  },
  {
   "cell_type": "code",
   "execution_count": 124,
   "metadata": {},
   "outputs": [
    {
     "data": {
      "text/html": [
       "<div>\n",
       "<style scoped>\n",
       "    .dataframe tbody tr th:only-of-type {\n",
       "        vertical-align: middle;\n",
       "    }\n",
       "\n",
       "    .dataframe tbody tr th {\n",
       "        vertical-align: top;\n",
       "    }\n",
       "\n",
       "    .dataframe thead th {\n",
       "        text-align: right;\n",
       "    }\n",
       "</style>\n",
       "<table border=\"1\" class=\"dataframe\">\n",
       "  <thead>\n",
       "    <tr style=\"text-align: right;\">\n",
       "      <th></th>\n",
       "      <th>tipo_doenca</th>\n",
       "      <th>ano</th>\n",
       "      <th>total</th>\n",
       "    </tr>\n",
       "  </thead>\n",
       "  <tbody>\n",
       "    <tr>\n",
       "      <th>0</th>\n",
       "      <td>insuficiencia_respiratoria</td>\n",
       "      <td>2019</td>\n",
       "      <td>74817</td>\n",
       "    </tr>\n",
       "    <tr>\n",
       "      <th>1</th>\n",
       "      <td>insuficiencia_respiratoria</td>\n",
       "      <td>2020</td>\n",
       "      <td>58810</td>\n",
       "    </tr>\n",
       "    <tr>\n",
       "      <th>2</th>\n",
       "      <td>srag</td>\n",
       "      <td>2019</td>\n",
       "      <td>761</td>\n",
       "    </tr>\n",
       "    <tr>\n",
       "      <th>3</th>\n",
       "      <td>srag</td>\n",
       "      <td>2020</td>\n",
       "      <td>10433</td>\n",
       "    </tr>\n",
       "  </tbody>\n",
       "</table>\n",
       "</div>"
      ],
      "text/plain": [
       "                  tipo_doenca   ano  total\n",
       "0  insuficiencia_respiratoria  2019  74817\n",
       "1  insuficiencia_respiratoria  2020  58810\n",
       "2                        srag  2019    761\n",
       "3                        srag  2020  10433"
      ]
     },
     "execution_count": 124,
     "metadata": {},
     "output_type": "execute_result"
    }
   ],
   "source": [
    "df_h = df.copy()\n",
    "df_h.rename(columns={'faixa_etaria(anos)' : 'faixa_etaria'}, inplace=True)\n",
    "df_h = df_h.query('tipo_doenca in (\"srag\", \"insuficiencia_respiratoria\")')\n",
    "df_h2 = df_h.query('faixa_etaria in (\"60 - 69\", \"70 - 79\", \"80 - 89\", \"90 - 99\", \"> 100\")')\n",
    "cumulated_year_h = df_h2.groupby(['tipo_doenca', 'ano']).agg({'total': 'sum'}).reset_index()\n",
    "cumulated_year_h"
   ]
  },
  {
   "cell_type": "code",
   "execution_count": 136,
   "metadata": {},
   "outputs": [
    {
     "data": {
      "image/png": "[encoded data removed]",
      "text/plain": [
       "<Figure size 1080x504 with 1 Axes>"
      ]
     },
     "metadata": {},
     "output_type": "display_data"
    }
   ],
   "source": [
    "sns.barplot(x=\"tipo_doenca\", y=\"total\", hue=\"ano\", data=cumulated_year_h)\n",
    "plt.title('Todo o BRASIL', fontsize=18, fontweight='bold', color='#333333')\n",
    "plt.show()"
   ]
  },
  {
   "cell_type": "code",
   "execution_count": 126,
   "metadata": {},
   "outputs": [
    {
     "data": {
      "text/html": [
       "<div>\n",
       "<style scoped>\n",
       "    .dataframe tbody tr th:only-of-type {\n",
       "        vertical-align: middle;\n",
       "    }\n",
       "\n",
       "    .dataframe tbody tr th {\n",
       "        vertical-align: top;\n",
       "    }\n",
       "\n",
       "    .dataframe thead th {\n",
       "        text-align: right;\n",
       "    }\n",
       "</style>\n",
       "<table border=\"1\" class=\"dataframe\">\n",
       "  <thead>\n",
       "    <tr style=\"text-align: right;\">\n",
       "      <th></th>\n",
       "      <th>tipo_doenca</th>\n",
       "      <th>uf</th>\n",
       "      <th>ano</th>\n",
       "      <th>total</th>\n",
       "    </tr>\n",
       "  </thead>\n",
       "  <tbody>\n",
       "    <tr>\n",
       "      <th>0</th>\n",
       "      <td>insuficiencia_respiratoria</td>\n",
       "      <td>AC</td>\n",
       "      <td>2019</td>\n",
       "      <td>134</td>\n",
       "    </tr>\n",
       "    <tr>\n",
       "      <th>1</th>\n",
       "      <td>insuficiencia_respiratoria</td>\n",
       "      <td>AC</td>\n",
       "      <td>2020</td>\n",
       "      <td>121</td>\n",
       "    </tr>\n",
       "    <tr>\n",
       "      <th>2</th>\n",
       "      <td>insuficiencia_respiratoria</td>\n",
       "      <td>AL</td>\n",
       "      <td>2019</td>\n",
       "      <td>1110</td>\n",
       "    </tr>\n",
       "    <tr>\n",
       "      <th>3</th>\n",
       "      <td>insuficiencia_respiratoria</td>\n",
       "      <td>AL</td>\n",
       "      <td>2020</td>\n",
       "      <td>791</td>\n",
       "    </tr>\n",
       "    <tr>\n",
       "      <th>4</th>\n",
       "      <td>insuficiencia_respiratoria</td>\n",
       "      <td>AM</td>\n",
       "      <td>2019</td>\n",
       "      <td>356</td>\n",
       "    </tr>\n",
       "    <tr>\n",
       "      <th>...</th>\n",
       "      <td>...</td>\n",
       "      <td>...</td>\n",
       "      <td>...</td>\n",
       "      <td>...</td>\n",
       "    </tr>\n",
       "    <tr>\n",
       "      <th>103</th>\n",
       "      <td>srag</td>\n",
       "      <td>SE</td>\n",
       "      <td>2020</td>\n",
       "      <td>50</td>\n",
       "    </tr>\n",
       "    <tr>\n",
       "      <th>104</th>\n",
       "      <td>srag</td>\n",
       "      <td>SP</td>\n",
       "      <td>2019</td>\n",
       "      <td>150</td>\n",
       "    </tr>\n",
       "    <tr>\n",
       "      <th>105</th>\n",
       "      <td>srag</td>\n",
       "      <td>SP</td>\n",
       "      <td>2020</td>\n",
       "      <td>1532</td>\n",
       "    </tr>\n",
       "    <tr>\n",
       "      <th>106</th>\n",
       "      <td>srag</td>\n",
       "      <td>TO</td>\n",
       "      <td>2019</td>\n",
       "      <td>5</td>\n",
       "    </tr>\n",
       "    <tr>\n",
       "      <th>107</th>\n",
       "      <td>srag</td>\n",
       "      <td>TO</td>\n",
       "      <td>2020</td>\n",
       "      <td>16</td>\n",
       "    </tr>\n",
       "  </tbody>\n",
       "</table>\n",
       "<p>108 rows × 4 columns</p>\n",
       "</div>"
      ],
      "text/plain": [
       "                    tipo_doenca  uf   ano  total\n",
       "0    insuficiencia_respiratoria  AC  2019    134\n",
       "1    insuficiencia_respiratoria  AC  2020    121\n",
       "2    insuficiencia_respiratoria  AL  2019   1110\n",
       "3    insuficiencia_respiratoria  AL  2020    791\n",
       "4    insuficiencia_respiratoria  AM  2019    356\n",
       "..                          ...  ..   ...    ...\n",
       "103                        srag  SE  2020     50\n",
       "104                        srag  SP  2019    150\n",
       "105                        srag  SP  2020   1532\n",
       "106                        srag  TO  2019      5\n",
       "107                        srag  TO  2020     16\n",
       "\n",
       "[108 rows x 4 columns]"
      ]
     },
     "execution_count": 126,
     "metadata": {},
     "output_type": "execute_result"
    }
   ],
   "source": [
    "cumulated_year_uf_h = df_h2.groupby(['tipo_doenca', 'uf', 'ano']).agg({'total': 'sum'}).reset_index()\n",
    "cumulated_year_uf_h"
   ]
  },
  {
   "cell_type": "code",
   "execution_count": 133,
   "metadata": {},
   "outputs": [],
   "source": [
    "def plot_year_uf_h(uf):\n",
    "    uf = uf\n",
    "    data = cumulated_year_uf_h.query('uf == @uf')\n",
    "    sns.barplot(x=\"tipo_doenca\", y=\"total\", hue=\"ano\", data=data)\n",
    "    plt.title('Estado de ' + uf, fontsize=18, fontweight='bold', color='#333333')\n",
    "    plt.show()\n",
    "    return "
   ]
  },
  {
   "cell_type": "code",
   "execution_count": 134,
   "metadata": {},
   "outputs": [
    {
     "data": {
      "image/png": "[encoded data removed]",
      "text/plain": [
       "<Figure size 1080x504 with 1 Axes>"
      ]
     },
     "metadata": {},
     "output_type": "display_data"
    }
   ],
   "source": [
    "plot_year_uf_h('SP')"
   ]
  },
  {
   "cell_type": "markdown",
   "metadata": {},
   "source": [
    "### Conclusion"
   ]
  },
  {
   "cell_type": "markdown",
   "metadata": {},
   "source": [
    "#### ???"
   ]
  },
  {
   "cell_type": "markdown",
   "metadata": {},
   "source": [
    "## *Developed by*"
   ]
  },
  {
   "attachments": {
    "image.png": {
     "image/png": "[encoded data removed]"
    }
   },
   "cell_type": "markdown",
   "metadata": {},
   "source": [
    " ![image.png](attachment:image.png)"
   ]
  }
 ],
 "metadata": {
  "kernelspec": {
   "display_name": "Python 3",
   "language": "python",
   "name": "python3"
  },
  "language_info": {
   "codemirror_mode": {
    "name": "ipython",
    "version": 3
   },
   "file_extension": ".py",
   "mimetype": "text/x-python",
   "name": "python",
   "nbconvert_exporter": "python",
   "pygments_lexer": "ipython3",
   "version": "3.7.3"
  }
 },
 "nbformat": 4,
 "nbformat_minor": 4
}
