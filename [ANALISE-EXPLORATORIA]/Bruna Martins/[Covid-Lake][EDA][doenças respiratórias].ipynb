{
 "cells": [
  {
   "cell_type": "markdown",
   "metadata": {},
   "source": [
    "**This notebook provide the best practices to consume covid-lake API.**"
   ]
  },
  {
   "cell_type": "code",
   "execution_count": 70,
   "metadata": {},
   "outputs": [],
   "source": [
    "# General Import\n",
    "\n",
    "import pandas as pd\n",
    "import numpy as np\n",
    "import re\n",
    "import seaborn as sns\n",
    "\n",
    "import matplotlib.pyplot as plt \n",
    "import matplotlib.dates as mdates\n",
    "%matplotlib inline\n",
    "\n",
    "#!pip install scipy\n",
    "from scipy.stats import pearsonr"
   ]
  },
  {
   "cell_type": "code",
   "execution_count": 2,
   "metadata": {},
   "outputs": [],
   "source": [
    "# Plotting functions\n",
    "%run /home/ubuntu/notebooks/covid-prj01-data-analysis/[ANALISE-EXPLORATORIA]/python_plotting_functions.ipynb"
   ]
  },
  {
   "cell_type": "code",
   "execution_count": 2,
   "metadata": {
    "jupyter": {
     "outputs_hidden": true
    },
    "scrolled": true
   },
   "outputs": [
    {
     "data": {
      "text/html": [
       "<div>\n",
       "<style scoped>\n",
       "    .dataframe tbody tr th:only-of-type {\n",
       "        vertical-align: middle;\n",
       "    }\n",
       "\n",
       "    .dataframe tbody tr th {\n",
       "        vertical-align: top;\n",
       "    }\n",
       "\n",
       "    .dataframe thead th {\n",
       "        text-align: right;\n",
       "    }\n",
       "</style>\n",
       "<table border=\"1\" class=\"dataframe\">\n",
       "  <thead>\n",
       "    <tr style=\"text-align: right;\">\n",
       "      <th></th>\n",
       "      <th>TABLE_CATALOG</th>\n",
       "      <th>TABLE_SCHEMA</th>\n",
       "      <th>TABLE_NAME</th>\n",
       "      <th>VIEW_DEFINITION</th>\n",
       "    </tr>\n",
       "  </thead>\n",
       "  <tbody>\n",
       "    <tr>\n",
       "      <th>0</th>\n",
       "      <td>DREMIO</td>\n",
       "      <td>Covid-Lake</td>\n",
       "      <td>Disease_Indicator</td>\n",
       "      <td>SELECT createdOn, identifier, valueString, val...</td>\n",
       "    </tr>\n",
       "    <tr>\n",
       "      <th>1</th>\n",
       "      <td>DREMIO</td>\n",
       "      <td>Covid-Lake</td>\n",
       "      <td>hospitalizações</td>\n",
       "      <td>SELECT * FROM \"hospitalizacoes.csv\"</td>\n",
       "    </tr>\n",
       "    <tr>\n",
       "      <th>2</th>\n",
       "      <td>DREMIO</td>\n",
       "      <td>Covid-Lake</td>\n",
       "      <td>Institution</td>\n",
       "      <td>SELECT * FROM logical_entity</td>\n",
       "    </tr>\n",
       "    <tr>\n",
       "      <th>3</th>\n",
       "      <td>DREMIO</td>\n",
       "      <td>Covid-Lake</td>\n",
       "      <td>News&amp;Trends</td>\n",
       "      <td>SELECT * FROM logical_entity</td>\n",
       "    </tr>\n",
       "    <tr>\n",
       "      <th>4</th>\n",
       "      <td>DREMIO</td>\n",
       "      <td>Covid-Lake</td>\n",
       "      <td>Socioeconomic_Factors</td>\n",
       "      <td>SELECT createdOn, clean_data_to_FLOAT(valueStr...</td>\n",
       "    </tr>\n",
       "    <tr>\n",
       "      <th>5</th>\n",
       "      <td>DREMIO</td>\n",
       "      <td>covidlake-raw</td>\n",
       "      <td>brasil_io</td>\n",
       "      <td>SELECT *\\nFROM \"brasil.io\"</td>\n",
       "    </tr>\n",
       "    <tr>\n",
       "      <th>6</th>\n",
       "      <td>DREMIO</td>\n",
       "      <td>covidlake-raw</td>\n",
       "      <td>cities</td>\n",
       "      <td>SELECT * FROM \"Base Coordenadas Brasil.parquet\"</td>\n",
       "    </tr>\n",
       "    <tr>\n",
       "      <th>7</th>\n",
       "      <td>DREMIO</td>\n",
       "      <td>covidlake-raw</td>\n",
       "      <td>fiocruz_infogripe</td>\n",
       "      <td>SELECT * FROM fiocruz_infogripe</td>\n",
       "    </tr>\n",
       "    <tr>\n",
       "      <th>8</th>\n",
       "      <td>DREMIO</td>\n",
       "      <td>covidlake-raw</td>\n",
       "      <td>google_trends</td>\n",
       "      <td>SELECT * FROM \"google_trends.parquet\"</td>\n",
       "    </tr>\n",
       "    <tr>\n",
       "      <th>9</th>\n",
       "      <td>DREMIO</td>\n",
       "      <td>covidlake-raw</td>\n",
       "      <td>health_ministry</td>\n",
       "      <td>SELECT * FROM health_ministry</td>\n",
       "    </tr>\n",
       "    <tr>\n",
       "      <th>10</th>\n",
       "      <td>DREMIO</td>\n",
       "      <td>covidlake-raw</td>\n",
       "      <td>hospitals_dimension</td>\n",
       "      <td>SELECT * FROM \"hospitals.parquet\"</td>\n",
       "    </tr>\n",
       "    <tr>\n",
       "      <th>11</th>\n",
       "      <td>DREMIO</td>\n",
       "      <td>covidlake-raw</td>\n",
       "      <td>mobility_apple</td>\n",
       "      <td>SELECT * FROM apple_mobility_trends</td>\n",
       "    </tr>\n",
       "    <tr>\n",
       "      <th>12</th>\n",
       "      <td>DREMIO</td>\n",
       "      <td>covidlake-raw</td>\n",
       "      <td>mobility_google</td>\n",
       "      <td>SELECT * FROM \"covid-raw\".mobility.google.\"Glo...</td>\n",
       "    </tr>\n",
       "    <tr>\n",
       "      <th>13</th>\n",
       "      <td>DREMIO</td>\n",
       "      <td>covidlake-raw</td>\n",
       "      <td>pebmed</td>\n",
       "      <td>SELECT * FROM pebmed</td>\n",
       "    </tr>\n",
       "    <tr>\n",
       "      <th>14</th>\n",
       "      <td>DREMIO</td>\n",
       "      <td>covidlake-raw</td>\n",
       "      <td>wcota</td>\n",
       "      <td>SELECT * FROM wcota</td>\n",
       "    </tr>\n",
       "    <tr>\n",
       "      <th>15</th>\n",
       "      <td>DREMIO</td>\n",
       "      <td>covidlake-refined</td>\n",
       "      <td>observations</td>\n",
       "      <td>SELECT \"date\" as createdOn, 'brasil.io' as ide...</td>\n",
       "    </tr>\n",
       "    <tr>\n",
       "      <th>16</th>\n",
       "      <td>DREMIO</td>\n",
       "      <td>Common Data Model.disease_indicator</td>\n",
       "      <td>global_dataset</td>\n",
       "      <td>SELECT createdOn, identifier, valueString, val...</td>\n",
       "    </tr>\n",
       "    <tr>\n",
       "      <th>17</th>\n",
       "      <td>DREMIO</td>\n",
       "      <td>covidlake-raw.ans</td>\n",
       "      <td>demandas_dos_consumidores_nip</td>\n",
       "      <td>SELECT * FROM demandas_dos_consumidores_nip</td>\n",
       "    </tr>\n",
       "    <tr>\n",
       "      <th>18</th>\n",
       "      <td>DREMIO</td>\n",
       "      <td>covidlake-raw.BigDataCorp</td>\n",
       "      <td>BDCnewsCOVID</td>\n",
       "      <td>SELECT * FROM \"BDCnewsCOVID.parquet\"</td>\n",
       "    </tr>\n",
       "    <tr>\n",
       "      <th>19</th>\n",
       "      <td>DREMIO</td>\n",
       "      <td>covidlake-raw.BigDataCorp</td>\n",
       "      <td>treatedBDCcompanies</td>\n",
       "      <td>SELECT STATE, CASE WHEN regexp_like(CASE WHEN ...</td>\n",
       "    </tr>\n",
       "    <tr>\n",
       "      <th>20</th>\n",
       "      <td>DREMIO</td>\n",
       "      <td>covidlake-raw.BigDataCorp</td>\n",
       "      <td>treatedBDCpeople</td>\n",
       "      <td>SELECT STATE, EMPLOYMENT_STABILITY_2020_01_01,...</td>\n",
       "    </tr>\n",
       "    <tr>\n",
       "      <th>21</th>\n",
       "      <td>DREMIO</td>\n",
       "      <td>covidlake-raw.datasus</td>\n",
       "      <td>cadasto_nacional_de_estabelecimentos_de_saude_...</td>\n",
       "      <td>SELECT * FROM \"cadasto_nacional_de_estabelecim...</td>\n",
       "    </tr>\n",
       "    <tr>\n",
       "      <th>22</th>\n",
       "      <td>DREMIO</td>\n",
       "      <td>covidlake-raw.datasus</td>\n",
       "      <td>cadasto_nacional_de_estabelecimentos_de_saude_...</td>\n",
       "      <td>SELECT * FROM \"cadasto_nacional_de_estabelecim...</td>\n",
       "    </tr>\n",
       "    <tr>\n",
       "      <th>23</th>\n",
       "      <td>DREMIO</td>\n",
       "      <td>covidlake-raw.datasus</td>\n",
       "      <td>cobertura_estimada_da_populacao_residente_pela...</td>\n",
       "      <td>SELECT * FROM \"cobertura_estimada_da_populacao...</td>\n",
       "    </tr>\n",
       "    <tr>\n",
       "      <th>24</th>\n",
       "      <td>DREMIO</td>\n",
       "      <td>covidlake-raw.datasus</td>\n",
       "      <td>distribuicao_das_equipes_de_saude_da_familia_esf</td>\n",
       "      <td>SELECT * FROM \"distribuicao_das_equipes_de_sau...</td>\n",
       "    </tr>\n",
       "    <tr>\n",
       "      <th>25</th>\n",
       "      <td>DREMIO</td>\n",
       "      <td>covidlake-raw.datasus</td>\n",
       "      <td>distribuicao_de_agentes_comunitarios_de_saude_acs</td>\n",
       "      <td>SELECT * FROM \"distribuicao_de_agentes_comunit...</td>\n",
       "    </tr>\n",
       "    <tr>\n",
       "      <th>26</th>\n",
       "      <td>DREMIO</td>\n",
       "      <td>covidlake-raw.datasus</td>\n",
       "      <td>distribuicao_dos_nucles_de_apoio_a_saude_da_fa...</td>\n",
       "      <td>SELECT * FROM \"distribuicao_dos_nucles_de_apoi...</td>\n",
       "    </tr>\n",
       "    <tr>\n",
       "      <th>27</th>\n",
       "      <td>DREMIO</td>\n",
       "      <td>covidlake-raw.datasus</td>\n",
       "      <td>distribuicao_unidades_basicas_de_saude_em_func...</td>\n",
       "      <td>SELECT * FROM \"distribuicao_unidades_basicas_d...</td>\n",
       "    </tr>\n",
       "    <tr>\n",
       "      <th>28</th>\n",
       "      <td>DREMIO</td>\n",
       "      <td>covidlake-raw.datasus</td>\n",
       "      <td>distribuicao_unidaes_basicas_de_saude_existent...</td>\n",
       "      <td>SELECT * FROM \"distribuicao_unidaes_basicas_de...</td>\n",
       "    </tr>\n",
       "    <tr>\n",
       "      <th>29</th>\n",
       "      <td>DREMIO</td>\n",
       "      <td>covidlake-raw.datasus</td>\n",
       "      <td>numero_de_equipes_da_saude_da_familia_esf</td>\n",
       "      <td>SELECT * FROM \"numero_de_equipes_da_saude_da_f...</td>\n",
       "    </tr>\n",
       "    <tr>\n",
       "      <th>30</th>\n",
       "      <td>DREMIO</td>\n",
       "      <td>covidlake-raw.datasus</td>\n",
       "      <td>numero_de_equipes_de_agentes_comunitarios_de_s...</td>\n",
       "      <td>SELECT * FROM \"numero_de_equipes_de_agentes_co...</td>\n",
       "    </tr>\n",
       "    <tr>\n",
       "      <th>31</th>\n",
       "      <td>DREMIO</td>\n",
       "      <td>covidlake-raw.datasus</td>\n",
       "      <td>numero_de_unidades_basicas_de_saude_em_constru...</td>\n",
       "      <td>SELECT * FROM \"numero_de_unidades_basicas_de_s...</td>\n",
       "    </tr>\n",
       "    <tr>\n",
       "      <th>32</th>\n",
       "      <td>DREMIO</td>\n",
       "      <td>covidlake-raw.EinsteinHackathon</td>\n",
       "      <td>big-mac-source-data</td>\n",
       "      <td>SELECT TO_DATE(\"big-mac-source-data-Brazil.csv...</td>\n",
       "    </tr>\n",
       "    <tr>\n",
       "      <th>33</th>\n",
       "      <td>DREMIO</td>\n",
       "      <td>covidlake-raw.EinsteinHackathon</td>\n",
       "      <td>casofull</td>\n",
       "      <td>SELECT city, city_ibge_code, TO_DATE(\"caso_ful...</td>\n",
       "    </tr>\n",
       "    <tr>\n",
       "      <th>34</th>\n",
       "      <td>DREMIO</td>\n",
       "      <td>covidlake-raw.EinsteinHackathon</td>\n",
       "      <td>cestabasica</td>\n",
       "      <td>SELECT TO_DATE(\"cestabasica.csv\".\"date\", 'DD-M...</td>\n",
       "    </tr>\n",
       "    <tr>\n",
       "      <th>35</th>\n",
       "      <td>DREMIO</td>\n",
       "      <td>covidlake-raw.EinsteinHackathon</td>\n",
       "      <td>ICCindex</td>\n",
       "      <td>SELECT TO_DATE(\"ICC_indice_confianca_consumido...</td>\n",
       "    </tr>\n",
       "    <tr>\n",
       "      <th>36</th>\n",
       "      <td>DREMIO</td>\n",
       "      <td>covidlake-raw.EinsteinHackathon</td>\n",
       "      <td>IECindex</td>\n",
       "      <td>SELECT TO_DATE(\"IEC_indice_expectativas.csv\".\"...</td>\n",
       "    </tr>\n",
       "    <tr>\n",
       "      <th>37</th>\n",
       "      <td>DREMIO</td>\n",
       "      <td>covidlake-raw.EinsteinHackathon</td>\n",
       "      <td>IndicadorHistoricoIPEAConsumo_Industria</td>\n",
       "      <td>SELECT CASE WHEN regexp_like(CASE WHEN regexp_...</td>\n",
       "    </tr>\n",
       "    <tr>\n",
       "      <th>38</th>\n",
       "      <td>DREMIO</td>\n",
       "      <td>covidlake-raw.EinsteinHackathon</td>\n",
       "      <td>IndicadorHistoricoIPEAConsumo_SetoresCNAE</td>\n",
       "      <td>SELECT CASE WHEN regexp_like(CASE WHEN regexp_...</td>\n",
       "    </tr>\n",
       "    <tr>\n",
       "      <th>39</th>\n",
       "      <td>DREMIO</td>\n",
       "      <td>covidlake-raw.EinsteinHackathon</td>\n",
       "      <td>IndicadorHistoricoIPEAConsumo_SetoresCNAE_Ajus...</td>\n",
       "      <td>SELECT CASE WHEN regexp_like(CASE WHEN regexp_...</td>\n",
       "    </tr>\n",
       "    <tr>\n",
       "      <th>40</th>\n",
       "      <td>DREMIO</td>\n",
       "      <td>covidlake-raw.EinsteinHackathon</td>\n",
       "      <td>IndicadorHistoricoIPEAConsumo_SetoresEconomia</td>\n",
       "      <td>SELECT CASE WHEN regexp_like(CASE WHEN regexp_...</td>\n",
       "    </tr>\n",
       "    <tr>\n",
       "      <th>41</th>\n",
       "      <td>DREMIO</td>\n",
       "      <td>covidlake-raw.EinsteinHackathon</td>\n",
       "      <td>IndiceAtividadeEconomicaBrasil</td>\n",
       "      <td>SELECT TO_DATE(data, 'DD/MM/YYYY', 1) AS data,...</td>\n",
       "    </tr>\n",
       "    <tr>\n",
       "      <th>42</th>\n",
       "      <td>DREMIO</td>\n",
       "      <td>covidlake-raw.EinsteinHackathon</td>\n",
       "      <td>IpeaDadosTrabalho</td>\n",
       "      <td>SELECT TO_DATE(\"ipea_dados_trabalho.csv\".\"date...</td>\n",
       "    </tr>\n",
       "    <tr>\n",
       "      <th>43</th>\n",
       "      <td>DREMIO</td>\n",
       "      <td>covidlake-raw.transparencia</td>\n",
       "      <td>bolsafamiliapagamentos</td>\n",
       "      <td>SELECT \"MES REFERENCIA\", \"ANO REFERENCIA\", CAS...</td>\n",
       "    </tr>\n",
       "    <tr>\n",
       "      <th>44</th>\n",
       "      <td>DREMIO</td>\n",
       "      <td>covidlake-raw.transparencia</td>\n",
       "      <td>bolsafamiliasaques</td>\n",
       "      <td>SELECT CASE WHEN regexp_like(CASE WHEN regexp_...</td>\n",
       "    </tr>\n",
       "    <tr>\n",
       "      <th>45</th>\n",
       "      <td>DREMIO</td>\n",
       "      <td>covidlake-raw.transparencia</td>\n",
       "      <td>obitos_cartorio_2019_2020</td>\n",
       "      <td>SELECT ano, uf, LOWER(tipo_doenca) AS tipo_doe...</td>\n",
       "    </tr>\n",
       "    <tr>\n",
       "      <th>46</th>\n",
       "      <td>DREMIO</td>\n",
       "      <td>covidlake-raw.transparencia</td>\n",
       "      <td>respiratory_diseases</td>\n",
       "      <td>SELECT city, UF, skin_color, disease, \"2020\" A...</td>\n",
       "    </tr>\n",
       "    <tr>\n",
       "      <th>47</th>\n",
       "      <td>DREMIO</td>\n",
       "      <td>Common Data Model.disease_indicator.brasil_io</td>\n",
       "      <td>logical_entity</td>\n",
       "      <td>SELECT *\\nFROM \"standard_entities\".Observation...</td>\n",
       "    </tr>\n",
       "    <tr>\n",
       "      <th>48</th>\n",
       "      <td>DREMIO</td>\n",
       "      <td>Common Data Model.disease_indicator.brasil_io</td>\n",
       "      <td>physical_entity</td>\n",
       "      <td>SELECT index, TO_CHAR(TO_DATE(nested_0.\"date\",...</td>\n",
       "    </tr>\n",
       "    <tr>\n",
       "      <th>49</th>\n",
       "      <td>DREMIO</td>\n",
       "      <td>Common Data Model.disease_indicator.health_min...</td>\n",
       "      <td>logical_entity</td>\n",
       "      <td>SELECT *\\nFROM \"standard_entities\".Observation...</td>\n",
       "    </tr>\n",
       "    <tr>\n",
       "      <th>50</th>\n",
       "      <td>DREMIO</td>\n",
       "      <td>Common Data Model.disease_indicator.health_min...</td>\n",
       "      <td>physical_entity</td>\n",
       "      <td>SELECT src2.*, location_id\\nFROM (\\n    SELECT...</td>\n",
       "    </tr>\n",
       "    <tr>\n",
       "      <th>51</th>\n",
       "      <td>DREMIO</td>\n",
       "      <td>Common Data Model.disease_indicator.wcota</td>\n",
       "      <td>logical_entity</td>\n",
       "      <td>SELECT *\\nFROM \"standard_entities\".Observation...</td>\n",
       "    </tr>\n",
       "    <tr>\n",
       "      <th>52</th>\n",
       "      <td>DREMIO</td>\n",
       "      <td>Common Data Model.disease_indicator.wcota</td>\n",
       "      <td>physical_entity</td>\n",
       "      <td>SELECT src2.*, location_id\\nFROM (\\n    SELECT...</td>\n",
       "    </tr>\n",
       "    <tr>\n",
       "      <th>53</th>\n",
       "      <td>DREMIO</td>\n",
       "      <td>Common Data Model.Institutions.hospitals_register</td>\n",
       "      <td>logical_entity</td>\n",
       "      <td>SELECT userGroupId, name, localeId, loc.*\\nFRO...</td>\n",
       "    </tr>\n",
       "    <tr>\n",
       "      <th>54</th>\n",
       "      <td>DREMIO</td>\n",
       "      <td>Common Data Model.Institutions.hospitals_register</td>\n",
       "      <td>physical_entity</td>\n",
       "      <td>SELECT nested_1.CO_UNIDADE AS CO_UNIDADE, nest...</td>\n",
       "    </tr>\n",
       "    <tr>\n",
       "      <th>55</th>\n",
       "      <td>DREMIO</td>\n",
       "      <td>Common Data Model.news_trends.google_trends</td>\n",
       "      <td>logical_entity</td>\n",
       "      <td>SELECT * FROM Observation</td>\n",
       "    </tr>\n",
       "    <tr>\n",
       "      <th>56</th>\n",
       "      <td>DREMIO</td>\n",
       "      <td>Common Data Model.news_trends.google_trends</td>\n",
       "      <td>physical_entity</td>\n",
       "      <td>SELECT * FROM \"google_trends.parquet\"</td>\n",
       "    </tr>\n",
       "    <tr>\n",
       "      <th>57</th>\n",
       "      <td>DREMIO</td>\n",
       "      <td>Common Data Model.socioeconomic_factors.ipeadata</td>\n",
       "      <td>logical_entity</td>\n",
       "      <td>SELECT * FROM Observation</td>\n",
       "    </tr>\n",
       "    <tr>\n",
       "      <th>58</th>\n",
       "      <td>DREMIO</td>\n",
       "      <td>Common Data Model.socioeconomic_factors.ipeadata</td>\n",
       "      <td>physical_entity</td>\n",
       "      <td>SELECT index, ipeadata.\"DATE\" AS \"DATE\", ipead...</td>\n",
       "    </tr>\n",
       "    <tr>\n",
       "      <th>59</th>\n",
       "      <td>DREMIO</td>\n",
       "      <td>covidlake-raw.transparencia.AuxilioEmergencial</td>\n",
       "      <td>transparencia_auxilio_emergencial_abril</td>\n",
       "      <td>SELECT * FROM \"abril_auxilio_emergencial.parquet\"</td>\n",
       "    </tr>\n",
       "  </tbody>\n",
       "</table>\n",
       "</div>"
      ],
      "text/plain": [
       "   TABLE_CATALOG                                       TABLE_SCHEMA  \\\n",
       "0         DREMIO                                         Covid-Lake   \n",
       "1         DREMIO                                         Covid-Lake   \n",
       "2         DREMIO                                         Covid-Lake   \n",
       "3         DREMIO                                         Covid-Lake   \n",
       "4         DREMIO                                         Covid-Lake   \n",
       "5         DREMIO                                      covidlake-raw   \n",
       "6         DREMIO                                      covidlake-raw   \n",
       "7         DREMIO                                      covidlake-raw   \n",
       "8         DREMIO                                      covidlake-raw   \n",
       "9         DREMIO                                      covidlake-raw   \n",
       "10        DREMIO                                      covidlake-raw   \n",
       "11        DREMIO                                      covidlake-raw   \n",
       "12        DREMIO                                      covidlake-raw   \n",
       "13        DREMIO                                      covidlake-raw   \n",
       "14        DREMIO                                      covidlake-raw   \n",
       "15        DREMIO                                  covidlake-refined   \n",
       "16        DREMIO                Common Data Model.disease_indicator   \n",
       "17        DREMIO                                  covidlake-raw.ans   \n",
       "18        DREMIO                          covidlake-raw.BigDataCorp   \n",
       "19        DREMIO                          covidlake-raw.BigDataCorp   \n",
       "20        DREMIO                          covidlake-raw.BigDataCorp   \n",
       "21        DREMIO                              covidlake-raw.datasus   \n",
       "22        DREMIO                              covidlake-raw.datasus   \n",
       "23        DREMIO                              covidlake-raw.datasus   \n",
       "24        DREMIO                              covidlake-raw.datasus   \n",
       "25        DREMIO                              covidlake-raw.datasus   \n",
       "26        DREMIO                              covidlake-raw.datasus   \n",
       "27        DREMIO                              covidlake-raw.datasus   \n",
       "28        DREMIO                              covidlake-raw.datasus   \n",
       "29        DREMIO                              covidlake-raw.datasus   \n",
       "30        DREMIO                              covidlake-raw.datasus   \n",
       "31        DREMIO                              covidlake-raw.datasus   \n",
       "32        DREMIO                    covidlake-raw.EinsteinHackathon   \n",
       "33        DREMIO                    covidlake-raw.EinsteinHackathon   \n",
       "34        DREMIO                    covidlake-raw.EinsteinHackathon   \n",
       "35        DREMIO                    covidlake-raw.EinsteinHackathon   \n",
       "36        DREMIO                    covidlake-raw.EinsteinHackathon   \n",
       "37        DREMIO                    covidlake-raw.EinsteinHackathon   \n",
       "38        DREMIO                    covidlake-raw.EinsteinHackathon   \n",
       "39        DREMIO                    covidlake-raw.EinsteinHackathon   \n",
       "40        DREMIO                    covidlake-raw.EinsteinHackathon   \n",
       "41        DREMIO                    covidlake-raw.EinsteinHackathon   \n",
       "42        DREMIO                    covidlake-raw.EinsteinHackathon   \n",
       "43        DREMIO                        covidlake-raw.transparencia   \n",
       "44        DREMIO                        covidlake-raw.transparencia   \n",
       "45        DREMIO                        covidlake-raw.transparencia   \n",
       "46        DREMIO                        covidlake-raw.transparencia   \n",
       "47        DREMIO      Common Data Model.disease_indicator.brasil_io   \n",
       "48        DREMIO      Common Data Model.disease_indicator.brasil_io   \n",
       "49        DREMIO  Common Data Model.disease_indicator.health_min...   \n",
       "50        DREMIO  Common Data Model.disease_indicator.health_min...   \n",
       "51        DREMIO          Common Data Model.disease_indicator.wcota   \n",
       "52        DREMIO          Common Data Model.disease_indicator.wcota   \n",
       "53        DREMIO  Common Data Model.Institutions.hospitals_register   \n",
       "54        DREMIO  Common Data Model.Institutions.hospitals_register   \n",
       "55        DREMIO        Common Data Model.news_trends.google_trends   \n",
       "56        DREMIO        Common Data Model.news_trends.google_trends   \n",
       "57        DREMIO   Common Data Model.socioeconomic_factors.ipeadata   \n",
       "58        DREMIO   Common Data Model.socioeconomic_factors.ipeadata   \n",
       "59        DREMIO     covidlake-raw.transparencia.AuxilioEmergencial   \n",
       "\n",
       "                                           TABLE_NAME  \\\n",
       "0                                   Disease_Indicator   \n",
       "1                                     hospitalizações   \n",
       "2                                         Institution   \n",
       "3                                         News&Trends   \n",
       "4                               Socioeconomic_Factors   \n",
       "5                                           brasil_io   \n",
       "6                                              cities   \n",
       "7                                   fiocruz_infogripe   \n",
       "8                                       google_trends   \n",
       "9                                     health_ministry   \n",
       "10                                hospitals_dimension   \n",
       "11                                     mobility_apple   \n",
       "12                                    mobility_google   \n",
       "13                                             pebmed   \n",
       "14                                              wcota   \n",
       "15                                       observations   \n",
       "16                                     global_dataset   \n",
       "17                      demandas_dos_consumidores_nip   \n",
       "18                                       BDCnewsCOVID   \n",
       "19                                treatedBDCcompanies   \n",
       "20                                   treatedBDCpeople   \n",
       "21  cadasto_nacional_de_estabelecimentos_de_saude_...   \n",
       "22  cadasto_nacional_de_estabelecimentos_de_saude_...   \n",
       "23  cobertura_estimada_da_populacao_residente_pela...   \n",
       "24   distribuicao_das_equipes_de_saude_da_familia_esf   \n",
       "25  distribuicao_de_agentes_comunitarios_de_saude_acs   \n",
       "26  distribuicao_dos_nucles_de_apoio_a_saude_da_fa...   \n",
       "27  distribuicao_unidades_basicas_de_saude_em_func...   \n",
       "28  distribuicao_unidaes_basicas_de_saude_existent...   \n",
       "29          numero_de_equipes_da_saude_da_familia_esf   \n",
       "30  numero_de_equipes_de_agentes_comunitarios_de_s...   \n",
       "31  numero_de_unidades_basicas_de_saude_em_constru...   \n",
       "32                                big-mac-source-data   \n",
       "33                                           casofull   \n",
       "34                                        cestabasica   \n",
       "35                                           ICCindex   \n",
       "36                                           IECindex   \n",
       "37            IndicadorHistoricoIPEAConsumo_Industria   \n",
       "38          IndicadorHistoricoIPEAConsumo_SetoresCNAE   \n",
       "39  IndicadorHistoricoIPEAConsumo_SetoresCNAE_Ajus...   \n",
       "40      IndicadorHistoricoIPEAConsumo_SetoresEconomia   \n",
       "41                     IndiceAtividadeEconomicaBrasil   \n",
       "42                                  IpeaDadosTrabalho   \n",
       "43                             bolsafamiliapagamentos   \n",
       "44                                 bolsafamiliasaques   \n",
       "45                          obitos_cartorio_2019_2020   \n",
       "46                               respiratory_diseases   \n",
       "47                                     logical_entity   \n",
       "48                                    physical_entity   \n",
       "49                                     logical_entity   \n",
       "50                                    physical_entity   \n",
       "51                                     logical_entity   \n",
       "52                                    physical_entity   \n",
       "53                                     logical_entity   \n",
       "54                                    physical_entity   \n",
       "55                                     logical_entity   \n",
       "56                                    physical_entity   \n",
       "57                                     logical_entity   \n",
       "58                                    physical_entity   \n",
       "59            transparencia_auxilio_emergencial_abril   \n",
       "\n",
       "                                      VIEW_DEFINITION  \n",
       "0   SELECT createdOn, identifier, valueString, val...  \n",
       "1                 SELECT * FROM \"hospitalizacoes.csv\"  \n",
       "2                        SELECT * FROM logical_entity  \n",
       "3                        SELECT * FROM logical_entity  \n",
       "4   SELECT createdOn, clean_data_to_FLOAT(valueStr...  \n",
       "5                          SELECT *\\nFROM \"brasil.io\"  \n",
       "6     SELECT * FROM \"Base Coordenadas Brasil.parquet\"  \n",
       "7                     SELECT * FROM fiocruz_infogripe  \n",
       "8               SELECT * FROM \"google_trends.parquet\"  \n",
       "9                       SELECT * FROM health_ministry  \n",
       "10                  SELECT * FROM \"hospitals.parquet\"  \n",
       "11                SELECT * FROM apple_mobility_trends  \n",
       "12  SELECT * FROM \"covid-raw\".mobility.google.\"Glo...  \n",
       "13                               SELECT * FROM pebmed  \n",
       "14                                SELECT * FROM wcota  \n",
       "15  SELECT \"date\" as createdOn, 'brasil.io' as ide...  \n",
       "16  SELECT createdOn, identifier, valueString, val...  \n",
       "17        SELECT * FROM demandas_dos_consumidores_nip  \n",
       "18               SELECT * FROM \"BDCnewsCOVID.parquet\"  \n",
       "19  SELECT STATE, CASE WHEN regexp_like(CASE WHEN ...  \n",
       "20  SELECT STATE, EMPLOYMENT_STABILITY_2020_01_01,...  \n",
       "21  SELECT * FROM \"cadasto_nacional_de_estabelecim...  \n",
       "22  SELECT * FROM \"cadasto_nacional_de_estabelecim...  \n",
       "23  SELECT * FROM \"cobertura_estimada_da_populacao...  \n",
       "24  SELECT * FROM \"distribuicao_das_equipes_de_sau...  \n",
       "25  SELECT * FROM \"distribuicao_de_agentes_comunit...  \n",
       "26  SELECT * FROM \"distribuicao_dos_nucles_de_apoi...  \n",
       "27  SELECT * FROM \"distribuicao_unidades_basicas_d...  \n",
       "28  SELECT * FROM \"distribuicao_unidaes_basicas_de...  \n",
       "29  SELECT * FROM \"numero_de_equipes_da_saude_da_f...  \n",
       "30  SELECT * FROM \"numero_de_equipes_de_agentes_co...  \n",
       "31  SELECT * FROM \"numero_de_unidades_basicas_de_s...  \n",
       "32  SELECT TO_DATE(\"big-mac-source-data-Brazil.csv...  \n",
       "33  SELECT city, city_ibge_code, TO_DATE(\"caso_ful...  \n",
       "34  SELECT TO_DATE(\"cestabasica.csv\".\"date\", 'DD-M...  \n",
       "35  SELECT TO_DATE(\"ICC_indice_confianca_consumido...  \n",
       "36  SELECT TO_DATE(\"IEC_indice_expectativas.csv\".\"...  \n",
       "37  SELECT CASE WHEN regexp_like(CASE WHEN regexp_...  \n",
       "38  SELECT CASE WHEN regexp_like(CASE WHEN regexp_...  \n",
       "39  SELECT CASE WHEN regexp_like(CASE WHEN regexp_...  \n",
       "40  SELECT CASE WHEN regexp_like(CASE WHEN regexp_...  \n",
       "41  SELECT TO_DATE(data, 'DD/MM/YYYY', 1) AS data,...  \n",
       "42  SELECT TO_DATE(\"ipea_dados_trabalho.csv\".\"date...  \n",
       "43  SELECT \"MES REFERENCIA\", \"ANO REFERENCIA\", CAS...  \n",
       "44  SELECT CASE WHEN regexp_like(CASE WHEN regexp_...  \n",
       "45  SELECT ano, uf, LOWER(tipo_doenca) AS tipo_doe...  \n",
       "46  SELECT city, UF, skin_color, disease, \"2020\" A...  \n",
       "47  SELECT *\\nFROM \"standard_entities\".Observation...  \n",
       "48  SELECT index, TO_CHAR(TO_DATE(nested_0.\"date\",...  \n",
       "49  SELECT *\\nFROM \"standard_entities\".Observation...  \n",
       "50  SELECT src2.*, location_id\\nFROM (\\n    SELECT...  \n",
       "51  SELECT *\\nFROM \"standard_entities\".Observation...  \n",
       "52  SELECT src2.*, location_id\\nFROM (\\n    SELECT...  \n",
       "53  SELECT userGroupId, name, localeId, loc.*\\nFRO...  \n",
       "54  SELECT nested_1.CO_UNIDADE AS CO_UNIDADE, nest...  \n",
       "55                          SELECT * FROM Observation  \n",
       "56              SELECT * FROM \"google_trends.parquet\"  \n",
       "57                          SELECT * FROM Observation  \n",
       "58  SELECT index, ipeadata.\"DATE\" AS \"DATE\", ipead...  \n",
       "59  SELECT * FROM \"abril_auxilio_emergencial.parquet\"  "
      ]
     },
     "execution_count": 2,
     "metadata": {},
     "output_type": "execute_result"
    }
   ],
   "source": [
    "%run /home/ubuntu/notebooks/covid-prj01-data-analysis/[UTILS]/dremio-access-new.py\n",
    "\n",
    "dremio = DremioQueryMakerJDBC()\n",
    "index = dremio.getIndex()\n",
    "index.head(60)"
   ]
  },
  {
   "cell_type": "code",
   "execution_count": 3,
   "metadata": {},
   "outputs": [],
   "source": [
    "resp = dremio.getTable(46)"
   ]
  },
  {
   "cell_type": "code",
   "execution_count": 30,
   "metadata": {},
   "outputs": [
    {
     "data": {
      "text/html": [
       "<div>\n",
       "<style scoped>\n",
       "    .dataframe tbody tr th:only-of-type {\n",
       "        vertical-align: middle;\n",
       "    }\n",
       "\n",
       "    .dataframe tbody tr th {\n",
       "        vertical-align: top;\n",
       "    }\n",
       "\n",
       "    .dataframe thead th {\n",
       "        text-align: right;\n",
       "    }\n",
       "</style>\n",
       "<table border=\"1\" class=\"dataframe\">\n",
       "  <thead>\n",
       "    <tr style=\"text-align: right;\">\n",
       "      <th></th>\n",
       "      <th>city</th>\n",
       "      <th>UF</th>\n",
       "      <th>skin_color</th>\n",
       "      <th>disease</th>\n",
       "      <th>count_in_2020</th>\n",
       "      <th>count_in_2019</th>\n",
       "      <th>created_at</th>\n",
       "      <th>__index_level_0__</th>\n",
       "    </tr>\n",
       "  </thead>\n",
       "  <tbody>\n",
       "    <tr>\n",
       "      <th>0</th>\n",
       "      <td>São Paulo</td>\n",
       "      <td>SP</td>\n",
       "      <td>AMARELA</td>\n",
       "      <td>OUTRAS</td>\n",
       "      <td>27.0</td>\n",
       "      <td>35.0</td>\n",
       "      <td>2020-08-04 19:28:00</td>\n",
       "      <td>0</td>\n",
       "    </tr>\n",
       "    <tr>\n",
       "      <th>1</th>\n",
       "      <td>São Paulo</td>\n",
       "      <td>SP</td>\n",
       "      <td>AMARELA</td>\n",
       "      <td>COVID</td>\n",
       "      <td>1.0</td>\n",
       "      <td>NaN</td>\n",
       "      <td>2020-08-04 19:28:00</td>\n",
       "      <td>1</td>\n",
       "    </tr>\n",
       "    <tr>\n",
       "      <th>2</th>\n",
       "      <td>São Paulo</td>\n",
       "      <td>SP</td>\n",
       "      <td>AMARELA</td>\n",
       "      <td>INDETERMINADA</td>\n",
       "      <td>1.0</td>\n",
       "      <td>2.0</td>\n",
       "      <td>2020-08-04 19:28:00</td>\n",
       "      <td>2</td>\n",
       "    </tr>\n",
       "    <tr>\n",
       "      <th>3</th>\n",
       "      <td>São Paulo</td>\n",
       "      <td>SP</td>\n",
       "      <td>AMARELA</td>\n",
       "      <td>PNEUMONIA</td>\n",
       "      <td>2.0</td>\n",
       "      <td>5.0</td>\n",
       "      <td>2020-08-04 19:28:00</td>\n",
       "      <td>3</td>\n",
       "    </tr>\n",
       "    <tr>\n",
       "      <th>4</th>\n",
       "      <td>São Paulo</td>\n",
       "      <td>SP</td>\n",
       "      <td>AMARELA</td>\n",
       "      <td>SRAG</td>\n",
       "      <td>2.0</td>\n",
       "      <td>NaN</td>\n",
       "      <td>2020-08-04 19:28:00</td>\n",
       "      <td>4</td>\n",
       "    </tr>\n",
       "  </tbody>\n",
       "</table>\n",
       "</div>"
      ],
      "text/plain": [
       "        city  UF skin_color        disease  count_in_2020  count_in_2019  \\\n",
       "0  São Paulo  SP    AMARELA         OUTRAS           27.0           35.0   \n",
       "1  São Paulo  SP    AMARELA          COVID            1.0            NaN   \n",
       "2  São Paulo  SP    AMARELA  INDETERMINADA            1.0            2.0   \n",
       "3  São Paulo  SP    AMARELA      PNEUMONIA            2.0            5.0   \n",
       "4  São Paulo  SP    AMARELA           SRAG            2.0            NaN   \n",
       "\n",
       "            created_at  __index_level_0__  \n",
       "0  2020-08-04 19:28:00                  0  \n",
       "1  2020-08-04 19:28:00                  1  \n",
       "2  2020-08-04 19:28:00                  2  \n",
       "3  2020-08-04 19:28:00                  3  \n",
       "4  2020-08-04 19:28:00                  4  "
      ]
     },
     "execution_count": 30,
     "metadata": {},
     "output_type": "execute_result"
    }
   ],
   "source": [
    "resp.head()"
   ]
  },
  {
   "cell_type": "code",
   "execution_count": 5,
   "metadata": {},
   "outputs": [
    {
     "data": {
      "text/plain": [
       "city                  object\n",
       "UF                    object\n",
       "skin_color            object\n",
       "disease               object\n",
       "count_in_2020        float64\n",
       "count_in_2019        float64\n",
       "created_at            object\n",
       "__index_level_0__      int64\n",
       "dtype: object"
      ]
     },
     "execution_count": 5,
     "metadata": {},
     "output_type": "execute_result"
    }
   ],
   "source": [
    "resp.dtypes"
   ]
  },
  {
   "cell_type": "code",
   "execution_count": 64,
   "metadata": {
    "scrolled": true
   },
   "outputs": [
    {
     "data": {
      "text/plain": [
       "array(['2020-08-04 19:28:00', '2020-08-04 19:29:00',\n",
       "       '2020-08-04 19:54:00', '2020-08-04 19:55:00',\n",
       "       '2020-08-04 19:56:00', '2020-08-04 19:57:00',\n",
       "       '2020-08-04 19:58:00', '2020-08-04 19:59:00',\n",
       "       '2020-08-04 20:00:00', '2020-08-04 20:01:00',\n",
       "       '2020-08-04 20:02:00', '2020-08-04 20:03:00',\n",
       "       '2020-08-04 20:04:00', '2020-08-04 20:05:00',\n",
       "       '2020-08-04 20:06:00', '2020-08-04 20:07:00',\n",
       "       '2020-08-04 20:08:00', '2020-08-04 20:09:00',\n",
       "       '2020-08-04 20:10:00', '2020-08-04 20:11:00',\n",
       "       '2020-08-04 20:12:00', '2020-08-04 20:13:00',\n",
       "       '2020-08-04 20:14:00', '2020-08-04 20:15:00',\n",
       "       '2020-08-04 20:16:00', '2020-08-04 20:17:00',\n",
       "       '2020-08-04 20:18:00', '2020-08-04 20:19:00',\n",
       "       '2020-08-04 20:20:00', '2020-08-04 20:21:00',\n",
       "       '2020-08-04 20:22:00', '2020-08-04 20:23:00',\n",
       "       '2020-08-04 20:24:00', '2020-08-04 20:25:00',\n",
       "       '2020-08-04 20:26:00', '2020-08-04 20:27:00',\n",
       "       '2020-08-04 20:28:00', '2020-08-04 20:29:00',\n",
       "       '2020-08-04 20:30:00', '2020-08-04 20:31:00',\n",
       "       '2020-08-04 20:32:00', '2020-08-04 20:33:00',\n",
       "       '2020-08-04 20:34:00', '2020-08-04 20:35:00',\n",
       "       '2020-08-04 20:36:00', '2020-08-04 20:37:00',\n",
       "       '2020-08-04 20:38:00', '2020-08-04 20:39:00',\n",
       "       '2020-08-04 20:40:00', '2020-08-04 20:41:00',\n",
       "       '2020-08-04 20:42:00', '2020-08-04 20:43:00',\n",
       "       '2020-08-04 20:44:00', '2020-08-04 20:45:00',\n",
       "       '2020-08-04 20:46:00', '2020-08-04 20:47:00',\n",
       "       '2020-08-04 20:48:00', '2020-08-04 20:49:00',\n",
       "       '2020-08-04 20:50:00', '2020-08-04 20:51:00',\n",
       "       '2020-08-04 20:52:00', '2020-08-04 20:53:00'], dtype=object)"
      ]
     },
     "execution_count": 64,
     "metadata": {},
     "output_type": "execute_result"
    }
   ],
   "source": [
    "resp.created_at.unique()"
   ]
  },
  {
   "cell_type": "code",
   "execution_count": 20,
   "metadata": {},
   "outputs": [
    {
     "data": {
      "text/html": [
       "<div>\n",
       "<style scoped>\n",
       "    .dataframe tbody tr th:only-of-type {\n",
       "        vertical-align: middle;\n",
       "    }\n",
       "\n",
       "    .dataframe tbody tr th {\n",
       "        vertical-align: top;\n",
       "    }\n",
       "\n",
       "    .dataframe thead th {\n",
       "        text-align: right;\n",
       "    }\n",
       "</style>\n",
       "<table border=\"1\" class=\"dataframe\">\n",
       "  <thead>\n",
       "    <tr style=\"text-align: right;\">\n",
       "      <th></th>\n",
       "      <th>count_in_2020</th>\n",
       "      <th>count_in_2019</th>\n",
       "      <th>__index_level_0__</th>\n",
       "    </tr>\n",
       "  </thead>\n",
       "  <tbody>\n",
       "    <tr>\n",
       "      <th>count</th>\n",
       "      <td>5170.000000</td>\n",
       "      <td>4733.000000</td>\n",
       "      <td>7804.000000</td>\n",
       "    </tr>\n",
       "    <tr>\n",
       "      <th>mean</th>\n",
       "      <td>4.150097</td>\n",
       "      <td>4.222480</td>\n",
       "      <td>0.677858</td>\n",
       "    </tr>\n",
       "    <tr>\n",
       "      <th>std</th>\n",
       "      <td>24.140178</td>\n",
       "      <td>24.877853</td>\n",
       "      <td>1.133198</td>\n",
       "    </tr>\n",
       "    <tr>\n",
       "      <th>min</th>\n",
       "      <td>1.000000</td>\n",
       "      <td>1.000000</td>\n",
       "      <td>0.000000</td>\n",
       "    </tr>\n",
       "    <tr>\n",
       "      <th>25%</th>\n",
       "      <td>1.000000</td>\n",
       "      <td>1.000000</td>\n",
       "      <td>0.000000</td>\n",
       "    </tr>\n",
       "    <tr>\n",
       "      <th>50%</th>\n",
       "      <td>1.000000</td>\n",
       "      <td>1.000000</td>\n",
       "      <td>0.000000</td>\n",
       "    </tr>\n",
       "    <tr>\n",
       "      <th>75%</th>\n",
       "      <td>3.000000</td>\n",
       "      <td>3.000000</td>\n",
       "      <td>1.000000</td>\n",
       "    </tr>\n",
       "    <tr>\n",
       "      <th>max</th>\n",
       "      <td>1218.000000</td>\n",
       "      <td>1241.000000</td>\n",
       "      <td>6.000000</td>\n",
       "    </tr>\n",
       "  </tbody>\n",
       "</table>\n",
       "</div>"
      ],
      "text/plain": [
       "       count_in_2020  count_in_2019  __index_level_0__\n",
       "count    5170.000000    4733.000000        7804.000000\n",
       "mean        4.150097       4.222480           0.677858\n",
       "std        24.140178      24.877853           1.133198\n",
       "min         1.000000       1.000000           0.000000\n",
       "25%         1.000000       1.000000           0.000000\n",
       "50%         1.000000       1.000000           0.000000\n",
       "75%         3.000000       3.000000           1.000000\n",
       "max      1218.000000    1241.000000           6.000000"
      ]
     },
     "execution_count": 20,
     "metadata": {},
     "output_type": "execute_result"
    }
   ],
   "source": [
    "resp.describe()"
   ]
  },
  {
   "cell_type": "code",
   "execution_count": 23,
   "metadata": {},
   "outputs": [
    {
     "data": {
      "text/plain": [
       "count          7804\n",
       "unique         2926\n",
       "top       São Paulo\n",
       "freq             28\n",
       "Name: city, dtype: object"
      ]
     },
     "execution_count": 23,
     "metadata": {},
     "output_type": "execute_result"
    }
   ],
   "source": [
    "resp['city'].describe()"
   ]
  },
  {
   "cell_type": "code",
   "execution_count": 24,
   "metadata": {},
   "outputs": [
    {
     "data": {
      "text/plain": [
       "count     7804\n",
       "unique      27\n",
       "top         SP\n",
       "freq      1385\n",
       "Name: UF, dtype: object"
      ]
     },
     "execution_count": 24,
     "metadata": {},
     "output_type": "execute_result"
    }
   ],
   "source": [
    "resp['UF'].describe()"
   ]
  },
  {
   "cell_type": "code",
   "execution_count": 19,
   "metadata": {},
   "outputs": [
    {
     "data": {
      "text/plain": [
       "count       7804\n",
       "unique         6\n",
       "top       BRANCA\n",
       "freq        2521\n",
       "Name: skin_color, dtype: object"
      ]
     },
     "execution_count": 19,
     "metadata": {},
     "output_type": "execute_result"
    }
   ],
   "source": [
    "resp['skin_color'].describe()"
   ]
  },
  {
   "cell_type": "code",
   "execution_count": 25,
   "metadata": {},
   "outputs": [
    {
     "data": {
      "text/plain": [
       "count       7804\n",
       "unique         7\n",
       "top       OUTRAS\n",
       "freq        4527\n",
       "Name: disease, dtype: object"
      ]
     },
     "execution_count": 25,
     "metadata": {},
     "output_type": "execute_result"
    }
   ],
   "source": [
    "resp.disease.describe() "
   ]
  },
  {
   "cell_type": "code",
   "execution_count": 27,
   "metadata": {},
   "outputs": [
    {
     "data": {
      "text/plain": [
       "count    5170.000000\n",
       "mean        4.150097\n",
       "std        24.140178\n",
       "min         1.000000\n",
       "25%         1.000000\n",
       "50%         1.000000\n",
       "75%         3.000000\n",
       "max      1218.000000\n",
       "Name: count_in_2020, dtype: float64"
      ]
     },
     "execution_count": 27,
     "metadata": {},
     "output_type": "execute_result"
    }
   ],
   "source": [
    "resp.count_in_2020.describe() "
   ]
  },
  {
   "cell_type": "code",
   "execution_count": 28,
   "metadata": {},
   "outputs": [
    {
     "data": {
      "text/plain": [
       "count    4733.000000\n",
       "mean        4.222480\n",
       "std        24.877853\n",
       "min         1.000000\n",
       "25%         1.000000\n",
       "50%         1.000000\n",
       "75%         3.000000\n",
       "max      1241.000000\n",
       "Name: count_in_2019, dtype: float64"
      ]
     },
     "execution_count": 28,
     "metadata": {},
     "output_type": "execute_result"
    }
   ],
   "source": [
    "resp.count_in_2019.describe() "
   ]
  },
  {
   "cell_type": "code",
   "execution_count": 32,
   "metadata": {},
   "outputs": [
    {
     "data": {
      "text/plain": [
       "array(['OUTRAS', 'COVID', 'INDETERMINADA', 'PNEUMONIA', 'SRAG',\n",
       "       'INSUFICIENCIA_RESPIRATORIA', 'SEPTICEMIA'], dtype=object)"
      ]
     },
     "execution_count": 32,
     "metadata": {},
     "output_type": "execute_result"
    }
   ],
   "source": [
    "resp['disease'].unique()"
   ]
  },
  {
   "cell_type": "code",
   "execution_count": 86,
   "metadata": {
    "scrolled": true
   },
   "outputs": [
    {
     "data": {
      "text/plain": [
       "UF\n",
       "MT    16.835979\n",
       "AL    11.450000\n",
       "CE     6.520388\n",
       "AM     5.857143\n",
       "RS     4.929825\n",
       "Name: count_in_2020, dtype: float64"
      ]
     },
     "execution_count": 86,
     "metadata": {},
     "output_type": "execute_result"
    }
   ],
   "source": [
    "count_mean_uf = resp.groupby(\"UF\")[\"count_in_2020\"].mean()\n",
    "count_mean_uf.sort_values(ascending=False).head(5)"
   ]
  },
  {
   "cell_type": "code",
   "execution_count": 87,
   "metadata": {},
   "outputs": [
    {
     "data": {
      "text/plain": [
       "UF\n",
       "MT    16.232558\n",
       "AM    11.409091\n",
       "AL     9.968750\n",
       "DF     6.520000\n",
       "RJ     5.248869\n",
       "Name: count_in_2019, dtype: float64"
      ]
     },
     "execution_count": 87,
     "metadata": {},
     "output_type": "execute_result"
    }
   ],
   "source": [
    "count_mean_uf19 = resp.groupby(\"UF\")[\"count_in_2019\"].mean()\n",
    "count_mean_uf19.sort_values(ascending=False).head(5)"
   ]
  },
  {
   "cell_type": "code",
   "execution_count": 68,
   "metadata": {},
   "outputs": [
    {
     "data": {
      "text/plain": [
       "city\n",
       "Cuiaba      99.280000\n",
       "Maceio      98.333333\n",
       "Parambu     84.000000\n",
       "Riachão     46.000000\n",
       "Carauari    44.000000\n",
       "Name: count_in_2020, dtype: float64"
      ]
     },
     "execution_count": 68,
     "metadata": {},
     "output_type": "execute_result"
    }
   ],
   "source": [
    "city_mean_20 = resp.groupby(\"city\")[\"count_in_2020\"].mean()\n",
    "city_mean_20.sort_values(ascending=False).head(5)"
   ]
  },
  {
   "cell_type": "code",
   "execution_count": 67,
   "metadata": {},
   "outputs": [
    {
     "data": {
      "text/plain": [
       "city\n",
       "Cuiaba            352.666667\n",
       "Maceio             66.500000\n",
       "Carauari           55.000000\n",
       "Porteiras          44.000000\n",
       "Rio de Janeiro     41.750000\n",
       "Name: count_in_2019, dtype: float64"
      ]
     },
     "execution_count": 67,
     "metadata": {},
     "output_type": "execute_result"
    }
   ],
   "source": [
    "city_mean_19 = resp.groupby(\"city\")[\"count_in_2019\"].mean()\n",
    "city_mean_19.sort_values(ascending=False).head(5)"
   ]
  },
  {
   "cell_type": "markdown",
   "metadata": {},
   "source": [
    "#### Exploring with Graphs :)"
   ]
  },
  {
   "cell_type": "code",
   "execution_count": 75,
   "metadata": {},
   "outputs": [
    {
     "data": {
      "text/plain": [
       "<matplotlib.axes._subplots.AxesSubplot at 0x7f6154d1e860>"
      ]
     },
     "execution_count": 75,
     "metadata": {},
     "output_type": "execute_result"
    },
    {
     "data": {
      "image/png": "[encoded data removed]",
      "text/plain": [
       "<Figure size 432x288 with 1 Axes>"
      ]
     },
     "metadata": {
      "needs_background": "light"
     },
     "output_type": "display_data"
    }
   ],
   "source": [
    "# Missing values\n",
    "sns.heatmap(resp.isnull(), yticklabels=False, cbar=False, cmap='viridis')"
   ]
  },
  {
   "cell_type": "code",
   "execution_count": 76,
   "metadata": {},
   "outputs": [
    {
     "data": {
      "text/plain": [
       "count_in_2019        3071\n",
       "count_in_2020        2634\n",
       "__index_level_0__       0\n",
       "created_at              0\n",
       "disease                 0\n",
       "skin_color              0\n",
       "UF                      0\n",
       "city                    0\n",
       "dtype: int64"
      ]
     },
     "metadata": {},
     "output_type": "display_data"
    }
   ],
   "source": [
    "# For more details\n",
    "display(resp.isnull().sum().sort_values(ascending=False))"
   ]
  },
  {
   "cell_type": "code",
   "execution_count": 129,
   "metadata": {},
   "outputs": [
    {
     "data": {
      "text/plain": [
       "<seaborn.axisgrid.PairGrid at 0x7f6153415160>"
      ]
     },
     "execution_count": 129,
     "metadata": {},
     "output_type": "execute_result"
    },
    {
     "data": {
      "image/png": "[encoded data removed]",
      "text/plain": [
       "<Figure size 324x324 with 12 Axes>"
      ]
     },
     "metadata": {},
     "output_type": "display_data"
    }
   ],
   "source": [
    "sns.pairplot(resp, height=1.5)"
   ]
  },
  {
   "cell_type": "code",
   "execution_count": 98,
   "metadata": {},
   "outputs": [],
   "source": [
    "d_19 = resp.groupby(\"disease\")[\"count_in_2019\"].mean()\n",
    "d_20 = resp.groupby(\"disease\")[\"count_in_2020\"].mean()"
   ]
  },
  {
   "cell_type": "code",
   "execution_count": 132,
   "metadata": {},
   "outputs": [
    {
     "data": {
      "image/png": "[encoded data removed]",
      "text/plain": [
       "<Figure size 1080x576 with 1 Axes>"
      ]
     },
     "metadata": {},
     "output_type": "display_data"
    }
   ],
   "source": [
    "d19_in = d_19.index.tolist() \n",
    "d19_val = d_19.values.tolist()\n",
    "\n",
    "ax = plt.figure(figsize=(15,8))\n",
    "ax = plt.bar(d19_in, d19_val, color='#273748')\n",
    "\n",
    "ax = plt.title(\"Mean per disease in 2019\".upper(), fontsize=14, loc=\"center\")\n",
    "\n",
    "plt.ylabel(\"Mean\".upper(), fontsize=12)\n",
    "\n",
    "plt.show();"
   ]
  },
  {
   "cell_type": "code",
   "execution_count": 133,
   "metadata": {},
   "outputs": [
    {
     "data": {
      "image/png": "[encoded data removed]",
      "text/plain": [
       "<Figure size 1080x576 with 1 Axes>"
      ]
     },
     "metadata": {},
     "output_type": "display_data"
    }
   ],
   "source": [
    "d20_in = d_20.index.tolist() \n",
    "d20_val = d_20.values.tolist()\n",
    "\n",
    "ax = plt.figure(figsize=(15,8))\n",
    "ax = plt.bar(d20_in, d20_val, color='#30522e')\n",
    "\n",
    "ax = plt.title(\"Mean per disease in 2020\".upper(), fontsize=14, loc=\"center\")\n",
    "\n",
    "plt.ylabel(\"Mean\".upper(), fontsize=12)\n",
    "\n",
    "plt.show();"
   ]
  },
  {
   "cell_type": "code",
   "execution_count": 138,
   "metadata": {},
   "outputs": [
    {
     "data": {
      "text/plain": [
       "<matplotlib.axes._subplots.AxesSubplot at 0x7f6153b82d68>"
      ]
     },
     "execution_count": 138,
     "metadata": {},
     "output_type": "execute_result"
    },
    {
     "data": {
      "image/png": "[encoded data removed]",
      "text/plain": [
       "<Figure size 1152x576 with 1 Axes>"
      ]
     },
     "metadata": {},
     "output_type": "display_data"
    }
   ],
   "source": [
    "sns.set_style(\"darkgrid\")\n",
    "plt.subplots(1, 1, figsize=(16, 8))\n",
    "sns.stripplot(x=\"disease\", y=\"count_in_2020\", data=resp)"
   ]
  },
  {
   "cell_type": "markdown",
   "metadata": {},
   "source": [
    "### Calculating percentage between 2019 and 2020 means"
   ]
  },
  {
   "cell_type": "code",
   "execution_count": 171,
   "metadata": {},
   "outputs": [
    {
     "data": {
      "text/html": [
       "<div>\n",
       "<style scoped>\n",
       "    .dataframe tbody tr th:only-of-type {\n",
       "        vertical-align: middle;\n",
       "    }\n",
       "\n",
       "    .dataframe tbody tr th {\n",
       "        vertical-align: top;\n",
       "    }\n",
       "\n",
       "    .dataframe thead th {\n",
       "        text-align: right;\n",
       "    }\n",
       "</style>\n",
       "<table border=\"1\" class=\"dataframe\">\n",
       "  <thead>\n",
       "    <tr style=\"text-align: right;\">\n",
       "      <th></th>\n",
       "      <th>disease</th>\n",
       "      <th>2020_mean</th>\n",
       "      <th>2019_mean</th>\n",
       "      <th>perc</th>\n",
       "    </tr>\n",
       "  </thead>\n",
       "  <tbody>\n",
       "    <tr>\n",
       "      <th>0</th>\n",
       "      <td>COVID</td>\n",
       "      <td>3.796339</td>\n",
       "      <td>NaN</td>\n",
       "      <td>NaN</td>\n",
       "    </tr>\n",
       "    <tr>\n",
       "      <th>1</th>\n",
       "      <td>INDETERMINADA</td>\n",
       "      <td>1.375635</td>\n",
       "      <td>1.366279</td>\n",
       "      <td>0.680082</td>\n",
       "    </tr>\n",
       "    <tr>\n",
       "      <th>2</th>\n",
       "      <td>INSUFICIENCIA_RESPIRATORIA</td>\n",
       "      <td>2.115768</td>\n",
       "      <td>2.036325</td>\n",
       "      <td>3.754838</td>\n",
       "    </tr>\n",
       "    <tr>\n",
       "      <th>3</th>\n",
       "      <td>OUTRAS</td>\n",
       "      <td>5.310874</td>\n",
       "      <td>5.121048</td>\n",
       "      <td>3.574295</td>\n",
       "    </tr>\n",
       "    <tr>\n",
       "      <th>4</th>\n",
       "      <td>PNEUMONIA</td>\n",
       "      <td>2.695312</td>\n",
       "      <td>3.129983</td>\n",
       "      <td>-16.126893</td>\n",
       "    </tr>\n",
       "    <tr>\n",
       "      <th>5</th>\n",
       "      <td>SEPTICEMIA</td>\n",
       "      <td>2.402469</td>\n",
       "      <td>2.528150</td>\n",
       "      <td>-5.231326</td>\n",
       "    </tr>\n",
       "    <tr>\n",
       "      <th>6</th>\n",
       "      <td>SRAG</td>\n",
       "      <td>1.591667</td>\n",
       "      <td>1.166667</td>\n",
       "      <td>26.701571</td>\n",
       "    </tr>\n",
       "  </tbody>\n",
       "</table>\n",
       "</div>"
      ],
      "text/plain": [
       "                      disease  2020_mean  2019_mean       perc\n",
       "0                       COVID   3.796339        NaN        NaN\n",
       "1               INDETERMINADA   1.375635   1.366279   0.680082\n",
       "2  INSUFICIENCIA_RESPIRATORIA   2.115768   2.036325   3.754838\n",
       "3                      OUTRAS   5.310874   5.121048   3.574295\n",
       "4                   PNEUMONIA   2.695312   3.129983 -16.126893\n",
       "5                  SEPTICEMIA   2.402469   2.528150  -5.231326\n",
       "6                        SRAG   1.591667   1.166667  26.701571"
      ]
     },
     "execution_count": 171,
     "metadata": {},
     "output_type": "execute_result"
    }
   ],
   "source": [
    "perc = pd.DataFrame(data=d_19.index)\n",
    "perc[\"2020_mean\"] = d_20.values\n",
    "perc[\"2019_mean\"] = d_19.values\n",
    "perc[\"perc\"] =  perc.apply(lambda row: (row.iloc[1]-row.iloc[2])/row.iloc[1]*100, axis=1)\n",
    "perc"
   ]
  },
  {
   "cell_type": "code",
   "execution_count": 175,
   "metadata": {},
   "outputs": [],
   "source": [
    "# ax = plt.figure(figsize=(15,8))\n",
    "# ax = plt.bar(perc.disease, perc.perc, color='#30522e')\n",
    "\n",
    "# ax = plt.title(\"decreasing and increseing of means per disease (2019-2020)\".upper(), fontsize=14, loc=\"center\")\n",
    "\n",
    "# plt.ylabel(\"Mean\".upper(), fontsize=12)\n",
    "\n",
    "# plt.show();\n",
    "\n",
    "##FINALIZAR "
   ]
  },
  {
   "cell_type": "markdown",
   "metadata": {},
   "source": [
    "#### Conclusion"
   ]
  },
  {
   "cell_type": "markdown",
   "metadata": {},
   "source": [
    "## *Developed by*"
   ]
  },
  {
   "attachments": {
    "image.png": {
     "image/png": "[encoded data removed]"
    }
   },
   "cell_type": "markdown",
   "metadata": {},
   "source": [
    " ![image.png](attachment:image.png)"
   ]
  }
 ],
 "metadata": {
  "kernelspec": {
   "display_name": "Python 3",
   "language": "python",
   "name": "python3"
  },
  "language_info": {
   "codemirror_mode": {
    "name": "ipython",
    "version": 3
   },
   "file_extension": ".py",
   "mimetype": "text/x-python",
   "name": "python",
   "nbconvert_exporter": "python",
   "pygments_lexer": "ipython3",
   "version": "3.7.3"
  }
 },
 "nbformat": 4,
 "nbformat_minor": 4
}
