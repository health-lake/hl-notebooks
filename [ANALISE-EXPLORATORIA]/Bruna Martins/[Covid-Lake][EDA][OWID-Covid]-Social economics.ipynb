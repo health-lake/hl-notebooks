{
 "cells": [
  {
   "cell_type": "markdown",
   "metadata": {},
   "source": [
    "**This notebook provide the best practices to consume covid-lake API.**"
   ]
  },
  {
   "cell_type": "code",
   "execution_count": 1,
   "metadata": {},
   "outputs": [],
   "source": [
    "# General Import\n",
    "\n",
    "import pandas as pd\n",
    "import numpy as np\n",
    "import re\n",
    "import seaborn as sns\n",
    "\n",
    "import matplotlib.pyplot as plt \n",
    "import matplotlib.dates as mdates\n",
    "%matplotlib inline\n",
    "\n",
    "#!pip install scipy\n",
    "from scipy.stats import pearsonr\n",
    "import requests\n",
    "import io\n",
    "import datetime\n",
    "import os\n",
    "\n",
    "import scipy.stats as stats"
   ]
  },
  {
   "cell_type": "code",
   "execution_count": 2,
   "metadata": {},
   "outputs": [],
   "source": [
    "url=\"https://covid.ourworldindata.org/data/owid-covid-data.csv\"\n",
    "s=requests.get(url).content\n",
    "df=pd.read_csv(io.StringIO(s.decode('utf-8')))"
   ]
  },
  {
   "cell_type": "code",
   "execution_count": 3,
   "metadata": {
    "jupyter": {
     "outputs_hidden": true
    },
    "scrolled": true
   },
   "outputs": [
    {
     "data": {
      "text/plain": [
       "iso_code                               object\n",
       "continent                              object\n",
       "location                               object\n",
       "date                                   object\n",
       "total_cases                           float64\n",
       "new_cases                             float64\n",
       "new_cases_smoothed                    float64\n",
       "total_deaths                          float64\n",
       "new_deaths                            float64\n",
       "new_deaths_smoothed                   float64\n",
       "total_cases_per_million               float64\n",
       "new_cases_per_million                 float64\n",
       "new_cases_smoothed_per_million        float64\n",
       "total_deaths_per_million              float64\n",
       "new_deaths_per_million                float64\n",
       "new_deaths_smoothed_per_million       float64\n",
       "reproduction_rate                     float64\n",
       "icu_patients                          float64\n",
       "icu_patients_per_million              float64\n",
       "hosp_patients                         float64\n",
       "hosp_patients_per_million             float64\n",
       "weekly_icu_admissions                 float64\n",
       "weekly_icu_admissions_per_million     float64\n",
       "weekly_hosp_admissions                float64\n",
       "weekly_hosp_admissions_per_million    float64\n",
       "total_tests                           float64\n",
       "new_tests                             float64\n",
       "total_tests_per_thousand              float64\n",
       "new_tests_per_thousand                float64\n",
       "new_tests_smoothed                    float64\n",
       "new_tests_smoothed_per_thousand       float64\n",
       "tests_per_case                        float64\n",
       "positive_rate                         float64\n",
       "tests_units                            object\n",
       "stringency_index                      float64\n",
       "population                            float64\n",
       "population_density                    float64\n",
       "median_age                            float64\n",
       "aged_65_older                         float64\n",
       "aged_70_older                         float64\n",
       "gdp_per_capita                        float64\n",
       "extreme_poverty                       float64\n",
       "cardiovasc_death_rate                 float64\n",
       "diabetes_prevalence                   float64\n",
       "female_smokers                        float64\n",
       "male_smokers                          float64\n",
       "handwashing_facilities                float64\n",
       "hospital_beds_per_thousand            float64\n",
       "life_expectancy                       float64\n",
       "human_development_index               float64\n",
       "dtype: object"
      ]
     },
     "execution_count": 3,
     "metadata": {},
     "output_type": "execute_result"
    }
   ],
   "source": [
    "df.dtypes"
   ]
  },
  {
   "cell_type": "code",
   "execution_count": 4,
   "metadata": {},
   "outputs": [
    {
     "data": {
      "text/plain": [
       "Index(['iso_code', 'continent', 'location', 'date', 'total_cases', 'new_cases',\n",
       "       'new_cases_smoothed', 'total_deaths', 'new_deaths',\n",
       "       'new_deaths_smoothed', 'total_cases_per_million',\n",
       "       'new_cases_per_million', 'new_cases_smoothed_per_million',\n",
       "       'total_deaths_per_million', 'new_deaths_per_million',\n",
       "       'new_deaths_smoothed_per_million', 'reproduction_rate', 'icu_patients',\n",
       "       'icu_patients_per_million', 'hosp_patients',\n",
       "       'hosp_patients_per_million', 'weekly_icu_admissions',\n",
       "       'weekly_icu_admissions_per_million', 'weekly_hosp_admissions',\n",
       "       'weekly_hosp_admissions_per_million', 'total_tests', 'new_tests',\n",
       "       'total_tests_per_thousand', 'new_tests_per_thousand',\n",
       "       'new_tests_smoothed', 'new_tests_smoothed_per_thousand',\n",
       "       'tests_per_case', 'positive_rate', 'tests_units', 'stringency_index',\n",
       "       'population', 'population_density', 'median_age', 'aged_65_older',\n",
       "       'aged_70_older', 'gdp_per_capita', 'extreme_poverty',\n",
       "       'cardiovasc_death_rate', 'diabetes_prevalence', 'female_smokers',\n",
       "       'male_smokers', 'handwashing_facilities', 'hospital_beds_per_thousand',\n",
       "       'life_expectancy', 'human_development_index'],\n",
       "      dtype='object')"
      ]
     },
     "execution_count": 4,
     "metadata": {},
     "output_type": "execute_result"
    }
   ],
   "source": [
    "df[\"date\"] = pd.to_datetime(df[\"date\"], format=\"%Y-%m-%d\")\n",
    "df.columns"
   ]
  },
  {
   "cell_type": "markdown",
   "metadata": {},
   "source": [
    "### Colunas a serem analisadas: \n",
    "\n",
    "stringency_index = Índice de rigidez, medida composta com base em nove indicadores de resposta, incluindo fechamento de escolas, local de trabalho fechamentos e proibições de viagens, redimensionados para um valor de 0 a 100 (100 = mais estrito). Se as políticas variam no nível subnacional, o índice é mostrado como o nível de resposta da sub-região mais restrita."
   ]
  },
  {
   "cell_type": "code",
   "execution_count": 5,
   "metadata": {
    "scrolled": true
   },
   "outputs": [
    {
     "data": {
      "text/html": [
       "<div>\n",
       "<style scoped>\n",
       "    .dataframe tbody tr th:only-of-type {\n",
       "        vertical-align: middle;\n",
       "    }\n",
       "\n",
       "    .dataframe tbody tr th {\n",
       "        vertical-align: top;\n",
       "    }\n",
       "\n",
       "    .dataframe thead th {\n",
       "        text-align: right;\n",
       "    }\n",
       "</style>\n",
       "<table border=\"1\" class=\"dataframe\">\n",
       "  <thead>\n",
       "    <tr style=\"text-align: right;\">\n",
       "      <th></th>\n",
       "      <th>total_cases_per_million</th>\n",
       "      <th>total_deaths_per_million</th>\n",
       "      <th>new_cases_per_million</th>\n",
       "      <th>new_deaths_per_million</th>\n",
       "      <th>total_tests_per_thousand</th>\n",
       "      <th>stringency_index</th>\n",
       "      <th>population_density</th>\n",
       "      <th>median_age</th>\n",
       "      <th>aged_65_older</th>\n",
       "      <th>aged_70_older</th>\n",
       "      <th>gdp_per_capita</th>\n",
       "      <th>extreme_poverty</th>\n",
       "      <th>life_expectancy</th>\n",
       "      <th>human_development_index</th>\n",
       "    </tr>\n",
       "  </thead>\n",
       "  <tbody>\n",
       "    <tr>\n",
       "      <th>count</th>\n",
       "      <td>56023.000000</td>\n",
       "      <td>46401.000000</td>\n",
       "      <td>58957.000000</td>\n",
       "      <td>58957.000000</td>\n",
       "      <td>23503.000000</td>\n",
       "      <td>48463.000000</td>\n",
       "      <td>56793.000000</td>\n",
       "      <td>53288.000000</td>\n",
       "      <td>52483.000000</td>\n",
       "      <td>53010.000000</td>\n",
       "      <td>52597.000000</td>\n",
       "      <td>35054.000000</td>\n",
       "      <td>58866.000000</td>\n",
       "      <td>51429.000000</td>\n",
       "    </tr>\n",
       "    <tr>\n",
       "      <th>mean</th>\n",
       "      <td>3511.598780</td>\n",
       "      <td>101.327429</td>\n",
       "      <td>43.422690</td>\n",
       "      <td>0.744304</td>\n",
       "      <td>87.442633</td>\n",
       "      <td>56.865433</td>\n",
       "      <td>358.689117</td>\n",
       "      <td>31.160141</td>\n",
       "      <td>9.162633</td>\n",
       "      <td>5.788600</td>\n",
       "      <td>20553.277604</td>\n",
       "      <td>12.499409</td>\n",
       "      <td>73.918564</td>\n",
       "      <td>0.721653</td>\n",
       "    </tr>\n",
       "    <tr>\n",
       "      <th>std</th>\n",
       "      <td>6937.605905</td>\n",
       "      <td>188.239970</td>\n",
       "      <td>141.285473</td>\n",
       "      <td>3.154408</td>\n",
       "      <td>176.129749</td>\n",
       "      <td>25.714960</td>\n",
       "      <td>1633.173704</td>\n",
       "      <td>9.046336</td>\n",
       "      <td>6.292971</td>\n",
       "      <td>4.292195</td>\n",
       "      <td>20281.059857</td>\n",
       "      <td>19.466108</td>\n",
       "      <td>7.399956</td>\n",
       "      <td>0.153329</td>\n",
       "    </tr>\n",
       "    <tr>\n",
       "      <th>min</th>\n",
       "      <td>0.001000</td>\n",
       "      <td>0.000000</td>\n",
       "      <td>-2212.545000</td>\n",
       "      <td>-67.901000</td>\n",
       "      <td>0.000000</td>\n",
       "      <td>0.000000</td>\n",
       "      <td>0.137000</td>\n",
       "      <td>15.100000</td>\n",
       "      <td>1.144000</td>\n",
       "      <td>0.526000</td>\n",
       "      <td>661.240000</td>\n",
       "      <td>0.100000</td>\n",
       "      <td>53.280000</td>\n",
       "      <td>0.354000</td>\n",
       "    </tr>\n",
       "    <tr>\n",
       "      <th>25%</th>\n",
       "      <td>97.502000</td>\n",
       "      <td>4.233000</td>\n",
       "      <td>0.000000</td>\n",
       "      <td>0.000000</td>\n",
       "      <td>4.374000</td>\n",
       "      <td>39.810000</td>\n",
       "      <td>37.728000</td>\n",
       "      <td>23.200000</td>\n",
       "      <td>3.548000</td>\n",
       "      <td>2.085000</td>\n",
       "      <td>5321.444000</td>\n",
       "      <td>0.500000</td>\n",
       "      <td>69.870000</td>\n",
       "      <td>0.592000</td>\n",
       "    </tr>\n",
       "    <tr>\n",
       "      <th>50%</th>\n",
       "      <td>659.371000</td>\n",
       "      <td>22.190000</td>\n",
       "      <td>2.356000</td>\n",
       "      <td>0.000000</td>\n",
       "      <td>22.707000</td>\n",
       "      <td>60.190000</td>\n",
       "      <td>88.125000</td>\n",
       "      <td>30.900000</td>\n",
       "      <td>6.933000</td>\n",
       "      <td>4.321000</td>\n",
       "      <td>13913.839000</td>\n",
       "      <td>2.000000</td>\n",
       "      <td>75.290000</td>\n",
       "      <td>0.752000</td>\n",
       "    </tr>\n",
       "    <tr>\n",
       "      <th>75%</th>\n",
       "      <td>3732.415000</td>\n",
       "      <td>101.916000</td>\n",
       "      <td>28.494000</td>\n",
       "      <td>0.317000</td>\n",
       "      <td>93.619500</td>\n",
       "      <td>77.780000</td>\n",
       "      <td>214.243000</td>\n",
       "      <td>39.700000</td>\n",
       "      <td>14.738000</td>\n",
       "      <td>9.395000</td>\n",
       "      <td>30155.152000</td>\n",
       "      <td>18.800000</td>\n",
       "      <td>79.380000</td>\n",
       "      <td>0.847000</td>\n",
       "    </tr>\n",
       "    <tr>\n",
       "      <th>max</th>\n",
       "      <td>86326.280000</td>\n",
       "      <td>1411.522000</td>\n",
       "      <td>8652.658000</td>\n",
       "      <td>215.382000</td>\n",
       "      <td>2157.180000</td>\n",
       "      <td>100.000000</td>\n",
       "      <td>19347.500000</td>\n",
       "      <td>48.200000</td>\n",
       "      <td>27.049000</td>\n",
       "      <td>18.493000</td>\n",
       "      <td>116935.600000</td>\n",
       "      <td>77.600000</td>\n",
       "      <td>86.750000</td>\n",
       "      <td>0.953000</td>\n",
       "    </tr>\n",
       "  </tbody>\n",
       "</table>\n",
       "</div>"
      ],
      "text/plain": [
       "       total_cases_per_million  total_deaths_per_million  \\\n",
       "count             56023.000000              46401.000000   \n",
       "mean               3511.598780                101.327429   \n",
       "std                6937.605905                188.239970   \n",
       "min                   0.001000                  0.000000   \n",
       "25%                  97.502000                  4.233000   \n",
       "50%                 659.371000                 22.190000   \n",
       "75%                3732.415000                101.916000   \n",
       "max               86326.280000               1411.522000   \n",
       "\n",
       "       new_cases_per_million  new_deaths_per_million  \\\n",
       "count           58957.000000            58957.000000   \n",
       "mean               43.422690                0.744304   \n",
       "std               141.285473                3.154408   \n",
       "min             -2212.545000              -67.901000   \n",
       "25%                 0.000000                0.000000   \n",
       "50%                 2.356000                0.000000   \n",
       "75%                28.494000                0.317000   \n",
       "max              8652.658000              215.382000   \n",
       "\n",
       "       total_tests_per_thousand  stringency_index  population_density  \\\n",
       "count              23503.000000      48463.000000        56793.000000   \n",
       "mean                  87.442633         56.865433          358.689117   \n",
       "std                  176.129749         25.714960         1633.173704   \n",
       "min                    0.000000          0.000000            0.137000   \n",
       "25%                    4.374000         39.810000           37.728000   \n",
       "50%                   22.707000         60.190000           88.125000   \n",
       "75%                   93.619500         77.780000          214.243000   \n",
       "max                 2157.180000        100.000000        19347.500000   \n",
       "\n",
       "         median_age  aged_65_older  aged_70_older  gdp_per_capita  \\\n",
       "count  53288.000000   52483.000000   53010.000000    52597.000000   \n",
       "mean      31.160141       9.162633       5.788600    20553.277604   \n",
       "std        9.046336       6.292971       4.292195    20281.059857   \n",
       "min       15.100000       1.144000       0.526000      661.240000   \n",
       "25%       23.200000       3.548000       2.085000     5321.444000   \n",
       "50%       30.900000       6.933000       4.321000    13913.839000   \n",
       "75%       39.700000      14.738000       9.395000    30155.152000   \n",
       "max       48.200000      27.049000      18.493000   116935.600000   \n",
       "\n",
       "       extreme_poverty  life_expectancy  human_development_index  \n",
       "count     35054.000000     58866.000000             51429.000000  \n",
       "mean         12.499409        73.918564                 0.721653  \n",
       "std          19.466108         7.399956                 0.153329  \n",
       "min           0.100000        53.280000                 0.354000  \n",
       "25%           0.500000        69.870000                 0.592000  \n",
       "50%           2.000000        75.290000                 0.752000  \n",
       "75%          18.800000        79.380000                 0.847000  \n",
       "max          77.600000        86.750000                 0.953000  "
      ]
     },
     "execution_count": 5,
     "metadata": {},
     "output_type": "execute_result"
    }
   ],
   "source": [
    "df2 = df[['date', 'location', 'total_cases_per_million', 'total_deaths_per_million', 'new_cases_per_million', 'new_deaths_per_million', \n",
    "          'total_tests_per_thousand', 'stringency_index', 'population_density', 'median_age', 'aged_65_older',\n",
    "          'aged_70_older', 'gdp_per_capita', 'extreme_poverty', 'life_expectancy', 'human_development_index']]\n",
    "\n",
    "df2.describe()"
   ]
  },
  {
   "cell_type": "code",
   "execution_count": 6,
   "metadata": {
    "scrolled": false
   },
   "outputs": [
    {
     "data": {
      "text/html": [
       "<style  type=\"text/css\" >\n",
       "    #T_ac655b8c_3246_11eb_bbec_833b75007731row0_col0 {\n",
       "            background-color:  #08306b;\n",
       "            color:  #f1f1f1;\n",
       "        }    #T_ac655b8c_3246_11eb_bbec_833b75007731row0_col1 {\n",
       "            background-color:  #2a7ab9;\n",
       "            color:  #000000;\n",
       "        }    #T_ac655b8c_3246_11eb_bbec_833b75007731row0_col2 {\n",
       "            background-color:  #4896c8;\n",
       "            color:  #000000;\n",
       "        }    #T_ac655b8c_3246_11eb_bbec_833b75007731row0_col3 {\n",
       "            background-color:  #9cc9e1;\n",
       "            color:  #000000;\n",
       "        }    #T_ac655b8c_3246_11eb_bbec_833b75007731row0_col4 {\n",
       "            background-color:  #3f8fc5;\n",
       "            color:  #000000;\n",
       "        }    #T_ac655b8c_3246_11eb_bbec_833b75007731row0_col5 {\n",
       "            background-color:  #d0e2f2;\n",
       "            color:  #000000;\n",
       "        }    #T_ac655b8c_3246_11eb_bbec_833b75007731row0_col6 {\n",
       "            background-color:  #e0ecf8;\n",
       "            color:  #000000;\n",
       "        }    #T_ac655b8c_3246_11eb_bbec_833b75007731row0_col7 {\n",
       "            background-color:  #5fa6d1;\n",
       "            color:  #000000;\n",
       "        }    #T_ac655b8c_3246_11eb_bbec_833b75007731row0_col8 {\n",
       "            background-color:  #84bcdb;\n",
       "            color:  #000000;\n",
       "        }    #T_ac655b8c_3246_11eb_bbec_833b75007731row0_col9 {\n",
       "            background-color:  #85bcdc;\n",
       "            color:  #000000;\n",
       "        }    #T_ac655b8c_3246_11eb_bbec_833b75007731row0_col10 {\n",
       "            background-color:  #539ecd;\n",
       "            color:  #000000;\n",
       "        }    #T_ac655b8c_3246_11eb_bbec_833b75007731row0_col11 {\n",
       "            background-color:  #b8d5ea;\n",
       "            color:  #000000;\n",
       "        }    #T_ac655b8c_3246_11eb_bbec_833b75007731row0_col12 {\n",
       "            background-color:  #4e9acb;\n",
       "            color:  #000000;\n",
       "        }    #T_ac655b8c_3246_11eb_bbec_833b75007731row0_col13 {\n",
       "            background-color:  #4a98c9;\n",
       "            color:  #000000;\n",
       "        }    #T_ac655b8c_3246_11eb_bbec_833b75007731row1_col0 {\n",
       "            background-color:  #2b7bba;\n",
       "            color:  #000000;\n",
       "        }    #T_ac655b8c_3246_11eb_bbec_833b75007731row1_col1 {\n",
       "            background-color:  #08306b;\n",
       "            color:  #f1f1f1;\n",
       "        }    #T_ac655b8c_3246_11eb_bbec_833b75007731row1_col2 {\n",
       "            background-color:  #81badb;\n",
       "            color:  #000000;\n",
       "        }    #T_ac655b8c_3246_11eb_bbec_833b75007731row1_col3 {\n",
       "            background-color:  #9dcae1;\n",
       "            color:  #000000;\n",
       "        }    #T_ac655b8c_3246_11eb_bbec_833b75007731row1_col4 {\n",
       "            background-color:  #a4cce3;\n",
       "            color:  #000000;\n",
       "        }    #T_ac655b8c_3246_11eb_bbec_833b75007731row1_col5 {\n",
       "            background-color:  #d9e7f5;\n",
       "            color:  #000000;\n",
       "        }    #T_ac655b8c_3246_11eb_bbec_833b75007731row1_col6 {\n",
       "            background-color:  #eff6fc;\n",
       "            color:  #000000;\n",
       "        }    #T_ac655b8c_3246_11eb_bbec_833b75007731row1_col7 {\n",
       "            background-color:  #4f9bcb;\n",
       "            color:  #000000;\n",
       "        }    #T_ac655b8c_3246_11eb_bbec_833b75007731row1_col8 {\n",
       "            background-color:  #58a1cf;\n",
       "            color:  #000000;\n",
       "        }    #T_ac655b8c_3246_11eb_bbec_833b75007731row1_col9 {\n",
       "            background-color:  #57a0ce;\n",
       "            color:  #000000;\n",
       "        }    #T_ac655b8c_3246_11eb_bbec_833b75007731row1_col10 {\n",
       "            background-color:  #68acd5;\n",
       "            color:  #000000;\n",
       "        }    #T_ac655b8c_3246_11eb_bbec_833b75007731row1_col11 {\n",
       "            background-color:  #bdd7ec;\n",
       "            color:  #000000;\n",
       "        }    #T_ac655b8c_3246_11eb_bbec_833b75007731row1_col12 {\n",
       "            background-color:  #4292c6;\n",
       "            color:  #000000;\n",
       "        }    #T_ac655b8c_3246_11eb_bbec_833b75007731row1_col13 {\n",
       "            background-color:  #4191c6;\n",
       "            color:  #000000;\n",
       "        }    #T_ac655b8c_3246_11eb_bbec_833b75007731row2_col0 {\n",
       "            background-color:  #4292c6;\n",
       "            color:  #000000;\n",
       "        }    #T_ac655b8c_3246_11eb_bbec_833b75007731row2_col1 {\n",
       "            background-color:  #71b1d7;\n",
       "            color:  #000000;\n",
       "        }    #T_ac655b8c_3246_11eb_bbec_833b75007731row2_col2 {\n",
       "            background-color:  #08306b;\n",
       "            color:  #f1f1f1;\n",
       "        }    #T_ac655b8c_3246_11eb_bbec_833b75007731row2_col3 {\n",
       "            background-color:  #87bddc;\n",
       "            color:  #000000;\n",
       "        }    #T_ac655b8c_3246_11eb_bbec_833b75007731row2_col4 {\n",
       "            background-color:  #6caed6;\n",
       "            color:  #000000;\n",
       "        }    #T_ac655b8c_3246_11eb_bbec_833b75007731row2_col5 {\n",
       "            background-color:  #c7dcef;\n",
       "            color:  #000000;\n",
       "        }    #T_ac655b8c_3246_11eb_bbec_833b75007731row2_col6 {\n",
       "            background-color:  #e7f0fa;\n",
       "            color:  #000000;\n",
       "        }    #T_ac655b8c_3246_11eb_bbec_833b75007731row2_col7 {\n",
       "            background-color:  #63a8d3;\n",
       "            color:  #000000;\n",
       "        }    #T_ac655b8c_3246_11eb_bbec_833b75007731row2_col8 {\n",
       "            background-color:  #77b5d9;\n",
       "            color:  #000000;\n",
       "        }    #T_ac655b8c_3246_11eb_bbec_833b75007731row2_col9 {\n",
       "            background-color:  #7ab6d9;\n",
       "            color:  #000000;\n",
       "        }    #T_ac655b8c_3246_11eb_bbec_833b75007731row2_col10 {\n",
       "            background-color:  #7cb7da;\n",
       "            color:  #000000;\n",
       "        }    #T_ac655b8c_3246_11eb_bbec_833b75007731row2_col11 {\n",
       "            background-color:  #add0e6;\n",
       "            color:  #000000;\n",
       "        }    #T_ac655b8c_3246_11eb_bbec_833b75007731row2_col12 {\n",
       "            background-color:  #61a7d2;\n",
       "            color:  #000000;\n",
       "        }    #T_ac655b8c_3246_11eb_bbec_833b75007731row2_col13 {\n",
       "            background-color:  #58a1cf;\n",
       "            color:  #000000;\n",
       "        }    #T_ac655b8c_3246_11eb_bbec_833b75007731row3_col0 {\n",
       "            background-color:  #87bddc;\n",
       "            color:  #000000;\n",
       "        }    #T_ac655b8c_3246_11eb_bbec_833b75007731row3_col1 {\n",
       "            background-color:  #85bcdc;\n",
       "            color:  #000000;\n",
       "        }    #T_ac655b8c_3246_11eb_bbec_833b75007731row3_col2 {\n",
       "            background-color:  #81badb;\n",
       "            color:  #000000;\n",
       "        }    #T_ac655b8c_3246_11eb_bbec_833b75007731row3_col3 {\n",
       "            background-color:  #08306b;\n",
       "            color:  #f1f1f1;\n",
       "        }    #T_ac655b8c_3246_11eb_bbec_833b75007731row3_col4 {\n",
       "            background-color:  #c4daee;\n",
       "            color:  #000000;\n",
       "        }    #T_ac655b8c_3246_11eb_bbec_833b75007731row3_col5 {\n",
       "            background-color:  #bfd8ed;\n",
       "            color:  #000000;\n",
       "        }    #T_ac655b8c_3246_11eb_bbec_833b75007731row3_col6 {\n",
       "            background-color:  #edf4fc;\n",
       "            color:  #000000;\n",
       "        }    #T_ac655b8c_3246_11eb_bbec_833b75007731row3_col7 {\n",
       "            background-color:  #6aaed6;\n",
       "            color:  #000000;\n",
       "        }    #T_ac655b8c_3246_11eb_bbec_833b75007731row3_col8 {\n",
       "            background-color:  #7ab6d9;\n",
       "            color:  #000000;\n",
       "        }    #T_ac655b8c_3246_11eb_bbec_833b75007731row3_col9 {\n",
       "            background-color:  #7cb7da;\n",
       "            color:  #000000;\n",
       "        }    #T_ac655b8c_3246_11eb_bbec_833b75007731row3_col10 {\n",
       "            background-color:  #9ac8e0;\n",
       "            color:  #000000;\n",
       "        }    #T_ac655b8c_3246_11eb_bbec_833b75007731row3_col11 {\n",
       "            background-color:  #a6cee4;\n",
       "            color:  #000000;\n",
       "        }    #T_ac655b8c_3246_11eb_bbec_833b75007731row3_col12 {\n",
       "            background-color:  #6aaed6;\n",
       "            color:  #000000;\n",
       "        }    #T_ac655b8c_3246_11eb_bbec_833b75007731row3_col13 {\n",
       "            background-color:  #63a8d3;\n",
       "            color:  #000000;\n",
       "        }    #T_ac655b8c_3246_11eb_bbec_833b75007731row4_col0 {\n",
       "            background-color:  #3d8dc4;\n",
       "            color:  #000000;\n",
       "        }    #T_ac655b8c_3246_11eb_bbec_833b75007731row4_col1 {\n",
       "            background-color:  #99c7e0;\n",
       "            color:  #000000;\n",
       "        }    #T_ac655b8c_3246_11eb_bbec_833b75007731row4_col2 {\n",
       "            background-color:  #6fb0d7;\n",
       "            color:  #000000;\n",
       "        }    #T_ac655b8c_3246_11eb_bbec_833b75007731row4_col3 {\n",
       "            background-color:  #cddff1;\n",
       "            color:  #000000;\n",
       "        }    #T_ac655b8c_3246_11eb_bbec_833b75007731row4_col4 {\n",
       "            background-color:  #08306b;\n",
       "            color:  #f1f1f1;\n",
       "        }    #T_ac655b8c_3246_11eb_bbec_833b75007731row4_col5 {\n",
       "            background-color:  #eff6fc;\n",
       "            color:  #000000;\n",
       "        }    #T_ac655b8c_3246_11eb_bbec_833b75007731row4_col6 {\n",
       "            background-color:  #cbdef1;\n",
       "            color:  #000000;\n",
       "        }    #T_ac655b8c_3246_11eb_bbec_833b75007731row4_col7 {\n",
       "            background-color:  #5ca4d0;\n",
       "            color:  #000000;\n",
       "        }    #T_ac655b8c_3246_11eb_bbec_833b75007731row4_col8 {\n",
       "            background-color:  #7db8da;\n",
       "            color:  #000000;\n",
       "        }    #T_ac655b8c_3246_11eb_bbec_833b75007731row4_col9 {\n",
       "            background-color:  #81badb;\n",
       "            color:  #000000;\n",
       "        }    #T_ac655b8c_3246_11eb_bbec_833b75007731row4_col10 {\n",
       "            background-color:  #3d8dc4;\n",
       "            color:  #000000;\n",
       "        }    #T_ac655b8c_3246_11eb_bbec_833b75007731row4_col11 {\n",
       "            background-color:  #b2d2e8;\n",
       "            color:  #000000;\n",
       "        }    #T_ac655b8c_3246_11eb_bbec_833b75007731row4_col12 {\n",
       "            background-color:  #4b98ca;\n",
       "            color:  #000000;\n",
       "        }    #T_ac655b8c_3246_11eb_bbec_833b75007731row4_col13 {\n",
       "            background-color:  #4090c5;\n",
       "            color:  #000000;\n",
       "        }    #T_ac655b8c_3246_11eb_bbec_833b75007731row5_col0 {\n",
       "            background-color:  #caddf0;\n",
       "            color:  #000000;\n",
       "        }    #T_ac655b8c_3246_11eb_bbec_833b75007731row5_col1 {\n",
       "            background-color:  #cee0f2;\n",
       "            color:  #000000;\n",
       "        }    #T_ac655b8c_3246_11eb_bbec_833b75007731row5_col2 {\n",
       "            background-color:  #c8dcf0;\n",
       "            color:  #000000;\n",
       "        }    #T_ac655b8c_3246_11eb_bbec_833b75007731row5_col3 {\n",
       "            background-color:  #c7dcef;\n",
       "            color:  #000000;\n",
       "        }    #T_ac655b8c_3246_11eb_bbec_833b75007731row5_col4 {\n",
       "            background-color:  #ecf4fb;\n",
       "            color:  #000000;\n",
       "        }    #T_ac655b8c_3246_11eb_bbec_833b75007731row5_col5 {\n",
       "            background-color:  #08306b;\n",
       "            color:  #f1f1f1;\n",
       "        }    #T_ac655b8c_3246_11eb_bbec_833b75007731row5_col6 {\n",
       "            background-color:  #f7fbff;\n",
       "            color:  #000000;\n",
       "        }    #T_ac655b8c_3246_11eb_bbec_833b75007731row5_col7 {\n",
       "            background-color:  #b3d3e8;\n",
       "            color:  #000000;\n",
       "        }    #T_ac655b8c_3246_11eb_bbec_833b75007731row5_col8 {\n",
       "            background-color:  #c7dcef;\n",
       "            color:  #000000;\n",
       "        }    #T_ac655b8c_3246_11eb_bbec_833b75007731row5_col9 {\n",
       "            background-color:  #caddf0;\n",
       "            color:  #000000;\n",
       "        }    #T_ac655b8c_3246_11eb_bbec_833b75007731row5_col10 {\n",
       "            background-color:  #cadef0;\n",
       "            color:  #000000;\n",
       "        }    #T_ac655b8c_3246_11eb_bbec_833b75007731row5_col11 {\n",
       "            background-color:  #8cc0dd;\n",
       "            color:  #000000;\n",
       "        }    #T_ac655b8c_3246_11eb_bbec_833b75007731row5_col12 {\n",
       "            background-color:  #a0cbe2;\n",
       "            color:  #000000;\n",
       "        }    #T_ac655b8c_3246_11eb_bbec_833b75007731row5_col13 {\n",
       "            background-color:  #a3cce3;\n",
       "            color:  #000000;\n",
       "        }    #T_ac655b8c_3246_11eb_bbec_833b75007731row6_col0 {\n",
       "            background-color:  #c9ddf0;\n",
       "            color:  #000000;\n",
       "        }    #T_ac655b8c_3246_11eb_bbec_833b75007731row6_col1 {\n",
       "            background-color:  #d2e3f3;\n",
       "            color:  #000000;\n",
       "        }    #T_ac655b8c_3246_11eb_bbec_833b75007731row6_col2 {\n",
       "            background-color:  #d6e5f4;\n",
       "            color:  #000000;\n",
       "        }    #T_ac655b8c_3246_11eb_bbec_833b75007731row6_col3 {\n",
       "            background-color:  #e1edf8;\n",
       "            color:  #000000;\n",
       "        }    #T_ac655b8c_3246_11eb_bbec_833b75007731row6_col4 {\n",
       "            background-color:  #b3d3e8;\n",
       "            color:  #000000;\n",
       "        }    #T_ac655b8c_3246_11eb_bbec_833b75007731row6_col5 {\n",
       "            background-color:  #e3eef9;\n",
       "            color:  #000000;\n",
       "        }    #T_ac655b8c_3246_11eb_bbec_833b75007731row6_col6 {\n",
       "            background-color:  #08306b;\n",
       "            color:  #f1f1f1;\n",
       "        }    #T_ac655b8c_3246_11eb_bbec_833b75007731row6_col7 {\n",
       "            background-color:  #6dafd7;\n",
       "            color:  #000000;\n",
       "        }    #T_ac655b8c_3246_11eb_bbec_833b75007731row6_col8 {\n",
       "            background-color:  #92c4de;\n",
       "            color:  #000000;\n",
       "        }    #T_ac655b8c_3246_11eb_bbec_833b75007731row6_col9 {\n",
       "            background-color:  #9cc9e1;\n",
       "            color:  #000000;\n",
       "        }    #T_ac655b8c_3246_11eb_bbec_833b75007731row6_col10 {\n",
       "            background-color:  #60a7d2;\n",
       "            color:  #000000;\n",
       "        }    #T_ac655b8c_3246_11eb_bbec_833b75007731row6_col11 {\n",
       "            background-color:  #8cc0dd;\n",
       "            color:  #000000;\n",
       "        }    #T_ac655b8c_3246_11eb_bbec_833b75007731row6_col12 {\n",
       "            background-color:  #5ba3d0;\n",
       "            color:  #000000;\n",
       "        }    #T_ac655b8c_3246_11eb_bbec_833b75007731row6_col13 {\n",
       "            background-color:  #64a9d3;\n",
       "            color:  #000000;\n",
       "        }    #T_ac655b8c_3246_11eb_bbec_833b75007731row7_col0 {\n",
       "            background-color:  #a0cbe2;\n",
       "            color:  #000000;\n",
       "        }    #T_ac655b8c_3246_11eb_bbec_833b75007731row7_col1 {\n",
       "            background-color:  #81badb;\n",
       "            color:  #000000;\n",
       "        }    #T_ac655b8c_3246_11eb_bbec_833b75007731row7_col2 {\n",
       "            background-color:  #aed1e7;\n",
       "            color:  #000000;\n",
       "        }    #T_ac655b8c_3246_11eb_bbec_833b75007731row7_col3 {\n",
       "            background-color:  #c1d9ed;\n",
       "            color:  #000000;\n",
       "        }    #T_ac655b8c_3246_11eb_bbec_833b75007731row7_col4 {\n",
       "            background-color:  #a1cbe2;\n",
       "            color:  #000000;\n",
       "        }    #T_ac655b8c_3246_11eb_bbec_833b75007731row7_col5 {\n",
       "            background-color:  #f3f8fe;\n",
       "            color:  #000000;\n",
       "        }    #T_ac655b8c_3246_11eb_bbec_833b75007731row7_col6 {\n",
       "            background-color:  #cfe1f2;\n",
       "            color:  #000000;\n",
       "        }    #T_ac655b8c_3246_11eb_bbec_833b75007731row7_col7 {\n",
       "            background-color:  #08306b;\n",
       "            color:  #f1f1f1;\n",
       "        }    #T_ac655b8c_3246_11eb_bbec_833b75007731row7_col8 {\n",
       "            background-color:  #083e81;\n",
       "            color:  #f1f1f1;\n",
       "        }    #T_ac655b8c_3246_11eb_bbec_833b75007731row7_col9 {\n",
       "            background-color:  #084184;\n",
       "            color:  #f1f1f1;\n",
       "        }    #T_ac655b8c_3246_11eb_bbec_833b75007731row7_col10 {\n",
       "            background-color:  #206fb4;\n",
       "            color:  #f1f1f1;\n",
       "        }    #T_ac655b8c_3246_11eb_bbec_833b75007731row7_col11 {\n",
       "            background-color:  #eff6fc;\n",
       "            color:  #000000;\n",
       "        }    #T_ac655b8c_3246_11eb_bbec_833b75007731row7_col12 {\n",
       "            background-color:  #08478d;\n",
       "            color:  #f1f1f1;\n",
       "        }    #T_ac655b8c_3246_11eb_bbec_833b75007731row7_col13 {\n",
       "            background-color:  #084184;\n",
       "            color:  #f1f1f1;\n",
       "        }    #T_ac655b8c_3246_11eb_bbec_833b75007731row8_col0 {\n",
       "            background-color:  #b8d5ea;\n",
       "            color:  #000000;\n",
       "        }    #T_ac655b8c_3246_11eb_bbec_833b75007731row8_col1 {\n",
       "            background-color:  #7db8da;\n",
       "            color:  #000000;\n",
       "        }    #T_ac655b8c_3246_11eb_bbec_833b75007731row8_col2 {\n",
       "            background-color:  #b7d4ea;\n",
       "            color:  #000000;\n",
       "        }    #T_ac655b8c_3246_11eb_bbec_833b75007731row8_col3 {\n",
       "            background-color:  #c1d9ed;\n",
       "            color:  #000000;\n",
       "        }    #T_ac655b8c_3246_11eb_bbec_833b75007731row8_col4 {\n",
       "            background-color:  #b8d5ea;\n",
       "            color:  #000000;\n",
       "        }    #T_ac655b8c_3246_11eb_bbec_833b75007731row8_col5 {\n",
       "            background-color:  #f7fbff;\n",
       "            color:  #000000;\n",
       "        }    #T_ac655b8c_3246_11eb_bbec_833b75007731row8_col6 {\n",
       "            background-color:  #ddeaf7;\n",
       "            color:  #000000;\n",
       "        }    #T_ac655b8c_3246_11eb_bbec_833b75007731row8_col7 {\n",
       "            background-color:  #083d7f;\n",
       "            color:  #f1f1f1;\n",
       "        }    #T_ac655b8c_3246_11eb_bbec_833b75007731row8_col8 {\n",
       "            background-color:  #08306b;\n",
       "            color:  #f1f1f1;\n",
       "        }    #T_ac655b8c_3246_11eb_bbec_833b75007731row8_col9 {\n",
       "            background-color:  #08306b;\n",
       "            color:  #f1f1f1;\n",
       "        }    #T_ac655b8c_3246_11eb_bbec_833b75007731row8_col10 {\n",
       "            background-color:  #3989c1;\n",
       "            color:  #000000;\n",
       "        }    #T_ac655b8c_3246_11eb_bbec_833b75007731row8_col11 {\n",
       "            background-color:  #e1edf8;\n",
       "            color:  #000000;\n",
       "        }    #T_ac655b8c_3246_11eb_bbec_833b75007731row8_col12 {\n",
       "            background-color:  #0e58a2;\n",
       "            color:  #f1f1f1;\n",
       "        }    #T_ac655b8c_3246_11eb_bbec_833b75007731row8_col13 {\n",
       "            background-color:  #0a539e;\n",
       "            color:  #f1f1f1;\n",
       "        }    #T_ac655b8c_3246_11eb_bbec_833b75007731row9_col0 {\n",
       "            background-color:  #b8d5ea;\n",
       "            color:  #000000;\n",
       "        }    #T_ac655b8c_3246_11eb_bbec_833b75007731row9_col1 {\n",
       "            background-color:  #7ab6d9;\n",
       "            color:  #000000;\n",
       "        }    #T_ac655b8c_3246_11eb_bbec_833b75007731row9_col2 {\n",
       "            background-color:  #b7d4ea;\n",
       "            color:  #000000;\n",
       "        }    #T_ac655b8c_3246_11eb_bbec_833b75007731row9_col3 {\n",
       "            background-color:  #c1d9ed;\n",
       "            color:  #000000;\n",
       "        }    #T_ac655b8c_3246_11eb_bbec_833b75007731row9_col4 {\n",
       "            background-color:  #b8d5ea;\n",
       "            color:  #000000;\n",
       "        }    #T_ac655b8c_3246_11eb_bbec_833b75007731row9_col5 {\n",
       "            background-color:  #f7fbff;\n",
       "            color:  #000000;\n",
       "        }    #T_ac655b8c_3246_11eb_bbec_833b75007731row9_col6 {\n",
       "            background-color:  #e2edf8;\n",
       "            color:  #000000;\n",
       "        }    #T_ac655b8c_3246_11eb_bbec_833b75007731row9_col7 {\n",
       "            background-color:  #084082;\n",
       "            color:  #f1f1f1;\n",
       "        }    #T_ac655b8c_3246_11eb_bbec_833b75007731row9_col8 {\n",
       "            background-color:  #08306b;\n",
       "            color:  #f1f1f1;\n",
       "        }    #T_ac655b8c_3246_11eb_bbec_833b75007731row9_col9 {\n",
       "            background-color:  #08306b;\n",
       "            color:  #f1f1f1;\n",
       "        }    #T_ac655b8c_3246_11eb_bbec_833b75007731row9_col10 {\n",
       "            background-color:  #3b8bc2;\n",
       "            color:  #000000;\n",
       "        }    #T_ac655b8c_3246_11eb_bbec_833b75007731row9_col11 {\n",
       "            background-color:  #dfebf7;\n",
       "            color:  #000000;\n",
       "        }    #T_ac655b8c_3246_11eb_bbec_833b75007731row9_col12 {\n",
       "            background-color:  #0f5aa3;\n",
       "            color:  #f1f1f1;\n",
       "        }    #T_ac655b8c_3246_11eb_bbec_833b75007731row9_col13 {\n",
       "            background-color:  #0b559f;\n",
       "            color:  #f1f1f1;\n",
       "        }    #T_ac655b8c_3246_11eb_bbec_833b75007731row10_col0 {\n",
       "            background-color:  #71b1d7;\n",
       "            color:  #000000;\n",
       "        }    #T_ac655b8c_3246_11eb_bbec_833b75007731row10_col1 {\n",
       "            background-color:  #8abfdd;\n",
       "            color:  #000000;\n",
       "        }    #T_ac655b8c_3246_11eb_bbec_833b75007731row10_col2 {\n",
       "            background-color:  #b0d2e7;\n",
       "            color:  #000000;\n",
       "        }    #T_ac655b8c_3246_11eb_bbec_833b75007731row10_col3 {\n",
       "            background-color:  #d0e1f2;\n",
       "            color:  #000000;\n",
       "        }    #T_ac655b8c_3246_11eb_bbec_833b75007731row10_col4 {\n",
       "            background-color:  #58a1cf;\n",
       "            color:  #000000;\n",
       "        }    #T_ac655b8c_3246_11eb_bbec_833b75007731row10_col5 {\n",
       "            background-color:  #f2f7fd;\n",
       "            color:  #000000;\n",
       "        }    #T_ac655b8c_3246_11eb_bbec_833b75007731row10_col6 {\n",
       "            background-color:  #a6cee4;\n",
       "            color:  #000000;\n",
       "        }    #T_ac655b8c_3246_11eb_bbec_833b75007731row10_col7 {\n",
       "            background-color:  #1a68ae;\n",
       "            color:  #f1f1f1;\n",
       "        }    #T_ac655b8c_3246_11eb_bbec_833b75007731row10_col8 {\n",
       "            background-color:  #3585bf;\n",
       "            color:  #000000;\n",
       "        }    #T_ac655b8c_3246_11eb_bbec_833b75007731row10_col9 {\n",
       "            background-color:  #3787c0;\n",
       "            color:  #000000;\n",
       "        }    #T_ac655b8c_3246_11eb_bbec_833b75007731row10_col10 {\n",
       "            background-color:  #08306b;\n",
       "            color:  #f1f1f1;\n",
       "        }    #T_ac655b8c_3246_11eb_bbec_833b75007731row10_col11 {\n",
       "            background-color:  #d9e7f5;\n",
       "            color:  #000000;\n",
       "        }    #T_ac655b8c_3246_11eb_bbec_833b75007731row10_col12 {\n",
       "            background-color:  #135fa7;\n",
       "            color:  #f1f1f1;\n",
       "        }    #T_ac655b8c_3246_11eb_bbec_833b75007731row10_col13 {\n",
       "            background-color:  #0a549e;\n",
       "            color:  #f1f1f1;\n",
       "        }    #T_ac655b8c_3246_11eb_bbec_833b75007731row11_col0 {\n",
       "            background-color:  #f7fbff;\n",
       "            color:  #000000;\n",
       "        }    #T_ac655b8c_3246_11eb_bbec_833b75007731row11_col1 {\n",
       "            background-color:  #f7fbff;\n",
       "            color:  #000000;\n",
       "        }    #T_ac655b8c_3246_11eb_bbec_833b75007731row11_col2 {\n",
       "            background-color:  #f7fbff;\n",
       "            color:  #000000;\n",
       "        }    #T_ac655b8c_3246_11eb_bbec_833b75007731row11_col3 {\n",
       "            background-color:  #f7fbff;\n",
       "            color:  #000000;\n",
       "        }    #T_ac655b8c_3246_11eb_bbec_833b75007731row11_col4 {\n",
       "            background-color:  #f7fbff;\n",
       "            color:  #000000;\n",
       "        }    #T_ac655b8c_3246_11eb_bbec_833b75007731row11_col5 {\n",
       "            background-color:  #dbe9f6;\n",
       "            color:  #000000;\n",
       "        }    #T_ac655b8c_3246_11eb_bbec_833b75007731row11_col6 {\n",
       "            background-color:  #eef5fc;\n",
       "            color:  #000000;\n",
       "        }    #T_ac655b8c_3246_11eb_bbec_833b75007731row11_col7 {\n",
       "            background-color:  #f7fbff;\n",
       "            color:  #000000;\n",
       "        }    #T_ac655b8c_3246_11eb_bbec_833b75007731row11_col8 {\n",
       "            background-color:  #f7fbff;\n",
       "            color:  #000000;\n",
       "        }    #T_ac655b8c_3246_11eb_bbec_833b75007731row11_col9 {\n",
       "            background-color:  #f7fbff;\n",
       "            color:  #000000;\n",
       "        }    #T_ac655b8c_3246_11eb_bbec_833b75007731row11_col10 {\n",
       "            background-color:  #f7fbff;\n",
       "            color:  #000000;\n",
       "        }    #T_ac655b8c_3246_11eb_bbec_833b75007731row11_col11 {\n",
       "            background-color:  #08306b;\n",
       "            color:  #f1f1f1;\n",
       "        }    #T_ac655b8c_3246_11eb_bbec_833b75007731row11_col12 {\n",
       "            background-color:  #f7fbff;\n",
       "            color:  #000000;\n",
       "        }    #T_ac655b8c_3246_11eb_bbec_833b75007731row11_col13 {\n",
       "            background-color:  #f7fbff;\n",
       "            color:  #000000;\n",
       "        }    #T_ac655b8c_3246_11eb_bbec_833b75007731row12_col0 {\n",
       "            background-color:  #8abfdd;\n",
       "            color:  #000000;\n",
       "        }    #T_ac655b8c_3246_11eb_bbec_833b75007731row12_col1 {\n",
       "            background-color:  #72b2d8;\n",
       "            color:  #000000;\n",
       "        }    #T_ac655b8c_3246_11eb_bbec_833b75007731row12_col2 {\n",
       "            background-color:  #b4d3e9;\n",
       "            color:  #000000;\n",
       "        }    #T_ac655b8c_3246_11eb_bbec_833b75007731row12_col3 {\n",
       "            background-color:  #c8dcf0;\n",
       "            color:  #000000;\n",
       "        }    #T_ac655b8c_3246_11eb_bbec_833b75007731row12_col4 {\n",
       "            background-color:  #8dc1dd;\n",
       "            color:  #000000;\n",
       "        }    #T_ac655b8c_3246_11eb_bbec_833b75007731row12_col5 {\n",
       "            background-color:  #e9f2fa;\n",
       "            color:  #000000;\n",
       "        }    #T_ac655b8c_3246_11eb_bbec_833b75007731row12_col6 {\n",
       "            background-color:  #c2d9ee;\n",
       "            color:  #000000;\n",
       "        }    #T_ac655b8c_3246_11eb_bbec_833b75007731row12_col7 {\n",
       "            background-color:  #08478d;\n",
       "            color:  #f1f1f1;\n",
       "        }    #T_ac655b8c_3246_11eb_bbec_833b75007731row12_col8 {\n",
       "            background-color:  #115ca5;\n",
       "            color:  #f1f1f1;\n",
       "        }    #T_ac655b8c_3246_11eb_bbec_833b75007731row12_col9 {\n",
       "            background-color:  #135fa7;\n",
       "            color:  #f1f1f1;\n",
       "        }    #T_ac655b8c_3246_11eb_bbec_833b75007731row12_col10 {\n",
       "            background-color:  #1966ad;\n",
       "            color:  #f1f1f1;\n",
       "        }    #T_ac655b8c_3246_11eb_bbec_833b75007731row12_col11 {\n",
       "            background-color:  #f5fafe;\n",
       "            color:  #000000;\n",
       "        }    #T_ac655b8c_3246_11eb_bbec_833b75007731row12_col12 {\n",
       "            background-color:  #08306b;\n",
       "            color:  #f1f1f1;\n",
       "        }    #T_ac655b8c_3246_11eb_bbec_833b75007731row12_col13 {\n",
       "            background-color:  #083c7d;\n",
       "            color:  #f1f1f1;\n",
       "        }    #T_ac655b8c_3246_11eb_bbec_833b75007731row13_col0 {\n",
       "            background-color:  #87bddc;\n",
       "            color:  #000000;\n",
       "        }    #T_ac655b8c_3246_11eb_bbec_833b75007731row13_col1 {\n",
       "            background-color:  #72b2d8;\n",
       "            color:  #000000;\n",
       "        }    #T_ac655b8c_3246_11eb_bbec_833b75007731row13_col2 {\n",
       "            background-color:  #aacfe5;\n",
       "            color:  #000000;\n",
       "        }    #T_ac655b8c_3246_11eb_bbec_833b75007731row13_col3 {\n",
       "            background-color:  #c1d9ed;\n",
       "            color:  #000000;\n",
       "        }    #T_ac655b8c_3246_11eb_bbec_833b75007731row13_col4 {\n",
       "            background-color:  #7cb7da;\n",
       "            color:  #000000;\n",
       "        }    #T_ac655b8c_3246_11eb_bbec_833b75007731row13_col5 {\n",
       "            background-color:  #edf4fc;\n",
       "            color:  #000000;\n",
       "        }    #T_ac655b8c_3246_11eb_bbec_833b75007731row13_col6 {\n",
       "            background-color:  #cee0f2;\n",
       "            color:  #000000;\n",
       "        }    #T_ac655b8c_3246_11eb_bbec_833b75007731row13_col7 {\n",
       "            background-color:  #084285;\n",
       "            color:  #f1f1f1;\n",
       "        }    #T_ac655b8c_3246_11eb_bbec_833b75007731row13_col8 {\n",
       "            background-color:  #0e58a2;\n",
       "            color:  #f1f1f1;\n",
       "        }    #T_ac655b8c_3246_11eb_bbec_833b75007731row13_col9 {\n",
       "            background-color:  #0f5aa3;\n",
       "            color:  #f1f1f1;\n",
       "        }    #T_ac655b8c_3246_11eb_bbec_833b75007731row13_col10 {\n",
       "            background-color:  #0f5aa3;\n",
       "            color:  #f1f1f1;\n",
       "        }    #T_ac655b8c_3246_11eb_bbec_833b75007731row13_col11 {\n",
       "            background-color:  #f7fbff;\n",
       "            color:  #000000;\n",
       "        }    #T_ac655b8c_3246_11eb_bbec_833b75007731row13_col12 {\n",
       "            background-color:  #083c7d;\n",
       "            color:  #f1f1f1;\n",
       "        }    #T_ac655b8c_3246_11eb_bbec_833b75007731row13_col13 {\n",
       "            background-color:  #08306b;\n",
       "            color:  #f1f1f1;\n",
       "        }</style><table id=\"T_ac655b8c_3246_11eb_bbec_833b75007731\" ><thead>    <tr>        <th class=\"blank level0\" ></th>        <th class=\"col_heading level0 col0\" >total_cases_per_million</th>        <th class=\"col_heading level0 col1\" >total_deaths_per_million</th>        <th class=\"col_heading level0 col2\" >new_cases_per_million</th>        <th class=\"col_heading level0 col3\" >new_deaths_per_million</th>        <th class=\"col_heading level0 col4\" >total_tests_per_thousand</th>        <th class=\"col_heading level0 col5\" >stringency_index</th>        <th class=\"col_heading level0 col6\" >population_density</th>        <th class=\"col_heading level0 col7\" >median_age</th>        <th class=\"col_heading level0 col8\" >aged_65_older</th>        <th class=\"col_heading level0 col9\" >aged_70_older</th>        <th class=\"col_heading level0 col10\" >gdp_per_capita</th>        <th class=\"col_heading level0 col11\" >extreme_poverty</th>        <th class=\"col_heading level0 col12\" >life_expectancy</th>        <th class=\"col_heading level0 col13\" >human_development_index</th>    </tr></thead><tbody>\n",
       "                <tr>\n",
       "                        <th id=\"T_ac655b8c_3246_11eb_bbec_833b75007731level0_row0\" class=\"row_heading level0 row0\" >total_cases_per_million</th>\n",
       "                        <td id=\"T_ac655b8c_3246_11eb_bbec_833b75007731row0_col0\" class=\"data row0 col0\" >1.00</td>\n",
       "                        <td id=\"T_ac655b8c_3246_11eb_bbec_833b75007731row0_col1\" class=\"data row0 col1\" >0.64</td>\n",
       "                        <td id=\"T_ac655b8c_3246_11eb_bbec_833b75007731row0_col2\" class=\"data row0 col2\" >0.53</td>\n",
       "                        <td id=\"T_ac655b8c_3246_11eb_bbec_833b75007731row0_col3\" class=\"data row0 col3\" >0.29</td>\n",
       "                        <td id=\"T_ac655b8c_3246_11eb_bbec_833b75007731row0_col4\" class=\"data row0 col4\" >0.56</td>\n",
       "                        <td id=\"T_ac655b8c_3246_11eb_bbec_833b75007731row0_col5\" class=\"data row0 col5\" >0.04</td>\n",
       "                        <td id=\"T_ac655b8c_3246_11eb_bbec_833b75007731row0_col6\" class=\"data row0 col6\" >0.05</td>\n",
       "                        <td id=\"T_ac655b8c_3246_11eb_bbec_833b75007731row0_col7\" class=\"data row0 col7\" >0.21</td>\n",
       "                        <td id=\"T_ac655b8c_3246_11eb_bbec_833b75007731row0_col8\" class=\"data row0 col8\" >0.12</td>\n",
       "                        <td id=\"T_ac655b8c_3246_11eb_bbec_833b75007731row0_col9\" class=\"data row0 col9\" >0.12</td>\n",
       "                        <td id=\"T_ac655b8c_3246_11eb_bbec_833b75007731row0_col10\" class=\"data row0 col10\" >0.36</td>\n",
       "                        <td id=\"T_ac655b8c_3246_11eb_bbec_833b75007731row0_col11\" class=\"data row0 col11\" >-0.25</td>\n",
       "                        <td id=\"T_ac655b8c_3246_11eb_bbec_833b75007731row0_col12\" class=\"data row0 col12\" >0.28</td>\n",
       "                        <td id=\"T_ac655b8c_3246_11eb_bbec_833b75007731row0_col13\" class=\"data row0 col13\" >0.29</td>\n",
       "            </tr>\n",
       "            <tr>\n",
       "                        <th id=\"T_ac655b8c_3246_11eb_bbec_833b75007731level0_row1\" class=\"row_heading level0 row1\" >total_deaths_per_million</th>\n",
       "                        <td id=\"T_ac655b8c_3246_11eb_bbec_833b75007731row1_col0\" class=\"data row1 col0\" >0.64</td>\n",
       "                        <td id=\"T_ac655b8c_3246_11eb_bbec_833b75007731row1_col1\" class=\"data row1 col1\" >1.00</td>\n",
       "                        <td id=\"T_ac655b8c_3246_11eb_bbec_833b75007731row1_col2\" class=\"data row1 col2\" >0.35</td>\n",
       "                        <td id=\"T_ac655b8c_3246_11eb_bbec_833b75007731row1_col3\" class=\"data row1 col3\" >0.28</td>\n",
       "                        <td id=\"T_ac655b8c_3246_11eb_bbec_833b75007731row1_col4\" class=\"data row1 col4\" >0.22</td>\n",
       "                        <td id=\"T_ac655b8c_3246_11eb_bbec_833b75007731row1_col5\" class=\"data row1 col5\" >-0.01</td>\n",
       "                        <td id=\"T_ac655b8c_3246_11eb_bbec_833b75007731row1_col6\" class=\"data row1 col6\" >-0.03</td>\n",
       "                        <td id=\"T_ac655b8c_3246_11eb_bbec_833b75007731row1_col7\" class=\"data row1 col7\" >0.29</td>\n",
       "                        <td id=\"T_ac655b8c_3246_11eb_bbec_833b75007731row1_col8\" class=\"data row1 col8\" >0.31</td>\n",
       "                        <td id=\"T_ac655b8c_3246_11eb_bbec_833b75007731row1_col9\" class=\"data row1 col9\" >0.32</td>\n",
       "                        <td id=\"T_ac655b8c_3246_11eb_bbec_833b75007731row1_col10\" class=\"data row1 col10\" >0.27</td>\n",
       "                        <td id=\"T_ac655b8c_3246_11eb_bbec_833b75007731row1_col11\" class=\"data row1 col11\" >-0.27</td>\n",
       "                        <td id=\"T_ac655b8c_3246_11eb_bbec_833b75007731row1_col12\" class=\"data row1 col12\" >0.34</td>\n",
       "                        <td id=\"T_ac655b8c_3246_11eb_bbec_833b75007731row1_col13\" class=\"data row1 col13\" >0.34</td>\n",
       "            </tr>\n",
       "            <tr>\n",
       "                        <th id=\"T_ac655b8c_3246_11eb_bbec_833b75007731level0_row2\" class=\"row_heading level0 row2\" >new_cases_per_million</th>\n",
       "                        <td id=\"T_ac655b8c_3246_11eb_bbec_833b75007731row2_col0\" class=\"data row2 col0\" >0.53</td>\n",
       "                        <td id=\"T_ac655b8c_3246_11eb_bbec_833b75007731row2_col1\" class=\"data row2 col1\" >0.35</td>\n",
       "                        <td id=\"T_ac655b8c_3246_11eb_bbec_833b75007731row2_col2\" class=\"data row2 col2\" >1.00</td>\n",
       "                        <td id=\"T_ac655b8c_3246_11eb_bbec_833b75007731row2_col3\" class=\"data row2 col3\" >0.35</td>\n",
       "                        <td id=\"T_ac655b8c_3246_11eb_bbec_833b75007731row2_col4\" class=\"data row2 col4\" >0.39</td>\n",
       "                        <td id=\"T_ac655b8c_3246_11eb_bbec_833b75007731row2_col5\" class=\"data row2 col5\" >0.10</td>\n",
       "                        <td id=\"T_ac655b8c_3246_11eb_bbec_833b75007731row2_col6\" class=\"data row2 col6\" >0.02</td>\n",
       "                        <td id=\"T_ac655b8c_3246_11eb_bbec_833b75007731row2_col7\" class=\"data row2 col7\" >0.20</td>\n",
       "                        <td id=\"T_ac655b8c_3246_11eb_bbec_833b75007731row2_col8\" class=\"data row2 col8\" >0.17</td>\n",
       "                        <td id=\"T_ac655b8c_3246_11eb_bbec_833b75007731row2_col9\" class=\"data row2 col9\" >0.17</td>\n",
       "                        <td id=\"T_ac655b8c_3246_11eb_bbec_833b75007731row2_col10\" class=\"data row2 col10\" >0.19</td>\n",
       "                        <td id=\"T_ac655b8c_3246_11eb_bbec_833b75007731row2_col11\" class=\"data row2 col11\" >-0.19</td>\n",
       "                        <td id=\"T_ac655b8c_3246_11eb_bbec_833b75007731row2_col12\" class=\"data row2 col12\" >0.18</td>\n",
       "                        <td id=\"T_ac655b8c_3246_11eb_bbec_833b75007731row2_col13\" class=\"data row2 col13\" >0.21</td>\n",
       "            </tr>\n",
       "            <tr>\n",
       "                        <th id=\"T_ac655b8c_3246_11eb_bbec_833b75007731level0_row3\" class=\"row_heading level0 row3\" >new_deaths_per_million</th>\n",
       "                        <td id=\"T_ac655b8c_3246_11eb_bbec_833b75007731row3_col0\" class=\"data row3 col0\" >0.29</td>\n",
       "                        <td id=\"T_ac655b8c_3246_11eb_bbec_833b75007731row3_col1\" class=\"data row3 col1\" >0.28</td>\n",
       "                        <td id=\"T_ac655b8c_3246_11eb_bbec_833b75007731row3_col2\" class=\"data row3 col2\" >0.35</td>\n",
       "                        <td id=\"T_ac655b8c_3246_11eb_bbec_833b75007731row3_col3\" class=\"data row3 col3\" >1.00</td>\n",
       "                        <td id=\"T_ac655b8c_3246_11eb_bbec_833b75007731row3_col4\" class=\"data row3 col4\" >0.10</td>\n",
       "                        <td id=\"T_ac655b8c_3246_11eb_bbec_833b75007731row3_col5\" class=\"data row3 col5\" >0.13</td>\n",
       "                        <td id=\"T_ac655b8c_3246_11eb_bbec_833b75007731row3_col6\" class=\"data row3 col6\" >-0.02</td>\n",
       "                        <td id=\"T_ac655b8c_3246_11eb_bbec_833b75007731row3_col7\" class=\"data row3 col7\" >0.16</td>\n",
       "                        <td id=\"T_ac655b8c_3246_11eb_bbec_833b75007731row3_col8\" class=\"data row3 col8\" >0.16</td>\n",
       "                        <td id=\"T_ac655b8c_3246_11eb_bbec_833b75007731row3_col9\" class=\"data row3 col9\" >0.16</td>\n",
       "                        <td id=\"T_ac655b8c_3246_11eb_bbec_833b75007731row3_col10\" class=\"data row3 col10\" >0.08</td>\n",
       "                        <td id=\"T_ac655b8c_3246_11eb_bbec_833b75007731row3_col11\" class=\"data row3 col11\" >-0.15</td>\n",
       "                        <td id=\"T_ac655b8c_3246_11eb_bbec_833b75007731row3_col12\" class=\"data row3 col12\" >0.13</td>\n",
       "                        <td id=\"T_ac655b8c_3246_11eb_bbec_833b75007731row3_col13\" class=\"data row3 col13\" >0.16</td>\n",
       "            </tr>\n",
       "            <tr>\n",
       "                        <th id=\"T_ac655b8c_3246_11eb_bbec_833b75007731level0_row4\" class=\"row_heading level0 row4\" >total_tests_per_thousand</th>\n",
       "                        <td id=\"T_ac655b8c_3246_11eb_bbec_833b75007731row4_col0\" class=\"data row4 col0\" >0.56</td>\n",
       "                        <td id=\"T_ac655b8c_3246_11eb_bbec_833b75007731row4_col1\" class=\"data row4 col1\" >0.22</td>\n",
       "                        <td id=\"T_ac655b8c_3246_11eb_bbec_833b75007731row4_col2\" class=\"data row4 col2\" >0.39</td>\n",
       "                        <td id=\"T_ac655b8c_3246_11eb_bbec_833b75007731row4_col3\" class=\"data row4 col3\" >0.10</td>\n",
       "                        <td id=\"T_ac655b8c_3246_11eb_bbec_833b75007731row4_col4\" class=\"data row4 col4\" >1.00</td>\n",
       "                        <td id=\"T_ac655b8c_3246_11eb_bbec_833b75007731row4_col5\" class=\"data row4 col5\" >-0.14</td>\n",
       "                        <td id=\"T_ac655b8c_3246_11eb_bbec_833b75007731row4_col6\" class=\"data row4 col6\" >0.17</td>\n",
       "                        <td id=\"T_ac655b8c_3246_11eb_bbec_833b75007731row4_col7\" class=\"data row4 col7\" >0.23</td>\n",
       "                        <td id=\"T_ac655b8c_3246_11eb_bbec_833b75007731row4_col8\" class=\"data row4 col8\" >0.14</td>\n",
       "                        <td id=\"T_ac655b8c_3246_11eb_bbec_833b75007731row4_col9\" class=\"data row4 col9\" >0.15</td>\n",
       "                        <td id=\"T_ac655b8c_3246_11eb_bbec_833b75007731row4_col10\" class=\"data row4 col10\" >0.46</td>\n",
       "                        <td id=\"T_ac655b8c_3246_11eb_bbec_833b75007731row4_col11\" class=\"data row4 col11\" >-0.21</td>\n",
       "                        <td id=\"T_ac655b8c_3246_11eb_bbec_833b75007731row4_col12\" class=\"data row4 col12\" >0.29</td>\n",
       "                        <td id=\"T_ac655b8c_3246_11eb_bbec_833b75007731row4_col13\" class=\"data row4 col13\" >0.34</td>\n",
       "            </tr>\n",
       "            <tr>\n",
       "                        <th id=\"T_ac655b8c_3246_11eb_bbec_833b75007731level0_row5\" class=\"row_heading level0 row5\" >stringency_index</th>\n",
       "                        <td id=\"T_ac655b8c_3246_11eb_bbec_833b75007731row5_col0\" class=\"data row5 col0\" >0.04</td>\n",
       "                        <td id=\"T_ac655b8c_3246_11eb_bbec_833b75007731row5_col1\" class=\"data row5 col1\" >-0.01</td>\n",
       "                        <td id=\"T_ac655b8c_3246_11eb_bbec_833b75007731row5_col2\" class=\"data row5 col2\" >0.10</td>\n",
       "                        <td id=\"T_ac655b8c_3246_11eb_bbec_833b75007731row5_col3\" class=\"data row5 col3\" >0.13</td>\n",
       "                        <td id=\"T_ac655b8c_3246_11eb_bbec_833b75007731row5_col4\" class=\"data row5 col4\" >-0.14</td>\n",
       "                        <td id=\"T_ac655b8c_3246_11eb_bbec_833b75007731row5_col5\" class=\"data row5 col5\" >1.00</td>\n",
       "                        <td id=\"T_ac655b8c_3246_11eb_bbec_833b75007731row5_col6\" class=\"data row5 col6\" >-0.08</td>\n",
       "                        <td id=\"T_ac655b8c_3246_11eb_bbec_833b75007731row5_col7\" class=\"data row5 col7\" >-0.17</td>\n",
       "                        <td id=\"T_ac655b8c_3246_11eb_bbec_833b75007731row5_col8\" class=\"data row5 col8\" >-0.19</td>\n",
       "                        <td id=\"T_ac655b8c_3246_11eb_bbec_833b75007731row5_col9\" class=\"data row5 col9\" >-0.19</td>\n",
       "                        <td id=\"T_ac655b8c_3246_11eb_bbec_833b75007731row5_col10\" class=\"data row5 col10\" >-0.16</td>\n",
       "                        <td id=\"T_ac655b8c_3246_11eb_bbec_833b75007731row5_col11\" class=\"data row5 col11\" >-0.02</td>\n",
       "                        <td id=\"T_ac655b8c_3246_11eb_bbec_833b75007731row5_col12\" class=\"data row5 col12\" >-0.11</td>\n",
       "                        <td id=\"T_ac655b8c_3246_11eb_bbec_833b75007731row5_col13\" class=\"data row5 col13\" >-0.13</td>\n",
       "            </tr>\n",
       "            <tr>\n",
       "                        <th id=\"T_ac655b8c_3246_11eb_bbec_833b75007731level0_row6\" class=\"row_heading level0 row6\" >population_density</th>\n",
       "                        <td id=\"T_ac655b8c_3246_11eb_bbec_833b75007731row6_col0\" class=\"data row6 col0\" >0.05</td>\n",
       "                        <td id=\"T_ac655b8c_3246_11eb_bbec_833b75007731row6_col1\" class=\"data row6 col1\" >-0.03</td>\n",
       "                        <td id=\"T_ac655b8c_3246_11eb_bbec_833b75007731row6_col2\" class=\"data row6 col2\" >0.02</td>\n",
       "                        <td id=\"T_ac655b8c_3246_11eb_bbec_833b75007731row6_col3\" class=\"data row6 col3\" >-0.02</td>\n",
       "                        <td id=\"T_ac655b8c_3246_11eb_bbec_833b75007731row6_col4\" class=\"data row6 col4\" >0.17</td>\n",
       "                        <td id=\"T_ac655b8c_3246_11eb_bbec_833b75007731row6_col5\" class=\"data row6 col5\" >-0.08</td>\n",
       "                        <td id=\"T_ac655b8c_3246_11eb_bbec_833b75007731row6_col6\" class=\"data row6 col6\" >1.00</td>\n",
       "                        <td id=\"T_ac655b8c_3246_11eb_bbec_833b75007731row6_col7\" class=\"data row6 col7\" >0.14</td>\n",
       "                        <td id=\"T_ac655b8c_3246_11eb_bbec_833b75007731row6_col8\" class=\"data row6 col8\" >0.07</td>\n",
       "                        <td id=\"T_ac655b8c_3246_11eb_bbec_833b75007731row6_col9\" class=\"data row6 col9\" >0.04</td>\n",
       "                        <td id=\"T_ac655b8c_3246_11eb_bbec_833b75007731row6_col10\" class=\"data row6 col10\" >0.30</td>\n",
       "                        <td id=\"T_ac655b8c_3246_11eb_bbec_833b75007731row6_col11\" class=\"data row6 col11\" >-0.03</td>\n",
       "                        <td id=\"T_ac655b8c_3246_11eb_bbec_833b75007731row6_col12\" class=\"data row6 col12\" >0.21</td>\n",
       "                        <td id=\"T_ac655b8c_3246_11eb_bbec_833b75007731row6_col13\" class=\"data row6 col13\" >0.15</td>\n",
       "            </tr>\n",
       "            <tr>\n",
       "                        <th id=\"T_ac655b8c_3246_11eb_bbec_833b75007731level0_row7\" class=\"row_heading level0 row7\" >median_age</th>\n",
       "                        <td id=\"T_ac655b8c_3246_11eb_bbec_833b75007731row7_col0\" class=\"data row7 col0\" >0.21</td>\n",
       "                        <td id=\"T_ac655b8c_3246_11eb_bbec_833b75007731row7_col1\" class=\"data row7 col1\" >0.29</td>\n",
       "                        <td id=\"T_ac655b8c_3246_11eb_bbec_833b75007731row7_col2\" class=\"data row7 col2\" >0.20</td>\n",
       "                        <td id=\"T_ac655b8c_3246_11eb_bbec_833b75007731row7_col3\" class=\"data row7 col3\" >0.16</td>\n",
       "                        <td id=\"T_ac655b8c_3246_11eb_bbec_833b75007731row7_col4\" class=\"data row7 col4\" >0.23</td>\n",
       "                        <td id=\"T_ac655b8c_3246_11eb_bbec_833b75007731row7_col5\" class=\"data row7 col5\" >-0.17</td>\n",
       "                        <td id=\"T_ac655b8c_3246_11eb_bbec_833b75007731row7_col6\" class=\"data row7 col6\" >0.14</td>\n",
       "                        <td id=\"T_ac655b8c_3246_11eb_bbec_833b75007731row7_col7\" class=\"data row7 col7\" >1.00</td>\n",
       "                        <td id=\"T_ac655b8c_3246_11eb_bbec_833b75007731row7_col8\" class=\"data row7 col8\" >0.91</td>\n",
       "                        <td id=\"T_ac655b8c_3246_11eb_bbec_833b75007731row7_col9\" class=\"data row7 col9\" >0.90</td>\n",
       "                        <td id=\"T_ac655b8c_3246_11eb_bbec_833b75007731row7_col10\" class=\"data row7 col10\" >0.63</td>\n",
       "                        <td id=\"T_ac655b8c_3246_11eb_bbec_833b75007731row7_col11\" class=\"data row7 col11\" >-0.69</td>\n",
       "                        <td id=\"T_ac655b8c_3246_11eb_bbec_833b75007731row7_col12\" class=\"data row7 col12\" >0.85</td>\n",
       "                        <td id=\"T_ac655b8c_3246_11eb_bbec_833b75007731row7_col13\" class=\"data row7 col13\" >0.89</td>\n",
       "            </tr>\n",
       "            <tr>\n",
       "                        <th id=\"T_ac655b8c_3246_11eb_bbec_833b75007731level0_row8\" class=\"row_heading level0 row8\" >aged_65_older</th>\n",
       "                        <td id=\"T_ac655b8c_3246_11eb_bbec_833b75007731row8_col0\" class=\"data row8 col0\" >0.12</td>\n",
       "                        <td id=\"T_ac655b8c_3246_11eb_bbec_833b75007731row8_col1\" class=\"data row8 col1\" >0.31</td>\n",
       "                        <td id=\"T_ac655b8c_3246_11eb_bbec_833b75007731row8_col2\" class=\"data row8 col2\" >0.17</td>\n",
       "                        <td id=\"T_ac655b8c_3246_11eb_bbec_833b75007731row8_col3\" class=\"data row8 col3\" >0.16</td>\n",
       "                        <td id=\"T_ac655b8c_3246_11eb_bbec_833b75007731row8_col4\" class=\"data row8 col4\" >0.14</td>\n",
       "                        <td id=\"T_ac655b8c_3246_11eb_bbec_833b75007731row8_col5\" class=\"data row8 col5\" >-0.19</td>\n",
       "                        <td id=\"T_ac655b8c_3246_11eb_bbec_833b75007731row8_col6\" class=\"data row8 col6\" >0.07</td>\n",
       "                        <td id=\"T_ac655b8c_3246_11eb_bbec_833b75007731row8_col7\" class=\"data row8 col7\" >0.91</td>\n",
       "                        <td id=\"T_ac655b8c_3246_11eb_bbec_833b75007731row8_col8\" class=\"data row8 col8\" >1.00</td>\n",
       "                        <td id=\"T_ac655b8c_3246_11eb_bbec_833b75007731row8_col9\" class=\"data row8 col9\" >0.99</td>\n",
       "                        <td id=\"T_ac655b8c_3246_11eb_bbec_833b75007731row8_col10\" class=\"data row8 col10\" >0.49</td>\n",
       "                        <td id=\"T_ac655b8c_3246_11eb_bbec_833b75007731row8_col11\" class=\"data row8 col11\" >-0.57</td>\n",
       "                        <td id=\"T_ac655b8c_3246_11eb_bbec_833b75007731row8_col12\" class=\"data row8 col12\" >0.73</td>\n",
       "                        <td id=\"T_ac655b8c_3246_11eb_bbec_833b75007731row8_col13\" class=\"data row8 col13\" >0.76</td>\n",
       "            </tr>\n",
       "            <tr>\n",
       "                        <th id=\"T_ac655b8c_3246_11eb_bbec_833b75007731level0_row9\" class=\"row_heading level0 row9\" >aged_70_older</th>\n",
       "                        <td id=\"T_ac655b8c_3246_11eb_bbec_833b75007731row9_col0\" class=\"data row9 col0\" >0.12</td>\n",
       "                        <td id=\"T_ac655b8c_3246_11eb_bbec_833b75007731row9_col1\" class=\"data row9 col1\" >0.32</td>\n",
       "                        <td id=\"T_ac655b8c_3246_11eb_bbec_833b75007731row9_col2\" class=\"data row9 col2\" >0.17</td>\n",
       "                        <td id=\"T_ac655b8c_3246_11eb_bbec_833b75007731row9_col3\" class=\"data row9 col3\" >0.16</td>\n",
       "                        <td id=\"T_ac655b8c_3246_11eb_bbec_833b75007731row9_col4\" class=\"data row9 col4\" >0.15</td>\n",
       "                        <td id=\"T_ac655b8c_3246_11eb_bbec_833b75007731row9_col5\" class=\"data row9 col5\" >-0.19</td>\n",
       "                        <td id=\"T_ac655b8c_3246_11eb_bbec_833b75007731row9_col6\" class=\"data row9 col6\" >0.04</td>\n",
       "                        <td id=\"T_ac655b8c_3246_11eb_bbec_833b75007731row9_col7\" class=\"data row9 col7\" >0.90</td>\n",
       "                        <td id=\"T_ac655b8c_3246_11eb_bbec_833b75007731row9_col8\" class=\"data row9 col8\" >0.99</td>\n",
       "                        <td id=\"T_ac655b8c_3246_11eb_bbec_833b75007731row9_col9\" class=\"data row9 col9\" >1.00</td>\n",
       "                        <td id=\"T_ac655b8c_3246_11eb_bbec_833b75007731row9_col10\" class=\"data row9 col10\" >0.48</td>\n",
       "                        <td id=\"T_ac655b8c_3246_11eb_bbec_833b75007731row9_col11\" class=\"data row9 col11\" >-0.55</td>\n",
       "                        <td id=\"T_ac655b8c_3246_11eb_bbec_833b75007731row9_col12\" class=\"data row9 col12\" >0.72</td>\n",
       "                        <td id=\"T_ac655b8c_3246_11eb_bbec_833b75007731row9_col13\" class=\"data row9 col13\" >0.75</td>\n",
       "            </tr>\n",
       "            <tr>\n",
       "                        <th id=\"T_ac655b8c_3246_11eb_bbec_833b75007731level0_row10\" class=\"row_heading level0 row10\" >gdp_per_capita</th>\n",
       "                        <td id=\"T_ac655b8c_3246_11eb_bbec_833b75007731row10_col0\" class=\"data row10 col0\" >0.36</td>\n",
       "                        <td id=\"T_ac655b8c_3246_11eb_bbec_833b75007731row10_col1\" class=\"data row10 col1\" >0.27</td>\n",
       "                        <td id=\"T_ac655b8c_3246_11eb_bbec_833b75007731row10_col2\" class=\"data row10 col2\" >0.19</td>\n",
       "                        <td id=\"T_ac655b8c_3246_11eb_bbec_833b75007731row10_col3\" class=\"data row10 col3\" >0.08</td>\n",
       "                        <td id=\"T_ac655b8c_3246_11eb_bbec_833b75007731row10_col4\" class=\"data row10 col4\" >0.46</td>\n",
       "                        <td id=\"T_ac655b8c_3246_11eb_bbec_833b75007731row10_col5\" class=\"data row10 col5\" >-0.16</td>\n",
       "                        <td id=\"T_ac655b8c_3246_11eb_bbec_833b75007731row10_col6\" class=\"data row10 col6\" >0.30</td>\n",
       "                        <td id=\"T_ac655b8c_3246_11eb_bbec_833b75007731row10_col7\" class=\"data row10 col7\" >0.63</td>\n",
       "                        <td id=\"T_ac655b8c_3246_11eb_bbec_833b75007731row10_col8\" class=\"data row10 col8\" >0.49</td>\n",
       "                        <td id=\"T_ac655b8c_3246_11eb_bbec_833b75007731row10_col9\" class=\"data row10 col9\" >0.48</td>\n",
       "                        <td id=\"T_ac655b8c_3246_11eb_bbec_833b75007731row10_col10\" class=\"data row10 col10\" >1.00</td>\n",
       "                        <td id=\"T_ac655b8c_3246_11eb_bbec_833b75007731row10_col11\" class=\"data row10 col11\" >-0.50</td>\n",
       "                        <td id=\"T_ac655b8c_3246_11eb_bbec_833b75007731row10_col12\" class=\"data row10 col12\" >0.68</td>\n",
       "                        <td id=\"T_ac655b8c_3246_11eb_bbec_833b75007731row10_col13\" class=\"data row10 col13\" >0.76</td>\n",
       "            </tr>\n",
       "            <tr>\n",
       "                        <th id=\"T_ac655b8c_3246_11eb_bbec_833b75007731level0_row11\" class=\"row_heading level0 row11\" >extreme_poverty</th>\n",
       "                        <td id=\"T_ac655b8c_3246_11eb_bbec_833b75007731row11_col0\" class=\"data row11 col0\" >-0.25</td>\n",
       "                        <td id=\"T_ac655b8c_3246_11eb_bbec_833b75007731row11_col1\" class=\"data row11 col1\" >-0.27</td>\n",
       "                        <td id=\"T_ac655b8c_3246_11eb_bbec_833b75007731row11_col2\" class=\"data row11 col2\" >-0.19</td>\n",
       "                        <td id=\"T_ac655b8c_3246_11eb_bbec_833b75007731row11_col3\" class=\"data row11 col3\" >-0.15</td>\n",
       "                        <td id=\"T_ac655b8c_3246_11eb_bbec_833b75007731row11_col4\" class=\"data row11 col4\" >-0.21</td>\n",
       "                        <td id=\"T_ac655b8c_3246_11eb_bbec_833b75007731row11_col5\" class=\"data row11 col5\" >-0.02</td>\n",
       "                        <td id=\"T_ac655b8c_3246_11eb_bbec_833b75007731row11_col6\" class=\"data row11 col6\" >-0.03</td>\n",
       "                        <td id=\"T_ac655b8c_3246_11eb_bbec_833b75007731row11_col7\" class=\"data row11 col7\" >-0.69</td>\n",
       "                        <td id=\"T_ac655b8c_3246_11eb_bbec_833b75007731row11_col8\" class=\"data row11 col8\" >-0.57</td>\n",
       "                        <td id=\"T_ac655b8c_3246_11eb_bbec_833b75007731row11_col9\" class=\"data row11 col9\" >-0.55</td>\n",
       "                        <td id=\"T_ac655b8c_3246_11eb_bbec_833b75007731row11_col10\" class=\"data row11 col10\" >-0.50</td>\n",
       "                        <td id=\"T_ac655b8c_3246_11eb_bbec_833b75007731row11_col11\" class=\"data row11 col11\" >1.00</td>\n",
       "                        <td id=\"T_ac655b8c_3246_11eb_bbec_833b75007731row11_col12\" class=\"data row11 col12\" >-0.75</td>\n",
       "                        <td id=\"T_ac655b8c_3246_11eb_bbec_833b75007731row11_col13\" class=\"data row11 col13\" >-0.77</td>\n",
       "            </tr>\n",
       "            <tr>\n",
       "                        <th id=\"T_ac655b8c_3246_11eb_bbec_833b75007731level0_row12\" class=\"row_heading level0 row12\" >life_expectancy</th>\n",
       "                        <td id=\"T_ac655b8c_3246_11eb_bbec_833b75007731row12_col0\" class=\"data row12 col0\" >0.28</td>\n",
       "                        <td id=\"T_ac655b8c_3246_11eb_bbec_833b75007731row12_col1\" class=\"data row12 col1\" >0.34</td>\n",
       "                        <td id=\"T_ac655b8c_3246_11eb_bbec_833b75007731row12_col2\" class=\"data row12 col2\" >0.18</td>\n",
       "                        <td id=\"T_ac655b8c_3246_11eb_bbec_833b75007731row12_col3\" class=\"data row12 col3\" >0.13</td>\n",
       "                        <td id=\"T_ac655b8c_3246_11eb_bbec_833b75007731row12_col4\" class=\"data row12 col4\" >0.29</td>\n",
       "                        <td id=\"T_ac655b8c_3246_11eb_bbec_833b75007731row12_col5\" class=\"data row12 col5\" >-0.11</td>\n",
       "                        <td id=\"T_ac655b8c_3246_11eb_bbec_833b75007731row12_col6\" class=\"data row12 col6\" >0.21</td>\n",
       "                        <td id=\"T_ac655b8c_3246_11eb_bbec_833b75007731row12_col7\" class=\"data row12 col7\" >0.85</td>\n",
       "                        <td id=\"T_ac655b8c_3246_11eb_bbec_833b75007731row12_col8\" class=\"data row12 col8\" >0.73</td>\n",
       "                        <td id=\"T_ac655b8c_3246_11eb_bbec_833b75007731row12_col9\" class=\"data row12 col9\" >0.72</td>\n",
       "                        <td id=\"T_ac655b8c_3246_11eb_bbec_833b75007731row12_col10\" class=\"data row12 col10\" >0.68</td>\n",
       "                        <td id=\"T_ac655b8c_3246_11eb_bbec_833b75007731row12_col11\" class=\"data row12 col11\" >-0.75</td>\n",
       "                        <td id=\"T_ac655b8c_3246_11eb_bbec_833b75007731row12_col12\" class=\"data row12 col12\" >1.00</td>\n",
       "                        <td id=\"T_ac655b8c_3246_11eb_bbec_833b75007731row12_col13\" class=\"data row12 col13\" >0.91</td>\n",
       "            </tr>\n",
       "            <tr>\n",
       "                        <th id=\"T_ac655b8c_3246_11eb_bbec_833b75007731level0_row13\" class=\"row_heading level0 row13\" >human_development_index</th>\n",
       "                        <td id=\"T_ac655b8c_3246_11eb_bbec_833b75007731row13_col0\" class=\"data row13 col0\" >0.29</td>\n",
       "                        <td id=\"T_ac655b8c_3246_11eb_bbec_833b75007731row13_col1\" class=\"data row13 col1\" >0.34</td>\n",
       "                        <td id=\"T_ac655b8c_3246_11eb_bbec_833b75007731row13_col2\" class=\"data row13 col2\" >0.21</td>\n",
       "                        <td id=\"T_ac655b8c_3246_11eb_bbec_833b75007731row13_col3\" class=\"data row13 col3\" >0.16</td>\n",
       "                        <td id=\"T_ac655b8c_3246_11eb_bbec_833b75007731row13_col4\" class=\"data row13 col4\" >0.34</td>\n",
       "                        <td id=\"T_ac655b8c_3246_11eb_bbec_833b75007731row13_col5\" class=\"data row13 col5\" >-0.13</td>\n",
       "                        <td id=\"T_ac655b8c_3246_11eb_bbec_833b75007731row13_col6\" class=\"data row13 col6\" >0.15</td>\n",
       "                        <td id=\"T_ac655b8c_3246_11eb_bbec_833b75007731row13_col7\" class=\"data row13 col7\" >0.89</td>\n",
       "                        <td id=\"T_ac655b8c_3246_11eb_bbec_833b75007731row13_col8\" class=\"data row13 col8\" >0.76</td>\n",
       "                        <td id=\"T_ac655b8c_3246_11eb_bbec_833b75007731row13_col9\" class=\"data row13 col9\" >0.75</td>\n",
       "                        <td id=\"T_ac655b8c_3246_11eb_bbec_833b75007731row13_col10\" class=\"data row13 col10\" >0.76</td>\n",
       "                        <td id=\"T_ac655b8c_3246_11eb_bbec_833b75007731row13_col11\" class=\"data row13 col11\" >-0.77</td>\n",
       "                        <td id=\"T_ac655b8c_3246_11eb_bbec_833b75007731row13_col12\" class=\"data row13 col12\" >0.91</td>\n",
       "                        <td id=\"T_ac655b8c_3246_11eb_bbec_833b75007731row13_col13\" class=\"data row13 col13\" >1.00</td>\n",
       "            </tr>\n",
       "    </tbody></table>"
      ],
      "text/plain": [
       "<pandas.io.formats.style.Styler at 0x7f730c349860>"
      ]
     },
     "execution_count": 6,
     "metadata": {},
     "output_type": "execute_result"
    }
   ],
   "source": [
    "df2.corr().style.background_gradient(cmap='Blues').format(\"{:.2f}\")\n",
    "\n",
    "#idade mediana, renda per capta, expectativa de vida, idh"
   ]
  },
  {
   "cell_type": "markdown",
   "metadata": {},
   "source": [
    "#### Observações interessantes:\n",
    " total_cases_per_million  e new_deaths_smoothed_per_milliotem baixa relação com stringency_index\t \n",
    " \n",
    " extreme_poverty tem baixa correlação negativa com nivel de rigidez, new cases, new deaths , total cases\n",
    " \n",
    " gdp_per_capita tem relação fraca a moderada com total_tests_per_thousand\t\n",
    " \n",
    " densidade populacional tem correlação desprezível com total de casos, novos casos e novas mortes"
   ]
  },
  {
   "cell_type": "code",
   "execution_count": 7,
   "metadata": {},
   "outputs": [
    {
     "data": {
      "image/png": "[encoded data removed]",
      "text/plain": [
       "<Figure size 1152x720 with 16 Axes>"
      ]
     },
     "metadata": {
      "needs_background": "light"
     },
     "output_type": "display_data"
    }
   ],
   "source": [
    "from pandas.plotting import scatter_matrix\n",
    "\n",
    "attributes = [\"stringency_index\", \"extreme_poverty\", \"gdp_per_capita\", \"new_deaths_smoothed_per_million\"]\n",
    "\n",
    "scatter_matrix(df[attributes], alpha=.4, figsize=(16, 10));"
   ]
  },
  {
   "cell_type": "code",
   "execution_count": 8,
   "metadata": {},
   "outputs": [
    {
     "name": "stderr",
     "output_type": "stream",
     "text": [
      "/home/ubuntu/anaconda/lib/python3.7/site-packages/ipykernel_launcher.py:2: SettingWithCopyWarning: \n",
      "A value is trying to be set on a copy of a slice from a DataFrame.\n",
      "Try using .loc[row_indexer,col_indexer] = value instead\n",
      "\n",
      "See the caveats in the documentation: https://pandas.pydata.org/pandas-docs/stable/user_guide/indexing.html#returning-a-view-versus-a-copy\n",
      "  \n"
     ]
    }
   ],
   "source": [
    "#adicionando coluna referente aos meses para analises de médias mensais\n",
    "df2['month'] = df2['date'].dt.month"
   ]
  },
  {
   "cell_type": "code",
   "execution_count": 9,
   "metadata": {},
   "outputs": [],
   "source": [
    "df_eua = df2[(df2[\"location\"] == \"United States\") & (df2[\"month\"] < 11)]\n",
    "df_br = df2[(df2[\"location\"] == \"Brazil\") & (df2[\"month\"] < 11)]\n",
    "df_ge = df2[(df2[\"location\"] == \"Germany\") & (df2[\"month\"] < 11)]\n",
    "df_fr = df2[(df2[\"location\"] == \"France\") & (df2[\"month\"] < 11)]\n",
    "df_it = df2[(df2[\"location\"] == \"Italy\") & (df2[\"month\"] < 11)]\n",
    "df_pt = df2[(df2[\"location\"] == \"Portugal\") & (df2[\"month\"] < 11)]\n",
    "df_sp = df2[(df2[\"location\"] == \"Spain\") & (df2[\"month\"] < 11)]"
   ]
  },
  {
   "cell_type": "code",
   "execution_count": 10,
   "metadata": {},
   "outputs": [],
   "source": [
    "df_hm = df2[[\"population_density\", \"total_deaths_per_million\", \"extreme_poverty\", \"median_age\", \"gdp_per_capita\", \n",
    "     \"life_expectancy\",\"human_development_index\", \"total_tests_per_thousand\"]]"
   ]
  },
  {
   "cell_type": "code",
   "execution_count": 11,
   "metadata": {},
   "outputs": [
    {
     "data": {
      "image/png": "[encoded data removed]",
      "text/plain": [
       "<Figure size 432x288 with 2 Axes>"
      ]
     },
     "metadata": {
      "needs_background": "light"
     },
     "output_type": "display_data"
    }
   ],
   "source": [
    "sns.heatmap(round(df_hm.corr(), 2), vmin=-1, vmax=1, cmap=sns.diverging_palette(20, \n",
    "                    220, as_cmap=True), annot=True)\n",
    "\n",
    "plt.title(\"HeatMap - World\",  fontsize=20)\n",
    "\n",
    "plt.show;\n"
   ]
  },
  {
   "cell_type": "code",
   "execution_count": 21,
   "metadata": {},
   "outputs": [
    {
     "data": {
      "application/vnd.plotly.v1+json": {
       "config": {
        "plotlyServerURL": "https://plot.ly"
       },
       "data": [
        {
         "marker": {
          "color": "red"
         },
         "mode": "lines+markers",
         "name": "Brazil",
         "type": "scatter",
         "x": [
          1,
          2,
          3,
          4,
          5,
          6,
          7,
          8,
          9,
          10
         ],
         "y": [
          0.5,
          5.6,
          44,
          75,
          80.5,
          77.3,
          80,
          72,
          69.2,
          62.7
         ]
        },
        {
         "marker": {
          "color": "green"
         },
         "mode": "lines+markers",
         "name": "France",
         "type": "scatter",
         "x": [
          1,
          2,
          3,
          4,
          5,
          6,
          7,
          8,
          9,
          10
         ],
         "y": [
          2.1,
          9.5,
          64.3,
          88,
          80.1,
          66.2,
          48.1,
          47.4,
          48.4,
          50.2
         ]
        },
        {
         "marker": {
          "color": "violet"
         },
         "mode": "lines+markers",
         "name": "Italy",
         "type": "scatter",
         "x": [
          1,
          2,
          3,
          4,
          5,
          6,
          7,
          8,
          9,
          10
         ],
         "y": [
          1.5,
          32.5,
          84.1,
          92.6,
          66.6,
          52,
          56,
          52.1,
          50.4,
          55.8
         ]
        },
        {
         "marker": {
          "color": "#EEEF63"
         },
         "mode": "lines+markers",
         "name": "Spain",
         "type": "scatter",
         "x": [
          1,
          2,
          3,
          4,
          5,
          6,
          7,
          8,
          9,
          10
         ],
         "y": [
          0.4,
          11.1,
          51.7,
          85.2,
          78.6,
          53.6,
          58.6,
          62.8,
          61,
          64.7
         ]
        },
        {
         "marker": {
          "color": "blue"
         },
         "mode": "lines+markers",
         "name": "USA",
         "type": "scatter",
         "x": [
          1,
          2,
          3,
          4,
          5,
          6,
          7,
          8,
          9,
          10
         ],
         "y": [
          0,
          5.4,
          45.8,
          72.7,
          72.7,
          70.7,
          68.3,
          67.1,
          64.2,
          64.1
         ]
        }
       ],
       "layout": {
        "template": {
         "data": {
          "bar": [
           {
            "error_x": {
             "color": "#f2f5fa"
            },
            "error_y": {
             "color": "#f2f5fa"
            },
            "marker": {
             "line": {
              "color": "rgb(17,17,17)",
              "width": 0.5
             }
            },
            "type": "bar"
           }
          ],
          "barpolar": [
           {
            "marker": {
             "line": {
              "color": "rgb(17,17,17)",
              "width": 0.5
             }
            },
            "type": "barpolar"
           }
          ],
          "carpet": [
           {
            "aaxis": {
             "endlinecolor": "#A2B1C6",
             "gridcolor": "#506784",
             "linecolor": "#506784",
             "minorgridcolor": "#506784",
             "startlinecolor": "#A2B1C6"
            },
            "baxis": {
             "endlinecolor": "#A2B1C6",
             "gridcolor": "#506784",
             "linecolor": "#506784",
             "minorgridcolor": "#506784",
             "startlinecolor": "#A2B1C6"
            },
            "type": "carpet"
           }
          ],
          "choropleth": [
           {
            "colorbar": {
             "outlinewidth": 0,
             "ticks": ""
            },
            "type": "choropleth"
           }
          ],
          "contour": [
           {
            "colorbar": {
             "outlinewidth": 0,
             "ticks": ""
            },
            "colorscale": [
             [
              0,
              "#0d0887"
             ],
             [
              0.1111111111111111,
              "#46039f"
             ],
             [
              0.2222222222222222,
              "#7201a8"
             ],
             [
              0.3333333333333333,
              "#9c179e"
             ],
             [
              0.4444444444444444,
              "#bd3786"
             ],
             [
              0.5555555555555556,
              "#d8576b"
             ],
             [
              0.6666666666666666,
              "#ed7953"
             ],
             [
              0.7777777777777778,
              "#fb9f3a"
             ],
             [
              0.8888888888888888,
              "#fdca26"
             ],
             [
              1,
              "#f0f921"
             ]
            ],
            "type": "contour"
           }
          ],
          "contourcarpet": [
           {
            "colorbar": {
             "outlinewidth": 0,
             "ticks": ""
            },
            "type": "contourcarpet"
           }
          ],
          "heatmap": [
           {
            "colorbar": {
             "outlinewidth": 0,
             "ticks": ""
            },
            "colorscale": [
             [
              0,
              "#0d0887"
             ],
             [
              0.1111111111111111,
              "#46039f"
             ],
             [
              0.2222222222222222,
              "#7201a8"
             ],
             [
              0.3333333333333333,
              "#9c179e"
             ],
             [
              0.4444444444444444,
              "#bd3786"
             ],
             [
              0.5555555555555556,
              "#d8576b"
             ],
             [
              0.6666666666666666,
              "#ed7953"
             ],
             [
              0.7777777777777778,
              "#fb9f3a"
             ],
             [
              0.8888888888888888,
              "#fdca26"
             ],
             [
              1,
              "#f0f921"
             ]
            ],
            "type": "heatmap"
           }
          ],
          "heatmapgl": [
           {
            "colorbar": {
             "outlinewidth": 0,
             "ticks": ""
            },
            "colorscale": [
             [
              0,
              "#0d0887"
             ],
             [
              0.1111111111111111,
              "#46039f"
             ],
             [
              0.2222222222222222,
              "#7201a8"
             ],
             [
              0.3333333333333333,
              "#9c179e"
             ],
             [
              0.4444444444444444,
              "#bd3786"
             ],
             [
              0.5555555555555556,
              "#d8576b"
             ],
             [
              0.6666666666666666,
              "#ed7953"
             ],
             [
              0.7777777777777778,
              "#fb9f3a"
             ],
             [
              0.8888888888888888,
              "#fdca26"
             ],
             [
              1,
              "#f0f921"
             ]
            ],
            "type": "heatmapgl"
           }
          ],
          "histogram": [
           {
            "marker": {
             "colorbar": {
              "outlinewidth": 0,
              "ticks": ""
             }
            },
            "type": "histogram"
           }
          ],
          "histogram2d": [
           {
            "colorbar": {
             "outlinewidth": 0,
             "ticks": ""
            },
            "colorscale": [
             [
              0,
              "#0d0887"
             ],
             [
              0.1111111111111111,
              "#46039f"
             ],
             [
              0.2222222222222222,
              "#7201a8"
             ],
             [
              0.3333333333333333,
              "#9c179e"
             ],
             [
              0.4444444444444444,
              "#bd3786"
             ],
             [
              0.5555555555555556,
              "#d8576b"
             ],
             [
              0.6666666666666666,
              "#ed7953"
             ],
             [
              0.7777777777777778,
              "#fb9f3a"
             ],
             [
              0.8888888888888888,
              "#fdca26"
             ],
             [
              1,
              "#f0f921"
             ]
            ],
            "type": "histogram2d"
           }
          ],
          "histogram2dcontour": [
           {
            "colorbar": {
             "outlinewidth": 0,
             "ticks": ""
            },
            "colorscale": [
             [
              0,
              "#0d0887"
             ],
             [
              0.1111111111111111,
              "#46039f"
             ],
             [
              0.2222222222222222,
              "#7201a8"
             ],
             [
              0.3333333333333333,
              "#9c179e"
             ],
             [
              0.4444444444444444,
              "#bd3786"
             ],
             [
              0.5555555555555556,
              "#d8576b"
             ],
             [
              0.6666666666666666,
              "#ed7953"
             ],
             [
              0.7777777777777778,
              "#fb9f3a"
             ],
             [
              0.8888888888888888,
              "#fdca26"
             ],
             [
              1,
              "#f0f921"
             ]
            ],
            "type": "histogram2dcontour"
           }
          ],
          "mesh3d": [
           {
            "colorbar": {
             "outlinewidth": 0,
             "ticks": ""
            },
            "type": "mesh3d"
           }
          ],
          "parcoords": [
           {
            "line": {
             "colorbar": {
              "outlinewidth": 0,
              "ticks": ""
             }
            },
            "type": "parcoords"
           }
          ],
          "pie": [
           {
            "automargin": true,
            "type": "pie"
           }
          ],
          "scatter": [
           {
            "marker": {
             "line": {
              "color": "#283442"
             }
            },
            "type": "scatter"
           }
          ],
          "scatter3d": [
           {
            "line": {
             "colorbar": {
              "outlinewidth": 0,
              "ticks": ""
             }
            },
            "marker": {
             "colorbar": {
              "outlinewidth": 0,
              "ticks": ""
             }
            },
            "type": "scatter3d"
           }
          ],
          "scattercarpet": [
           {
            "marker": {
             "colorbar": {
              "outlinewidth": 0,
              "ticks": ""
             }
            },
            "type": "scattercarpet"
           }
          ],
          "scattergeo": [
           {
            "marker": {
             "colorbar": {
              "outlinewidth": 0,
              "ticks": ""
             }
            },
            "type": "scattergeo"
           }
          ],
          "scattergl": [
           {
            "marker": {
             "line": {
              "color": "#283442"
             }
            },
            "type": "scattergl"
           }
          ],
          "scattermapbox": [
           {
            "marker": {
             "colorbar": {
              "outlinewidth": 0,
              "ticks": ""
             }
            },
            "type": "scattermapbox"
           }
          ],
          "scatterpolar": [
           {
            "marker": {
             "colorbar": {
              "outlinewidth": 0,
              "ticks": ""
             }
            },
            "type": "scatterpolar"
           }
          ],
          "scatterpolargl": [
           {
            "marker": {
             "colorbar": {
              "outlinewidth": 0,
              "ticks": ""
             }
            },
            "type": "scatterpolargl"
           }
          ],
          "scatterternary": [
           {
            "marker": {
             "colorbar": {
              "outlinewidth": 0,
              "ticks": ""
             }
            },
            "type": "scatterternary"
           }
          ],
          "surface": [
           {
            "colorbar": {
             "outlinewidth": 0,
             "ticks": ""
            },
            "colorscale": [
             [
              0,
              "#0d0887"
             ],
             [
              0.1111111111111111,
              "#46039f"
             ],
             [
              0.2222222222222222,
              "#7201a8"
             ],
             [
              0.3333333333333333,
              "#9c179e"
             ],
             [
              0.4444444444444444,
              "#bd3786"
             ],
             [
              0.5555555555555556,
              "#d8576b"
             ],
             [
              0.6666666666666666,
              "#ed7953"
             ],
             [
              0.7777777777777778,
              "#fb9f3a"
             ],
             [
              0.8888888888888888,
              "#fdca26"
             ],
             [
              1,
              "#f0f921"
             ]
            ],
            "type": "surface"
           }
          ],
          "table": [
           {
            "cells": {
             "fill": {
              "color": "#506784"
             },
             "line": {
              "color": "rgb(17,17,17)"
             }
            },
            "header": {
             "fill": {
              "color": "#2a3f5f"
             },
             "line": {
              "color": "rgb(17,17,17)"
             }
            },
            "type": "table"
           }
          ]
         },
         "layout": {
          "annotationdefaults": {
           "arrowcolor": "#f2f5fa",
           "arrowhead": 0,
           "arrowwidth": 1
          },
          "coloraxis": {
           "colorbar": {
            "outlinewidth": 0,
            "ticks": ""
           }
          },
          "colorscale": {
           "diverging": [
            [
             0,
             "#8e0152"
            ],
            [
             0.1,
             "#c51b7d"
            ],
            [
             0.2,
             "#de77ae"
            ],
            [
             0.3,
             "#f1b6da"
            ],
            [
             0.4,
             "#fde0ef"
            ],
            [
             0.5,
             "#f7f7f7"
            ],
            [
             0.6,
             "#e6f5d0"
            ],
            [
             0.7,
             "#b8e186"
            ],
            [
             0.8,
             "#7fbc41"
            ],
            [
             0.9,
             "#4d9221"
            ],
            [
             1,
             "#276419"
            ]
           ],
           "sequential": [
            [
             0,
             "#0d0887"
            ],
            [
             0.1111111111111111,
             "#46039f"
            ],
            [
             0.2222222222222222,
             "#7201a8"
            ],
            [
             0.3333333333333333,
             "#9c179e"
            ],
            [
             0.4444444444444444,
             "#bd3786"
            ],
            [
             0.5555555555555556,
             "#d8576b"
            ],
            [
             0.6666666666666666,
             "#ed7953"
            ],
            [
             0.7777777777777778,
             "#fb9f3a"
            ],
            [
             0.8888888888888888,
             "#fdca26"
            ],
            [
             1,
             "#f0f921"
            ]
           ],
           "sequentialminus": [
            [
             0,
             "#0d0887"
            ],
            [
             0.1111111111111111,
             "#46039f"
            ],
            [
             0.2222222222222222,
             "#7201a8"
            ],
            [
             0.3333333333333333,
             "#9c179e"
            ],
            [
             0.4444444444444444,
             "#bd3786"
            ],
            [
             0.5555555555555556,
             "#d8576b"
            ],
            [
             0.6666666666666666,
             "#ed7953"
            ],
            [
             0.7777777777777778,
             "#fb9f3a"
            ],
            [
             0.8888888888888888,
             "#fdca26"
            ],
            [
             1,
             "#f0f921"
            ]
           ]
          },
          "colorway": [
           "#636efa",
           "#EF553B",
           "#00cc96",
           "#ab63fa",
           "#FFA15A",
           "#19d3f3",
           "#FF6692",
           "#B6E880",
           "#FF97FF",
           "#FECB52"
          ],
          "font": {
           "color": "#f2f5fa"
          },
          "geo": {
           "bgcolor": "rgb(17,17,17)",
           "lakecolor": "rgb(17,17,17)",
           "landcolor": "rgb(17,17,17)",
           "showlakes": true,
           "showland": true,
           "subunitcolor": "#506784"
          },
          "hoverlabel": {
           "align": "left"
          },
          "hovermode": "closest",
          "mapbox": {
           "style": "dark"
          },
          "paper_bgcolor": "rgb(17,17,17)",
          "plot_bgcolor": "rgb(17,17,17)",
          "polar": {
           "angularaxis": {
            "gridcolor": "#506784",
            "linecolor": "#506784",
            "ticks": ""
           },
           "bgcolor": "rgb(17,17,17)",
           "radialaxis": {
            "gridcolor": "#506784",
            "linecolor": "#506784",
            "ticks": ""
           }
          },
          "scene": {
           "xaxis": {
            "backgroundcolor": "rgb(17,17,17)",
            "gridcolor": "#506784",
            "gridwidth": 2,
            "linecolor": "#506784",
            "showbackground": true,
            "ticks": "",
            "zerolinecolor": "#C8D4E3"
           },
           "yaxis": {
            "backgroundcolor": "rgb(17,17,17)",
            "gridcolor": "#506784",
            "gridwidth": 2,
            "linecolor": "#506784",
            "showbackground": true,
            "ticks": "",
            "zerolinecolor": "#C8D4E3"
           },
           "zaxis": {
            "backgroundcolor": "rgb(17,17,17)",
            "gridcolor": "#506784",
            "gridwidth": 2,
            "linecolor": "#506784",
            "showbackground": true,
            "ticks": "",
            "zerolinecolor": "#C8D4E3"
           }
          },
          "shapedefaults": {
           "line": {
            "color": "#f2f5fa"
           }
          },
          "sliderdefaults": {
           "bgcolor": "#C8D4E3",
           "bordercolor": "rgb(17,17,17)",
           "borderwidth": 1,
           "tickwidth": 0
          },
          "ternary": {
           "aaxis": {
            "gridcolor": "#506784",
            "linecolor": "#506784",
            "ticks": ""
           },
           "baxis": {
            "gridcolor": "#506784",
            "linecolor": "#506784",
            "ticks": ""
           },
           "bgcolor": "rgb(17,17,17)",
           "caxis": {
            "gridcolor": "#506784",
            "linecolor": "#506784",
            "ticks": ""
           }
          },
          "title": {
           "x": 0.05
          },
          "updatemenudefaults": {
           "bgcolor": "#506784",
           "borderwidth": 0
          },
          "xaxis": {
           "automargin": true,
           "gridcolor": "#283442",
           "linecolor": "#506784",
           "ticks": "",
           "title": {
            "standoff": 15
           },
           "zerolinecolor": "#283442",
           "zerolinewidth": 2
          },
          "yaxis": {
           "automargin": true,
           "gridcolor": "#283442",
           "linecolor": "#506784",
           "ticks": "",
           "title": {
            "standoff": 15
           },
           "zerolinecolor": "#283442",
           "zerolinewidth": 2
          }
         }
        },
        "title": {
         "text": " "
        },
        "xaxis": {
         "dtick": 1,
         "tick0": 1,
         "tickmode": "linear",
         "title": {
          "text": "Month"
         }
        },
        "yaxis": {
         "title": {
          "text": "Monthly Mean"
         }
        }
       }
      },
      "text/html": [
       "<div>                            <div id=\"0fa7626c-2f34-4f31-87f1-13c01059e85c\" class=\"plotly-graph-div\" style=\"height:525px; width:100%;\"></div>            <script type=\"text/javascript\">                require([\"plotly\"], function(Plotly) {                    window.PLOTLYENV=window.PLOTLYENV || {};                                    if (document.getElementById(\"0fa7626c-2f34-4f31-87f1-13c01059e85c\")) {                    Plotly.newPlot(                        \"0fa7626c-2f34-4f31-87f1-13c01059e85c\",                        [{\"marker\": {\"color\": \"red\"}, \"mode\": \"lines+markers\", \"name\": \"Brazil\", \"type\": \"scatter\", \"x\": [1, 2, 3, 4, 5, 6, 7, 8, 9, 10], \"y\": [0.5, 5.6, 44.0, 75.0, 80.5, 77.3, 80.0, 72.0, 69.2, 62.7]}, {\"marker\": {\"color\": \"green\"}, \"mode\": \"lines+markers\", \"name\": \"France\", \"type\": \"scatter\", \"x\": [1, 2, 3, 4, 5, 6, 7, 8, 9, 10], \"y\": [2.1, 9.5, 64.3, 88.0, 80.1, 66.2, 48.1, 47.4, 48.4, 50.2]}, {\"marker\": {\"color\": \"violet\"}, \"mode\": \"lines+markers\", \"name\": \"Italy\", \"type\": \"scatter\", \"x\": [1, 2, 3, 4, 5, 6, 7, 8, 9, 10], \"y\": [1.5, 32.5, 84.1, 92.6, 66.6, 52.0, 56.0, 52.1, 50.4, 55.8]}, {\"marker\": {\"color\": \"#EEEF63\"}, \"mode\": \"lines+markers\", \"name\": \"Spain\", \"type\": \"scatter\", \"x\": [1, 2, 3, 4, 5, 6, 7, 8, 9, 10], \"y\": [0.4, 11.1, 51.7, 85.2, 78.6, 53.6, 58.6, 62.8, 61.0, 64.7]}, {\"marker\": {\"color\": \"blue\"}, \"mode\": \"lines+markers\", \"name\": \"USA\", \"type\": \"scatter\", \"x\": [1, 2, 3, 4, 5, 6, 7, 8, 9, 10], \"y\": [0.0, 5.4, 45.8, 72.7, 72.7, 70.7, 68.3, 67.1, 64.2, 64.1]}],                        {\"template\": {\"data\": {\"bar\": [{\"error_x\": {\"color\": \"#f2f5fa\"}, \"error_y\": {\"color\": \"#f2f5fa\"}, \"marker\": {\"line\": {\"color\": \"rgb(17,17,17)\", \"width\": 0.5}}, \"type\": \"bar\"}], \"barpolar\": [{\"marker\": {\"line\": {\"color\": \"rgb(17,17,17)\", \"width\": 0.5}}, \"type\": \"barpolar\"}], \"carpet\": [{\"aaxis\": {\"endlinecolor\": \"#A2B1C6\", \"gridcolor\": \"#506784\", \"linecolor\": \"#506784\", \"minorgridcolor\": \"#506784\", \"startlinecolor\": \"#A2B1C6\"}, \"baxis\": {\"endlinecolor\": \"#A2B1C6\", \"gridcolor\": \"#506784\", \"linecolor\": \"#506784\", \"minorgridcolor\": \"#506784\", \"startlinecolor\": \"#A2B1C6\"}, \"type\": \"carpet\"}], \"choropleth\": [{\"colorbar\": {\"outlinewidth\": 0, \"ticks\": \"\"}, \"type\": \"choropleth\"}], \"contour\": [{\"colorbar\": {\"outlinewidth\": 0, \"ticks\": \"\"}, \"colorscale\": [[0.0, \"#0d0887\"], [0.1111111111111111, \"#46039f\"], [0.2222222222222222, \"#7201a8\"], [0.3333333333333333, \"#9c179e\"], [0.4444444444444444, \"#bd3786\"], [0.5555555555555556, \"#d8576b\"], [0.6666666666666666, \"#ed7953\"], [0.7777777777777778, \"#fb9f3a\"], [0.8888888888888888, \"#fdca26\"], [1.0, \"#f0f921\"]], \"type\": \"contour\"}], \"contourcarpet\": [{\"colorbar\": {\"outlinewidth\": 0, \"ticks\": \"\"}, \"type\": \"contourcarpet\"}], \"heatmap\": [{\"colorbar\": {\"outlinewidth\": 0, \"ticks\": \"\"}, \"colorscale\": [[0.0, \"#0d0887\"], [0.1111111111111111, \"#46039f\"], [0.2222222222222222, \"#7201a8\"], [0.3333333333333333, \"#9c179e\"], [0.4444444444444444, \"#bd3786\"], [0.5555555555555556, \"#d8576b\"], [0.6666666666666666, \"#ed7953\"], [0.7777777777777778, \"#fb9f3a\"], [0.8888888888888888, \"#fdca26\"], [1.0, \"#f0f921\"]], \"type\": \"heatmap\"}], \"heatmapgl\": [{\"colorbar\": {\"outlinewidth\": 0, \"ticks\": \"\"}, \"colorscale\": [[0.0, \"#0d0887\"], [0.1111111111111111, \"#46039f\"], [0.2222222222222222, \"#7201a8\"], [0.3333333333333333, \"#9c179e\"], [0.4444444444444444, \"#bd3786\"], [0.5555555555555556, \"#d8576b\"], [0.6666666666666666, \"#ed7953\"], [0.7777777777777778, \"#fb9f3a\"], [0.8888888888888888, \"#fdca26\"], [1.0, \"#f0f921\"]], \"type\": \"heatmapgl\"}], \"histogram\": [{\"marker\": {\"colorbar\": {\"outlinewidth\": 0, \"ticks\": \"\"}}, \"type\": \"histogram\"}], \"histogram2d\": [{\"colorbar\": {\"outlinewidth\": 0, \"ticks\": \"\"}, \"colorscale\": [[0.0, \"#0d0887\"], [0.1111111111111111, \"#46039f\"], [0.2222222222222222, \"#7201a8\"], [0.3333333333333333, \"#9c179e\"], [0.4444444444444444, \"#bd3786\"], [0.5555555555555556, \"#d8576b\"], [0.6666666666666666, \"#ed7953\"], [0.7777777777777778, \"#fb9f3a\"], [0.8888888888888888, \"#fdca26\"], [1.0, \"#f0f921\"]], \"type\": \"histogram2d\"}], \"histogram2dcontour\": [{\"colorbar\": {\"outlinewidth\": 0, \"ticks\": \"\"}, \"colorscale\": [[0.0, \"#0d0887\"], [0.1111111111111111, \"#46039f\"], [0.2222222222222222, \"#7201a8\"], [0.3333333333333333, \"#9c179e\"], [0.4444444444444444, \"#bd3786\"], [0.5555555555555556, \"#d8576b\"], [0.6666666666666666, \"#ed7953\"], [0.7777777777777778, \"#fb9f3a\"], [0.8888888888888888, \"#fdca26\"], [1.0, \"#f0f921\"]], \"type\": \"histogram2dcontour\"}], \"mesh3d\": [{\"colorbar\": {\"outlinewidth\": 0, \"ticks\": \"\"}, \"type\": \"mesh3d\"}], \"parcoords\": [{\"line\": {\"colorbar\": {\"outlinewidth\": 0, \"ticks\": \"\"}}, \"type\": \"parcoords\"}], \"pie\": [{\"automargin\": true, \"type\": \"pie\"}], \"scatter\": [{\"marker\": {\"line\": {\"color\": \"#283442\"}}, \"type\": \"scatter\"}], \"scatter3d\": [{\"line\": {\"colorbar\": {\"outlinewidth\": 0, \"ticks\": \"\"}}, \"marker\": {\"colorbar\": {\"outlinewidth\": 0, \"ticks\": \"\"}}, \"type\": \"scatter3d\"}], \"scattercarpet\": [{\"marker\": {\"colorbar\": {\"outlinewidth\": 0, \"ticks\": \"\"}}, \"type\": \"scattercarpet\"}], \"scattergeo\": [{\"marker\": {\"colorbar\": {\"outlinewidth\": 0, \"ticks\": \"\"}}, \"type\": \"scattergeo\"}], \"scattergl\": [{\"marker\": {\"line\": {\"color\": \"#283442\"}}, \"type\": \"scattergl\"}], \"scattermapbox\": [{\"marker\": {\"colorbar\": {\"outlinewidth\": 0, \"ticks\": \"\"}}, \"type\": \"scattermapbox\"}], \"scatterpolar\": [{\"marker\": {\"colorbar\": {\"outlinewidth\": 0, \"ticks\": \"\"}}, \"type\": \"scatterpolar\"}], \"scatterpolargl\": [{\"marker\": {\"colorbar\": {\"outlinewidth\": 0, \"ticks\": \"\"}}, \"type\": \"scatterpolargl\"}], \"scatterternary\": [{\"marker\": {\"colorbar\": {\"outlinewidth\": 0, \"ticks\": \"\"}}, \"type\": \"scatterternary\"}], \"surface\": [{\"colorbar\": {\"outlinewidth\": 0, \"ticks\": \"\"}, \"colorscale\": [[0.0, \"#0d0887\"], [0.1111111111111111, \"#46039f\"], [0.2222222222222222, \"#7201a8\"], [0.3333333333333333, \"#9c179e\"], [0.4444444444444444, \"#bd3786\"], [0.5555555555555556, \"#d8576b\"], [0.6666666666666666, \"#ed7953\"], [0.7777777777777778, \"#fb9f3a\"], [0.8888888888888888, \"#fdca26\"], [1.0, \"#f0f921\"]], \"type\": \"surface\"}], \"table\": [{\"cells\": {\"fill\": {\"color\": \"#506784\"}, \"line\": {\"color\": \"rgb(17,17,17)\"}}, \"header\": {\"fill\": {\"color\": \"#2a3f5f\"}, \"line\": {\"color\": \"rgb(17,17,17)\"}}, \"type\": \"table\"}]}, \"layout\": {\"annotationdefaults\": {\"arrowcolor\": \"#f2f5fa\", \"arrowhead\": 0, \"arrowwidth\": 1}, \"coloraxis\": {\"colorbar\": {\"outlinewidth\": 0, \"ticks\": \"\"}}, \"colorscale\": {\"diverging\": [[0, \"#8e0152\"], [0.1, \"#c51b7d\"], [0.2, \"#de77ae\"], [0.3, \"#f1b6da\"], [0.4, \"#fde0ef\"], [0.5, \"#f7f7f7\"], [0.6, \"#e6f5d0\"], [0.7, \"#b8e186\"], [0.8, \"#7fbc41\"], [0.9, \"#4d9221\"], [1, \"#276419\"]], \"sequential\": [[0.0, \"#0d0887\"], [0.1111111111111111, \"#46039f\"], [0.2222222222222222, \"#7201a8\"], [0.3333333333333333, \"#9c179e\"], [0.4444444444444444, \"#bd3786\"], [0.5555555555555556, \"#d8576b\"], [0.6666666666666666, \"#ed7953\"], [0.7777777777777778, \"#fb9f3a\"], [0.8888888888888888, \"#fdca26\"], [1.0, \"#f0f921\"]], \"sequentialminus\": [[0.0, \"#0d0887\"], [0.1111111111111111, \"#46039f\"], [0.2222222222222222, \"#7201a8\"], [0.3333333333333333, \"#9c179e\"], [0.4444444444444444, \"#bd3786\"], [0.5555555555555556, \"#d8576b\"], [0.6666666666666666, \"#ed7953\"], [0.7777777777777778, \"#fb9f3a\"], [0.8888888888888888, \"#fdca26\"], [1.0, \"#f0f921\"]]}, \"colorway\": [\"#636efa\", \"#EF553B\", \"#00cc96\", \"#ab63fa\", \"#FFA15A\", \"#19d3f3\", \"#FF6692\", \"#B6E880\", \"#FF97FF\", \"#FECB52\"], \"font\": {\"color\": \"#f2f5fa\"}, \"geo\": {\"bgcolor\": \"rgb(17,17,17)\", \"lakecolor\": \"rgb(17,17,17)\", \"landcolor\": \"rgb(17,17,17)\", \"showlakes\": true, \"showland\": true, \"subunitcolor\": \"#506784\"}, \"hoverlabel\": {\"align\": \"left\"}, \"hovermode\": \"closest\", \"mapbox\": {\"style\": \"dark\"}, \"paper_bgcolor\": \"rgb(17,17,17)\", \"plot_bgcolor\": \"rgb(17,17,17)\", \"polar\": {\"angularaxis\": {\"gridcolor\": \"#506784\", \"linecolor\": \"#506784\", \"ticks\": \"\"}, \"bgcolor\": \"rgb(17,17,17)\", \"radialaxis\": {\"gridcolor\": \"#506784\", \"linecolor\": \"#506784\", \"ticks\": \"\"}}, \"scene\": {\"xaxis\": {\"backgroundcolor\": \"rgb(17,17,17)\", \"gridcolor\": \"#506784\", \"gridwidth\": 2, \"linecolor\": \"#506784\", \"showbackground\": true, \"ticks\": \"\", \"zerolinecolor\": \"#C8D4E3\"}, \"yaxis\": {\"backgroundcolor\": \"rgb(17,17,17)\", \"gridcolor\": \"#506784\", \"gridwidth\": 2, \"linecolor\": \"#506784\", \"showbackground\": true, \"ticks\": \"\", \"zerolinecolor\": \"#C8D4E3\"}, \"zaxis\": {\"backgroundcolor\": \"rgb(17,17,17)\", \"gridcolor\": \"#506784\", \"gridwidth\": 2, \"linecolor\": \"#506784\", \"showbackground\": true, \"ticks\": \"\", \"zerolinecolor\": \"#C8D4E3\"}}, \"shapedefaults\": {\"line\": {\"color\": \"#f2f5fa\"}}, \"sliderdefaults\": {\"bgcolor\": \"#C8D4E3\", \"bordercolor\": \"rgb(17,17,17)\", \"borderwidth\": 1, \"tickwidth\": 0}, \"ternary\": {\"aaxis\": {\"gridcolor\": \"#506784\", \"linecolor\": \"#506784\", \"ticks\": \"\"}, \"baxis\": {\"gridcolor\": \"#506784\", \"linecolor\": \"#506784\", \"ticks\": \"\"}, \"bgcolor\": \"rgb(17,17,17)\", \"caxis\": {\"gridcolor\": \"#506784\", \"linecolor\": \"#506784\", \"ticks\": \"\"}}, \"title\": {\"x\": 0.05}, \"updatemenudefaults\": {\"bgcolor\": \"#506784\", \"borderwidth\": 0}, \"xaxis\": {\"automargin\": true, \"gridcolor\": \"#283442\", \"linecolor\": \"#506784\", \"ticks\": \"\", \"title\": {\"standoff\": 15}, \"zerolinecolor\": \"#283442\", \"zerolinewidth\": 2}, \"yaxis\": {\"automargin\": true, \"gridcolor\": \"#283442\", \"linecolor\": \"#506784\", \"ticks\": \"\", \"title\": {\"standoff\": 15}, \"zerolinecolor\": \"#283442\", \"zerolinewidth\": 2}}}, \"title\": {\"text\": \" \"}, \"xaxis\": {\"dtick\": 1, \"tick0\": 1, \"tickmode\": \"linear\", \"title\": {\"text\": \"Month\"}}, \"yaxis\": {\"title\": {\"text\": \"Monthly Mean\"}}},                        {\"responsive\": true}                    ).then(function(){\n",
       "                            \n",
       "var gd = document.getElementById('0fa7626c-2f34-4f31-87f1-13c01059e85c');\n",
       "var x = new MutationObserver(function (mutations, observer) {{\n",
       "        var display = window.getComputedStyle(gd).display;\n",
       "        if (!display || display === 'none') {{\n",
       "            console.log([gd, 'removed!']);\n",
       "            Plotly.purge(gd);\n",
       "            observer.disconnect();\n",
       "        }}\n",
       "}});\n",
       "\n",
       "// Listen for the removal of the full notebook cells\n",
       "var notebookContainer = gd.closest('#notebook-container');\n",
       "if (notebookContainer) {{\n",
       "    x.observe(notebookContainer, {childList: true});\n",
       "}}\n",
       "\n",
       "// Listen for the clearing of the current output cell\n",
       "var outputEl = gd.closest('.output');\n",
       "if (outputEl) {{\n",
       "    x.observe(outputEl, {childList: true});\n",
       "}}\n",
       "\n",
       "                        })                };                });            </script>        </div>"
      ]
     },
     "metadata": {},
     "output_type": "display_data"
    }
   ],
   "source": [
    "#Média Mensal do Índice de Rigor\n",
    "si_meanbr = round(df_br.groupby(\"month\")[\"stringency_index\"].mean(), 1)\n",
    "si_meanfr = round(df_fr.groupby(\"month\")[\"stringency_index\"].mean(), 1)\n",
    "si_meanit = round(df_it.groupby(\"month\")[\"stringency_index\"].mean(), 1)\n",
    "si_meansp = round(df_sp .groupby(\"month\")[\"stringency_index\"].mean(), 1)\n",
    "si_meaneua = round(df_eua.groupby(\"month\")[\"stringency_index\"].mean(), 1)\n",
    "\n",
    "date = si_meanbr.index.tolist() \n",
    "\n",
    "import plotly.graph_objects as go\n",
    "import plotly.express as px\n",
    "\n",
    "fig = go.Figure()\n",
    "\n",
    "fig.add_trace(go.Scatter(x= date, y= si_meanbr.values, mode='lines+markers',marker_color='red', name='Brazil'))\n",
    "fig.add_trace(go.Scatter(x= date, y= si_meanfr.values, mode='lines+markers',marker_color='green', name='France'))\n",
    "fig.add_trace(go.Scatter(x= date, y= si_meanit.values, mode='lines+markers',marker_color='violet', name='Italy'))\n",
    "fig.add_trace(go.Scatter(x= date, y= si_meansp.values, mode='lines+markers',marker_color='#EEEF63', name='Spain'))\n",
    "fig.add_trace(go.Scatter(x= date, y= si_meaneua.values, mode='lines+markers',marker_color='blue', name='USA'))\n",
    "\n",
    "fig.update_layout(title=' ', template='plotly_dark', yaxis_title=\"Monthly Mean\",xaxis_title=\"Month\")\n",
    "\n",
    "fig.update_layout(xaxis = dict(tickmode = 'linear', tick0 = 1, dtick = 1))\n"
   ]
  },
  {
   "cell_type": "code",
   "execution_count": 13,
   "metadata": {},
   "outputs": [
    {
     "data": {
      "application/vnd.plotly.v1+json": {
       "config": {
        "plotlyServerURL": "https://plot.ly"
       },
       "data": [
        {
         "marker": {
          "color": "red"
         },
         "mode": "lines+markers",
         "name": "Brazil",
         "type": "scatter",
         "x": [
          1,
          2,
          3,
          4,
          5,
          6,
          7,
          8,
          9,
          10
         ],
         "y": [
          0,
          0,
          0.7,
          11.5,
          63.8,
          136.4,
          188.5,
          190,
          143.5,
          112.2
         ]
        },
        {
         "marker": {
          "color": "green"
         },
         "mode": "lines+markers",
         "name": "France",
         "type": "scatter",
         "x": [
          1,
          2,
          3,
          4,
          5,
          6,
          7,
          8,
          9,
          10
         ],
         "y": [
          0,
          0,
          22,
          42.8,
          11.4,
          6.5,
          11,
          45.2,
          139.3,
          386.1
         ]
        },
        {
         "marker": {
          "color": "violet"
         },
         "mode": "lines+markers",
         "name": "Italy",
         "type": "scatter",
         "x": [
          1,
          2,
          3,
          4,
          5,
          6,
          7,
          8,
          9,
          10
         ],
         "y": [
          0,
          0.5,
          53.8,
          56.2,
          15.5,
          4.3,
          3.6,
          11.2,
          24.7,
          178.6
         ]
        },
        {
         "marker": {
          "color": "#EEEF63"
         },
         "mode": "lines+markers",
         "name": "Spain",
         "type": "scatter",
         "x": [
          1,
          2,
          3,
          4,
          5,
          6,
          7,
          8,
          9,
          10
         ],
         "y": [
          0,
          0,
          71.9,
          79.1,
          16.7,
          7,
          27.1,
          120.3,
          218.4,
          287.4
         ]
        },
        {
         "marker": {
          "color": "blue"
         },
         "mode": "lines+markers",
         "name": "USA",
         "type": "scatter",
         "x": [
          1,
          2,
          3,
          4,
          5,
          6,
          7,
          8,
          9,
          10
         ],
         "y": [
          0,
          0,
          16,
          88.1,
          71.2,
          82.6,
          185.6,
          146.4,
          120.2,
          180.9
         ]
        }
       ],
       "layout": {
        "template": {
         "data": {
          "bar": [
           {
            "error_x": {
             "color": "#f2f5fa"
            },
            "error_y": {
             "color": "#f2f5fa"
            },
            "marker": {
             "line": {
              "color": "rgb(17,17,17)",
              "width": 0.5
             }
            },
            "type": "bar"
           }
          ],
          "barpolar": [
           {
            "marker": {
             "line": {
              "color": "rgb(17,17,17)",
              "width": 0.5
             }
            },
            "type": "barpolar"
           }
          ],
          "carpet": [
           {
            "aaxis": {
             "endlinecolor": "#A2B1C6",
             "gridcolor": "#506784",
             "linecolor": "#506784",
             "minorgridcolor": "#506784",
             "startlinecolor": "#A2B1C6"
            },
            "baxis": {
             "endlinecolor": "#A2B1C6",
             "gridcolor": "#506784",
             "linecolor": "#506784",
             "minorgridcolor": "#506784",
             "startlinecolor": "#A2B1C6"
            },
            "type": "carpet"
           }
          ],
          "choropleth": [
           {
            "colorbar": {
             "outlinewidth": 0,
             "ticks": ""
            },
            "type": "choropleth"
           }
          ],
          "contour": [
           {
            "colorbar": {
             "outlinewidth": 0,
             "ticks": ""
            },
            "colorscale": [
             [
              0,
              "#0d0887"
             ],
             [
              0.1111111111111111,
              "#46039f"
             ],
             [
              0.2222222222222222,
              "#7201a8"
             ],
             [
              0.3333333333333333,
              "#9c179e"
             ],
             [
              0.4444444444444444,
              "#bd3786"
             ],
             [
              0.5555555555555556,
              "#d8576b"
             ],
             [
              0.6666666666666666,
              "#ed7953"
             ],
             [
              0.7777777777777778,
              "#fb9f3a"
             ],
             [
              0.8888888888888888,
              "#fdca26"
             ],
             [
              1,
              "#f0f921"
             ]
            ],
            "type": "contour"
           }
          ],
          "contourcarpet": [
           {
            "colorbar": {
             "outlinewidth": 0,
             "ticks": ""
            },
            "type": "contourcarpet"
           }
          ],
          "heatmap": [
           {
            "colorbar": {
             "outlinewidth": 0,
             "ticks": ""
            },
            "colorscale": [
             [
              0,
              "#0d0887"
             ],
             [
              0.1111111111111111,
              "#46039f"
             ],
             [
              0.2222222222222222,
              "#7201a8"
             ],
             [
              0.3333333333333333,
              "#9c179e"
             ],
             [
              0.4444444444444444,
              "#bd3786"
             ],
             [
              0.5555555555555556,
              "#d8576b"
             ],
             [
              0.6666666666666666,
              "#ed7953"
             ],
             [
              0.7777777777777778,
              "#fb9f3a"
             ],
             [
              0.8888888888888888,
              "#fdca26"
             ],
             [
              1,
              "#f0f921"
             ]
            ],
            "type": "heatmap"
           }
          ],
          "heatmapgl": [
           {
            "colorbar": {
             "outlinewidth": 0,
             "ticks": ""
            },
            "colorscale": [
             [
              0,
              "#0d0887"
             ],
             [
              0.1111111111111111,
              "#46039f"
             ],
             [
              0.2222222222222222,
              "#7201a8"
             ],
             [
              0.3333333333333333,
              "#9c179e"
             ],
             [
              0.4444444444444444,
              "#bd3786"
             ],
             [
              0.5555555555555556,
              "#d8576b"
             ],
             [
              0.6666666666666666,
              "#ed7953"
             ],
             [
              0.7777777777777778,
              "#fb9f3a"
             ],
             [
              0.8888888888888888,
              "#fdca26"
             ],
             [
              1,
              "#f0f921"
             ]
            ],
            "type": "heatmapgl"
           }
          ],
          "histogram": [
           {
            "marker": {
             "colorbar": {
              "outlinewidth": 0,
              "ticks": ""
             }
            },
            "type": "histogram"
           }
          ],
          "histogram2d": [
           {
            "colorbar": {
             "outlinewidth": 0,
             "ticks": ""
            },
            "colorscale": [
             [
              0,
              "#0d0887"
             ],
             [
              0.1111111111111111,
              "#46039f"
             ],
             [
              0.2222222222222222,
              "#7201a8"
             ],
             [
              0.3333333333333333,
              "#9c179e"
             ],
             [
              0.4444444444444444,
              "#bd3786"
             ],
             [
              0.5555555555555556,
              "#d8576b"
             ],
             [
              0.6666666666666666,
              "#ed7953"
             ],
             [
              0.7777777777777778,
              "#fb9f3a"
             ],
             [
              0.8888888888888888,
              "#fdca26"
             ],
             [
              1,
              "#f0f921"
             ]
            ],
            "type": "histogram2d"
           }
          ],
          "histogram2dcontour": [
           {
            "colorbar": {
             "outlinewidth": 0,
             "ticks": ""
            },
            "colorscale": [
             [
              0,
              "#0d0887"
             ],
             [
              0.1111111111111111,
              "#46039f"
             ],
             [
              0.2222222222222222,
              "#7201a8"
             ],
             [
              0.3333333333333333,
              "#9c179e"
             ],
             [
              0.4444444444444444,
              "#bd3786"
             ],
             [
              0.5555555555555556,
              "#d8576b"
             ],
             [
              0.6666666666666666,
              "#ed7953"
             ],
             [
              0.7777777777777778,
              "#fb9f3a"
             ],
             [
              0.8888888888888888,
              "#fdca26"
             ],
             [
              1,
              "#f0f921"
             ]
            ],
            "type": "histogram2dcontour"
           }
          ],
          "mesh3d": [
           {
            "colorbar": {
             "outlinewidth": 0,
             "ticks": ""
            },
            "type": "mesh3d"
           }
          ],
          "parcoords": [
           {
            "line": {
             "colorbar": {
              "outlinewidth": 0,
              "ticks": ""
             }
            },
            "type": "parcoords"
           }
          ],
          "pie": [
           {
            "automargin": true,
            "type": "pie"
           }
          ],
          "scatter": [
           {
            "marker": {
             "line": {
              "color": "#283442"
             }
            },
            "type": "scatter"
           }
          ],
          "scatter3d": [
           {
            "line": {
             "colorbar": {
              "outlinewidth": 0,
              "ticks": ""
             }
            },
            "marker": {
             "colorbar": {
              "outlinewidth": 0,
              "ticks": ""
             }
            },
            "type": "scatter3d"
           }
          ],
          "scattercarpet": [
           {
            "marker": {
             "colorbar": {
              "outlinewidth": 0,
              "ticks": ""
             }
            },
            "type": "scattercarpet"
           }
          ],
          "scattergeo": [
           {
            "marker": {
             "colorbar": {
              "outlinewidth": 0,
              "ticks": ""
             }
            },
            "type": "scattergeo"
           }
          ],
          "scattergl": [
           {
            "marker": {
             "line": {
              "color": "#283442"
             }
            },
            "type": "scattergl"
           }
          ],
          "scattermapbox": [
           {
            "marker": {
             "colorbar": {
              "outlinewidth": 0,
              "ticks": ""
             }
            },
            "type": "scattermapbox"
           }
          ],
          "scatterpolar": [
           {
            "marker": {
             "colorbar": {
              "outlinewidth": 0,
              "ticks": ""
             }
            },
            "type": "scatterpolar"
           }
          ],
          "scatterpolargl": [
           {
            "marker": {
             "colorbar": {
              "outlinewidth": 0,
              "ticks": ""
             }
            },
            "type": "scatterpolargl"
           }
          ],
          "scatterternary": [
           {
            "marker": {
             "colorbar": {
              "outlinewidth": 0,
              "ticks": ""
             }
            },
            "type": "scatterternary"
           }
          ],
          "surface": [
           {
            "colorbar": {
             "outlinewidth": 0,
             "ticks": ""
            },
            "colorscale": [
             [
              0,
              "#0d0887"
             ],
             [
              0.1111111111111111,
              "#46039f"
             ],
             [
              0.2222222222222222,
              "#7201a8"
             ],
             [
              0.3333333333333333,
              "#9c179e"
             ],
             [
              0.4444444444444444,
              "#bd3786"
             ],
             [
              0.5555555555555556,
              "#d8576b"
             ],
             [
              0.6666666666666666,
              "#ed7953"
             ],
             [
              0.7777777777777778,
              "#fb9f3a"
             ],
             [
              0.8888888888888888,
              "#fdca26"
             ],
             [
              1,
              "#f0f921"
             ]
            ],
            "type": "surface"
           }
          ],
          "table": [
           {
            "cells": {
             "fill": {
              "color": "#506784"
             },
             "line": {
              "color": "rgb(17,17,17)"
             }
            },
            "header": {
             "fill": {
              "color": "#2a3f5f"
             },
             "line": {
              "color": "rgb(17,17,17)"
             }
            },
            "type": "table"
           }
          ]
         },
         "layout": {
          "annotationdefaults": {
           "arrowcolor": "#f2f5fa",
           "arrowhead": 0,
           "arrowwidth": 1
          },
          "coloraxis": {
           "colorbar": {
            "outlinewidth": 0,
            "ticks": ""
           }
          },
          "colorscale": {
           "diverging": [
            [
             0,
             "#8e0152"
            ],
            [
             0.1,
             "#c51b7d"
            ],
            [
             0.2,
             "#de77ae"
            ],
            [
             0.3,
             "#f1b6da"
            ],
            [
             0.4,
             "#fde0ef"
            ],
            [
             0.5,
             "#f7f7f7"
            ],
            [
             0.6,
             "#e6f5d0"
            ],
            [
             0.7,
             "#b8e186"
            ],
            [
             0.8,
             "#7fbc41"
            ],
            [
             0.9,
             "#4d9221"
            ],
            [
             1,
             "#276419"
            ]
           ],
           "sequential": [
            [
             0,
             "#0d0887"
            ],
            [
             0.1111111111111111,
             "#46039f"
            ],
            [
             0.2222222222222222,
             "#7201a8"
            ],
            [
             0.3333333333333333,
             "#9c179e"
            ],
            [
             0.4444444444444444,
             "#bd3786"
            ],
            [
             0.5555555555555556,
             "#d8576b"
            ],
            [
             0.6666666666666666,
             "#ed7953"
            ],
            [
             0.7777777777777778,
             "#fb9f3a"
            ],
            [
             0.8888888888888888,
             "#fdca26"
            ],
            [
             1,
             "#f0f921"
            ]
           ],
           "sequentialminus": [
            [
             0,
             "#0d0887"
            ],
            [
             0.1111111111111111,
             "#46039f"
            ],
            [
             0.2222222222222222,
             "#7201a8"
            ],
            [
             0.3333333333333333,
             "#9c179e"
            ],
            [
             0.4444444444444444,
             "#bd3786"
            ],
            [
             0.5555555555555556,
             "#d8576b"
            ],
            [
             0.6666666666666666,
             "#ed7953"
            ],
            [
             0.7777777777777778,
             "#fb9f3a"
            ],
            [
             0.8888888888888888,
             "#fdca26"
            ],
            [
             1,
             "#f0f921"
            ]
           ]
          },
          "colorway": [
           "#636efa",
           "#EF553B",
           "#00cc96",
           "#ab63fa",
           "#FFA15A",
           "#19d3f3",
           "#FF6692",
           "#B6E880",
           "#FF97FF",
           "#FECB52"
          ],
          "font": {
           "color": "#f2f5fa"
          },
          "geo": {
           "bgcolor": "rgb(17,17,17)",
           "lakecolor": "rgb(17,17,17)",
           "landcolor": "rgb(17,17,17)",
           "showlakes": true,
           "showland": true,
           "subunitcolor": "#506784"
          },
          "hoverlabel": {
           "align": "left"
          },
          "hovermode": "closest",
          "mapbox": {
           "style": "dark"
          },
          "paper_bgcolor": "rgb(17,17,17)",
          "plot_bgcolor": "rgb(17,17,17)",
          "polar": {
           "angularaxis": {
            "gridcolor": "#506784",
            "linecolor": "#506784",
            "ticks": ""
           },
           "bgcolor": "rgb(17,17,17)",
           "radialaxis": {
            "gridcolor": "#506784",
            "linecolor": "#506784",
            "ticks": ""
           }
          },
          "scene": {
           "xaxis": {
            "backgroundcolor": "rgb(17,17,17)",
            "gridcolor": "#506784",
            "gridwidth": 2,
            "linecolor": "#506784",
            "showbackground": true,
            "ticks": "",
            "zerolinecolor": "#C8D4E3"
           },
           "yaxis": {
            "backgroundcolor": "rgb(17,17,17)",
            "gridcolor": "#506784",
            "gridwidth": 2,
            "linecolor": "#506784",
            "showbackground": true,
            "ticks": "",
            "zerolinecolor": "#C8D4E3"
           },
           "zaxis": {
            "backgroundcolor": "rgb(17,17,17)",
            "gridcolor": "#506784",
            "gridwidth": 2,
            "linecolor": "#506784",
            "showbackground": true,
            "ticks": "",
            "zerolinecolor": "#C8D4E3"
           }
          },
          "shapedefaults": {
           "line": {
            "color": "#f2f5fa"
           }
          },
          "sliderdefaults": {
           "bgcolor": "#C8D4E3",
           "bordercolor": "rgb(17,17,17)",
           "borderwidth": 1,
           "tickwidth": 0
          },
          "ternary": {
           "aaxis": {
            "gridcolor": "#506784",
            "linecolor": "#506784",
            "ticks": ""
           },
           "baxis": {
            "gridcolor": "#506784",
            "linecolor": "#506784",
            "ticks": ""
           },
           "bgcolor": "rgb(17,17,17)",
           "caxis": {
            "gridcolor": "#506784",
            "linecolor": "#506784",
            "ticks": ""
           }
          },
          "title": {
           "x": 0.05
          },
          "updatemenudefaults": {
           "bgcolor": "#506784",
           "borderwidth": 0
          },
          "xaxis": {
           "automargin": true,
           "gridcolor": "#283442",
           "linecolor": "#506784",
           "ticks": "",
           "title": {
            "standoff": 15
           },
           "zerolinecolor": "#283442",
           "zerolinewidth": 2
          },
          "yaxis": {
           "automargin": true,
           "gridcolor": "#283442",
           "linecolor": "#506784",
           "ticks": "",
           "title": {
            "standoff": 15
           },
           "zerolinecolor": "#283442",
           "zerolinewidth": 2
          }
         }
        },
        "title": {
         "text": " "
        },
        "xaxis": {
         "dtick": 1,
         "tick0": 1,
         "tickmode": "linear",
         "title": {
          "text": "Month"
         }
        },
        "yaxis": {
         "title": {
          "text": "Monthly mean"
         }
        }
       }
      },
      "text/html": [
       "<div>                            <div id=\"9c6bc2fd-c554-495b-859b-d46a3c530378\" class=\"plotly-graph-div\" style=\"height:525px; width:100%;\"></div>            <script type=\"text/javascript\">                require([\"plotly\"], function(Plotly) {                    window.PLOTLYENV=window.PLOTLYENV || {};                                    if (document.getElementById(\"9c6bc2fd-c554-495b-859b-d46a3c530378\")) {                    Plotly.newPlot(                        \"9c6bc2fd-c554-495b-859b-d46a3c530378\",                        [{\"marker\": {\"color\": \"red\"}, \"mode\": \"lines+markers\", \"name\": \"Brazil\", \"type\": \"scatter\", \"x\": [1, 2, 3, 4, 5, 6, 7, 8, 9, 10], \"y\": [0.0, 0.0, 0.7, 11.5, 63.8, 136.4, 188.5, 190.0, 143.5, 112.2]}, {\"marker\": {\"color\": \"green\"}, \"mode\": \"lines+markers\", \"name\": \"France\", \"type\": \"scatter\", \"x\": [1, 2, 3, 4, 5, 6, 7, 8, 9, 10], \"y\": [0.0, 0.0, 22.0, 42.8, 11.4, 6.5, 11.0, 45.2, 139.3, 386.1]}, {\"marker\": {\"color\": \"violet\"}, \"mode\": \"lines+markers\", \"name\": \"Italy\", \"type\": \"scatter\", \"x\": [1, 2, 3, 4, 5, 6, 7, 8, 9, 10], \"y\": [0.0, 0.5, 53.8, 56.2, 15.5, 4.3, 3.6, 11.2, 24.7, 178.6]}, {\"marker\": {\"color\": \"#EEEF63\"}, \"mode\": \"lines+markers\", \"name\": \"Spain\", \"type\": \"scatter\", \"x\": [1, 2, 3, 4, 5, 6, 7, 8, 9, 10], \"y\": [0.0, 0.0, 71.9, 79.1, 16.7, 7.0, 27.1, 120.3, 218.4, 287.4]}, {\"marker\": {\"color\": \"blue\"}, \"mode\": \"lines+markers\", \"name\": \"USA\", \"type\": \"scatter\", \"x\": [1, 2, 3, 4, 5, 6, 7, 8, 9, 10], \"y\": [0.0, 0.0, 16.0, 88.1, 71.2, 82.6, 185.6, 146.4, 120.2, 180.9]}],                        {\"template\": {\"data\": {\"bar\": [{\"error_x\": {\"color\": \"#f2f5fa\"}, \"error_y\": {\"color\": \"#f2f5fa\"}, \"marker\": {\"line\": {\"color\": \"rgb(17,17,17)\", \"width\": 0.5}}, \"type\": \"bar\"}], \"barpolar\": [{\"marker\": {\"line\": {\"color\": \"rgb(17,17,17)\", \"width\": 0.5}}, \"type\": \"barpolar\"}], \"carpet\": [{\"aaxis\": {\"endlinecolor\": \"#A2B1C6\", \"gridcolor\": \"#506784\", \"linecolor\": \"#506784\", \"minorgridcolor\": \"#506784\", \"startlinecolor\": \"#A2B1C6\"}, \"baxis\": {\"endlinecolor\": \"#A2B1C6\", \"gridcolor\": \"#506784\", \"linecolor\": \"#506784\", \"minorgridcolor\": \"#506784\", \"startlinecolor\": \"#A2B1C6\"}, \"type\": \"carpet\"}], \"choropleth\": [{\"colorbar\": {\"outlinewidth\": 0, \"ticks\": \"\"}, \"type\": \"choropleth\"}], \"contour\": [{\"colorbar\": {\"outlinewidth\": 0, \"ticks\": \"\"}, \"colorscale\": [[0.0, \"#0d0887\"], [0.1111111111111111, \"#46039f\"], [0.2222222222222222, \"#7201a8\"], [0.3333333333333333, \"#9c179e\"], [0.4444444444444444, \"#bd3786\"], [0.5555555555555556, \"#d8576b\"], [0.6666666666666666, \"#ed7953\"], [0.7777777777777778, \"#fb9f3a\"], [0.8888888888888888, \"#fdca26\"], [1.0, \"#f0f921\"]], \"type\": \"contour\"}], \"contourcarpet\": [{\"colorbar\": {\"outlinewidth\": 0, \"ticks\": \"\"}, \"type\": \"contourcarpet\"}], \"heatmap\": [{\"colorbar\": {\"outlinewidth\": 0, \"ticks\": \"\"}, \"colorscale\": [[0.0, \"#0d0887\"], [0.1111111111111111, \"#46039f\"], [0.2222222222222222, \"#7201a8\"], [0.3333333333333333, \"#9c179e\"], [0.4444444444444444, \"#bd3786\"], [0.5555555555555556, \"#d8576b\"], [0.6666666666666666, \"#ed7953\"], [0.7777777777777778, \"#fb9f3a\"], [0.8888888888888888, \"#fdca26\"], [1.0, \"#f0f921\"]], \"type\": \"heatmap\"}], \"heatmapgl\": [{\"colorbar\": {\"outlinewidth\": 0, \"ticks\": \"\"}, \"colorscale\": [[0.0, \"#0d0887\"], [0.1111111111111111, \"#46039f\"], [0.2222222222222222, \"#7201a8\"], [0.3333333333333333, \"#9c179e\"], [0.4444444444444444, \"#bd3786\"], [0.5555555555555556, \"#d8576b\"], [0.6666666666666666, \"#ed7953\"], [0.7777777777777778, \"#fb9f3a\"], [0.8888888888888888, \"#fdca26\"], [1.0, \"#f0f921\"]], \"type\": \"heatmapgl\"}], \"histogram\": [{\"marker\": {\"colorbar\": {\"outlinewidth\": 0, \"ticks\": \"\"}}, \"type\": \"histogram\"}], \"histogram2d\": [{\"colorbar\": {\"outlinewidth\": 0, \"ticks\": \"\"}, \"colorscale\": [[0.0, \"#0d0887\"], [0.1111111111111111, \"#46039f\"], [0.2222222222222222, \"#7201a8\"], [0.3333333333333333, \"#9c179e\"], [0.4444444444444444, \"#bd3786\"], [0.5555555555555556, \"#d8576b\"], [0.6666666666666666, \"#ed7953\"], [0.7777777777777778, \"#fb9f3a\"], [0.8888888888888888, \"#fdca26\"], [1.0, \"#f0f921\"]], \"type\": \"histogram2d\"}], \"histogram2dcontour\": [{\"colorbar\": {\"outlinewidth\": 0, \"ticks\": \"\"}, \"colorscale\": [[0.0, \"#0d0887\"], [0.1111111111111111, \"#46039f\"], [0.2222222222222222, \"#7201a8\"], [0.3333333333333333, \"#9c179e\"], [0.4444444444444444, \"#bd3786\"], [0.5555555555555556, \"#d8576b\"], [0.6666666666666666, \"#ed7953\"], [0.7777777777777778, \"#fb9f3a\"], [0.8888888888888888, \"#fdca26\"], [1.0, \"#f0f921\"]], \"type\": \"histogram2dcontour\"}], \"mesh3d\": [{\"colorbar\": {\"outlinewidth\": 0, \"ticks\": \"\"}, \"type\": \"mesh3d\"}], \"parcoords\": [{\"line\": {\"colorbar\": {\"outlinewidth\": 0, \"ticks\": \"\"}}, \"type\": \"parcoords\"}], \"pie\": [{\"automargin\": true, \"type\": \"pie\"}], \"scatter\": [{\"marker\": {\"line\": {\"color\": \"#283442\"}}, \"type\": \"scatter\"}], \"scatter3d\": [{\"line\": {\"colorbar\": {\"outlinewidth\": 0, \"ticks\": \"\"}}, \"marker\": {\"colorbar\": {\"outlinewidth\": 0, \"ticks\": \"\"}}, \"type\": \"scatter3d\"}], \"scattercarpet\": [{\"marker\": {\"colorbar\": {\"outlinewidth\": 0, \"ticks\": \"\"}}, \"type\": \"scattercarpet\"}], \"scattergeo\": [{\"marker\": {\"colorbar\": {\"outlinewidth\": 0, \"ticks\": \"\"}}, \"type\": \"scattergeo\"}], \"scattergl\": [{\"marker\": {\"line\": {\"color\": \"#283442\"}}, \"type\": \"scattergl\"}], \"scattermapbox\": [{\"marker\": {\"colorbar\": {\"outlinewidth\": 0, \"ticks\": \"\"}}, \"type\": \"scattermapbox\"}], \"scatterpolar\": [{\"marker\": {\"colorbar\": {\"outlinewidth\": 0, \"ticks\": \"\"}}, \"type\": \"scatterpolar\"}], \"scatterpolargl\": [{\"marker\": {\"colorbar\": {\"outlinewidth\": 0, \"ticks\": \"\"}}, \"type\": \"scatterpolargl\"}], \"scatterternary\": [{\"marker\": {\"colorbar\": {\"outlinewidth\": 0, \"ticks\": \"\"}}, \"type\": \"scatterternary\"}], \"surface\": [{\"colorbar\": {\"outlinewidth\": 0, \"ticks\": \"\"}, \"colorscale\": [[0.0, \"#0d0887\"], [0.1111111111111111, \"#46039f\"], [0.2222222222222222, \"#7201a8\"], [0.3333333333333333, \"#9c179e\"], [0.4444444444444444, \"#bd3786\"], [0.5555555555555556, \"#d8576b\"], [0.6666666666666666, \"#ed7953\"], [0.7777777777777778, \"#fb9f3a\"], [0.8888888888888888, \"#fdca26\"], [1.0, \"#f0f921\"]], \"type\": \"surface\"}], \"table\": [{\"cells\": {\"fill\": {\"color\": \"#506784\"}, \"line\": {\"color\": \"rgb(17,17,17)\"}}, \"header\": {\"fill\": {\"color\": \"#2a3f5f\"}, \"line\": {\"color\": \"rgb(17,17,17)\"}}, \"type\": \"table\"}]}, \"layout\": {\"annotationdefaults\": {\"arrowcolor\": \"#f2f5fa\", \"arrowhead\": 0, \"arrowwidth\": 1}, \"coloraxis\": {\"colorbar\": {\"outlinewidth\": 0, \"ticks\": \"\"}}, \"colorscale\": {\"diverging\": [[0, \"#8e0152\"], [0.1, \"#c51b7d\"], [0.2, \"#de77ae\"], [0.3, \"#f1b6da\"], [0.4, \"#fde0ef\"], [0.5, \"#f7f7f7\"], [0.6, \"#e6f5d0\"], [0.7, \"#b8e186\"], [0.8, \"#7fbc41\"], [0.9, \"#4d9221\"], [1, \"#276419\"]], \"sequential\": [[0.0, \"#0d0887\"], [0.1111111111111111, \"#46039f\"], [0.2222222222222222, \"#7201a8\"], [0.3333333333333333, \"#9c179e\"], [0.4444444444444444, \"#bd3786\"], [0.5555555555555556, \"#d8576b\"], [0.6666666666666666, \"#ed7953\"], [0.7777777777777778, \"#fb9f3a\"], [0.8888888888888888, \"#fdca26\"], [1.0, \"#f0f921\"]], \"sequentialminus\": [[0.0, \"#0d0887\"], [0.1111111111111111, \"#46039f\"], [0.2222222222222222, \"#7201a8\"], [0.3333333333333333, \"#9c179e\"], [0.4444444444444444, \"#bd3786\"], [0.5555555555555556, \"#d8576b\"], [0.6666666666666666, \"#ed7953\"], [0.7777777777777778, \"#fb9f3a\"], [0.8888888888888888, \"#fdca26\"], [1.0, \"#f0f921\"]]}, \"colorway\": [\"#636efa\", \"#EF553B\", \"#00cc96\", \"#ab63fa\", \"#FFA15A\", \"#19d3f3\", \"#FF6692\", \"#B6E880\", \"#FF97FF\", \"#FECB52\"], \"font\": {\"color\": \"#f2f5fa\"}, \"geo\": {\"bgcolor\": \"rgb(17,17,17)\", \"lakecolor\": \"rgb(17,17,17)\", \"landcolor\": \"rgb(17,17,17)\", \"showlakes\": true, \"showland\": true, \"subunitcolor\": \"#506784\"}, \"hoverlabel\": {\"align\": \"left\"}, \"hovermode\": \"closest\", \"mapbox\": {\"style\": \"dark\"}, \"paper_bgcolor\": \"rgb(17,17,17)\", \"plot_bgcolor\": \"rgb(17,17,17)\", \"polar\": {\"angularaxis\": {\"gridcolor\": \"#506784\", \"linecolor\": \"#506784\", \"ticks\": \"\"}, \"bgcolor\": \"rgb(17,17,17)\", \"radialaxis\": {\"gridcolor\": \"#506784\", \"linecolor\": \"#506784\", \"ticks\": \"\"}}, \"scene\": {\"xaxis\": {\"backgroundcolor\": \"rgb(17,17,17)\", \"gridcolor\": \"#506784\", \"gridwidth\": 2, \"linecolor\": \"#506784\", \"showbackground\": true, \"ticks\": \"\", \"zerolinecolor\": \"#C8D4E3\"}, \"yaxis\": {\"backgroundcolor\": \"rgb(17,17,17)\", \"gridcolor\": \"#506784\", \"gridwidth\": 2, \"linecolor\": \"#506784\", \"showbackground\": true, \"ticks\": \"\", \"zerolinecolor\": \"#C8D4E3\"}, \"zaxis\": {\"backgroundcolor\": \"rgb(17,17,17)\", \"gridcolor\": \"#506784\", \"gridwidth\": 2, \"linecolor\": \"#506784\", \"showbackground\": true, \"ticks\": \"\", \"zerolinecolor\": \"#C8D4E3\"}}, \"shapedefaults\": {\"line\": {\"color\": \"#f2f5fa\"}}, \"sliderdefaults\": {\"bgcolor\": \"#C8D4E3\", \"bordercolor\": \"rgb(17,17,17)\", \"borderwidth\": 1, \"tickwidth\": 0}, \"ternary\": {\"aaxis\": {\"gridcolor\": \"#506784\", \"linecolor\": \"#506784\", \"ticks\": \"\"}, \"baxis\": {\"gridcolor\": \"#506784\", \"linecolor\": \"#506784\", \"ticks\": \"\"}, \"bgcolor\": \"rgb(17,17,17)\", \"caxis\": {\"gridcolor\": \"#506784\", \"linecolor\": \"#506784\", \"ticks\": \"\"}}, \"title\": {\"x\": 0.05}, \"updatemenudefaults\": {\"bgcolor\": \"#506784\", \"borderwidth\": 0}, \"xaxis\": {\"automargin\": true, \"gridcolor\": \"#283442\", \"linecolor\": \"#506784\", \"ticks\": \"\", \"title\": {\"standoff\": 15}, \"zerolinecolor\": \"#283442\", \"zerolinewidth\": 2}, \"yaxis\": {\"automargin\": true, \"gridcolor\": \"#283442\", \"linecolor\": \"#506784\", \"ticks\": \"\", \"title\": {\"standoff\": 15}, \"zerolinecolor\": \"#283442\", \"zerolinewidth\": 2}}}, \"title\": {\"text\": \" \"}, \"xaxis\": {\"dtick\": 1, \"tick0\": 1, \"tickmode\": \"linear\", \"title\": {\"text\": \"Month\"}}, \"yaxis\": {\"title\": {\"text\": \"Monthly mean\"}}},                        {\"responsive\": true}                    ).then(function(){\n",
       "                            \n",
       "var gd = document.getElementById('9c6bc2fd-c554-495b-859b-d46a3c530378');\n",
       "var x = new MutationObserver(function (mutations, observer) {{\n",
       "        var display = window.getComputedStyle(gd).display;\n",
       "        if (!display || display === 'none') {{\n",
       "            console.log([gd, 'removed!']);\n",
       "            Plotly.purge(gd);\n",
       "            observer.disconnect();\n",
       "        }}\n",
       "}});\n",
       "\n",
       "// Listen for the removal of the full notebook cells\n",
       "var notebookContainer = gd.closest('#notebook-container');\n",
       "if (notebookContainer) {{\n",
       "    x.observe(notebookContainer, {childList: true});\n",
       "}}\n",
       "\n",
       "// Listen for the clearing of the current output cell\n",
       "var outputEl = gd.closest('.output');\n",
       "if (outputEl) {{\n",
       "    x.observe(outputEl, {childList: true});\n",
       "}}\n",
       "\n",
       "                        })                };                });            </script>        </div>"
      ]
     },
     "metadata": {},
     "output_type": "display_data"
    }
   ],
   "source": [
    "# Média Mensal de Novos Casos Por Milhão\n",
    "\n",
    "ncpm_meanbr = round(df_br.groupby(\"month\")[\"new_cases_per_million\"].mean(), 1)\n",
    "ncpm_meanfr = round(df_fr.groupby(\"month\")[\"new_cases_per_million\"].mean(), 1)\n",
    "ncpm_meanit = round(df_it.groupby(\"month\")[\"new_cases_per_million\"].mean(), 1)\n",
    "ncpm_meansp = round(df_sp.groupby(\"month\")[\"new_cases_per_million\"].mean(), 1)\n",
    "ncpm_meaneua = round(df_eua.groupby(\"month\")[\"new_cases_per_million\"].mean(), 1)\n",
    "\n",
    "date = ncpm_meanbr.index.tolist() \n",
    "\n",
    "fig = go.Figure()\n",
    "\n",
    "\n",
    "fig.add_trace(go.Scatter(x= date, y= ncpm_meanbr.values, mode='lines+markers',marker_color='red', name='Brazil'))\n",
    "fig.add_trace(go.Scatter(x= date, y= ncpm_meanfr.values, mode='lines+markers',marker_color='green', name='France'))\n",
    "fig.add_trace(go.Scatter(x= date, y= ncpm_meanit.values, mode='lines+markers',marker_color='violet', name='Italy'))\n",
    "fig.add_trace(go.Scatter(x= date, y= ncpm_meansp.values, mode='lines+markers',marker_color='#EEEF63', name='Spain'))\n",
    "fig.add_trace(go.Scatter(x= date, y= ncpm_meaneua.values, mode='lines+markers',marker_color='blue', name='USA'))\n",
    "\n",
    "fig.update_layout(title=' ', \n",
    "                  template='plotly_dark', yaxis_title=\"Monthly mean\",xaxis_title=\"Month\")\n",
    "\n",
    "fig.update_layout(xaxis = dict(tickmode = 'linear', tick0 = 1, dtick = 1))"
   ]
  },
  {
   "cell_type": "code",
   "execution_count": 14,
   "metadata": {},
   "outputs": [
    {
     "data": {
      "application/vnd.plotly.v1+json": {
       "config": {
        "plotlyServerURL": "https://plot.ly"
       },
       "data": [
        {
         "marker": {
          "color": "red"
         },
         "mode": "lines+markers",
         "name": "Brazil",
         "type": "scatter",
         "x": [
          1,
          2,
          3,
          4,
          5,
          6,
          7,
          8,
          9,
          10
         ],
         "y": [
          0,
          0,
          0,
          0.8,
          3.5,
          4.6,
          5,
          4.5,
          3.5,
          2.5
         ]
        },
        {
         "marker": {
          "color": "green"
         },
         "mode": "lines+markers",
         "name": "France",
         "type": "scatter",
         "x": [
          1,
          2,
          3,
          4,
          5,
          6,
          7,
          8,
          9,
          10
         ],
         "y": [
          0,
          0,
          1.5,
          10.8,
          2.3,
          0.5,
          0.2,
          0.2,
          0.7,
          2.3
         ]
        },
        {
         "marker": {
          "color": "violet"
         },
         "mode": "lines+markers",
         "name": "Italy",
         "type": "scatter",
         "x": [
          1,
          2,
          3,
          4,
          5,
          6,
          7,
          8,
          9,
          10
         ],
         "y": [
          0,
          0,
          6.2,
          8.9,
          3,
          0.8,
          0.2,
          0.2,
          0.2,
          1.3
         ]
        },
        {
         "marker": {
          "color": "#EEEF63"
         },
         "mode": "lines+markers",
         "name": "Spain",
         "type": "scatter",
         "x": [
          1,
          2,
          3,
          4,
          5,
          6,
          7,
          8,
          9,
          10
         ],
         "y": [
          0,
          0,
          5.1,
          12.3,
          1.8,
          0.9,
          0.1,
          0.4,
          1.9,
          2.8
         ]
        },
        {
         "marker": {
          "color": "blue"
         },
         "mode": "lines+markers",
         "name": "USA",
         "type": "scatter",
         "x": [
          1,
          2,
          3,
          4,
          5,
          6,
          7,
          8,
          9,
          10
         ],
         "y": [
          0,
          0,
          0.3,
          5.8,
          4.2,
          2.3,
          2.5,
          3,
          2.3,
          2.3
         ]
        }
       ],
       "layout": {
        "template": {
         "data": {
          "bar": [
           {
            "error_x": {
             "color": "#f2f5fa"
            },
            "error_y": {
             "color": "#f2f5fa"
            },
            "marker": {
             "line": {
              "color": "rgb(17,17,17)",
              "width": 0.5
             }
            },
            "type": "bar"
           }
          ],
          "barpolar": [
           {
            "marker": {
             "line": {
              "color": "rgb(17,17,17)",
              "width": 0.5
             }
            },
            "type": "barpolar"
           }
          ],
          "carpet": [
           {
            "aaxis": {
             "endlinecolor": "#A2B1C6",
             "gridcolor": "#506784",
             "linecolor": "#506784",
             "minorgridcolor": "#506784",
             "startlinecolor": "#A2B1C6"
            },
            "baxis": {
             "endlinecolor": "#A2B1C6",
             "gridcolor": "#506784",
             "linecolor": "#506784",
             "minorgridcolor": "#506784",
             "startlinecolor": "#A2B1C6"
            },
            "type": "carpet"
           }
          ],
          "choropleth": [
           {
            "colorbar": {
             "outlinewidth": 0,
             "ticks": ""
            },
            "type": "choropleth"
           }
          ],
          "contour": [
           {
            "colorbar": {
             "outlinewidth": 0,
             "ticks": ""
            },
            "colorscale": [
             [
              0,
              "#0d0887"
             ],
             [
              0.1111111111111111,
              "#46039f"
             ],
             [
              0.2222222222222222,
              "#7201a8"
             ],
             [
              0.3333333333333333,
              "#9c179e"
             ],
             [
              0.4444444444444444,
              "#bd3786"
             ],
             [
              0.5555555555555556,
              "#d8576b"
             ],
             [
              0.6666666666666666,
              "#ed7953"
             ],
             [
              0.7777777777777778,
              "#fb9f3a"
             ],
             [
              0.8888888888888888,
              "#fdca26"
             ],
             [
              1,
              "#f0f921"
             ]
            ],
            "type": "contour"
           }
          ],
          "contourcarpet": [
           {
            "colorbar": {
             "outlinewidth": 0,
             "ticks": ""
            },
            "type": "contourcarpet"
           }
          ],
          "heatmap": [
           {
            "colorbar": {
             "outlinewidth": 0,
             "ticks": ""
            },
            "colorscale": [
             [
              0,
              "#0d0887"
             ],
             [
              0.1111111111111111,
              "#46039f"
             ],
             [
              0.2222222222222222,
              "#7201a8"
             ],
             [
              0.3333333333333333,
              "#9c179e"
             ],
             [
              0.4444444444444444,
              "#bd3786"
             ],
             [
              0.5555555555555556,
              "#d8576b"
             ],
             [
              0.6666666666666666,
              "#ed7953"
             ],
             [
              0.7777777777777778,
              "#fb9f3a"
             ],
             [
              0.8888888888888888,
              "#fdca26"
             ],
             [
              1,
              "#f0f921"
             ]
            ],
            "type": "heatmap"
           }
          ],
          "heatmapgl": [
           {
            "colorbar": {
             "outlinewidth": 0,
             "ticks": ""
            },
            "colorscale": [
             [
              0,
              "#0d0887"
             ],
             [
              0.1111111111111111,
              "#46039f"
             ],
             [
              0.2222222222222222,
              "#7201a8"
             ],
             [
              0.3333333333333333,
              "#9c179e"
             ],
             [
              0.4444444444444444,
              "#bd3786"
             ],
             [
              0.5555555555555556,
              "#d8576b"
             ],
             [
              0.6666666666666666,
              "#ed7953"
             ],
             [
              0.7777777777777778,
              "#fb9f3a"
             ],
             [
              0.8888888888888888,
              "#fdca26"
             ],
             [
              1,
              "#f0f921"
             ]
            ],
            "type": "heatmapgl"
           }
          ],
          "histogram": [
           {
            "marker": {
             "colorbar": {
              "outlinewidth": 0,
              "ticks": ""
             }
            },
            "type": "histogram"
           }
          ],
          "histogram2d": [
           {
            "colorbar": {
             "outlinewidth": 0,
             "ticks": ""
            },
            "colorscale": [
             [
              0,
              "#0d0887"
             ],
             [
              0.1111111111111111,
              "#46039f"
             ],
             [
              0.2222222222222222,
              "#7201a8"
             ],
             [
              0.3333333333333333,
              "#9c179e"
             ],
             [
              0.4444444444444444,
              "#bd3786"
             ],
             [
              0.5555555555555556,
              "#d8576b"
             ],
             [
              0.6666666666666666,
              "#ed7953"
             ],
             [
              0.7777777777777778,
              "#fb9f3a"
             ],
             [
              0.8888888888888888,
              "#fdca26"
             ],
             [
              1,
              "#f0f921"
             ]
            ],
            "type": "histogram2d"
           }
          ],
          "histogram2dcontour": [
           {
            "colorbar": {
             "outlinewidth": 0,
             "ticks": ""
            },
            "colorscale": [
             [
              0,
              "#0d0887"
             ],
             [
              0.1111111111111111,
              "#46039f"
             ],
             [
              0.2222222222222222,
              "#7201a8"
             ],
             [
              0.3333333333333333,
              "#9c179e"
             ],
             [
              0.4444444444444444,
              "#bd3786"
             ],
             [
              0.5555555555555556,
              "#d8576b"
             ],
             [
              0.6666666666666666,
              "#ed7953"
             ],
             [
              0.7777777777777778,
              "#fb9f3a"
             ],
             [
              0.8888888888888888,
              "#fdca26"
             ],
             [
              1,
              "#f0f921"
             ]
            ],
            "type": "histogram2dcontour"
           }
          ],
          "mesh3d": [
           {
            "colorbar": {
             "outlinewidth": 0,
             "ticks": ""
            },
            "type": "mesh3d"
           }
          ],
          "parcoords": [
           {
            "line": {
             "colorbar": {
              "outlinewidth": 0,
              "ticks": ""
             }
            },
            "type": "parcoords"
           }
          ],
          "pie": [
           {
            "automargin": true,
            "type": "pie"
           }
          ],
          "scatter": [
           {
            "marker": {
             "line": {
              "color": "#283442"
             }
            },
            "type": "scatter"
           }
          ],
          "scatter3d": [
           {
            "line": {
             "colorbar": {
              "outlinewidth": 0,
              "ticks": ""
             }
            },
            "marker": {
             "colorbar": {
              "outlinewidth": 0,
              "ticks": ""
             }
            },
            "type": "scatter3d"
           }
          ],
          "scattercarpet": [
           {
            "marker": {
             "colorbar": {
              "outlinewidth": 0,
              "ticks": ""
             }
            },
            "type": "scattercarpet"
           }
          ],
          "scattergeo": [
           {
            "marker": {
             "colorbar": {
              "outlinewidth": 0,
              "ticks": ""
             }
            },
            "type": "scattergeo"
           }
          ],
          "scattergl": [
           {
            "marker": {
             "line": {
              "color": "#283442"
             }
            },
            "type": "scattergl"
           }
          ],
          "scattermapbox": [
           {
            "marker": {
             "colorbar": {
              "outlinewidth": 0,
              "ticks": ""
             }
            },
            "type": "scattermapbox"
           }
          ],
          "scatterpolar": [
           {
            "marker": {
             "colorbar": {
              "outlinewidth": 0,
              "ticks": ""
             }
            },
            "type": "scatterpolar"
           }
          ],
          "scatterpolargl": [
           {
            "marker": {
             "colorbar": {
              "outlinewidth": 0,
              "ticks": ""
             }
            },
            "type": "scatterpolargl"
           }
          ],
          "scatterternary": [
           {
            "marker": {
             "colorbar": {
              "outlinewidth": 0,
              "ticks": ""
             }
            },
            "type": "scatterternary"
           }
          ],
          "surface": [
           {
            "colorbar": {
             "outlinewidth": 0,
             "ticks": ""
            },
            "colorscale": [
             [
              0,
              "#0d0887"
             ],
             [
              0.1111111111111111,
              "#46039f"
             ],
             [
              0.2222222222222222,
              "#7201a8"
             ],
             [
              0.3333333333333333,
              "#9c179e"
             ],
             [
              0.4444444444444444,
              "#bd3786"
             ],
             [
              0.5555555555555556,
              "#d8576b"
             ],
             [
              0.6666666666666666,
              "#ed7953"
             ],
             [
              0.7777777777777778,
              "#fb9f3a"
             ],
             [
              0.8888888888888888,
              "#fdca26"
             ],
             [
              1,
              "#f0f921"
             ]
            ],
            "type": "surface"
           }
          ],
          "table": [
           {
            "cells": {
             "fill": {
              "color": "#506784"
             },
             "line": {
              "color": "rgb(17,17,17)"
             }
            },
            "header": {
             "fill": {
              "color": "#2a3f5f"
             },
             "line": {
              "color": "rgb(17,17,17)"
             }
            },
            "type": "table"
           }
          ]
         },
         "layout": {
          "annotationdefaults": {
           "arrowcolor": "#f2f5fa",
           "arrowhead": 0,
           "arrowwidth": 1
          },
          "coloraxis": {
           "colorbar": {
            "outlinewidth": 0,
            "ticks": ""
           }
          },
          "colorscale": {
           "diverging": [
            [
             0,
             "#8e0152"
            ],
            [
             0.1,
             "#c51b7d"
            ],
            [
             0.2,
             "#de77ae"
            ],
            [
             0.3,
             "#f1b6da"
            ],
            [
             0.4,
             "#fde0ef"
            ],
            [
             0.5,
             "#f7f7f7"
            ],
            [
             0.6,
             "#e6f5d0"
            ],
            [
             0.7,
             "#b8e186"
            ],
            [
             0.8,
             "#7fbc41"
            ],
            [
             0.9,
             "#4d9221"
            ],
            [
             1,
             "#276419"
            ]
           ],
           "sequential": [
            [
             0,
             "#0d0887"
            ],
            [
             0.1111111111111111,
             "#46039f"
            ],
            [
             0.2222222222222222,
             "#7201a8"
            ],
            [
             0.3333333333333333,
             "#9c179e"
            ],
            [
             0.4444444444444444,
             "#bd3786"
            ],
            [
             0.5555555555555556,
             "#d8576b"
            ],
            [
             0.6666666666666666,
             "#ed7953"
            ],
            [
             0.7777777777777778,
             "#fb9f3a"
            ],
            [
             0.8888888888888888,
             "#fdca26"
            ],
            [
             1,
             "#f0f921"
            ]
           ],
           "sequentialminus": [
            [
             0,
             "#0d0887"
            ],
            [
             0.1111111111111111,
             "#46039f"
            ],
            [
             0.2222222222222222,
             "#7201a8"
            ],
            [
             0.3333333333333333,
             "#9c179e"
            ],
            [
             0.4444444444444444,
             "#bd3786"
            ],
            [
             0.5555555555555556,
             "#d8576b"
            ],
            [
             0.6666666666666666,
             "#ed7953"
            ],
            [
             0.7777777777777778,
             "#fb9f3a"
            ],
            [
             0.8888888888888888,
             "#fdca26"
            ],
            [
             1,
             "#f0f921"
            ]
           ]
          },
          "colorway": [
           "#636efa",
           "#EF553B",
           "#00cc96",
           "#ab63fa",
           "#FFA15A",
           "#19d3f3",
           "#FF6692",
           "#B6E880",
           "#FF97FF",
           "#FECB52"
          ],
          "font": {
           "color": "#f2f5fa"
          },
          "geo": {
           "bgcolor": "rgb(17,17,17)",
           "lakecolor": "rgb(17,17,17)",
           "landcolor": "rgb(17,17,17)",
           "showlakes": true,
           "showland": true,
           "subunitcolor": "#506784"
          },
          "hoverlabel": {
           "align": "left"
          },
          "hovermode": "closest",
          "mapbox": {
           "style": "dark"
          },
          "paper_bgcolor": "rgb(17,17,17)",
          "plot_bgcolor": "rgb(17,17,17)",
          "polar": {
           "angularaxis": {
            "gridcolor": "#506784",
            "linecolor": "#506784",
            "ticks": ""
           },
           "bgcolor": "rgb(17,17,17)",
           "radialaxis": {
            "gridcolor": "#506784",
            "linecolor": "#506784",
            "ticks": ""
           }
          },
          "scene": {
           "xaxis": {
            "backgroundcolor": "rgb(17,17,17)",
            "gridcolor": "#506784",
            "gridwidth": 2,
            "linecolor": "#506784",
            "showbackground": true,
            "ticks": "",
            "zerolinecolor": "#C8D4E3"
           },
           "yaxis": {
            "backgroundcolor": "rgb(17,17,17)",
            "gridcolor": "#506784",
            "gridwidth": 2,
            "linecolor": "#506784",
            "showbackground": true,
            "ticks": "",
            "zerolinecolor": "#C8D4E3"
           },
           "zaxis": {
            "backgroundcolor": "rgb(17,17,17)",
            "gridcolor": "#506784",
            "gridwidth": 2,
            "linecolor": "#506784",
            "showbackground": true,
            "ticks": "",
            "zerolinecolor": "#C8D4E3"
           }
          },
          "shapedefaults": {
           "line": {
            "color": "#f2f5fa"
           }
          },
          "sliderdefaults": {
           "bgcolor": "#C8D4E3",
           "bordercolor": "rgb(17,17,17)",
           "borderwidth": 1,
           "tickwidth": 0
          },
          "ternary": {
           "aaxis": {
            "gridcolor": "#506784",
            "linecolor": "#506784",
            "ticks": ""
           },
           "baxis": {
            "gridcolor": "#506784",
            "linecolor": "#506784",
            "ticks": ""
           },
           "bgcolor": "rgb(17,17,17)",
           "caxis": {
            "gridcolor": "#506784",
            "linecolor": "#506784",
            "ticks": ""
           }
          },
          "title": {
           "x": 0.05
          },
          "updatemenudefaults": {
           "bgcolor": "#506784",
           "borderwidth": 0
          },
          "xaxis": {
           "automargin": true,
           "gridcolor": "#283442",
           "linecolor": "#506784",
           "ticks": "",
           "title": {
            "standoff": 15
           },
           "zerolinecolor": "#283442",
           "zerolinewidth": 2
          },
          "yaxis": {
           "automargin": true,
           "gridcolor": "#283442",
           "linecolor": "#506784",
           "ticks": "",
           "title": {
            "standoff": 15
           },
           "zerolinecolor": "#283442",
           "zerolinewidth": 2
          }
         }
        },
        "title": {
         "text": " "
        },
        "xaxis": {
         "dtick": 1,
         "tick0": 1,
         "tickmode": "linear",
         "title": {
          "text": "Mean"
         }
        },
        "yaxis": {
         "title": {
          "text": "Monthly mean"
         }
        }
       }
      },
      "text/html": [
       "<div>                            <div id=\"caa19a84-6370-46b5-895f-1cf215b8ba48\" class=\"plotly-graph-div\" style=\"height:525px; width:100%;\"></div>            <script type=\"text/javascript\">                require([\"plotly\"], function(Plotly) {                    window.PLOTLYENV=window.PLOTLYENV || {};                                    if (document.getElementById(\"caa19a84-6370-46b5-895f-1cf215b8ba48\")) {                    Plotly.newPlot(                        \"caa19a84-6370-46b5-895f-1cf215b8ba48\",                        [{\"marker\": {\"color\": \"red\"}, \"mode\": \"lines+markers\", \"name\": \"Brazil\", \"type\": \"scatter\", \"x\": [1, 2, 3, 4, 5, 6, 7, 8, 9, 10], \"y\": [0.0, 0.0, 0.0, 0.8, 3.5, 4.6, 5.0, 4.5, 3.5, 2.5]}, {\"marker\": {\"color\": \"green\"}, \"mode\": \"lines+markers\", \"name\": \"France\", \"type\": \"scatter\", \"x\": [1, 2, 3, 4, 5, 6, 7, 8, 9, 10], \"y\": [0.0, 0.0, 1.5, 10.8, 2.3, 0.5, 0.2, 0.2, 0.7, 2.3]}, {\"marker\": {\"color\": \"violet\"}, \"mode\": \"lines+markers\", \"name\": \"Italy\", \"type\": \"scatter\", \"x\": [1, 2, 3, 4, 5, 6, 7, 8, 9, 10], \"y\": [0.0, 0.0, 6.2, 8.9, 3.0, 0.8, 0.2, 0.2, 0.2, 1.3]}, {\"marker\": {\"color\": \"#EEEF63\"}, \"mode\": \"lines+markers\", \"name\": \"Spain\", \"type\": \"scatter\", \"x\": [1, 2, 3, 4, 5, 6, 7, 8, 9, 10], \"y\": [0.0, 0.0, 5.1, 12.3, 1.8, 0.9, 0.1, 0.4, 1.9, 2.8]}, {\"marker\": {\"color\": \"blue\"}, \"mode\": \"lines+markers\", \"name\": \"USA\", \"type\": \"scatter\", \"x\": [1, 2, 3, 4, 5, 6, 7, 8, 9, 10], \"y\": [0.0, 0.0, 0.3, 5.8, 4.2, 2.3, 2.5, 3.0, 2.3, 2.3]}],                        {\"template\": {\"data\": {\"bar\": [{\"error_x\": {\"color\": \"#f2f5fa\"}, \"error_y\": {\"color\": \"#f2f5fa\"}, \"marker\": {\"line\": {\"color\": \"rgb(17,17,17)\", \"width\": 0.5}}, \"type\": \"bar\"}], \"barpolar\": [{\"marker\": {\"line\": {\"color\": \"rgb(17,17,17)\", \"width\": 0.5}}, \"type\": \"barpolar\"}], \"carpet\": [{\"aaxis\": {\"endlinecolor\": \"#A2B1C6\", \"gridcolor\": \"#506784\", \"linecolor\": \"#506784\", \"minorgridcolor\": \"#506784\", \"startlinecolor\": \"#A2B1C6\"}, \"baxis\": {\"endlinecolor\": \"#A2B1C6\", \"gridcolor\": \"#506784\", \"linecolor\": \"#506784\", \"minorgridcolor\": \"#506784\", \"startlinecolor\": \"#A2B1C6\"}, \"type\": \"carpet\"}], \"choropleth\": [{\"colorbar\": {\"outlinewidth\": 0, \"ticks\": \"\"}, \"type\": \"choropleth\"}], \"contour\": [{\"colorbar\": {\"outlinewidth\": 0, \"ticks\": \"\"}, \"colorscale\": [[0.0, \"#0d0887\"], [0.1111111111111111, \"#46039f\"], [0.2222222222222222, \"#7201a8\"], [0.3333333333333333, \"#9c179e\"], [0.4444444444444444, \"#bd3786\"], [0.5555555555555556, \"#d8576b\"], [0.6666666666666666, \"#ed7953\"], [0.7777777777777778, \"#fb9f3a\"], [0.8888888888888888, \"#fdca26\"], [1.0, \"#f0f921\"]], \"type\": \"contour\"}], \"contourcarpet\": [{\"colorbar\": {\"outlinewidth\": 0, \"ticks\": \"\"}, \"type\": \"contourcarpet\"}], \"heatmap\": [{\"colorbar\": {\"outlinewidth\": 0, \"ticks\": \"\"}, \"colorscale\": [[0.0, \"#0d0887\"], [0.1111111111111111, \"#46039f\"], [0.2222222222222222, \"#7201a8\"], [0.3333333333333333, \"#9c179e\"], [0.4444444444444444, \"#bd3786\"], [0.5555555555555556, \"#d8576b\"], [0.6666666666666666, \"#ed7953\"], [0.7777777777777778, \"#fb9f3a\"], [0.8888888888888888, \"#fdca26\"], [1.0, \"#f0f921\"]], \"type\": \"heatmap\"}], \"heatmapgl\": [{\"colorbar\": {\"outlinewidth\": 0, \"ticks\": \"\"}, \"colorscale\": [[0.0, \"#0d0887\"], [0.1111111111111111, \"#46039f\"], [0.2222222222222222, \"#7201a8\"], [0.3333333333333333, \"#9c179e\"], [0.4444444444444444, \"#bd3786\"], [0.5555555555555556, \"#d8576b\"], [0.6666666666666666, \"#ed7953\"], [0.7777777777777778, \"#fb9f3a\"], [0.8888888888888888, \"#fdca26\"], [1.0, \"#f0f921\"]], \"type\": \"heatmapgl\"}], \"histogram\": [{\"marker\": {\"colorbar\": {\"outlinewidth\": 0, \"ticks\": \"\"}}, \"type\": \"histogram\"}], \"histogram2d\": [{\"colorbar\": {\"outlinewidth\": 0, \"ticks\": \"\"}, \"colorscale\": [[0.0, \"#0d0887\"], [0.1111111111111111, \"#46039f\"], [0.2222222222222222, \"#7201a8\"], [0.3333333333333333, \"#9c179e\"], [0.4444444444444444, \"#bd3786\"], [0.5555555555555556, \"#d8576b\"], [0.6666666666666666, \"#ed7953\"], [0.7777777777777778, \"#fb9f3a\"], [0.8888888888888888, \"#fdca26\"], [1.0, \"#f0f921\"]], \"type\": \"histogram2d\"}], \"histogram2dcontour\": [{\"colorbar\": {\"outlinewidth\": 0, \"ticks\": \"\"}, \"colorscale\": [[0.0, \"#0d0887\"], [0.1111111111111111, \"#46039f\"], [0.2222222222222222, \"#7201a8\"], [0.3333333333333333, \"#9c179e\"], [0.4444444444444444, \"#bd3786\"], [0.5555555555555556, \"#d8576b\"], [0.6666666666666666, \"#ed7953\"], [0.7777777777777778, \"#fb9f3a\"], [0.8888888888888888, \"#fdca26\"], [1.0, \"#f0f921\"]], \"type\": \"histogram2dcontour\"}], \"mesh3d\": [{\"colorbar\": {\"outlinewidth\": 0, \"ticks\": \"\"}, \"type\": \"mesh3d\"}], \"parcoords\": [{\"line\": {\"colorbar\": {\"outlinewidth\": 0, \"ticks\": \"\"}}, \"type\": \"parcoords\"}], \"pie\": [{\"automargin\": true, \"type\": \"pie\"}], \"scatter\": [{\"marker\": {\"line\": {\"color\": \"#283442\"}}, \"type\": \"scatter\"}], \"scatter3d\": [{\"line\": {\"colorbar\": {\"outlinewidth\": 0, \"ticks\": \"\"}}, \"marker\": {\"colorbar\": {\"outlinewidth\": 0, \"ticks\": \"\"}}, \"type\": \"scatter3d\"}], \"scattercarpet\": [{\"marker\": {\"colorbar\": {\"outlinewidth\": 0, \"ticks\": \"\"}}, \"type\": \"scattercarpet\"}], \"scattergeo\": [{\"marker\": {\"colorbar\": {\"outlinewidth\": 0, \"ticks\": \"\"}}, \"type\": \"scattergeo\"}], \"scattergl\": [{\"marker\": {\"line\": {\"color\": \"#283442\"}}, \"type\": \"scattergl\"}], \"scattermapbox\": [{\"marker\": {\"colorbar\": {\"outlinewidth\": 0, \"ticks\": \"\"}}, \"type\": \"scattermapbox\"}], \"scatterpolar\": [{\"marker\": {\"colorbar\": {\"outlinewidth\": 0, \"ticks\": \"\"}}, \"type\": \"scatterpolar\"}], \"scatterpolargl\": [{\"marker\": {\"colorbar\": {\"outlinewidth\": 0, \"ticks\": \"\"}}, \"type\": \"scatterpolargl\"}], \"scatterternary\": [{\"marker\": {\"colorbar\": {\"outlinewidth\": 0, \"ticks\": \"\"}}, \"type\": \"scatterternary\"}], \"surface\": [{\"colorbar\": {\"outlinewidth\": 0, \"ticks\": \"\"}, \"colorscale\": [[0.0, \"#0d0887\"], [0.1111111111111111, \"#46039f\"], [0.2222222222222222, \"#7201a8\"], [0.3333333333333333, \"#9c179e\"], [0.4444444444444444, \"#bd3786\"], [0.5555555555555556, \"#d8576b\"], [0.6666666666666666, \"#ed7953\"], [0.7777777777777778, \"#fb9f3a\"], [0.8888888888888888, \"#fdca26\"], [1.0, \"#f0f921\"]], \"type\": \"surface\"}], \"table\": [{\"cells\": {\"fill\": {\"color\": \"#506784\"}, \"line\": {\"color\": \"rgb(17,17,17)\"}}, \"header\": {\"fill\": {\"color\": \"#2a3f5f\"}, \"line\": {\"color\": \"rgb(17,17,17)\"}}, \"type\": \"table\"}]}, \"layout\": {\"annotationdefaults\": {\"arrowcolor\": \"#f2f5fa\", \"arrowhead\": 0, \"arrowwidth\": 1}, \"coloraxis\": {\"colorbar\": {\"outlinewidth\": 0, \"ticks\": \"\"}}, \"colorscale\": {\"diverging\": [[0, \"#8e0152\"], [0.1, \"#c51b7d\"], [0.2, \"#de77ae\"], [0.3, \"#f1b6da\"], [0.4, \"#fde0ef\"], [0.5, \"#f7f7f7\"], [0.6, \"#e6f5d0\"], [0.7, \"#b8e186\"], [0.8, \"#7fbc41\"], [0.9, \"#4d9221\"], [1, \"#276419\"]], \"sequential\": [[0.0, \"#0d0887\"], [0.1111111111111111, \"#46039f\"], [0.2222222222222222, \"#7201a8\"], [0.3333333333333333, \"#9c179e\"], [0.4444444444444444, \"#bd3786\"], [0.5555555555555556, \"#d8576b\"], [0.6666666666666666, \"#ed7953\"], [0.7777777777777778, \"#fb9f3a\"], [0.8888888888888888, \"#fdca26\"], [1.0, \"#f0f921\"]], \"sequentialminus\": [[0.0, \"#0d0887\"], [0.1111111111111111, \"#46039f\"], [0.2222222222222222, \"#7201a8\"], [0.3333333333333333, \"#9c179e\"], [0.4444444444444444, \"#bd3786\"], [0.5555555555555556, \"#d8576b\"], [0.6666666666666666, \"#ed7953\"], [0.7777777777777778, \"#fb9f3a\"], [0.8888888888888888, \"#fdca26\"], [1.0, \"#f0f921\"]]}, \"colorway\": [\"#636efa\", \"#EF553B\", \"#00cc96\", \"#ab63fa\", \"#FFA15A\", \"#19d3f3\", \"#FF6692\", \"#B6E880\", \"#FF97FF\", \"#FECB52\"], \"font\": {\"color\": \"#f2f5fa\"}, \"geo\": {\"bgcolor\": \"rgb(17,17,17)\", \"lakecolor\": \"rgb(17,17,17)\", \"landcolor\": \"rgb(17,17,17)\", \"showlakes\": true, \"showland\": true, \"subunitcolor\": \"#506784\"}, \"hoverlabel\": {\"align\": \"left\"}, \"hovermode\": \"closest\", \"mapbox\": {\"style\": \"dark\"}, \"paper_bgcolor\": \"rgb(17,17,17)\", \"plot_bgcolor\": \"rgb(17,17,17)\", \"polar\": {\"angularaxis\": {\"gridcolor\": \"#506784\", \"linecolor\": \"#506784\", \"ticks\": \"\"}, \"bgcolor\": \"rgb(17,17,17)\", \"radialaxis\": {\"gridcolor\": \"#506784\", \"linecolor\": \"#506784\", \"ticks\": \"\"}}, \"scene\": {\"xaxis\": {\"backgroundcolor\": \"rgb(17,17,17)\", \"gridcolor\": \"#506784\", \"gridwidth\": 2, \"linecolor\": \"#506784\", \"showbackground\": true, \"ticks\": \"\", \"zerolinecolor\": \"#C8D4E3\"}, \"yaxis\": {\"backgroundcolor\": \"rgb(17,17,17)\", \"gridcolor\": \"#506784\", \"gridwidth\": 2, \"linecolor\": \"#506784\", \"showbackground\": true, \"ticks\": \"\", \"zerolinecolor\": \"#C8D4E3\"}, \"zaxis\": {\"backgroundcolor\": \"rgb(17,17,17)\", \"gridcolor\": \"#506784\", \"gridwidth\": 2, \"linecolor\": \"#506784\", \"showbackground\": true, \"ticks\": \"\", \"zerolinecolor\": \"#C8D4E3\"}}, \"shapedefaults\": {\"line\": {\"color\": \"#f2f5fa\"}}, \"sliderdefaults\": {\"bgcolor\": \"#C8D4E3\", \"bordercolor\": \"rgb(17,17,17)\", \"borderwidth\": 1, \"tickwidth\": 0}, \"ternary\": {\"aaxis\": {\"gridcolor\": \"#506784\", \"linecolor\": \"#506784\", \"ticks\": \"\"}, \"baxis\": {\"gridcolor\": \"#506784\", \"linecolor\": \"#506784\", \"ticks\": \"\"}, \"bgcolor\": \"rgb(17,17,17)\", \"caxis\": {\"gridcolor\": \"#506784\", \"linecolor\": \"#506784\", \"ticks\": \"\"}}, \"title\": {\"x\": 0.05}, \"updatemenudefaults\": {\"bgcolor\": \"#506784\", \"borderwidth\": 0}, \"xaxis\": {\"automargin\": true, \"gridcolor\": \"#283442\", \"linecolor\": \"#506784\", \"ticks\": \"\", \"title\": {\"standoff\": 15}, \"zerolinecolor\": \"#283442\", \"zerolinewidth\": 2}, \"yaxis\": {\"automargin\": true, \"gridcolor\": \"#283442\", \"linecolor\": \"#506784\", \"ticks\": \"\", \"title\": {\"standoff\": 15}, \"zerolinecolor\": \"#283442\", \"zerolinewidth\": 2}}}, \"title\": {\"text\": \" \"}, \"xaxis\": {\"dtick\": 1, \"tick0\": 1, \"tickmode\": \"linear\", \"title\": {\"text\": \"Mean\"}}, \"yaxis\": {\"title\": {\"text\": \"Monthly mean\"}}},                        {\"responsive\": true}                    ).then(function(){\n",
       "                            \n",
       "var gd = document.getElementById('caa19a84-6370-46b5-895f-1cf215b8ba48');\n",
       "var x = new MutationObserver(function (mutations, observer) {{\n",
       "        var display = window.getComputedStyle(gd).display;\n",
       "        if (!display || display === 'none') {{\n",
       "            console.log([gd, 'removed!']);\n",
       "            Plotly.purge(gd);\n",
       "            observer.disconnect();\n",
       "        }}\n",
       "}});\n",
       "\n",
       "// Listen for the removal of the full notebook cells\n",
       "var notebookContainer = gd.closest('#notebook-container');\n",
       "if (notebookContainer) {{\n",
       "    x.observe(notebookContainer, {childList: true});\n",
       "}}\n",
       "\n",
       "// Listen for the clearing of the current output cell\n",
       "var outputEl = gd.closest('.output');\n",
       "if (outputEl) {{\n",
       "    x.observe(outputEl, {childList: true});\n",
       "}}\n",
       "\n",
       "                        })                };                });            </script>        </div>"
      ]
     },
     "metadata": {},
     "output_type": "display_data"
    }
   ],
   "source": [
    "# Media de Novas mortes por milhão \n",
    "\n",
    "sns.set_style(\"darkgrid\")\n",
    "\n",
    "ncdm_meanbr = round(df_br.groupby(\"month\")[\"new_deaths_per_million\"].mean(), 1)\n",
    "\n",
    "ncdm_meanfr = round(df_fr.groupby(\"month\")[\"new_deaths_per_million\"].mean(), 1)\n",
    "ncdm_meanit = round(df_it.groupby(\"month\")[\"new_deaths_per_million\"].mean(), 1)\n",
    "ncdm_meansp = round(df_sp.groupby(\"month\")[\"new_deaths_per_million\"].mean(), 1)\n",
    "\n",
    "ncdm_meaneua = round(df_eua.groupby(\"month\")[\"new_deaths_per_million\"].mean(), 1)\n",
    "\n",
    "\n",
    "fig = go.Figure()\n",
    "\n",
    "\n",
    "fig.add_trace(go.Scatter(x= date, y= ncdm_meanbr.values, mode='lines+markers',marker_color='red', name='Brazil'))\n",
    "fig.add_trace(go.Scatter(x= date, y= ncdm_meanfr.values, mode='lines+markers',marker_color='green', name='France'))\n",
    "fig.add_trace(go.Scatter(x= date, y= ncdm_meanit.values, mode='lines+markers',marker_color='violet', name='Italy'))\n",
    "fig.add_trace(go.Scatter(x= date, y= ncdm_meansp.values, mode='lines+markers',marker_color='#EEEF63', name='Spain'))\n",
    "fig.add_trace(go.Scatter(x= date, y= ncdm_meaneua.values, mode='lines+markers',marker_color='blue', name='USA'))\n",
    "\n",
    "fig.update_layout(title=' ', \n",
    "                  template='plotly_dark', yaxis_title=\"Monthly mean\",xaxis_title=\"Mean\")\n",
    "\n",
    "fig.update_layout(xaxis = dict(tickmode = 'linear', tick0 = 1, dtick = 1))"
   ]
  },
  {
   "cell_type": "markdown",
   "metadata": {},
   "source": [
    "#### Conclusion"
   ]
  },
  {
   "cell_type": "markdown",
   "metadata": {},
   "source": [
    "O Índice de rigor dos paises possui uma relação desprezivel com os numeros totais de casos, novos casos suavizados e mortes suavizadas. \n",
    "\n",
    "A extrema pobreza e a densidade populacional tem uma correlação desprezivel negativa com numeros totais de casos, novos casos suavizados e mortes suavizadas. \n",
    "\n",
    "A renda per capta tem uma correlação de 0.48 com total de testes por milhão. O que é considerado baixo á moderado. O que é interessante olhar o ponto de vista de alguns países com alta renda per capta realizarem testes em maior quantidade. \n",
    "\n",
    "Dando um \"zoom\" em alguma dessa variáveis em dois países com densidade populacionais distintas (Brasil e Índia) a partir de Heatmaps, observa-se que as correlações de casos e mortes de covid com a alta densidade populacional foram desprezíveis para ambas. \n",
    " \n",
    "Como notado pelo gráfico 1, onde se compara o índice de rigor entre os países: Brasil, India, Alemanha e França, que possuem características distintas em especial para o momento atual em relação a pandemia. É notório o alto rigor da Índia em relação aos demais países. \n",
    "\n"
   ]
  },
  {
   "cell_type": "markdown",
   "metadata": {},
   "source": [
    "## *Developed by*"
   ]
  },
  {
   "attachments": {
    "image.png": {
     "image/png": "[encoded data removed]"
    }
   },
   "cell_type": "markdown",
   "metadata": {},
   "source": [
    " ![image.png](attachment:image.png)"
   ]
  }
 ],
 "metadata": {
  "kernelspec": {
   "display_name": "Python 3",
   "language": "python",
   "name": "python3"
  },
  "language_info": {
   "codemirror_mode": {
    "name": "ipython",
    "version": 3
   },
   "file_extension": ".py",
   "mimetype": "text/x-python",
   "name": "python",
   "nbconvert_exporter": "python",
   "pygments_lexer": "ipython3",
   "version": "3.7.3"
  }
 },
 "nbformat": 4,
 "nbformat_minor": 4
}
