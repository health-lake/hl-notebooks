{
 "cells": [
  {
   "cell_type": "code",
   "execution_count": 15,
   "metadata": {},
   "outputs": [],
   "source": [
    "if (!require(RJDBC)) { install.packages(RJDBC); require('RJDBC') }\n",
    "if (!require(rjson)) { install.packages(rjson); require('rjson') }"
   ]
  },
  {
   "cell_type": "markdown",
   "metadata": {},
   "source": [
    "# Get the connector to dremio with the class DremioQueryMakerJDBC"
   ]
  },
  {
   "cell_type": "code",
   "execution_count": 16,
   "metadata": {},
   "outputs": [
    {
     "data": {
      "text/html": [
       "<table>\n",
       "<caption>A data.frame: 8 × 4</caption>\n",
       "<thead>\n",
       "\t<tr><th></th><th scope=col>TABLE_CATALOG</th><th scope=col>TABLE_SCHEMA</th><th scope=col>TABLE_NAME</th><th scope=col>VIEW_DEFINITION</th></tr>\n",
       "\t<tr><th></th><th scope=col>&lt;chr&gt;</th><th scope=col>&lt;chr&gt;</th><th scope=col>&lt;chr&gt;</th><th scope=col>&lt;chr&gt;</th></tr>\n",
       "</thead>\n",
       "<tbody>\n",
       "\t<tr><th scope=row>1</th><td>DREMIO</td><td>covidlake-raw     </td><td>brasil_io          </td><td>SELECT * FROM \"brasil.io\"                                                                                                                                                                     </td></tr>\n",
       "\t<tr><th scope=row>2</th><td>DREMIO</td><td>covidlake-raw     </td><td>google_trends      </td><td>SELECT * FROM \"google_trends.parquet\"                                                                                                                                                         </td></tr>\n",
       "\t<tr><th scope=row>3</th><td>DREMIO</td><td>covidlake-raw     </td><td>health_ministry    </td><td>SELECT * FROM health_ministry                                                                                                                                                                 </td></tr>\n",
       "\t<tr><th scope=row>4</th><td>DREMIO</td><td>covidlake-raw     </td><td>hospitals_dimension</td><td>SELECT * FROM \"hospitals.csv\"                                                                                                                                                                 </td></tr>\n",
       "\t<tr><th scope=row>5</th><td>DREMIO</td><td>covidlake-raw     </td><td>mobility_google    </td><td>SELECT * FROM \"covid-raw\".mobility.google.\"Global_Mobility_Report_Static.csv\"\n",
       "WHERE \"country_region\" LIKE 'Brazil'                                                                           </td></tr>\n",
       "\t<tr><th scope=row>6</th><td>DREMIO</td><td>covidlake-raw     </td><td>wcota              </td><td>SELECT * FROM wcota                                                                                                                                                                           </td></tr>\n",
       "\t<tr><th scope=row>7</th><td>DREMIO</td><td>PowerBI           </td><td>VDS-cases-state    </td><td>  select a.state,a.city, sum(a.confirmed) as cases, \"a\".\"date\"\r\n",
       "  from \"covidlake-raw\".\"brasil_io\" as a\r\n",
       "where a.is_last = true\r\n",
       "group by a.state,a.city,\"a\".\"date\"\r\n",
       "order by 4,3 desc</td></tr>\n",
       "\t<tr><th scope=row>8</th><td>DREMIO</td><td>covidlake-raw.ipea</td><td>dolar_ratio        </td><td>SELECT * FROM \"dolar_ratio.parquet\"                                                                                                                                                           </td></tr>\n",
       "</tbody>\n",
       "</table>\n"
      ],
      "text/latex": [
       "A data.frame: 8 × 4\n",
       "\\begin{tabular}{r|llll}\n",
       "  & TABLE\\_CATALOG & TABLE\\_SCHEMA & TABLE\\_NAME & VIEW\\_DEFINITION\\\\\n",
       "  & <chr> & <chr> & <chr> & <chr>\\\\\n",
       "\\hline\n",
       "\t1 & DREMIO & covidlake-raw      & brasil\\_io           & SELECT * FROM \"brasil.io\"                                                                                                                                                                     \\\\\n",
       "\t2 & DREMIO & covidlake-raw      & google\\_trends       & SELECT * FROM \"google\\_trends.parquet\"                                                                                                                                                         \\\\\n",
       "\t3 & DREMIO & covidlake-raw      & health\\_ministry     & SELECT * FROM health\\_ministry                                                                                                                                                                 \\\\\n",
       "\t4 & DREMIO & covidlake-raw      & hospitals\\_dimension & SELECT * FROM \"hospitals.csv\"                                                                                                                                                                 \\\\\n",
       "\t5 & DREMIO & covidlake-raw      & mobility\\_google     & SELECT * FROM \"covid-raw\".mobility.google.\"Global\\_Mobility\\_Report\\_Static.csv\"\n",
       "WHERE \"country\\_region\" LIKE 'Brazil'                                                                           \\\\\n",
       "\t6 & DREMIO & covidlake-raw      & wcota               & SELECT * FROM wcota                                                                                                                                                                           \\\\\n",
       "\t7 & DREMIO & PowerBI            & VDS-cases-state     &   select a.state,a.city, sum(a.confirmed) as cases, \"a\".\"date\"\r\n",
       "  from \"covidlake-raw\".\"brasil\\_io\" as a\r\n",
       "where a.is\\_last = true\r\n",
       "group by a.state,a.city,\"a\".\"date\"\r\n",
       "order by 4,3 desc\\\\\n",
       "\t8 & DREMIO & covidlake-raw.ipea & dolar\\_ratio         & SELECT * FROM \"dolar\\_ratio.parquet\"                                                                                                                                                           \\\\\n",
       "\\end{tabular}\n"
      ],
      "text/markdown": [
       "\n",
       "A data.frame: 8 × 4\n",
       "\n",
       "| <!--/--> | TABLE_CATALOG &lt;chr&gt; | TABLE_SCHEMA &lt;chr&gt; | TABLE_NAME &lt;chr&gt; | VIEW_DEFINITION &lt;chr&gt; |\n",
       "|---|---|---|---|---|\n",
       "| 1 | DREMIO | covidlake-raw      | brasil_io           | SELECT * FROM \"brasil.io\"                                                                                                                                                                      |\n",
       "| 2 | DREMIO | covidlake-raw      | google_trends       | SELECT * FROM \"google_trends.parquet\"                                                                                                                                                          |\n",
       "| 3 | DREMIO | covidlake-raw      | health_ministry     | SELECT * FROM health_ministry                                                                                                                                                                  |\n",
       "| 4 | DREMIO | covidlake-raw      | hospitals_dimension | SELECT * FROM \"hospitals.csv\"                                                                                                                                                                  |\n",
       "| 5 | DREMIO | covidlake-raw      | mobility_google     | SELECT * FROM \"covid-raw\".mobility.google.\"Global_Mobility_Report_Static.csv\"\n",
       "WHERE \"country_region\" LIKE 'Brazil'                                                                            |\n",
       "| 6 | DREMIO | covidlake-raw      | wcota               | SELECT * FROM wcota                                                                                                                                                                            |\n",
       "| 7 | DREMIO | PowerBI            | VDS-cases-state     |   select a.state,a.city, sum(a.confirmed) as cases, \"a\".\"date\"\r\n",
       "  from \"covidlake-raw\".\"brasil_io\" as a\r\n",
       "where a.is_last = true\r\n",
       "group by a.state,a.city,\"a\".\"date\"\r\n",
       "order by 4,3 desc |\n",
       "| 8 | DREMIO | covidlake-raw.ipea | dolar_ratio         | SELECT * FROM \"dolar_ratio.parquet\"                                                                                                                                                            |\n",
       "\n"
      ],
      "text/plain": [
       "  TABLE_CATALOG TABLE_SCHEMA       TABLE_NAME         \n",
       "1 DREMIO        covidlake-raw      brasil_io          \n",
       "2 DREMIO        covidlake-raw      google_trends      \n",
       "3 DREMIO        covidlake-raw      health_ministry    \n",
       "4 DREMIO        covidlake-raw      hospitals_dimension\n",
       "5 DREMIO        covidlake-raw      mobility_google    \n",
       "6 DREMIO        covidlake-raw      wcota              \n",
       "7 DREMIO        PowerBI            VDS-cases-state    \n",
       "8 DREMIO        covidlake-raw.ipea dolar_ratio        \n",
       "  VIEW_DEFINITION                                                                                                                                                                               \n",
       "1 SELECT * FROM \"brasil.io\"                                                                                                                                                                     \n",
       "2 SELECT * FROM \"google_trends.parquet\"                                                                                                                                                         \n",
       "3 SELECT * FROM health_ministry                                                                                                                                                                 \n",
       "4 SELECT * FROM \"hospitals.csv\"                                                                                                                                                                 \n",
       "5 SELECT * FROM \"covid-raw\".mobility.google.\"Global_Mobility_Report_Static.csv\"\\nWHERE \"country_region\" LIKE 'Brazil'                                                                           \n",
       "6 SELECT * FROM wcota                                                                                                                                                                           \n",
       "7   select a.state,a.city, sum(a.confirmed) as cases, \"a\".\"date\"\\r\\n  from \"covidlake-raw\".\"brasil_io\" as a\\r\\nwhere a.is_last = true\\r\\ngroup by a.state,a.city,\"a\".\"date\"\\r\\norder by 4,3 desc\n",
       "8 SELECT * FROM \"dolar_ratio.parquet\"                                                                                                                                                           "
      ]
     },
     "metadata": {},
     "output_type": "display_data"
    }
   ],
   "source": [
    "# Credencials para a conexão no Dremio\n",
    "credentials <- fromJSON(file=\"/home/ubuntu/notebooks/files/.credentials.json\")\n",
    "\n",
    "cnct_str = paste(\"jdbc:dremio:direct=\", credentials['host'], \":\", credentials['port'], sep = \"\")\n",
    "drv = JDBC(\"com.dremio.jdbc.Driver\",\n",
    "           \"/home/ubuntu/notebooks/files/dremio-jdbc-driver-4.1.3-202001022113020736-53142377.jar\")\n",
    "conn = dbConnect(drv, cnct_str, credentials['uid'], credentials[\"pwd\"])\n",
    "\n",
    "index_query = \"SELECT * FROM INFORMATION_SCHEMA.VIEWS\"\n",
    "index = dbGetQuery(conn, index_query)\n",
    "index"
   ]
  },
  {
   "cell_type": "markdown",
   "metadata": {},
   "source": [
    "# Get tables by index number"
   ]
  },
  {
   "cell_type": "code",
   "execution_count": 17,
   "metadata": {},
   "outputs": [
    {
     "data": {
      "text/html": [
       "<table>\n",
       "<caption>A data.frame: 6 × 6</caption>\n",
       "<thead>\n",
       "\t<tr><th></th><th scope=col>index</th><th scope=col>TIME</th><th scope=col>Medicamento_VALUE</th><th scope=col>Vacina_VALUE</th><th scope=col>Sintoma_VALUE</th><th scope=col>Respirador_VALUE</th></tr>\n",
       "\t<tr><th></th><th scope=col>&lt;dbl&gt;</th><th scope=col>&lt;chr&gt;</th><th scope=col>&lt;chr&gt;</th><th scope=col>&lt;chr&gt;</th><th scope=col>&lt;chr&gt;</th><th scope=col>&lt;chr&gt;</th></tr>\n",
       "</thead>\n",
       "<tbody>\n",
       "\t<tr><th scope=row>1</th><td>0</td><td>2004-01-01</td><td>72</td><td>35</td><td>10</td><td>13</td></tr>\n",
       "\t<tr><th scope=row>2</th><td>1</td><td>2004-02-01</td><td>87</td><td>NA</td><td>12</td><td>11</td></tr>\n",
       "\t<tr><th scope=row>3</th><td>2</td><td>2004-03-01</td><td>84</td><td>NA</td><td>11</td><td>19</td></tr>\n",
       "\t<tr><th scope=row>4</th><td>3</td><td>2004-04-01</td><td>80</td><td>NA</td><td>13</td><td>8 </td></tr>\n",
       "\t<tr><th scope=row>5</th><td>4</td><td>2004-05-01</td><td>93</td><td>NA</td><td>13</td><td>7 </td></tr>\n",
       "\t<tr><th scope=row>6</th><td>5</td><td>2004-06-01</td><td>77</td><td>NA</td><td>13</td><td>8 </td></tr>\n",
       "</tbody>\n",
       "</table>\n"
      ],
      "text/latex": [
       "A data.frame: 6 × 6\n",
       "\\begin{tabular}{r|llllll}\n",
       "  & index & TIME & Medicamento\\_VALUE & Vacina\\_VALUE & Sintoma\\_VALUE & Respirador\\_VALUE\\\\\n",
       "  & <dbl> & <chr> & <chr> & <chr> & <chr> & <chr>\\\\\n",
       "\\hline\n",
       "\t1 & 0 & 2004-01-01 & 72 & 35 & 10 & 13\\\\\n",
       "\t2 & 1 & 2004-02-01 & 87 & NA & 12 & 11\\\\\n",
       "\t3 & 2 & 2004-03-01 & 84 & NA & 11 & 19\\\\\n",
       "\t4 & 3 & 2004-04-01 & 80 & NA & 13 & 8 \\\\\n",
       "\t5 & 4 & 2004-05-01 & 93 & NA & 13 & 7 \\\\\n",
       "\t6 & 5 & 2004-06-01 & 77 & NA & 13 & 8 \\\\\n",
       "\\end{tabular}\n"
      ],
      "text/markdown": [
       "\n",
       "A data.frame: 6 × 6\n",
       "\n",
       "| <!--/--> | index &lt;dbl&gt; | TIME &lt;chr&gt; | Medicamento_VALUE &lt;chr&gt; | Vacina_VALUE &lt;chr&gt; | Sintoma_VALUE &lt;chr&gt; | Respirador_VALUE &lt;chr&gt; |\n",
       "|---|---|---|---|---|---|---|\n",
       "| 1 | 0 | 2004-01-01 | 72 | 35 | 10 | 13 |\n",
       "| 2 | 1 | 2004-02-01 | 87 | NA | 12 | 11 |\n",
       "| 3 | 2 | 2004-03-01 | 84 | NA | 11 | 19 |\n",
       "| 4 | 3 | 2004-04-01 | 80 | NA | 13 | 8  |\n",
       "| 5 | 4 | 2004-05-01 | 93 | NA | 13 | 7  |\n",
       "| 6 | 5 | 2004-06-01 | 77 | NA | 13 | 8  |\n",
       "\n"
      ],
      "text/plain": [
       "  index TIME       Medicamento_VALUE Vacina_VALUE Sintoma_VALUE\n",
       "1 0     2004-01-01 72                35           10           \n",
       "2 1     2004-02-01 87                NA           12           \n",
       "3 2     2004-03-01 84                NA           11           \n",
       "4 3     2004-04-01 80                NA           13           \n",
       "5 4     2004-05-01 93                NA           13           \n",
       "6 5     2004-06-01 77                NA           13           \n",
       "  Respirador_VALUE\n",
       "1 13              \n",
       "2 11              \n",
       "3 19              \n",
       "4 8               \n",
       "5 7               \n",
       "6 8               "
      ]
     },
     "metadata": {},
     "output_type": "display_data"
    }
   ],
   "source": [
    "index_number = 2\n",
    "table_name = index$TABLE_NAME[index_number]\n",
    "source = index$TABLE_SCHEMA[index_number]\n",
    "query = paste(\"SELECT * FROM \\\"\", source, \"\\\".\\\"\", table_name, \"\\\"\", sep = \"\")\n",
    "table = dbGetQuery(conn, query)\n",
    "head(table)"
   ]
  },
  {
   "cell_type": "markdown",
   "metadata": {},
   "source": [
    "# Make Free Queries"
   ]
  },
  {
   "cell_type": "code",
   "execution_count": 18,
   "metadata": {},
   "outputs": [
    {
     "data": {
      "text/html": [
       "<table>\n",
       "<caption>A data.frame: 6 × 8</caption>\n",
       "<thead>\n",
       "\t<tr><th></th><th scope=col>index</th><th scope=col>regiao</th><th scope=col>estado</th><th scope=col>date</th><th scope=col>casosNovos</th><th scope=col>casosAcumulados</th><th scope=col>obitosNovos</th><th scope=col>obitosAcumulados</th></tr>\n",
       "\t<tr><th></th><th scope=col>&lt;dbl&gt;</th><th scope=col>&lt;chr&gt;</th><th scope=col>&lt;chr&gt;</th><th scope=col>&lt;chr&gt;</th><th scope=col>&lt;dbl&gt;</th><th scope=col>&lt;dbl&gt;</th><th scope=col>&lt;dbl&gt;</th><th scope=col>&lt;dbl&gt;</th></tr>\n",
       "</thead>\n",
       "<tbody>\n",
       "\t<tr><th scope=row>1</th><td>  0</td><td>Norte</td><td>RO</td><td>2020-01-30</td><td>0</td><td>0</td><td>0</td><td>0</td></tr>\n",
       "\t<tr><th scope=row>2</th><td> 81</td><td>Norte</td><td>AC</td><td>2020-01-30</td><td>0</td><td>0</td><td>0</td><td>0</td></tr>\n",
       "\t<tr><th scope=row>3</th><td>162</td><td>Norte</td><td>AM</td><td>2020-01-30</td><td>0</td><td>0</td><td>0</td><td>0</td></tr>\n",
       "\t<tr><th scope=row>4</th><td>243</td><td>Norte</td><td>RR</td><td>2020-01-30</td><td>0</td><td>0</td><td>0</td><td>0</td></tr>\n",
       "\t<tr><th scope=row>5</th><td>324</td><td>Norte</td><td>PA</td><td>2020-01-30</td><td>0</td><td>0</td><td>0</td><td>0</td></tr>\n",
       "\t<tr><th scope=row>6</th><td>405</td><td>Norte</td><td>AP</td><td>2020-01-30</td><td>0</td><td>0</td><td>0</td><td>0</td></tr>\n",
       "</tbody>\n",
       "</table>\n"
      ],
      "text/latex": [
       "A data.frame: 6 × 8\n",
       "\\begin{tabular}{r|llllllll}\n",
       "  & index & regiao & estado & date & casosNovos & casosAcumulados & obitosNovos & obitosAcumulados\\\\\n",
       "  & <dbl> & <chr> & <chr> & <chr> & <dbl> & <dbl> & <dbl> & <dbl>\\\\\n",
       "\\hline\n",
       "\t1 &   0 & Norte & RO & 2020-01-30 & 0 & 0 & 0 & 0\\\\\n",
       "\t2 &  81 & Norte & AC & 2020-01-30 & 0 & 0 & 0 & 0\\\\\n",
       "\t3 & 162 & Norte & AM & 2020-01-30 & 0 & 0 & 0 & 0\\\\\n",
       "\t4 & 243 & Norte & RR & 2020-01-30 & 0 & 0 & 0 & 0\\\\\n",
       "\t5 & 324 & Norte & PA & 2020-01-30 & 0 & 0 & 0 & 0\\\\\n",
       "\t6 & 405 & Norte & AP & 2020-01-30 & 0 & 0 & 0 & 0\\\\\n",
       "\\end{tabular}\n"
      ],
      "text/markdown": [
       "\n",
       "A data.frame: 6 × 8\n",
       "\n",
       "| <!--/--> | index &lt;dbl&gt; | regiao &lt;chr&gt; | estado &lt;chr&gt; | date &lt;chr&gt; | casosNovos &lt;dbl&gt; | casosAcumulados &lt;dbl&gt; | obitosNovos &lt;dbl&gt; | obitosAcumulados &lt;dbl&gt; |\n",
       "|---|---|---|---|---|---|---|---|---|\n",
       "| 1 |   0 | Norte | RO | 2020-01-30 | 0 | 0 | 0 | 0 |\n",
       "| 2 |  81 | Norte | AC | 2020-01-30 | 0 | 0 | 0 | 0 |\n",
       "| 3 | 162 | Norte | AM | 2020-01-30 | 0 | 0 | 0 | 0 |\n",
       "| 4 | 243 | Norte | RR | 2020-01-30 | 0 | 0 | 0 | 0 |\n",
       "| 5 | 324 | Norte | PA | 2020-01-30 | 0 | 0 | 0 | 0 |\n",
       "| 6 | 405 | Norte | AP | 2020-01-30 | 0 | 0 | 0 | 0 |\n",
       "\n"
      ],
      "text/plain": [
       "  index regiao estado date       casosNovos casosAcumulados obitosNovos\n",
       "1   0   Norte  RO     2020-01-30 0          0               0          \n",
       "2  81   Norte  AC     2020-01-30 0          0               0          \n",
       "3 162   Norte  AM     2020-01-30 0          0               0          \n",
       "4 243   Norte  RR     2020-01-30 0          0               0          \n",
       "5 324   Norte  PA     2020-01-30 0          0               0          \n",
       "6 405   Norte  AP     2020-01-30 0          0               0          \n",
       "  obitosAcumulados\n",
       "1 0               \n",
       "2 0               \n",
       "3 0               \n",
       "4 0               \n",
       "5 0               \n",
       "6 0               "
      ]
     },
     "metadata": {},
     "output_type": "display_data"
    }
   ],
   "source": [
    "query = '\n",
    "SELECT *\n",
    "FROM \"covidlake-raw\".\"health_ministry\"\n",
    ";'\n",
    "table = dbGetQuery(conn, query)\n",
    "head(table)"
   ]
  },
  {
   "cell_type": "code",
   "execution_count": 21,
   "metadata": {},
   "outputs": [
    {
     "name": "stderr",
     "output_type": "stream",
     "text": [
      "also installing the dependencies ‘praise’, ‘colorspace’, ‘testthat’, ‘nlme’, ‘farver’, ‘labeling’, ‘munsell’, ‘RColorBrewer’, ‘viridisLite’, ‘gtable’, ‘isoband’, ‘MASS’, ‘mgcv’, ‘scales’\n",
      "\n",
      "\n",
      "Updating HTML index of packages in '.Library'\n",
      "\n",
      "Making 'packages.html' ...\n",
      " done\n",
      "\n"
     ]
    }
   ],
   "source": [
    "# install.packages('ggplot2')\n",
    "# install.packages('DBEST')\n",
    "# install.packages('dplyr')"
   ]
  },
  {
   "cell_type": "code",
   "execution_count": 27,
   "metadata": {},
   "outputs": [],
   "source": [
    "library(ggplot2)\n",
    "library(DBEST)\n",
    "#library(dplyr)"
   ]
  },
  {
   "cell_type": "code",
   "execution_count": 29,
   "metadata": {},
   "outputs": [
    {
     "name": "stderr",
     "output_type": "stream",
     "text": [
      "Updating HTML index of packages in '.Library'\n",
      "\n",
      "Making 'packages.html' ...\n",
      " done\n",
      "\n"
     ]
    }
   ],
   "source": [
    "install.packages('dplyr')"
   ]
  },
  {
   "cell_type": "code",
   "execution_count": null,
   "metadata": {},
   "outputs": [],
   "source": []
  }
 ],
 "metadata": {
  "kernelspec": {
   "display_name": "R",
   "language": "R",
   "name": "ir"
  },
  "language_info": {
   "codemirror_mode": "r",
   "file_extension": ".r",
   "mimetype": "text/x-r-source",
   "name": "R",
   "pygments_lexer": "r",
   "version": "3.5.1"
  }
 },
 "nbformat": 4,
 "nbformat_minor": 4
}
