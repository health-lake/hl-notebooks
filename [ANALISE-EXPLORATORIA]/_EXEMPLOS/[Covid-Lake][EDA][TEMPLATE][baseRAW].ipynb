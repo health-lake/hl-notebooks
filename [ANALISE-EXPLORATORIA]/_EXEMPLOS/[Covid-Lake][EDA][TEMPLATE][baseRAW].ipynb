{
 "cells": [
  {
   "cell_type": "markdown",
   "metadata": {},
   "source": [
    "**This notebook provide the best practices to consume covid-lake API.**"
   ]
  },
  {
   "cell_type": "code",
   "execution_count": 1,
   "metadata": {},
   "outputs": [],
   "source": [
    "# General Import\n",
    "\n",
    "import pandas as pd\n",
    "import numpy as np\n",
    "import re\n",
    "import seaborn as sns\n",
    "\n",
    "import matplotlib.pyplot as plt \n",
    "import matplotlib.dates as mdates\n",
    "%matplotlib inline\n",
    "\n",
    "#!pip install scipy\n",
    "#from scipy.stats import pearsonr"
   ]
  },
  {
   "cell_type": "code",
   "execution_count": 2,
   "metadata": {},
   "outputs": [],
   "source": [
    "# Plotting functions\n",
    "#%run /home/ubuntu/notebooks/covid-prj01-data-analysis/[ANALISE-EXPLORATORIA]/python_plotting_functions.ipynb"
   ]
  },
  {
   "cell_type": "code",
   "execution_count": 3,
   "metadata": {},
   "outputs": [],
   "source": [
    "#path = '\"covid-raw\".transparencia.\"breath_disease\".\"death_by_city_and_skin__2020.08.04.23.08.15.parquet\"' # path from Dremio\n",
    "\n",
    "# query = \"SELECT * FROM {0};\".format (path)\n",
    "# query"
   ]
  },
  {
   "cell_type": "code",
   "execution_count": 4,
   "metadata": {},
   "outputs": [
    {
     "data": {
      "text/html": [
       "<div>\n",
       "<style scoped>\n",
       "    .dataframe tbody tr th:only-of-type {\n",
       "        vertical-align: middle;\n",
       "    }\n",
       "\n",
       "    .dataframe tbody tr th {\n",
       "        vertical-align: top;\n",
       "    }\n",
       "\n",
       "    .dataframe thead th {\n",
       "        text-align: right;\n",
       "    }\n",
       "</style>\n",
       "<table border=\"1\" class=\"dataframe\">\n",
       "  <thead>\n",
       "    <tr style=\"text-align: right;\">\n",
       "      <th></th>\n",
       "      <th>TABLE_CATALOG</th>\n",
       "      <th>TABLE_SCHEMA</th>\n",
       "      <th>TABLE_NAME</th>\n",
       "      <th>TABLE_TYPE</th>\n",
       "    </tr>\n",
       "  </thead>\n",
       "  <tbody>\n",
       "    <tr>\n",
       "      <th>0</th>\n",
       "      <td>DREMIO</td>\n",
       "      <td>Covid-Lake</td>\n",
       "      <td>Disease_Indicator</td>\n",
       "      <td>VIEW</td>\n",
       "    </tr>\n",
       "    <tr>\n",
       "      <th>1</th>\n",
       "      <td>DREMIO</td>\n",
       "      <td>Covid-Lake</td>\n",
       "      <td>hospitalizações</td>\n",
       "      <td>VIEW</td>\n",
       "    </tr>\n",
       "    <tr>\n",
       "      <th>2</th>\n",
       "      <td>DREMIO</td>\n",
       "      <td>Covid-Lake</td>\n",
       "      <td>Institution</td>\n",
       "      <td>VIEW</td>\n",
       "    </tr>\n",
       "    <tr>\n",
       "      <th>3</th>\n",
       "      <td>DREMIO</td>\n",
       "      <td>Covid-Lake</td>\n",
       "      <td>News&amp;Trends</td>\n",
       "      <td>VIEW</td>\n",
       "    </tr>\n",
       "    <tr>\n",
       "      <th>4</th>\n",
       "      <td>DREMIO</td>\n",
       "      <td>Covid-Lake</td>\n",
       "      <td>Socioeconomic_Factors</td>\n",
       "      <td>VIEW</td>\n",
       "    </tr>\n",
       "    <tr>\n",
       "      <th>...</th>\n",
       "      <td>...</td>\n",
       "      <td>...</td>\n",
       "      <td>...</td>\n",
       "      <td>...</td>\n",
       "    </tr>\n",
       "    <tr>\n",
       "      <th>199</th>\n",
       "      <td>DREMIO</td>\n",
       "      <td>covid-raw.ans.ftp.dadosabertos.ans.gov.br.FTP....</td>\n",
       "      <td>PEONA_2020.csv</td>\n",
       "      <td>TABLE</td>\n",
       "    </tr>\n",
       "    <tr>\n",
       "      <th>200</th>\n",
       "      <td>DREMIO</td>\n",
       "      <td>covid-raw.ans.ftp.dadosabertos.ans.gov.br.FTP....</td>\n",
       "      <td>PDA_Cobranca_e_Arrecadacao_SUS.csv</td>\n",
       "      <td>TABLE</td>\n",
       "    </tr>\n",
       "    <tr>\n",
       "      <th>201</th>\n",
       "      <td>DREMIO</td>\n",
       "      <td>covid-raw.ans.ftp.dadosabertos.ans.gov.br.FTP....</td>\n",
       "      <td>RPC_2015_1trim.csv</td>\n",
       "      <td>TABLE</td>\n",
       "    </tr>\n",
       "    <tr>\n",
       "      <th>202</th>\n",
       "      <td>DREMIO</td>\n",
       "      <td>covid-raw.ans.ftp.dadosabertos.ans.gov.br.FTP....</td>\n",
       "      <td>taxa_cobertura.csv</td>\n",
       "      <td>TABLE</td>\n",
       "    </tr>\n",
       "    <tr>\n",
       "      <th>203</th>\n",
       "      <td>DREMIO</td>\n",
       "      <td>covid-raw.ans.ftp.dadosabertos.ans.gov.br.FTP....</td>\n",
       "      <td>DADOS_PLANOS_SAUDE.csv</td>\n",
       "      <td>TABLE</td>\n",
       "    </tr>\n",
       "  </tbody>\n",
       "</table>\n",
       "<p>204 rows × 4 columns</p>\n",
       "</div>"
      ],
      "text/plain": [
       "    TABLE_CATALOG                                       TABLE_SCHEMA  \\\n",
       "0          DREMIO                                         Covid-Lake   \n",
       "1          DREMIO                                         Covid-Lake   \n",
       "2          DREMIO                                         Covid-Lake   \n",
       "3          DREMIO                                         Covid-Lake   \n",
       "4          DREMIO                                         Covid-Lake   \n",
       "..            ...                                                ...   \n",
       "199        DREMIO  covid-raw.ans.ftp.dadosabertos.ans.gov.br.FTP....   \n",
       "200        DREMIO  covid-raw.ans.ftp.dadosabertos.ans.gov.br.FTP....   \n",
       "201        DREMIO  covid-raw.ans.ftp.dadosabertos.ans.gov.br.FTP....   \n",
       "202        DREMIO  covid-raw.ans.ftp.dadosabertos.ans.gov.br.FTP....   \n",
       "203        DREMIO  covid-raw.ans.ftp.dadosabertos.ans.gov.br.FTP....   \n",
       "\n",
       "                             TABLE_NAME TABLE_TYPE  \n",
       "0                     Disease_Indicator       VIEW  \n",
       "1                       hospitalizações       VIEW  \n",
       "2                           Institution       VIEW  \n",
       "3                           News&Trends       VIEW  \n",
       "4                 Socioeconomic_Factors       VIEW  \n",
       "..                                  ...        ...  \n",
       "199                      PEONA_2020.csv      TABLE  \n",
       "200  PDA_Cobranca_e_Arrecadacao_SUS.csv      TABLE  \n",
       "201                  RPC_2015_1trim.csv      TABLE  \n",
       "202                  taxa_cobertura.csv      TABLE  \n",
       "203              DADOS_PLANOS_SAUDE.csv      TABLE  \n",
       "\n",
       "[204 rows x 4 columns]"
      ]
     },
     "metadata": {},
     "output_type": "display_data"
    }
   ],
   "source": [
    "%run /home/ubuntu/notebooks/covid-prj01-data-analysis/[UTILS]/dremio-access-new.py\n",
    "\n",
    "dremio = DremioQueryMakerJDBC()\n",
    "index = dremio.getRawIndex()\n",
    "display(index)\n",
    "\n",
    "# index é um dataframe, então é possível usar index.head(n) em que n é o número de linhas que você quer ver."
   ]
  },
  {
   "cell_type": "code",
   "execution_count": 5,
   "metadata": {},
   "outputs": [
    {
     "data": {
      "text/html": [
       "<div>\n",
       "<style scoped>\n",
       "    .dataframe tbody tr th:only-of-type {\n",
       "        vertical-align: middle;\n",
       "    }\n",
       "\n",
       "    .dataframe tbody tr th {\n",
       "        vertical-align: top;\n",
       "    }\n",
       "\n",
       "    .dataframe thead th {\n",
       "        text-align: right;\n",
       "    }\n",
       "</style>\n",
       "<table border=\"1\" class=\"dataframe\">\n",
       "  <thead>\n",
       "    <tr style=\"text-align: right;\">\n",
       "      <th></th>\n",
       "      <th>index</th>\n",
       "      <th>topic_title</th>\n",
       "      <th>derived_tstamp</th>\n",
       "      <th>geo_country</th>\n",
       "      <th>geo_region</th>\n",
       "      <th>geo_city</th>\n",
       "      <th>geo_zipcode</th>\n",
       "      <th>geo_latitude</th>\n",
       "      <th>geo_longitude</th>\n",
       "      <th>geo_region_name</th>\n",
       "    </tr>\n",
       "  </thead>\n",
       "  <tbody>\n",
       "    <tr>\n",
       "      <th>0</th>\n",
       "      <td>0</td>\n",
       "      <td>Ivermectina pode ser usada como tratamento par...</td>\n",
       "      <td>2020-05-12</td>\n",
       "      <td>BR</td>\n",
       "      <td>PE</td>\n",
       "      <td>None</td>\n",
       "      <td>None</td>\n",
       "      <td>-8.0461</td>\n",
       "      <td>-34.9034</td>\n",
       "      <td>Pernambuco</td>\n",
       "    </tr>\n",
       "    <tr>\n",
       "      <th>1</th>\n",
       "      <td>1</td>\n",
       "      <td>Ivermectina pode ser usada como tratamento par...</td>\n",
       "      <td>2020-05-12</td>\n",
       "      <td>BR</td>\n",
       "      <td>MG</td>\n",
       "      <td>Ribeirão das Neves</td>\n",
       "      <td>33800</td>\n",
       "      <td>-19.7720</td>\n",
       "      <td>-44.0694</td>\n",
       "      <td>Minas Gerais</td>\n",
       "    </tr>\n",
       "    <tr>\n",
       "      <th>2</th>\n",
       "      <td>2</td>\n",
       "      <td>Ivermectina pode ser usada como tratamento par...</td>\n",
       "      <td>2020-05-12</td>\n",
       "      <td>BR</td>\n",
       "      <td>PE</td>\n",
       "      <td>Recife</td>\n",
       "      <td>50000</td>\n",
       "      <td>-8.0102</td>\n",
       "      <td>-34.9503</td>\n",
       "      <td>Pernambuco</td>\n",
       "    </tr>\n",
       "    <tr>\n",
       "      <th>3</th>\n",
       "      <td>3</td>\n",
       "      <td>Covid-19: FDA libera uso de cloroquina e hidro...</td>\n",
       "      <td>2020-05-12</td>\n",
       "      <td>BR</td>\n",
       "      <td>DF</td>\n",
       "      <td>Brasília</td>\n",
       "      <td>70640</td>\n",
       "      <td>-15.7792</td>\n",
       "      <td>-47.9341</td>\n",
       "      <td>Federal District</td>\n",
       "    </tr>\n",
       "    <tr>\n",
       "      <th>4</th>\n",
       "      <td>4</td>\n",
       "      <td>Ivermectina pode ser usada como tratamento par...</td>\n",
       "      <td>2020-05-12</td>\n",
       "      <td>BR</td>\n",
       "      <td>RJ</td>\n",
       "      <td>Rio de Janeiro</td>\n",
       "      <td>20000</td>\n",
       "      <td>-22.9201</td>\n",
       "      <td>-43.3307</td>\n",
       "      <td>Rio de Janeiro</td>\n",
       "    </tr>\n",
       "  </tbody>\n",
       "</table>\n",
       "</div>"
      ],
      "text/plain": [
       "   index                                        topic_title derived_tstamp  \\\n",
       "0      0  Ivermectina pode ser usada como tratamento par...     2020-05-12   \n",
       "1      1  Ivermectina pode ser usada como tratamento par...     2020-05-12   \n",
       "2      2  Ivermectina pode ser usada como tratamento par...     2020-05-12   \n",
       "3      3  Covid-19: FDA libera uso de cloroquina e hidro...     2020-05-12   \n",
       "4      4  Ivermectina pode ser usada como tratamento par...     2020-05-12   \n",
       "\n",
       "  geo_country geo_region            geo_city geo_zipcode  geo_latitude  \\\n",
       "0          BR        PE                 None        None       -8.0461   \n",
       "1          BR        MG   Ribeirão das Neves       33800      -19.7720   \n",
       "2          BR        PE               Recife       50000       -8.0102   \n",
       "3          BR        DF             Brasília       70640      -15.7792   \n",
       "4          BR        RJ       Rio de Janeiro       20000      -22.9201   \n",
       "\n",
       "   geo_longitude   geo_region_name  \n",
       "0       -34.9034        Pernambuco  \n",
       "1       -44.0694      Minas Gerais  \n",
       "2       -34.9503        Pernambuco  \n",
       "3       -47.9341  Federal District  \n",
       "4       -43.3307    Rio de Janeiro  "
      ]
     },
     "execution_count": 5,
     "metadata": {},
     "output_type": "execute_result"
    }
   ],
   "source": [
    "df = dremio.getRawTable(19)\n",
    "df.head()"
   ]
  },
  {
   "cell_type": "code",
   "execution_count": 6,
   "metadata": {},
   "outputs": [
    {
     "data": {
      "text/plain": [
       "index                int64\n",
       "topic_title         object\n",
       "derived_tstamp      object\n",
       "geo_country         object\n",
       "geo_region          object\n",
       "geo_city            object\n",
       "geo_zipcode         object\n",
       "geo_latitude       float64\n",
       "geo_longitude      float64\n",
       "geo_region_name     object\n",
       "dtype: object"
      ]
     },
     "execution_count": 6,
     "metadata": {},
     "output_type": "execute_result"
    }
   ],
   "source": [
    "df.dtypes"
   ]
  },
  {
   "cell_type": "code",
   "execution_count": 9,
   "metadata": {},
   "outputs": [
    {
     "data": {
      "text/plain": [
       "(7804, 8)"
      ]
     },
     "execution_count": 9,
     "metadata": {},
     "output_type": "execute_result"
    }
   ],
   "source": [
    "df.shape"
   ]
  },
  {
   "cell_type": "markdown",
   "metadata": {},
   "source": [
    "### Let's play with Data :)"
   ]
  },
  {
   "cell_type": "markdown",
   "metadata": {},
   "source": [
    "Checking all columns"
   ]
  },
  {
   "cell_type": "code",
   "execution_count": 10,
   "metadata": {},
   "outputs": [
    {
     "data": {
      "text/plain": [
       "8"
      ]
     },
     "execution_count": 10,
     "metadata": {},
     "output_type": "execute_result"
    }
   ],
   "source": [
    "all_columns = df.columns.values.tolist()\n",
    "len(all_columns)\n",
    "#all_columns"
   ]
  },
  {
   "cell_type": "code",
   "execution_count": 11,
   "metadata": {},
   "outputs": [
    {
     "data": {
      "text/plain": [
       "['city',\n",
       " 'UF',\n",
       " 'skin_color',\n",
       " 'disease',\n",
       " '2020',\n",
       " '2019',\n",
       " 'created_at',\n",
       " '__index_level_0__']"
      ]
     },
     "execution_count": 11,
     "metadata": {},
     "output_type": "execute_result"
    }
   ],
   "source": [
    "all_columns"
   ]
  },
  {
   "cell_type": "markdown",
   "metadata": {},
   "source": [
    "Verifying all NAs"
   ]
  },
  {
   "cell_type": "code",
   "execution_count": 12,
   "metadata": {},
   "outputs": [
    {
     "data": {
      "text/plain": [
       "city                    0\n",
       "UF                      0\n",
       "skin_color              0\n",
       "disease                 0\n",
       "2020                 2634\n",
       "2019                 3071\n",
       "created_at              0\n",
       "__index_level_0__       0\n",
       "dtype: int64"
      ]
     },
     "execution_count": 12,
     "metadata": {},
     "output_type": "execute_result"
    }
   ],
   "source": [
    "# count NAs per column\n",
    "#df.isnull().sum()\n",
    "df.isna().sum()"
   ]
  },
  {
   "cell_type": "markdown",
   "metadata": {},
   "source": [
    "Dropping all NAs"
   ]
  },
  {
   "cell_type": "code",
   "execution_count": 13,
   "metadata": {},
   "outputs": [
    {
     "data": {
      "text/html": [
       "<div>\n",
       "<style scoped>\n",
       "    .dataframe tbody tr th:only-of-type {\n",
       "        vertical-align: middle;\n",
       "    }\n",
       "\n",
       "    .dataframe tbody tr th {\n",
       "        vertical-align: top;\n",
       "    }\n",
       "\n",
       "    .dataframe thead th {\n",
       "        text-align: right;\n",
       "    }\n",
       "</style>\n",
       "<table border=\"1\" class=\"dataframe\">\n",
       "  <thead>\n",
       "    <tr style=\"text-align: right;\">\n",
       "      <th></th>\n",
       "      <th>city</th>\n",
       "      <th>UF</th>\n",
       "      <th>skin_color</th>\n",
       "      <th>disease</th>\n",
       "      <th>2020</th>\n",
       "      <th>2019</th>\n",
       "      <th>created_at</th>\n",
       "      <th>__index_level_0__</th>\n",
       "    </tr>\n",
       "  </thead>\n",
       "  <tbody>\n",
       "    <tr>\n",
       "      <th>0</th>\n",
       "      <td>São Paulo</td>\n",
       "      <td>SP</td>\n",
       "      <td>AMARELA</td>\n",
       "      <td>OUTRAS</td>\n",
       "      <td>27.0</td>\n",
       "      <td>35.0</td>\n",
       "      <td>04-08-2020 19:28</td>\n",
       "      <td>0</td>\n",
       "    </tr>\n",
       "    <tr>\n",
       "      <th>1</th>\n",
       "      <td>São Paulo</td>\n",
       "      <td>SP</td>\n",
       "      <td>AMARELA</td>\n",
       "      <td>COVID</td>\n",
       "      <td>1.0</td>\n",
       "      <td>NaN</td>\n",
       "      <td>04-08-2020 19:28</td>\n",
       "      <td>1</td>\n",
       "    </tr>\n",
       "    <tr>\n",
       "      <th>2</th>\n",
       "      <td>São Paulo</td>\n",
       "      <td>SP</td>\n",
       "      <td>AMARELA</td>\n",
       "      <td>INDETERMINADA</td>\n",
       "      <td>1.0</td>\n",
       "      <td>2.0</td>\n",
       "      <td>04-08-2020 19:28</td>\n",
       "      <td>2</td>\n",
       "    </tr>\n",
       "    <tr>\n",
       "      <th>3</th>\n",
       "      <td>São Paulo</td>\n",
       "      <td>SP</td>\n",
       "      <td>AMARELA</td>\n",
       "      <td>PNEUMONIA</td>\n",
       "      <td>2.0</td>\n",
       "      <td>5.0</td>\n",
       "      <td>04-08-2020 19:28</td>\n",
       "      <td>3</td>\n",
       "    </tr>\n",
       "    <tr>\n",
       "      <th>4</th>\n",
       "      <td>São Paulo</td>\n",
       "      <td>SP</td>\n",
       "      <td>AMARELA</td>\n",
       "      <td>SRAG</td>\n",
       "      <td>2.0</td>\n",
       "      <td>NaN</td>\n",
       "      <td>04-08-2020 19:28</td>\n",
       "      <td>4</td>\n",
       "    </tr>\n",
       "  </tbody>\n",
       "</table>\n",
       "</div>"
      ],
      "text/plain": [
       "        city  UF skin_color        disease  2020  2019        created_at  \\\n",
       "0  São Paulo  SP    AMARELA         OUTRAS  27.0  35.0  04-08-2020 19:28   \n",
       "1  São Paulo  SP    AMARELA          COVID   1.0   NaN  04-08-2020 19:28   \n",
       "2  São Paulo  SP    AMARELA  INDETERMINADA   1.0   2.0  04-08-2020 19:28   \n",
       "3  São Paulo  SP    AMARELA      PNEUMONIA   2.0   5.0  04-08-2020 19:28   \n",
       "4  São Paulo  SP    AMARELA           SRAG   2.0   NaN  04-08-2020 19:28   \n",
       "\n",
       "   __index_level_0__  \n",
       "0                  0  \n",
       "1                  1  \n",
       "2                  2  \n",
       "3                  3  \n",
       "4                  4  "
      ]
     },
     "execution_count": 13,
     "metadata": {},
     "output_type": "execute_result"
    }
   ],
   "source": [
    "# shows all NAs\n",
    "#df.isna()\n",
    "\n",
    "# remove columns full of NAs\n",
    "df = df.dropna(axis=1,how='all')\n",
    "df.head()"
   ]
  },
  {
   "cell_type": "code",
   "execution_count": 14,
   "metadata": {},
   "outputs": [
    {
     "data": {
      "text/plain": [
       "(7804, 8)"
      ]
     },
     "execution_count": 14,
     "metadata": {},
     "output_type": "execute_result"
    }
   ],
   "source": [
    "df.shape"
   ]
  },
  {
   "cell_type": "markdown",
   "metadata": {},
   "source": [
    "Verifying the duplicated columns"
   ]
  },
  {
   "cell_type": "code",
   "execution_count": 15,
   "metadata": {},
   "outputs": [
    {
     "data": {
      "text/html": [
       "<div>\n",
       "<style scoped>\n",
       "    .dataframe tbody tr th:only-of-type {\n",
       "        vertical-align: middle;\n",
       "    }\n",
       "\n",
       "    .dataframe tbody tr th {\n",
       "        vertical-align: top;\n",
       "    }\n",
       "\n",
       "    .dataframe thead th {\n",
       "        text-align: right;\n",
       "    }\n",
       "</style>\n",
       "<table border=\"1\" class=\"dataframe\">\n",
       "  <thead>\n",
       "    <tr style=\"text-align: right;\">\n",
       "      <th></th>\n",
       "      <th>city</th>\n",
       "      <th>UF</th>\n",
       "      <th>skin_color</th>\n",
       "      <th>disease</th>\n",
       "      <th>2020</th>\n",
       "      <th>2019</th>\n",
       "      <th>created_at</th>\n",
       "      <th>__index_level_0__</th>\n",
       "    </tr>\n",
       "  </thead>\n",
       "  <tbody>\n",
       "    <tr>\n",
       "      <th>0</th>\n",
       "      <td>São Paulo</td>\n",
       "      <td>SP</td>\n",
       "      <td>AMARELA</td>\n",
       "      <td>OUTRAS</td>\n",
       "      <td>27.0</td>\n",
       "      <td>35.0</td>\n",
       "      <td>04-08-2020 19:28</td>\n",
       "      <td>0</td>\n",
       "    </tr>\n",
       "    <tr>\n",
       "      <th>1</th>\n",
       "      <td>São Paulo</td>\n",
       "      <td>SP</td>\n",
       "      <td>AMARELA</td>\n",
       "      <td>COVID</td>\n",
       "      <td>1.0</td>\n",
       "      <td>NaN</td>\n",
       "      <td>04-08-2020 19:28</td>\n",
       "      <td>1</td>\n",
       "    </tr>\n",
       "    <tr>\n",
       "      <th>2</th>\n",
       "      <td>São Paulo</td>\n",
       "      <td>SP</td>\n",
       "      <td>AMARELA</td>\n",
       "      <td>INDETERMINADA</td>\n",
       "      <td>1.0</td>\n",
       "      <td>2.0</td>\n",
       "      <td>04-08-2020 19:28</td>\n",
       "      <td>2</td>\n",
       "    </tr>\n",
       "    <tr>\n",
       "      <th>3</th>\n",
       "      <td>São Paulo</td>\n",
       "      <td>SP</td>\n",
       "      <td>AMARELA</td>\n",
       "      <td>PNEUMONIA</td>\n",
       "      <td>2.0</td>\n",
       "      <td>5.0</td>\n",
       "      <td>04-08-2020 19:28</td>\n",
       "      <td>3</td>\n",
       "    </tr>\n",
       "    <tr>\n",
       "      <th>4</th>\n",
       "      <td>São Paulo</td>\n",
       "      <td>SP</td>\n",
       "      <td>AMARELA</td>\n",
       "      <td>SRAG</td>\n",
       "      <td>2.0</td>\n",
       "      <td>NaN</td>\n",
       "      <td>04-08-2020 19:28</td>\n",
       "      <td>4</td>\n",
       "    </tr>\n",
       "  </tbody>\n",
       "</table>\n",
       "</div>"
      ],
      "text/plain": [
       "        city  UF skin_color        disease  2020  2019        created_at  \\\n",
       "0  São Paulo  SP    AMARELA         OUTRAS  27.0  35.0  04-08-2020 19:28   \n",
       "1  São Paulo  SP    AMARELA          COVID   1.0   NaN  04-08-2020 19:28   \n",
       "2  São Paulo  SP    AMARELA  INDETERMINADA   1.0   2.0  04-08-2020 19:28   \n",
       "3  São Paulo  SP    AMARELA      PNEUMONIA   2.0   5.0  04-08-2020 19:28   \n",
       "4  São Paulo  SP    AMARELA           SRAG   2.0   NaN  04-08-2020 19:28   \n",
       "\n",
       "   __index_level_0__  \n",
       "0                  0  \n",
       "1                  1  \n",
       "2                  2  \n",
       "3                  3  \n",
       "4                  4  "
      ]
     },
     "execution_count": 15,
     "metadata": {},
     "output_type": "execute_result"
    }
   ],
   "source": [
    "# drop duplicates\n",
    "df = df.drop_duplicates() \n",
    "df.head()\n",
    "# no duplicates"
   ]
  },
  {
   "cell_type": "code",
   "execution_count": 16,
   "metadata": {},
   "outputs": [
    {
     "data": {
      "text/plain": [
       "(7804, 8)"
      ]
     },
     "execution_count": 16,
     "metadata": {},
     "output_type": "execute_result"
    }
   ],
   "source": [
    "df.shape"
   ]
  },
  {
   "cell_type": "markdown",
   "metadata": {},
   "source": [
    "Shows all the data, though it runs quite slow for big datasets"
   ]
  },
  {
   "cell_type": "code",
   "execution_count": 17,
   "metadata": {},
   "outputs": [],
   "source": [
    "#force_show_all_columns(df)"
   ]
  },
  {
   "cell_type": "markdown",
   "metadata": {},
   "source": [
    "Describe the dataset"
   ]
  },
  {
   "cell_type": "code",
   "execution_count": 18,
   "metadata": {},
   "outputs": [
    {
     "data": {
      "text/html": [
       "<div>\n",
       "<style scoped>\n",
       "    .dataframe tbody tr th:only-of-type {\n",
       "        vertical-align: middle;\n",
       "    }\n",
       "\n",
       "    .dataframe tbody tr th {\n",
       "        vertical-align: top;\n",
       "    }\n",
       "\n",
       "    .dataframe thead th {\n",
       "        text-align: right;\n",
       "    }\n",
       "</style>\n",
       "<table border=\"1\" class=\"dataframe\">\n",
       "  <thead>\n",
       "    <tr style=\"text-align: right;\">\n",
       "      <th></th>\n",
       "      <th>2020</th>\n",
       "      <th>2019</th>\n",
       "      <th>__index_level_0__</th>\n",
       "    </tr>\n",
       "  </thead>\n",
       "  <tbody>\n",
       "    <tr>\n",
       "      <th>count</th>\n",
       "      <td>5170.000000</td>\n",
       "      <td>4733.000000</td>\n",
       "      <td>7804.000000</td>\n",
       "    </tr>\n",
       "    <tr>\n",
       "      <th>mean</th>\n",
       "      <td>4.150097</td>\n",
       "      <td>4.222480</td>\n",
       "      <td>0.677858</td>\n",
       "    </tr>\n",
       "    <tr>\n",
       "      <th>std</th>\n",
       "      <td>24.140178</td>\n",
       "      <td>24.877853</td>\n",
       "      <td>1.133198</td>\n",
       "    </tr>\n",
       "    <tr>\n",
       "      <th>min</th>\n",
       "      <td>1.000000</td>\n",
       "      <td>1.000000</td>\n",
       "      <td>0.000000</td>\n",
       "    </tr>\n",
       "    <tr>\n",
       "      <th>25%</th>\n",
       "      <td>1.000000</td>\n",
       "      <td>1.000000</td>\n",
       "      <td>0.000000</td>\n",
       "    </tr>\n",
       "    <tr>\n",
       "      <th>50%</th>\n",
       "      <td>1.000000</td>\n",
       "      <td>1.000000</td>\n",
       "      <td>0.000000</td>\n",
       "    </tr>\n",
       "    <tr>\n",
       "      <th>75%</th>\n",
       "      <td>3.000000</td>\n",
       "      <td>3.000000</td>\n",
       "      <td>1.000000</td>\n",
       "    </tr>\n",
       "    <tr>\n",
       "      <th>max</th>\n",
       "      <td>1218.000000</td>\n",
       "      <td>1241.000000</td>\n",
       "      <td>6.000000</td>\n",
       "    </tr>\n",
       "  </tbody>\n",
       "</table>\n",
       "</div>"
      ],
      "text/plain": [
       "              2020         2019  __index_level_0__\n",
       "count  5170.000000  4733.000000        7804.000000\n",
       "mean      4.150097     4.222480           0.677858\n",
       "std      24.140178    24.877853           1.133198\n",
       "min       1.000000     1.000000           0.000000\n",
       "25%       1.000000     1.000000           0.000000\n",
       "50%       1.000000     1.000000           0.000000\n",
       "75%       3.000000     3.000000           1.000000\n",
       "max    1218.000000  1241.000000           6.000000"
      ]
     },
     "execution_count": 18,
     "metadata": {},
     "output_type": "execute_result"
    }
   ],
   "source": [
    "df.describe()"
   ]
  },
  {
   "cell_type": "markdown",
   "metadata": {},
   "source": [
    "Describe the fields"
   ]
  },
  {
   "cell_type": "code",
   "execution_count": 24,
   "metadata": {},
   "outputs": [
    {
     "data": {
      "text/plain": [
       "count          7804\n",
       "unique         2926\n",
       "top       São Paulo\n",
       "freq             28\n",
       "Name: city, dtype: object"
      ]
     },
     "execution_count": 24,
     "metadata": {},
     "output_type": "execute_result"
    }
   ],
   "source": [
    "df[NOME_COLUNA].describe()"
   ]
  },
  {
   "cell_type": "code",
   "execution_count": 25,
   "metadata": {},
   "outputs": [
    {
     "data": {
      "text/plain": [
       "array(['São Paulo', 'São Bernardo do Campo', 'Sumare', ...,\n",
       "       'Abel Figueiredo', 'Santa Carmem', 'Pombos'], dtype=object)"
      ]
     },
     "execution_count": 25,
     "metadata": {},
     "output_type": "execute_result"
    }
   ],
   "source": [
    "df[NOME_COLUNA].unique()\n"
   ]
  },
  {
   "cell_type": "code",
   "execution_count": 27,
   "metadata": {},
   "outputs": [
    {
     "data": {
      "text/html": [
       "<div>\n",
       "<style scoped>\n",
       "    .dataframe tbody tr th:only-of-type {\n",
       "        vertical-align: middle;\n",
       "    }\n",
       "\n",
       "    .dataframe tbody tr th {\n",
       "        vertical-align: top;\n",
       "    }\n",
       "\n",
       "    .dataframe thead th {\n",
       "        text-align: right;\n",
       "    }\n",
       "</style>\n",
       "<table border=\"1\" class=\"dataframe\">\n",
       "  <thead>\n",
       "    <tr style=\"text-align: right;\">\n",
       "      <th></th>\n",
       "      <th>UF</th>\n",
       "      <th>freq</th>\n",
       "    </tr>\n",
       "  </thead>\n",
       "  <tbody>\n",
       "    <tr>\n",
       "      <th>25</th>\n",
       "      <td>SP</td>\n",
       "      <td>1385</td>\n",
       "    </tr>\n",
       "    <tr>\n",
       "      <th>10</th>\n",
       "      <td>MG</td>\n",
       "      <td>990</td>\n",
       "    </tr>\n",
       "    <tr>\n",
       "      <th>5</th>\n",
       "      <td>CE</td>\n",
       "      <td>583</td>\n",
       "    </tr>\n",
       "    <tr>\n",
       "      <th>22</th>\n",
       "      <td>RS</td>\n",
       "      <td>511</td>\n",
       "    </tr>\n",
       "    <tr>\n",
       "      <th>8</th>\n",
       "      <td>GO</td>\n",
       "      <td>458</td>\n",
       "    </tr>\n",
       "  </tbody>\n",
       "</table>\n",
       "</div>"
      ],
      "text/plain": [
       "    UF  freq\n",
       "25  SP  1385\n",
       "10  MG   990\n",
       "5   CE   583\n",
       "22  RS   511\n",
       "8   GO   458"
      ]
     },
     "execution_count": 27,
     "metadata": {},
     "output_type": "execute_result"
    }
   ],
   "source": [
    "# array with each count    \n",
    "counts = np.unique(df[NOME_COLUNA], return_counts=True)\n",
    "\n",
    "# dataframe\n",
    "df_count = pd.DataFrame({NOME_COLUNA: counts[0], 'freq': counts[1]})\n",
    "df_count.sort_values(by=['freq'], inplace=True,ascending=False)\n",
    "df_count.head()"
   ]
  },
  {
   "cell_type": "code",
   "execution_count": 28,
   "metadata": {},
   "outputs": [
    {
     "data": {
      "text/html": [
       "<div>\n",
       "<style scoped>\n",
       "    .dataframe tbody tr th:only-of-type {\n",
       "        vertical-align: middle;\n",
       "    }\n",
       "\n",
       "    .dataframe tbody tr th {\n",
       "        vertical-align: top;\n",
       "    }\n",
       "\n",
       "    .dataframe thead th {\n",
       "        text-align: right;\n",
       "    }\n",
       "</style>\n",
       "<table border=\"1\" class=\"dataframe\">\n",
       "  <thead>\n",
       "    <tr style=\"text-align: right;\">\n",
       "      <th></th>\n",
       "      <th>UF</th>\n",
       "      <th>freq</th>\n",
       "    </tr>\n",
       "  </thead>\n",
       "  <tbody>\n",
       "    <tr>\n",
       "      <th>2</th>\n",
       "      <td>AM</td>\n",
       "      <td>50</td>\n",
       "    </tr>\n",
       "    <tr>\n",
       "      <th>6</th>\n",
       "      <td>DF</td>\n",
       "      <td>47</td>\n",
       "    </tr>\n",
       "    <tr>\n",
       "      <th>0</th>\n",
       "      <td>AC</td>\n",
       "      <td>47</td>\n",
       "    </tr>\n",
       "    <tr>\n",
       "      <th>3</th>\n",
       "      <td>AP</td>\n",
       "      <td>28</td>\n",
       "    </tr>\n",
       "    <tr>\n",
       "      <th>21</th>\n",
       "      <td>RR</td>\n",
       "      <td>12</td>\n",
       "    </tr>\n",
       "  </tbody>\n",
       "</table>\n",
       "</div>"
      ],
      "text/plain": [
       "    UF  freq\n",
       "2   AM    50\n",
       "6   DF    47\n",
       "0   AC    47\n",
       "3   AP    28\n",
       "21  RR    12"
      ]
     },
     "execution_count": 28,
     "metadata": {},
     "output_type": "execute_result"
    }
   ],
   "source": [
    "df_count.tail()"
   ]
  },
  {
   "cell_type": "markdown",
   "metadata": {},
   "source": [
    "## Graphs"
   ]
  },
  {
   "cell_type": "markdown",
   "metadata": {},
   "source": [
    "#### Showing the null values"
   ]
  },
  {
   "cell_type": "code",
   "execution_count": 33,
   "metadata": {},
   "outputs": [
    {
     "data": {
      "text/html": [
       "<div>\n",
       "<style scoped>\n",
       "    .dataframe tbody tr th:only-of-type {\n",
       "        vertical-align: middle;\n",
       "    }\n",
       "\n",
       "    .dataframe tbody tr th {\n",
       "        vertical-align: top;\n",
       "    }\n",
       "\n",
       "    .dataframe thead th {\n",
       "        text-align: right;\n",
       "    }\n",
       "</style>\n",
       "<table border=\"1\" class=\"dataframe\">\n",
       "  <thead>\n",
       "    <tr style=\"text-align: right;\">\n",
       "      <th></th>\n",
       "      <th>city</th>\n",
       "      <th>UF</th>\n",
       "      <th>skin_color</th>\n",
       "      <th>disease</th>\n",
       "      <th>2020</th>\n",
       "      <th>2019</th>\n",
       "      <th>created_at</th>\n",
       "      <th>__index_level_0__</th>\n",
       "    </tr>\n",
       "  </thead>\n",
       "  <tbody>\n",
       "    <tr>\n",
       "      <th>0</th>\n",
       "      <td>São Paulo</td>\n",
       "      <td>SP</td>\n",
       "      <td>AMARELA</td>\n",
       "      <td>OUTRAS</td>\n",
       "      <td>27.0</td>\n",
       "      <td>35.0</td>\n",
       "      <td>04-08-2020 19:28</td>\n",
       "      <td>0</td>\n",
       "    </tr>\n",
       "    <tr>\n",
       "      <th>1</th>\n",
       "      <td>São Paulo</td>\n",
       "      <td>SP</td>\n",
       "      <td>AMARELA</td>\n",
       "      <td>COVID</td>\n",
       "      <td>1.0</td>\n",
       "      <td>NaN</td>\n",
       "      <td>04-08-2020 19:28</td>\n",
       "      <td>1</td>\n",
       "    </tr>\n",
       "    <tr>\n",
       "      <th>2</th>\n",
       "      <td>São Paulo</td>\n",
       "      <td>SP</td>\n",
       "      <td>AMARELA</td>\n",
       "      <td>INDETERMINADA</td>\n",
       "      <td>1.0</td>\n",
       "      <td>2.0</td>\n",
       "      <td>04-08-2020 19:28</td>\n",
       "      <td>2</td>\n",
       "    </tr>\n",
       "    <tr>\n",
       "      <th>3</th>\n",
       "      <td>São Paulo</td>\n",
       "      <td>SP</td>\n",
       "      <td>AMARELA</td>\n",
       "      <td>PNEUMONIA</td>\n",
       "      <td>2.0</td>\n",
       "      <td>5.0</td>\n",
       "      <td>04-08-2020 19:28</td>\n",
       "      <td>3</td>\n",
       "    </tr>\n",
       "    <tr>\n",
       "      <th>4</th>\n",
       "      <td>São Paulo</td>\n",
       "      <td>SP</td>\n",
       "      <td>AMARELA</td>\n",
       "      <td>SRAG</td>\n",
       "      <td>2.0</td>\n",
       "      <td>NaN</td>\n",
       "      <td>04-08-2020 19:28</td>\n",
       "      <td>4</td>\n",
       "    </tr>\n",
       "    <tr>\n",
       "      <th>...</th>\n",
       "      <td>...</td>\n",
       "      <td>...</td>\n",
       "      <td>...</td>\n",
       "      <td>...</td>\n",
       "      <td>...</td>\n",
       "      <td>...</td>\n",
       "      <td>...</td>\n",
       "      <td>...</td>\n",
       "    </tr>\n",
       "    <tr>\n",
       "      <th>7799</th>\n",
       "      <td>Santa Carmem</td>\n",
       "      <td>MT</td>\n",
       "      <td>BRANCA</td>\n",
       "      <td>OUTRAS</td>\n",
       "      <td>2.0</td>\n",
       "      <td>NaN</td>\n",
       "      <td>04-08-2020 20:52</td>\n",
       "      <td>0</td>\n",
       "    </tr>\n",
       "    <tr>\n",
       "      <th>7800</th>\n",
       "      <td>Cachoeirinha</td>\n",
       "      <td>PE</td>\n",
       "      <td>PARDA</td>\n",
       "      <td>OUTRAS</td>\n",
       "      <td>1.0</td>\n",
       "      <td>2.0</td>\n",
       "      <td>04-08-2020 20:52</td>\n",
       "      <td>0</td>\n",
       "    </tr>\n",
       "    <tr>\n",
       "      <th>7801</th>\n",
       "      <td>Cachoeirinha</td>\n",
       "      <td>PE</td>\n",
       "      <td>PRETA</td>\n",
       "      <td>OUTRAS</td>\n",
       "      <td>NaN</td>\n",
       "      <td>1.0</td>\n",
       "      <td>04-08-2020 20:52</td>\n",
       "      <td>0</td>\n",
       "    </tr>\n",
       "    <tr>\n",
       "      <th>7802</th>\n",
       "      <td>Pombos</td>\n",
       "      <td>PE</td>\n",
       "      <td>BRANCA</td>\n",
       "      <td>OUTRAS</td>\n",
       "      <td>NaN</td>\n",
       "      <td>1.0</td>\n",
       "      <td>04-08-2020 20:52</td>\n",
       "      <td>0</td>\n",
       "    </tr>\n",
       "    <tr>\n",
       "      <th>7803</th>\n",
       "      <td>Pombos</td>\n",
       "      <td>PE</td>\n",
       "      <td>PARDA</td>\n",
       "      <td>OUTRAS</td>\n",
       "      <td>1.0</td>\n",
       "      <td>6.0</td>\n",
       "      <td>04-08-2020 20:53</td>\n",
       "      <td>0</td>\n",
       "    </tr>\n",
       "  </tbody>\n",
       "</table>\n",
       "<p>7804 rows × 8 columns</p>\n",
       "</div>"
      ],
      "text/plain": [
       "              city  UF skin_color        disease  2020  2019  \\\n",
       "0        São Paulo  SP    AMARELA         OUTRAS  27.0  35.0   \n",
       "1        São Paulo  SP    AMARELA          COVID   1.0   NaN   \n",
       "2        São Paulo  SP    AMARELA  INDETERMINADA   1.0   2.0   \n",
       "3        São Paulo  SP    AMARELA      PNEUMONIA   2.0   5.0   \n",
       "4        São Paulo  SP    AMARELA           SRAG   2.0   NaN   \n",
       "...            ...  ..        ...            ...   ...   ...   \n",
       "7799  Santa Carmem  MT     BRANCA         OUTRAS   2.0   NaN   \n",
       "7800  Cachoeirinha  PE      PARDA         OUTRAS   1.0   2.0   \n",
       "7801  Cachoeirinha  PE      PRETA         OUTRAS   NaN   1.0   \n",
       "7802        Pombos  PE     BRANCA         OUTRAS   NaN   1.0   \n",
       "7803        Pombos  PE      PARDA         OUTRAS   1.0   6.0   \n",
       "\n",
       "            created_at  __index_level_0__  \n",
       "0     04-08-2020 19:28                  0  \n",
       "1     04-08-2020 19:28                  1  \n",
       "2     04-08-2020 19:28                  2  \n",
       "3     04-08-2020 19:28                  3  \n",
       "4     04-08-2020 19:28                  4  \n",
       "...                ...                ...  \n",
       "7799  04-08-2020 20:52                  0  \n",
       "7800  04-08-2020 20:52                  0  \n",
       "7801  04-08-2020 20:52                  0  \n",
       "7802  04-08-2020 20:52                  0  \n",
       "7803  04-08-2020 20:53                  0  \n",
       "\n",
       "[7804 rows x 8 columns]"
      ]
     },
     "execution_count": 33,
     "metadata": {},
     "output_type": "execute_result"
    }
   ],
   "source": [
    "df"
   ]
  },
  {
   "cell_type": "code",
   "execution_count": 34,
   "metadata": {},
   "outputs": [
    {
     "data": {
      "text/plain": [
       "<matplotlib.axes._subplots.AxesSubplot at 0x7f4025ec8128>"
      ]
     },
     "execution_count": 34,
     "metadata": {},
     "output_type": "execute_result"
    },
    {
     "data": {
      "image/png": "[encoded data removed]",
      "text/plain": [
       "<Figure size 432x288 with 1 Axes>"
      ]
     },
     "metadata": {
      "needs_background": "light"
     },
     "output_type": "display_data"
    }
   ],
   "source": [
    "# Missing values\n",
    "sns.heatmap(df.isnull(), yticklabels=False, cbar=False, cmap='viridis')"
   ]
  },
  {
   "cell_type": "code",
   "execution_count": 35,
   "metadata": {},
   "outputs": [
    {
     "data": {
      "text/plain": [
       "2019                 3071\n",
       "2020                 2634\n",
       "__index_level_0__       0\n",
       "created_at              0\n",
       "disease                 0\n",
       "skin_color              0\n",
       "UF                      0\n",
       "city                    0\n",
       "dtype: int64"
      ]
     },
     "metadata": {},
     "output_type": "display_data"
    }
   ],
   "source": [
    "# For more details\n",
    "display(df.isnull().sum().sort_values(ascending=False))"
   ]
  },
  {
   "cell_type": "markdown",
   "metadata": {},
   "source": [
    "#### Looking for correlations"
   ]
  },
  {
   "cell_type": "code",
   "execution_count": 37,
   "metadata": {},
   "outputs": [
    {
     "data": {
      "text/plain": [
       "<seaborn.axisgrid.PairGrid at 0x7f401c4d1860>"
      ]
     },
     "execution_count": 37,
     "metadata": {},
     "output_type": "execute_result"
    },
    {
     "data": {
      "image/png": "[encoded data removed]",
      "text/plain": [
       "<Figure size 360x360 with 6 Axes>"
      ]
     },
     "metadata": {},
     "output_type": "display_data"
    }
   ],
   "source": [
    "columns = [\n",
    "    '2019',\t \n",
    "    '2020'\n",
    "]\n",
    "sns.set_style(\"darkgrid\")\n",
    "sns.pairplot(df[columns])"
   ]
  },
  {
   "cell_type": "markdown",
   "metadata": {},
   "source": [
    "### LET'S CHECK SOME CORRELATION. Let's verify that:"
   ]
  },
  {
   "cell_type": "code",
   "execution_count": 32,
   "metadata": {},
   "outputs": [
    {
     "name": "stdout",
     "output_type": "stream",
     "text": [
      "Pearsons correlation: 0.973\n"
     ]
    }
   ],
   "source": [
    "#from scipy.stats import personsr\n",
    "# pearson_cor = pearsonr(df.deaths, df.confirmed)\n",
    "# print('Pearsons correlation: %.3f' % pearson_cor[0])"
   ]
  },
  {
   "cell_type": "markdown",
   "metadata": {},
   "source": [
    "#### EXAMPLE\n",
    "#### This hypothesis was confirmed, with a very high correlation: 0.973"
   ]
  },
  {
   "cell_type": "markdown",
   "metadata": {},
   "source": [
    "### Unifying the date column to produce more graphs"
   ]
  },
  {
   "cell_type": "code",
   "execution_count": 33,
   "metadata": {},
   "outputs": [],
   "source": [
    "# # Unify the date column format\n",
    "# df['date'] = pd.to_datetime(df.date).dt.date\n",
    "# # Sort dates\n",
    "# df = df.sort_values('date')\n",
    "# df = df.dropna(subset=['city'])\n",
    "# df = df.loc[df.place_type == 'city']\n",
    "# cumulated = df.groupby('date').agg({'confirmed': 'sum', \n",
    "#                                     'deaths': 'sum', \n",
    "#                                     'confirmed_per_100k_inhabitants': 'sum'}).reset_index()"
   ]
  },
  {
   "cell_type": "code",
   "execution_count": 34,
   "metadata": {},
   "outputs": [
    {
     "data": {
      "text/html": [
       "<div>\n",
       "<style scoped>\n",
       "    .dataframe tbody tr th:only-of-type {\n",
       "        vertical-align: middle;\n",
       "    }\n",
       "\n",
       "    .dataframe tbody tr th {\n",
       "        vertical-align: top;\n",
       "    }\n",
       "\n",
       "    .dataframe thead th {\n",
       "        text-align: right;\n",
       "    }\n",
       "</style>\n",
       "<table border=\"1\" class=\"dataframe\">\n",
       "  <thead>\n",
       "    <tr style=\"text-align: right;\">\n",
       "      <th></th>\n",
       "      <th>date</th>\n",
       "      <th>confirmed</th>\n",
       "      <th>deaths</th>\n",
       "      <th>confirmed_per_100k_inhabitants</th>\n",
       "    </tr>\n",
       "  </thead>\n",
       "  <tbody>\n",
       "    <tr>\n",
       "      <th>0</th>\n",
       "      <td>2020-02-25</td>\n",
       "      <td>1</td>\n",
       "      <td>0</td>\n",
       "      <td>0.00816</td>\n",
       "    </tr>\n",
       "    <tr>\n",
       "      <th>1</th>\n",
       "      <td>2020-02-26</td>\n",
       "      <td>1</td>\n",
       "      <td>0</td>\n",
       "      <td>0.00816</td>\n",
       "    </tr>\n",
       "    <tr>\n",
       "      <th>2</th>\n",
       "      <td>2020-02-27</td>\n",
       "      <td>1</td>\n",
       "      <td>0</td>\n",
       "      <td>0.00816</td>\n",
       "    </tr>\n",
       "    <tr>\n",
       "      <th>3</th>\n",
       "      <td>2020-02-28</td>\n",
       "      <td>2</td>\n",
       "      <td>0</td>\n",
       "      <td>0.01632</td>\n",
       "    </tr>\n",
       "    <tr>\n",
       "      <th>4</th>\n",
       "      <td>2020-02-29</td>\n",
       "      <td>2</td>\n",
       "      <td>0</td>\n",
       "      <td>0.01632</td>\n",
       "    </tr>\n",
       "  </tbody>\n",
       "</table>\n",
       "</div>"
      ],
      "text/plain": [
       "         date  confirmed  deaths  confirmed_per_100k_inhabitants\n",
       "0  2020-02-25          1       0                         0.00816\n",
       "1  2020-02-26          1       0                         0.00816\n",
       "2  2020-02-27          1       0                         0.00816\n",
       "3  2020-02-28          2       0                         0.01632\n",
       "4  2020-02-29          2       0                         0.01632"
      ]
     },
     "execution_count": 34,
     "metadata": {},
     "output_type": "execute_result"
    }
   ],
   "source": [
    "# cumulated.head()"
   ]
  },
  {
   "cell_type": "code",
   "execution_count": 35,
   "metadata": {},
   "outputs": [
    {
     "data": {
      "text/html": [
       "<div>\n",
       "<style scoped>\n",
       "    .dataframe tbody tr th:only-of-type {\n",
       "        vertical-align: middle;\n",
       "    }\n",
       "\n",
       "    .dataframe tbody tr th {\n",
       "        vertical-align: top;\n",
       "    }\n",
       "\n",
       "    .dataframe thead th {\n",
       "        text-align: right;\n",
       "    }\n",
       "</style>\n",
       "<table border=\"1\" class=\"dataframe\">\n",
       "  <thead>\n",
       "    <tr style=\"text-align: right;\">\n",
       "      <th></th>\n",
       "      <th>confirmed</th>\n",
       "      <th>deaths</th>\n",
       "      <th>confirmed_per_100k_inhabitants</th>\n",
       "    </tr>\n",
       "  </thead>\n",
       "  <tbody>\n",
       "    <tr>\n",
       "      <th>count</th>\n",
       "      <td>98.000000</td>\n",
       "      <td>98.000000</td>\n",
       "      <td>98.000000</td>\n",
       "    </tr>\n",
       "    <tr>\n",
       "      <th>mean</th>\n",
       "      <td>71221.010204</td>\n",
       "      <td>4594.326531</td>\n",
       "      <td>66932.596135</td>\n",
       "    </tr>\n",
       "    <tr>\n",
       "      <th>std</th>\n",
       "      <td>106976.683775</td>\n",
       "      <td>6683.073959</td>\n",
       "      <td>126713.585296</td>\n",
       "    </tr>\n",
       "    <tr>\n",
       "      <th>min</th>\n",
       "      <td>1.000000</td>\n",
       "      <td>0.000000</td>\n",
       "      <td>0.008160</td>\n",
       "    </tr>\n",
       "    <tr>\n",
       "      <th>25%</th>\n",
       "      <td>719.000000</td>\n",
       "      <td>3.250000</td>\n",
       "      <td>229.970297</td>\n",
       "    </tr>\n",
       "    <tr>\n",
       "      <th>50%</th>\n",
       "      <td>22755.000000</td>\n",
       "      <td>1285.000000</td>\n",
       "      <td>10444.265615</td>\n",
       "    </tr>\n",
       "    <tr>\n",
       "      <th>75%</th>\n",
       "      <td>93779.750000</td>\n",
       "      <td>6618.750000</td>\n",
       "      <td>60589.375808</td>\n",
       "    </tr>\n",
       "    <tr>\n",
       "      <th>max</th>\n",
       "      <td>460001.000000</td>\n",
       "      <td>27062.000000</td>\n",
       "      <td>559448.858040</td>\n",
       "    </tr>\n",
       "  </tbody>\n",
       "</table>\n",
       "</div>"
      ],
      "text/plain": [
       "           confirmed        deaths  confirmed_per_100k_inhabitants\n",
       "count      98.000000     98.000000                       98.000000\n",
       "mean    71221.010204   4594.326531                    66932.596135\n",
       "std    106976.683775   6683.073959                   126713.585296\n",
       "min         1.000000      0.000000                        0.008160\n",
       "25%       719.000000      3.250000                      229.970297\n",
       "50%     22755.000000   1285.000000                    10444.265615\n",
       "75%     93779.750000   6618.750000                    60589.375808\n",
       "max    460001.000000  27062.000000                   559448.858040"
      ]
     },
     "execution_count": 35,
     "metadata": {},
     "output_type": "execute_result"
    }
   ],
   "source": [
    "# cumulated.describe()"
   ]
  },
  {
   "cell_type": "code",
   "execution_count": null,
   "metadata": {},
   "outputs": [],
   "source": []
  },
  {
   "attachments": {
    "image.png": {
     "image/png": "[encoded data removed]"
    }
   },
   "cell_type": "markdown",
   "metadata": {},
   "source": [
    " ![image.png](attachment:image.png)"
   ]
  }
 ],
 "metadata": {
  "kernelspec": {
   "display_name": "Python 3",
   "language": "python",
   "name": "python3"
  },
  "language_info": {
   "codemirror_mode": {
    "name": "ipython",
    "version": 3
   },
   "file_extension": ".py",
   "mimetype": "text/x-python",
   "name": "python",
   "nbconvert_exporter": "python",
   "pygments_lexer": "ipython3",
   "version": "3.7.3"
  }
 },
 "nbformat": 4,
 "nbformat_minor": 4
}
