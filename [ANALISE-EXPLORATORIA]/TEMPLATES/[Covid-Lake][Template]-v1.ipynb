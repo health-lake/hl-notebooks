{
 "cells": [
  {
   "cell_type": "markdown",
   "metadata": {},
   "source": [
    "*This notebook provide the best practices to consume covid-lake API.*\n",
    "\n",
    "*For more details, please check the swagger documentation*"
   ]
  },
  {
   "cell_type": "code",
   "execution_count": 11,
   "metadata": {},
   "outputs": [],
   "source": [
    "# General Import\n",
    "import json\n",
    "import requests \n",
    "import pandas as pd"
   ]
  },
  {
   "cell_type": "code",
   "execution_count": 12,
   "metadata": {},
   "outputs": [],
   "source": [
    "def func(URL, PARAMS=''):\n",
    "    \"\"\"\n",
    "    Loads data into a pandas dataframe\n",
    "    \n",
    "    Parameter\n",
    "    ---------\n",
    "    URL: api url to invoke\n",
    "    PARAMS: include in the request\n",
    "    \n",
    "    Return\n",
    "    ------\n",
    "    dataframe\n",
    "    \"\"\"\n",
    "    res = requests.get(url=URL, params=PARAMS)\n",
    "    res_json = json.loads(res.content)\n",
    "    if res.status_code == 200:\n",
    "        return pd.DataFrame(res_json)\n",
    "    else:\n",
    "        raise ValueError(res_json.get('error'))"
   ]
  },
  {
   "cell_type": "markdown",
   "metadata": {},
   "source": [
    "### API 1: showTables\n",
    "\n",
    "Presents an overview of the tables existing in the covid-lake.\n",
    "\n",
    "URL: http://23.20.157.201/api/showTables"
   ]
  },
  {
   "cell_type": "code",
   "execution_count": 3,
   "metadata": {},
   "outputs": [],
   "source": [
    "URL = \"http://23.20.157.201/api/showTables\"\n",
    "df = func(URL)"
   ]
  },
  {
   "cell_type": "code",
   "execution_count": 4,
   "metadata": {},
   "outputs": [
    {
     "data": {
      "text/html": [
       "<div>\n",
       "<style scoped>\n",
       "    .dataframe tbody tr th:only-of-type {\n",
       "        vertical-align: middle;\n",
       "    }\n",
       "\n",
       "    .dataframe tbody tr th {\n",
       "        vertical-align: top;\n",
       "    }\n",
       "\n",
       "    .dataframe thead th {\n",
       "        text-align: right;\n",
       "    }\n",
       "</style>\n",
       "<table border=\"1\" class=\"dataframe\">\n",
       "  <thead>\n",
       "    <tr style=\"text-align: right;\">\n",
       "      <th></th>\n",
       "      <th>TABLE_NAME</th>\n",
       "      <th>TABLE_SCHEMA</th>\n",
       "    </tr>\n",
       "  </thead>\n",
       "  <tbody>\n",
       "    <tr>\n",
       "      <th>0</th>\n",
       "      <td>Institution</td>\n",
       "      <td>Covid-Lake</td>\n",
       "    </tr>\n",
       "    <tr>\n",
       "      <th>1</th>\n",
       "      <td>Socioeconomic_Factors</td>\n",
       "      <td>Covid-Lake</td>\n",
       "    </tr>\n",
       "    <tr>\n",
       "      <th>2</th>\n",
       "      <td>Disease_Indicator</td>\n",
       "      <td>Covid-Lake</td>\n",
       "    </tr>\n",
       "    <tr>\n",
       "      <th>3</th>\n",
       "      <td>News&amp;Trends</td>\n",
       "      <td>Covid-Lake</td>\n",
       "    </tr>\n",
       "  </tbody>\n",
       "</table>\n",
       "</div>"
      ],
      "text/plain": [
       "              TABLE_NAME TABLE_SCHEMA\n",
       "0            Institution   Covid-Lake\n",
       "1  Socioeconomic_Factors   Covid-Lake\n",
       "2      Disease_Indicator   Covid-Lake\n",
       "3            News&Trends   Covid-Lake"
      ]
     },
     "execution_count": 4,
     "metadata": {},
     "output_type": "execute_result"
    }
   ],
   "source": [
    "df.head()"
   ]
  },
  {
   "cell_type": "markdown",
   "metadata": {},
   "source": [
    "### API 2: getTable\n",
    "\n",
    "Serves to load a given table.\n",
    "\n",
    "URL: http://23.20.157.201/api/getTable\n",
    "\n",
    "PARAMS: name of the table"
   ]
  },
  {
   "cell_type": "code",
   "execution_count": 7,
   "metadata": {},
   "outputs": [],
   "source": [
    "URL = \"http://23.20.157.201/api/getTable\"\n",
    "\n",
    "PARAMS = {'table_name': 'Disease_Indicator'} \n",
    "\n",
    "df = func(URL, PARAMS)"
   ]
  },
  {
   "cell_type": "code",
   "execution_count": 8,
   "metadata": {},
   "outputs": [
    {
     "data": {
      "text/html": [
       "<div>\n",
       "<style scoped>\n",
       "    .dataframe tbody tr th:only-of-type {\n",
       "        vertical-align: middle;\n",
       "    }\n",
       "\n",
       "    .dataframe tbody tr th {\n",
       "        vertical-align: top;\n",
       "    }\n",
       "\n",
       "    .dataframe thead th {\n",
       "        text-align: right;\n",
       "    }\n",
       "</style>\n",
       "<table border=\"1\" class=\"dataframe\">\n",
       "  <thead>\n",
       "    <tr style=\"text-align: right;\">\n",
       "      <th></th>\n",
       "      <th>addressCity</th>\n",
       "      <th>addressCountry</th>\n",
       "      <th>addressState</th>\n",
       "      <th>addressType_display</th>\n",
       "      <th>createdOn</th>\n",
       "      <th>identifier</th>\n",
       "      <th>valueString</th>\n",
       "      <th>valueType_display</th>\n",
       "    </tr>\n",
       "  </thead>\n",
       "  <tbody>\n",
       "    <tr>\n",
       "      <th>0</th>\n",
       "      <td></td>\n",
       "      <td></td>\n",
       "      <td>RO</td>\n",
       "      <td></td>\n",
       "      <td>2020-01-30</td>\n",
       "      <td>health_ministry</td>\n",
       "      <td>0</td>\n",
       "      <td>new_cases</td>\n",
       "    </tr>\n",
       "    <tr>\n",
       "      <th>1</th>\n",
       "      <td></td>\n",
       "      <td></td>\n",
       "      <td>AC</td>\n",
       "      <td></td>\n",
       "      <td>2020-01-30</td>\n",
       "      <td>health_ministry</td>\n",
       "      <td>0</td>\n",
       "      <td>new_cases</td>\n",
       "    </tr>\n",
       "    <tr>\n",
       "      <th>2</th>\n",
       "      <td></td>\n",
       "      <td></td>\n",
       "      <td>AM</td>\n",
       "      <td></td>\n",
       "      <td>2020-01-30</td>\n",
       "      <td>health_ministry</td>\n",
       "      <td>0</td>\n",
       "      <td>new_cases</td>\n",
       "    </tr>\n",
       "    <tr>\n",
       "      <th>3</th>\n",
       "      <td></td>\n",
       "      <td></td>\n",
       "      <td>RR</td>\n",
       "      <td></td>\n",
       "      <td>2020-01-30</td>\n",
       "      <td>health_ministry</td>\n",
       "      <td>0</td>\n",
       "      <td>new_cases</td>\n",
       "    </tr>\n",
       "    <tr>\n",
       "      <th>4</th>\n",
       "      <td></td>\n",
       "      <td></td>\n",
       "      <td>PA</td>\n",
       "      <td></td>\n",
       "      <td>2020-01-30</td>\n",
       "      <td>health_ministry</td>\n",
       "      <td>0</td>\n",
       "      <td>new_cases</td>\n",
       "    </tr>\n",
       "  </tbody>\n",
       "</table>\n",
       "</div>"
      ],
      "text/plain": [
       "  addressCity addressCountry addressState addressType_display   createdOn  \\\n",
       "0                                      RO                      2020-01-30   \n",
       "1                                      AC                      2020-01-30   \n",
       "2                                      AM                      2020-01-30   \n",
       "3                                      RR                      2020-01-30   \n",
       "4                                      PA                      2020-01-30   \n",
       "\n",
       "        identifier  valueString valueType_display  \n",
       "0  health_ministry            0         new_cases  \n",
       "1  health_ministry            0         new_cases  \n",
       "2  health_ministry            0         new_cases  \n",
       "3  health_ministry            0         new_cases  \n",
       "4  health_ministry            0         new_cases  "
      ]
     },
     "execution_count": 8,
     "metadata": {},
     "output_type": "execute_result"
    }
   ],
   "source": [
    "df.head()"
   ]
  },
  {
   "cell_type": "code",
   "execution_count": 7,
   "metadata": {},
   "outputs": [
    {
     "data": {
      "text/plain": [
       "(5, 3)"
      ]
     },
     "execution_count": 7,
     "metadata": {},
     "output_type": "execute_result"
    }
   ],
   "source": [
    "df.shape"
   ]
  },
  {
   "cell_type": "markdown",
   "metadata": {},
   "source": [
    "### API 3: querySQL\n",
    "\n",
    "Runs personalized queries.\n",
    "\n",
    "**NB: you are allowed to run only SELECT queries**\n",
    "\n",
    "URL: http://23.20.157.201/api/querySQL\n",
    "\n",
    "PARAMS: query"
   ]
  },
  {
   "cell_type": "code",
   "execution_count": 13,
   "metadata": {},
   "outputs": [
    {
     "name": "stdout",
     "output_type": "stream",
     "text": [
      "passou aqui\n",
      "http://18.207.22.2/api/querySQL?query=SELECT+%2A+FROM+%22Covid-Lake%22.%22Disease_Indicator%22+ORDER+BY+%22createdOn%22+LIMIT+10\n"
     ]
    }
   ],
   "source": [
    "def func(URL, PARAMS=''):\n",
    "    \"\"\"\n",
    "    Loads data into a pandas dataframe\n",
    "    \n",
    "    Parameter\n",
    "    ---------\n",
    "    URL: api url to invoke\n",
    "    PARAMS: include in the request\n",
    "    \n",
    "    Return\n",
    "    ------\n",
    "    dataframe\n",
    "    \"\"\"\n",
    "    res = requests.get(url=URL, params=PARAMS)\n",
    "    print(\"passou aqui\")\n",
    "    print(res.url)\n",
    "    res_json = json.loads(res.content)\n",
    "    if res.status_code == 200:\n",
    "        return pd.DataFrame(res_json)\n",
    "    else:\n",
    "        raise ValueError(res_json.get('error'))\n",
    "        \n",
    "import requests \n",
    "        \n",
    "URL = \"http://18.207.22.2/api/querySQL\"\n",
    "\n",
    "query = \"\"\"SELECT * FROM \"Covid-Lake\".\"Disease_Indicator\" ORDER BY \"createdOn\" LIMIT 10\"\"\"\n",
    "\n",
    "PARAMS = {'query': query} \n",
    "df = func(URL, PARAMS)"
   ]
  },
  {
   "cell_type": "code",
   "execution_count": 8,
   "metadata": {},
   "outputs": [
    {
     "data": {
      "text/html": [
       "<div>\n",
       "<style scoped>\n",
       "    .dataframe tbody tr th:only-of-type {\n",
       "        vertical-align: middle;\n",
       "    }\n",
       "\n",
       "    .dataframe tbody tr th {\n",
       "        vertical-align: top;\n",
       "    }\n",
       "\n",
       "    .dataframe thead th {\n",
       "        text-align: right;\n",
       "    }\n",
       "</style>\n",
       "<table border=\"1\" class=\"dataframe\">\n",
       "  <thead>\n",
       "    <tr style=\"text-align: right;\">\n",
       "      <th></th>\n",
       "      <th>addressCity</th>\n",
       "      <th>addressCountry</th>\n",
       "      <th>addressState</th>\n",
       "      <th>addressType_display</th>\n",
       "      <th>createdOn</th>\n",
       "      <th>identifier</th>\n",
       "      <th>valueString</th>\n",
       "      <th>valueType_display</th>\n",
       "    </tr>\n",
       "  </thead>\n",
       "  <tbody>\n",
       "    <tr>\n",
       "      <th>0</th>\n",
       "      <td></td>\n",
       "      <td></td>\n",
       "      <td>AC</td>\n",
       "      <td></td>\n",
       "      <td>2020-01-30</td>\n",
       "      <td>health_ministry</td>\n",
       "      <td>0</td>\n",
       "      <td>new_cases</td>\n",
       "    </tr>\n",
       "    <tr>\n",
       "      <th>1</th>\n",
       "      <td></td>\n",
       "      <td></td>\n",
       "      <td>AM</td>\n",
       "      <td></td>\n",
       "      <td>2020-01-30</td>\n",
       "      <td>health_ministry</td>\n",
       "      <td>0</td>\n",
       "      <td>new_cases</td>\n",
       "    </tr>\n",
       "    <tr>\n",
       "      <th>2</th>\n",
       "      <td></td>\n",
       "      <td></td>\n",
       "      <td>RR</td>\n",
       "      <td></td>\n",
       "      <td>2020-01-30</td>\n",
       "      <td>health_ministry</td>\n",
       "      <td>0</td>\n",
       "      <td>new_cases</td>\n",
       "    </tr>\n",
       "    <tr>\n",
       "      <th>3</th>\n",
       "      <td></td>\n",
       "      <td></td>\n",
       "      <td>PA</td>\n",
       "      <td></td>\n",
       "      <td>2020-01-30</td>\n",
       "      <td>health_ministry</td>\n",
       "      <td>0</td>\n",
       "      <td>new_cases</td>\n",
       "    </tr>\n",
       "    <tr>\n",
       "      <th>4</th>\n",
       "      <td></td>\n",
       "      <td></td>\n",
       "      <td>AP</td>\n",
       "      <td></td>\n",
       "      <td>2020-01-30</td>\n",
       "      <td>health_ministry</td>\n",
       "      <td>0</td>\n",
       "      <td>new_cases</td>\n",
       "    </tr>\n",
       "  </tbody>\n",
       "</table>\n",
       "</div>"
      ],
      "text/plain": [
       "  addressCity addressCountry addressState addressType_display   createdOn  \\\n",
       "0                                      AC                      2020-01-30   \n",
       "1                                      AM                      2020-01-30   \n",
       "2                                      RR                      2020-01-30   \n",
       "3                                      PA                      2020-01-30   \n",
       "4                                      AP                      2020-01-30   \n",
       "\n",
       "        identifier  valueString valueType_display  \n",
       "0  health_ministry            0         new_cases  \n",
       "1  health_ministry            0         new_cases  \n",
       "2  health_ministry            0         new_cases  \n",
       "3  health_ministry            0         new_cases  \n",
       "4  health_ministry            0         new_cases  "
      ]
     },
     "execution_count": 8,
     "metadata": {},
     "output_type": "execute_result"
    }
   ],
   "source": [
    "df.head()"
   ]
  },
  {
   "cell_type": "code",
   "execution_count": 23,
   "metadata": {},
   "outputs": [
    {
     "data": {
      "text/plain": [
       "(15, 3)"
      ]
     },
     "execution_count": 23,
     "metadata": {},
     "output_type": "execute_result"
    }
   ],
   "source": [
    "df.shape"
   ]
  },
  {
   "cell_type": "code",
   "execution_count": 10,
   "metadata": {},
   "outputs": [
    {
     "ename": "ValueError",
     "evalue": "400 Bad Request: DROP: Permission denied.",
     "output_type": "error",
     "traceback": [
      "\u001b[0;31m---------------------------------------------------------------------------\u001b[0m",
      "\u001b[0;31mValueError\u001b[0m                                Traceback (most recent call last)",
      "\u001b[0;32m<ipython-input-10-ec4ec3fa03a8>\u001b[0m in \u001b[0;36m<module>\u001b[0;34m\u001b[0m\n\u001b[1;32m      5\u001b[0m \u001b[0mPARAMS\u001b[0m \u001b[0;34m=\u001b[0m \u001b[0;34m{\u001b[0m\u001b[0;34m'query'\u001b[0m\u001b[0;34m:\u001b[0m \u001b[0mquery\u001b[0m\u001b[0;34m}\u001b[0m\u001b[0;34m\u001b[0m\u001b[0;34m\u001b[0m\u001b[0m\n\u001b[1;32m      6\u001b[0m \u001b[0;34m\u001b[0m\u001b[0m\n\u001b[0;32m----> 7\u001b[0;31m \u001b[0mdf\u001b[0m \u001b[0;34m=\u001b[0m \u001b[0mfunc\u001b[0m\u001b[0;34m(\u001b[0m\u001b[0mURL\u001b[0m\u001b[0;34m,\u001b[0m \u001b[0mPARAMS\u001b[0m\u001b[0;34m)\u001b[0m\u001b[0;34m\u001b[0m\u001b[0;34m\u001b[0m\u001b[0m\n\u001b[0m",
      "\u001b[0;32m<ipython-input-3-784fee0d8734>\u001b[0m in \u001b[0;36mfunc\u001b[0;34m(URL, PARAMS)\u001b[0m\n\u001b[1;32m     11\u001b[0m         \u001b[0;32mreturn\u001b[0m \u001b[0mpd\u001b[0m\u001b[0;34m.\u001b[0m\u001b[0mDataFrame\u001b[0m\u001b[0;34m(\u001b[0m\u001b[0mres_json\u001b[0m\u001b[0;34m)\u001b[0m\u001b[0;34m\u001b[0m\u001b[0;34m\u001b[0m\u001b[0m\n\u001b[1;32m     12\u001b[0m     \u001b[0;32melse\u001b[0m\u001b[0;34m:\u001b[0m\u001b[0;34m\u001b[0m\u001b[0;34m\u001b[0m\u001b[0m\n\u001b[0;32m---> 13\u001b[0;31m         \u001b[0;32mraise\u001b[0m \u001b[0mValueError\u001b[0m\u001b[0;34m(\u001b[0m\u001b[0mres_json\u001b[0m\u001b[0;34m.\u001b[0m\u001b[0mget\u001b[0m\u001b[0;34m(\u001b[0m\u001b[0;34m'error'\u001b[0m\u001b[0;34m)\u001b[0m\u001b[0;34m)\u001b[0m\u001b[0;34m\u001b[0m\u001b[0;34m\u001b[0m\u001b[0m\n\u001b[0m",
      "\u001b[0;31mValueError\u001b[0m: 400 Bad Request: DROP: Permission denied."
     ]
    }
   ],
   "source": [
    "URL = \"http://23.20.157.201/api/querySQL\"\n",
    "\n",
    "query = \"\"\"DROP \"Covid-Lake\".\"News&Trends\" \"\"\"\n",
    "\n",
    "PARAMS = {'query': query} \n",
    "\n",
    "df = func(URL, PARAMS)"
   ]
  },
  {
   "cell_type": "markdown",
   "metadata": {},
   "source": [
    "**Developed by Datasprints**"
   ]
  },
  {
   "cell_type": "code",
   "execution_count": null,
   "metadata": {},
   "outputs": [],
   "source": []
  },
  {
   "cell_type": "code",
   "execution_count": null,
   "metadata": {},
   "outputs": [],
   "source": [
    "@app.route(\"/getNews-Trends\", methods=['GET'])\n",
    "def getNewsTrends():\n",
    "    import ctypes\n",
    "    file = open('news-trends.txt') \n",
    "    df_id = file.read()\n",
    "    if df_id:\n",
    "        print(\"exist\")\n",
    "        print(ctypes.cast(int(df_id), ctypes.py_object).value)\n",
    "        return ctypes.cast(int(df_id), ctypes.py_object).value\n",
    "    else:\n",
    "        print(\"First visit\")\n",
    "        table_name = \"News&Trends\"\n",
    "        disease_df = dremio_conn.getTable(table_name)\n",
    "        # Write the id\n",
    "        with open('news-trends.txt', 'w') as f:\n",
    "            f.write(str(id(disease_df)))\n",
    "        response = make_response(disease_df.to_csv())\n",
    "        response.headers[\"Content-Disposition\"] = \"attachment; filename={}.csv\".format(table_name)\n",
    "        response.headers[\"Content-Type\"] = \"text/csv\"\n",
    "        return response"
   ]
  },
  {
   "cell_type": "code",
   "execution_count": null,
   "metadata": {},
   "outputs": [],
   "source": []
  }
 ],
 "metadata": {
  "kernelspec": {
   "display_name": "Python 3",
   "language": "python",
   "name": "python3"
  },
  "language_info": {
   "codemirror_mode": {
    "name": "ipython",
    "version": 3
   },
   "file_extension": ".py",
   "mimetype": "text/x-python",
   "name": "python",
   "nbconvert_exporter": "python",
   "pygments_lexer": "ipython3",
   "version": "3.7.3"
  }
 },
 "nbformat": 4,
 "nbformat_minor": 4
}
