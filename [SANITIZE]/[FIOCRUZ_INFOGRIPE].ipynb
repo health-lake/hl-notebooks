{
 "cells": [
  {
   "cell_type": "code",
   "execution_count": 1,
   "metadata": {},
   "outputs": [],
   "source": [
    "import numpy as np\n",
    "import pandas as pd\n",
    "import seaborn as sns"
   ]
  },
  {
   "cell_type": "markdown",
   "metadata": {},
   "source": [
    "## Load Data"
   ]
  },
  {
   "cell_type": "code",
   "execution_count": 2,
   "metadata": {},
   "outputs": [],
   "source": [
    "import boto3\n",
    "from io import BytesIO\n",
    "from fastparquet import ParquetFile\n",
    "\n",
    "s3 = boto3.client(\"s3\")\n",
    "response = s3.list_objects_v2(Bucket='covid-19-prj', Prefix ='raw/fiocruz_infogripe/')\n",
    "all_objects = [item.get('Key') for item in response.get('Contents')][1:]\n",
    "\n",
    "def read_parquet_from_s3(keyName):\n",
    "    obj = s3.get_object(Bucket='covid-19-prj', Key=keyName)\n",
    "    df = obj['Body'].read()\n",
    "    return ParquetFile(BytesIO(df)).to_pandas()\n",
    "\n",
    "dataframes = [read_parquet_from_s3(key_name) for key_name in all_objects]\n",
    "df = pd.concat(dataframes, axis=0)"
   ]
  },
  {
   "cell_type": "markdown",
   "metadata": {},
   "source": [
    "## Overview"
   ]
  },
  {
   "cell_type": "code",
   "execution_count": 3,
   "metadata": {},
   "outputs": [
    {
     "data": {
      "text/html": [
       "<div>\n",
       "<style scoped>\n",
       "    .dataframe tbody tr th:only-of-type {\n",
       "        vertical-align: middle;\n",
       "    }\n",
       "\n",
       "    .dataframe tbody tr th {\n",
       "        vertical-align: top;\n",
       "    }\n",
       "\n",
       "    .dataframe thead th {\n",
       "        text-align: right;\n",
       "    }\n",
       "</style>\n",
       "<table border=\"1\" class=\"dataframe\">\n",
       "  <thead>\n",
       "    <tr style=\"text-align: right;\">\n",
       "      <th></th>\n",
       "      <th>data de publicação</th>\n",
       "      <th>UF</th>\n",
       "      <th>Unidade da Federação</th>\n",
       "      <th>Tipo</th>\n",
       "      <th>dado</th>\n",
       "      <th>escala</th>\n",
       "      <th>sexo</th>\n",
       "      <th>Ano epidemiológico</th>\n",
       "      <th>Semana epidemiológica</th>\n",
       "      <th>Ano e semana epidemiológica</th>\n",
       "      <th>...</th>\n",
       "      <th>Casos sem informação laboratorial</th>\n",
       "      <th>Casos sem teste laboratorial</th>\n",
       "      <th>Influenza A</th>\n",
       "      <th>Influenza B</th>\n",
       "      <th>SARS-CoV-2</th>\n",
       "      <th>Vírus sincicial respiratório (VSR)</th>\n",
       "      <th>Parainfluenza 1</th>\n",
       "      <th>Parainfluenza 2</th>\n",
       "      <th>Parainfluenza 3</th>\n",
       "      <th>Adenovirus</th>\n",
       "    </tr>\n",
       "    <tr>\n",
       "      <th>index</th>\n",
       "      <th></th>\n",
       "      <th></th>\n",
       "      <th></th>\n",
       "      <th></th>\n",
       "      <th></th>\n",
       "      <th></th>\n",
       "      <th></th>\n",
       "      <th></th>\n",
       "      <th></th>\n",
       "      <th></th>\n",
       "      <th></th>\n",
       "      <th></th>\n",
       "      <th></th>\n",
       "      <th></th>\n",
       "      <th></th>\n",
       "      <th></th>\n",
       "      <th></th>\n",
       "      <th></th>\n",
       "      <th></th>\n",
       "      <th></th>\n",
       "      <th></th>\n",
       "    </tr>\n",
       "  </thead>\n",
       "  <tbody>\n",
       "    <tr>\n",
       "      <th>0</th>\n",
       "      <td>2020-05-04</td>\n",
       "      <td>11</td>\n",
       "      <td>Rondônia</td>\n",
       "      <td>Estado</td>\n",
       "      <td>srag</td>\n",
       "      <td>incidência</td>\n",
       "      <td>F</td>\n",
       "      <td>2009</td>\n",
       "      <td>1</td>\n",
       "      <td>2009W01</td>\n",
       "      <td>...</td>\n",
       "      <td>0,0</td>\n",
       "      <td>0,0</td>\n",
       "      <td>0,0</td>\n",
       "      <td>0,0</td>\n",
       "      <td>0,0</td>\n",
       "      <td>0,0</td>\n",
       "      <td>0,0</td>\n",
       "      <td>0,0</td>\n",
       "      <td>0,0</td>\n",
       "      <td>0,0</td>\n",
       "    </tr>\n",
       "    <tr>\n",
       "      <th>1</th>\n",
       "      <td>2020-05-04</td>\n",
       "      <td>11</td>\n",
       "      <td>Rondônia</td>\n",
       "      <td>Estado</td>\n",
       "      <td>srag</td>\n",
       "      <td>incidência</td>\n",
       "      <td>M</td>\n",
       "      <td>2009</td>\n",
       "      <td>1</td>\n",
       "      <td>2009W01</td>\n",
       "      <td>...</td>\n",
       "      <td>0,0</td>\n",
       "      <td>0,0</td>\n",
       "      <td>0,0</td>\n",
       "      <td>0,0</td>\n",
       "      <td>0,0</td>\n",
       "      <td>0,0</td>\n",
       "      <td>0,0</td>\n",
       "      <td>0,0</td>\n",
       "      <td>0,0</td>\n",
       "      <td>0,0</td>\n",
       "    </tr>\n",
       "    <tr>\n",
       "      <th>2</th>\n",
       "      <td>2020-05-04</td>\n",
       "      <td>11</td>\n",
       "      <td>Rondônia</td>\n",
       "      <td>Estado</td>\n",
       "      <td>srag</td>\n",
       "      <td>incidência</td>\n",
       "      <td>Total</td>\n",
       "      <td>2009</td>\n",
       "      <td>1</td>\n",
       "      <td>2009W01</td>\n",
       "      <td>...</td>\n",
       "      <td>0,0</td>\n",
       "      <td>0,0</td>\n",
       "      <td>0,0</td>\n",
       "      <td>0,0</td>\n",
       "      <td>0,0</td>\n",
       "      <td>0,0</td>\n",
       "      <td>0,0</td>\n",
       "      <td>0,0</td>\n",
       "      <td>0,0</td>\n",
       "      <td>0,0</td>\n",
       "    </tr>\n",
       "    <tr>\n",
       "      <th>3</th>\n",
       "      <td>2020-05-04</td>\n",
       "      <td>11</td>\n",
       "      <td>Rondônia</td>\n",
       "      <td>Estado</td>\n",
       "      <td>srag</td>\n",
       "      <td>incidência</td>\n",
       "      <td>F</td>\n",
       "      <td>2009</td>\n",
       "      <td>2</td>\n",
       "      <td>2009W02</td>\n",
       "      <td>...</td>\n",
       "      <td>0,0</td>\n",
       "      <td>0,0</td>\n",
       "      <td>0,0</td>\n",
       "      <td>0,0</td>\n",
       "      <td>0,0</td>\n",
       "      <td>0,0</td>\n",
       "      <td>0,0</td>\n",
       "      <td>0,0</td>\n",
       "      <td>0,0</td>\n",
       "      <td>0,0</td>\n",
       "    </tr>\n",
       "    <tr>\n",
       "      <th>4</th>\n",
       "      <td>2020-05-04</td>\n",
       "      <td>11</td>\n",
       "      <td>Rondônia</td>\n",
       "      <td>Estado</td>\n",
       "      <td>srag</td>\n",
       "      <td>incidência</td>\n",
       "      <td>M</td>\n",
       "      <td>2009</td>\n",
       "      <td>2</td>\n",
       "      <td>2009W02</td>\n",
       "      <td>...</td>\n",
       "      <td>0,0</td>\n",
       "      <td>0,0</td>\n",
       "      <td>0,0</td>\n",
       "      <td>0,0</td>\n",
       "      <td>0,0</td>\n",
       "      <td>0,0</td>\n",
       "      <td>0,0</td>\n",
       "      <td>0,0</td>\n",
       "      <td>0,0</td>\n",
       "      <td>0,0</td>\n",
       "    </tr>\n",
       "  </tbody>\n",
       "</table>\n",
       "<p>5 rows × 36 columns</p>\n",
       "</div>"
      ],
      "text/plain": [
       "      data de publicação  UF Unidade da Federação    Tipo  dado      escala  \\\n",
       "index                                                                         \n",
       "0             2020-05-04  11             Rondônia  Estado  srag  incidência   \n",
       "1             2020-05-04  11             Rondônia  Estado  srag  incidência   \n",
       "2             2020-05-04  11             Rondônia  Estado  srag  incidência   \n",
       "3             2020-05-04  11             Rondônia  Estado  srag  incidência   \n",
       "4             2020-05-04  11             Rondônia  Estado  srag  incidência   \n",
       "\n",
       "        sexo  Ano epidemiológico  Semana epidemiológica  \\\n",
       "index                                                     \n",
       "0          F                2009                      1   \n",
       "1          M                2009                      1   \n",
       "2      Total                2009                      1   \n",
       "3          F                2009                      2   \n",
       "4          M                2009                      2   \n",
       "\n",
       "      Ano e semana epidemiológica  ... Casos sem informação laboratorial  \\\n",
       "index                              ...                                     \n",
       "0                         2009W01  ...                               0,0   \n",
       "1                         2009W01  ...                               0,0   \n",
       "2                         2009W01  ...                               0,0   \n",
       "3                         2009W02  ...                               0,0   \n",
       "4                         2009W02  ...                               0,0   \n",
       "\n",
       "      Casos sem teste laboratorial Influenza A Influenza B SARS-CoV-2  \\\n",
       "index                                                                   \n",
       "0                              0,0         0,0         0,0        0,0   \n",
       "1                              0,0         0,0         0,0        0,0   \n",
       "2                              0,0         0,0         0,0        0,0   \n",
       "3                              0,0         0,0         0,0        0,0   \n",
       "4                              0,0         0,0         0,0        0,0   \n",
       "\n",
       "      Vírus sincicial respiratório (VSR) Parainfluenza 1 Parainfluenza 2  \\\n",
       "index                                                                      \n",
       "0                                    0,0             0,0             0,0   \n",
       "1                                    0,0             0,0             0,0   \n",
       "2                                    0,0             0,0             0,0   \n",
       "3                                    0,0             0,0             0,0   \n",
       "4                                    0,0             0,0             0,0   \n",
       "\n",
       "      Parainfluenza 3 Adenovirus  \n",
       "index                             \n",
       "0                 0,0        0,0  \n",
       "1                 0,0        0,0  \n",
       "2                 0,0        0,0  \n",
       "3                 0,0        0,0  \n",
       "4                 0,0        0,0  \n",
       "\n",
       "[5 rows x 36 columns]"
      ]
     },
     "execution_count": 3,
     "metadata": {},
     "output_type": "execute_result"
    }
   ],
   "source": [
    "df.head()"
   ]
  },
  {
   "cell_type": "code",
   "execution_count": 9,
   "metadata": {},
   "outputs": [
    {
     "data": {
      "text/plain": [
       "Index(['data de publicação', 'UF', 'Unidade da Federação', 'Tipo', 'dado',\n",
       "       'escala', 'sexo', 'Ano epidemiológico', 'Semana epidemiológica',\n",
       "       'Ano e semana epidemiológica', 'Situação do dado',\n",
       "       'Total reportado até a última atualização', 'Idade desconhecida',\n",
       "       '< 2 anos', '0-4 anos', '10-19 anos', '2-4 anos', '20-29 anos',\n",
       "       '30-39 anos', '40-49 anos', '5-9 anos', '50-59 anos', '60+ anos',\n",
       "       'Testes positivos', 'Testes negativos', 'Casos aguardando resultado',\n",
       "       'Casos sem informação laboratorial', 'Casos sem teste laboratorial',\n",
       "       'Influenza A', 'Influenza B', 'SARS-CoV-2',\n",
       "       'Vírus sincicial respiratório (VSR)', 'Parainfluenza 1',\n",
       "       'Parainfluenza 2', 'Parainfluenza 3', 'Adenovirus'],\n",
       "      dtype='object')"
      ]
     },
     "execution_count": 9,
     "metadata": {},
     "output_type": "execute_result"
    }
   ],
   "source": [
    "df.columns"
   ]
  },
  {
   "cell_type": "code",
   "execution_count": 5,
   "metadata": {},
   "outputs": [],
   "source": [
    "#df.describe()"
   ]
  },
  {
   "cell_type": "code",
   "execution_count": 6,
   "metadata": {},
   "outputs": [
    {
     "data": {
      "text/plain": [
       "data de publicação                          object\n",
       "UF                                           int64\n",
       "Unidade da Federação                        object\n",
       "Tipo                                        object\n",
       "dado                                        object\n",
       "escala                                      object\n",
       "sexo                                        object\n",
       "Ano epidemiológico                           int64\n",
       "Semana epidemiológica                        int64\n",
       "Ano e semana epidemiológica                 object\n",
       "Situação do dado                            object\n",
       "Total reportado até a última atualização    object\n",
       "Idade desconhecida                          object\n",
       "< 2 anos                                    object\n",
       "0-4 anos                                    object\n",
       "10-19 anos                                  object\n",
       "2-4 anos                                    object\n",
       "20-29 anos                                  object\n",
       "30-39 anos                                  object\n",
       "40-49 anos                                  object\n",
       "5-9 anos                                    object\n",
       "50-59 anos                                  object\n",
       "60+ anos                                    object\n",
       "Testes positivos                            object\n",
       "Testes negativos                            object\n",
       "Casos aguardando resultado                  object\n",
       "Casos sem informação laboratorial           object\n",
       "Casos sem teste laboratorial                object\n",
       "Influenza A                                 object\n",
       "Influenza B                                 object\n",
       "SARS-CoV-2                                  object\n",
       "Vírus sincicial respiratório (VSR)          object\n",
       "Parainfluenza 1                             object\n",
       "Parainfluenza 2                             object\n",
       "Parainfluenza 3                             object\n",
       "Adenovirus                                  object\n",
       "dtype: object"
      ]
     },
     "execution_count": 6,
     "metadata": {},
     "output_type": "execute_result"
    }
   ],
   "source": [
    "df.dtypes"
   ]
  },
  {
   "cell_type": "code",
   "execution_count": 7,
   "metadata": {},
   "outputs": [],
   "source": [
    "# Take a look at the date type\n",
    "#np.array([isinstance(x, str) for x in df.date]).all()"
   ]
  },
  {
   "cell_type": "markdown",
   "metadata": {},
   "source": [
    "## EDA"
   ]
  },
  {
   "cell_type": "code",
   "execution_count": 8,
   "metadata": {},
   "outputs": [
    {
     "data": {
      "text/plain": [
       "<matplotlib.axes._subplots.AxesSubplot at 0x7f8bbc7b4668>"
      ]
     },
     "execution_count": 8,
     "metadata": {},
     "output_type": "execute_result"
    },
    {
     "data": {
      "image/png": "[encoded data removed]",
      "text/plain": [
       "<Figure size 432x288 with 1 Axes>"
      ]
     },
     "metadata": {
      "needs_background": "light"
     },
     "output_type": "display_data"
    }
   ],
   "source": [
    "# Missing values\n",
    "sns.heatmap(df.isnull(), yticklabels=False, cbar=False, cmap='viridis')"
   ]
  },
  {
   "cell_type": "code",
   "execution_count": 11,
   "metadata": {},
   "outputs": [],
   "source": []
  },
  {
   "cell_type": "code",
   "execution_count": 14,
   "metadata": {},
   "outputs": [
    {
     "name": "stderr",
     "output_type": "stream",
     "text": [
      "/home/ubuntu/anaconda/lib/python3.7/site-packages/ipykernel_launcher.py:2: SettingWithCopyWarning: \n",
      "A value is trying to be set on a copy of a slice from a DataFrame.\n",
      "Try using .loc[row_indexer,col_indexer] = value instead\n",
      "\n",
      "See the caveats in the documentation: http://pandas.pydata.org/pandas-docs/stable/indexing.html#indexing-view-versus-copy\n",
      "  \n",
      "/home/ubuntu/anaconda/lib/python3.7/site-packages/ipykernel_launcher.py:3: SettingWithCopyWarning: \n",
      "A value is trying to be set on a copy of a slice from a DataFrame.\n",
      "Try using .loc[row_indexer,col_indexer] = value instead\n",
      "\n",
      "See the caveats in the documentation: http://pandas.pydata.org/pandas-docs/stable/indexing.html#indexing-view-versus-copy\n",
      "  This is separate from the ipykernel package so we can avoid doing imports until\n"
     ]
    }
   ],
   "source": [
    "covid_df = df.loc[df.dado.isin(['sragcovid'])]\n",
    "covid_df['Total reportado até a última atualização'] = covid_df['Total reportado até a última atualização'].apply(lambda row: row.replace(',', '.'))\n",
    "covid_df['Total reportado até a última atualização'] = covid_df['Total reportado até a última atualização'].astype('float64')\n",
    "y = covid_df.groupby('Ano e semana epidemiológica').agg({'Total reportado até a última atualização': 'sum'})"
   ]
  },
  {
   "cell_type": "code",
   "execution_count": 15,
   "metadata": {},
   "outputs": [
    {
     "data": {
      "text/html": [
       "<div>\n",
       "<style scoped>\n",
       "    .dataframe tbody tr th:only-of-type {\n",
       "        vertical-align: middle;\n",
       "    }\n",
       "\n",
       "    .dataframe tbody tr th {\n",
       "        vertical-align: top;\n",
       "    }\n",
       "\n",
       "    .dataframe thead th {\n",
       "        text-align: right;\n",
       "    }\n",
       "</style>\n",
       "<table border=\"1\" class=\"dataframe\">\n",
       "  <thead>\n",
       "    <tr style=\"text-align: right;\">\n",
       "      <th></th>\n",
       "      <th>Total reportado até a última atualização</th>\n",
       "    </tr>\n",
       "    <tr>\n",
       "      <th>Ano e semana epidemiológica</th>\n",
       "      <th></th>\n",
       "    </tr>\n",
       "  </thead>\n",
       "  <tbody>\n",
       "    <tr>\n",
       "      <th>2020W01</th>\n",
       "      <td>0.0</td>\n",
       "    </tr>\n",
       "    <tr>\n",
       "      <th>2020W02</th>\n",
       "      <td>0.0</td>\n",
       "    </tr>\n",
       "    <tr>\n",
       "      <th>2020W03</th>\n",
       "      <td>0.0</td>\n",
       "    </tr>\n",
       "    <tr>\n",
       "      <th>2020W04</th>\n",
       "      <td>0.0</td>\n",
       "    </tr>\n",
       "    <tr>\n",
       "      <th>2020W05</th>\n",
       "      <td>0.0</td>\n",
       "    </tr>\n",
       "  </tbody>\n",
       "</table>\n",
       "</div>"
      ],
      "text/plain": [
       "                             Total reportado até a última atualização\n",
       "Ano e semana epidemiológica                                          \n",
       "2020W01                                                           0.0\n",
       "2020W02                                                           0.0\n",
       "2020W03                                                           0.0\n",
       "2020W04                                                           0.0\n",
       "2020W05                                                           0.0"
      ]
     },
     "execution_count": 15,
     "metadata": {},
     "output_type": "execute_result"
    }
   ],
   "source": [
    "y.head()"
   ]
  },
  {
   "cell_type": "code",
   "execution_count": 16,
   "metadata": {},
   "outputs": [
    {
     "data": {
      "text/plain": [
       "108002.29061892064"
      ]
     },
     "execution_count": 16,
     "metadata": {},
     "output_type": "execute_result"
    }
   ],
   "source": [
    "y['Total reportado até a última atualização'].sum()"
   ]
  },
  {
   "cell_type": "code",
   "execution_count": null,
   "metadata": {},
   "outputs": [],
   "source": []
  },
  {
   "cell_type": "code",
   "execution_count": null,
   "metadata": {},
   "outputs": [],
   "source": []
  },
  {
   "cell_type": "code",
   "execution_count": null,
   "metadata": {},
   "outputs": [],
   "source": []
  },
  {
   "cell_type": "code",
   "execution_count": 222,
   "metadata": {},
   "outputs": [],
   "source": []
  },
  {
   "cell_type": "code",
   "execution_count": null,
   "metadata": {},
   "outputs": [],
   "source": []
  }
 ],
 "metadata": {
  "kernelspec": {
   "display_name": "Python 3",
   "language": "python",
   "name": "python3"
  },
  "language_info": {
   "codemirror_mode": {
    "name": "ipython",
    "version": 3
   },
   "file_extension": ".py",
   "mimetype": "text/x-python",
   "name": "python",
   "nbconvert_exporter": "python",
   "pygments_lexer": "ipython3",
   "version": "3.7.3"
  }
 },
 "nbformat": 4,
 "nbformat_minor": 4
}
